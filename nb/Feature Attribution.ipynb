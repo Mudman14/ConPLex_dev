{
 "cells": [
  {
   "cell_type": "code",
   "execution_count": 1,
   "id": "82b0e437-2766-4cef-b7a7-008ac09716a0",
   "metadata": {},
   "outputs": [],
   "source": [
    "import os\n",
    "import sys\n",
    "\n",
    "\n",
    "import numpy as np\n",
    "import pandas as pd\n",
    "import torch\n",
    "\n",
    "from tqdm.notebook import tqdm\n",
    "\n",
    "import matplotlib.pyplot as plt\n",
    "import seaborn as sns\n",
    "import warnings"
   ]
  },
  {
   "cell_type": "code",
   "execution_count": 2,
   "id": "0dffb8b3-4b59-4f5e-9954-7a59f66bede1",
   "metadata": {},
   "outputs": [],
   "source": [
    "BASE_DIR = \"..\"\n",
    "MODEL_BASE_DIR = f\"{BASE_DIR}/best_models\"\n",
    "DATA_DIR = f\"{BASE_DIR}/nbdata\"\n",
    "os.makedirs(MODEL_BASE_DIR,exist_ok=True)\n",
    "os.makedirs(DATA_DIR,exist_ok=True)\n",
    "sys.path.append(BASE_DIR)"
   ]
  },
  {
   "cell_type": "code",
   "execution_count": 3,
   "id": "75f2d9f6-c438-4b00-b13a-27b99c81d999",
   "metadata": {},
   "outputs": [
    {
     "data": {
      "text/plain": [
       "'0.4.0'"
      ]
     },
     "execution_count": 3,
     "metadata": {},
     "output_type": "execute_result"
    }
   ],
   "source": [
    "import captum\n",
    "captum.__version__"
   ]
  },
  {
   "cell_type": "code",
   "execution_count": 4,
   "id": "1532122e-41cd-45a2-bbf4-f6276c5a631a",
   "metadata": {},
   "outputs": [],
   "source": [
    "from captum.attr import (\n",
    "    GradientShap,\n",
    "    DeepLift,\n",
    "    DeepLiftShap,\n",
    "    IntegratedGradients,\n",
    "    LayerConductance,\n",
    "    NeuronConductance,\n",
    "    NoiseTunnel,\n",
    ")\n",
    "\n",
    "from src.featurizers import (\n",
    "    MorganFeaturizer,\n",
    "    ProtBertFeaturizer,\n",
    "    ProseFeaturizer,\n",
    "    BindPredict21Featurizer,\n",
    "    DSCRIPTFeaturizer,\n",
    "    ConcatFeaturizer\n",
    ")\n",
    "\n",
    "from src.architectures import SimpleCoembedding\n",
    "from src.utils import set_random_seed"
   ]
  },
  {
   "cell_type": "markdown",
   "id": "e4e9b847-cd8e-40b8-b07d-875a4096c264",
   "metadata": {},
   "source": [
    "---"
   ]
  },
  {
   "cell_type": "code",
   "execution_count": 5,
   "id": "d7149e55-fb88-4281-ba2d-399016994991",
   "metadata": {},
   "outputs": [],
   "source": [
    "from torch import nn\n",
    "\n",
    "class DTI_Model(nn.Module):\n",
    "    def __init__(self,\n",
    "                 drug_shape = 2048,\n",
    "                 target_shape = 100,\n",
    "                 latent_dimension = 1024,\n",
    "                 latent_activation = nn.ReLU\n",
    "                ):\n",
    "        super().__init__()\n",
    "        self.drug_shape = drug_shape\n",
    "        self.target_shape = target_shape\n",
    "\n",
    "        self.drug_projector = nn.Sequential(\n",
    "            nn.Linear(self.drug_shape, latent_dimension),\n",
    "            latent_activation()\n",
    "        )\n",
    "\n",
    "        self.target_projector = nn.Sequential(\n",
    "            nn.Linear(self.target_shape, latent_dimension),\n",
    "            latent_activation()\n",
    "        )\n",
    "\n",
    "        self.activator = nn.CosineSimilarity()\n",
    "\n",
    "    def forward(self, drug, target):\n",
    "        drug_projection = self.drug_projector(drug)\n",
    "        target_projection = self.target_projector(target)\n",
    "\n",
    "        return self.activator(drug_projection, target_projection)"
   ]
  },
  {
   "cell_type": "code",
   "execution_count": 6,
   "id": "49a68188-6f52-4864-ae69-b6a61ab2dfdc",
   "metadata": {},
   "outputs": [],
   "source": [
    "set_random_seed(61998)"
   ]
  },
  {
   "cell_type": "code",
   "execution_count": 7,
   "id": "e376702c-4e52-4185-8a14-6c37af2a5d7f",
   "metadata": {},
   "outputs": [],
   "source": [
    "task_dir = \"../dataset/DAVIS/\""
   ]
  },
  {
   "cell_type": "code",
   "execution_count": 8,
   "id": "aba2e1c9-0dda-4390-976f-6d4dce4d1586",
   "metadata": {},
   "outputs": [],
   "source": [
    "df = pd.read_csv(f\"{task_dir}/test.csv\",index_col=0)\n",
    "# df = pd.read_csv(f'{BASE_DIR}/dataset/BindingDB/test.csv',index_col=0)"
   ]
  },
  {
   "cell_type": "code",
   "execution_count": 9,
   "id": "935e82b0-3cee-4aef-8875-9a22984803b3",
   "metadata": {},
   "outputs": [],
   "source": [
    "device = torch.device(5)"
   ]
  },
  {
   "cell_type": "code",
   "execution_count": 10,
   "id": "19f8f443-c8aa-437d-b1c7-74f77ccc900e",
   "metadata": {
    "scrolled": true,
    "tags": []
   },
   "outputs": [],
   "source": [
    "drug_featurizer = MorganFeaturizer(save_dir=task_dir)\n",
    "target_featurizer = ConcatFeaturizer([ProseFeaturizer,DSCRIPTFeaturizer],save_dir=task_dir)"
   ]
  },
  {
   "cell_type": "code",
   "execution_count": 11,
   "id": "c3b2764e-6798-4748-8de3-25de383805a7",
   "metadata": {},
   "outputs": [
    {
     "data": {
      "text/plain": [
       "<src.featurizers.base.ConcatFeaturizer at 0x7f6ede882410>"
      ]
     },
     "execution_count": 11,
     "metadata": {},
     "output_type": "execute_result"
    }
   ],
   "source": [
    "drug_featurizer.to(device)\n",
    "target_featurizer.to(device)"
   ]
  },
  {
   "cell_type": "code",
   "execution_count": 12,
   "id": "3bf17543-5d22-435f-ada7-abb46e6a79fa",
   "metadata": {},
   "outputs": [
    {
     "name": "stderr",
     "output_type": "stream",
     "text": [
      "100%|███████████████████████████████████████████████████████████████████████████████████| 68/68 [00:00<00:00, 1885.37it/s]\n",
      "100%|█████████████████████████████████████████████████████████████████████████████████| 379/379 [00:00<00:00, 1900.95it/s]\n",
      "100%|█████████████████████████████████████████████████████████████████████████████████| 379/379 [00:00<00:00, 3646.29it/s]\n"
     ]
    }
   ],
   "source": [
    "drug_featurizer.preload(df['SMILES'].unique())\n",
    "target_featurizer.preload(df['Target Sequence'].unique())"
   ]
  },
  {
   "cell_type": "code",
   "execution_count": 13,
   "id": "efa7d039-8a19-41d6-bd9b-c4b4e8f2eb5c",
   "metadata": {},
   "outputs": [],
   "source": [
    "baseline_prot = torch.zeros(target_featurizer.shape).unsqueeze(0).to(device)\n",
    "baseline_mol = torch.zeros(drug_featurizer.shape).unsqueeze(0).cuda(device)"
   ]
  },
  {
   "cell_type": "code",
   "execution_count": 14,
   "id": "f9f79b41-126b-4fb5-8054-2daf1aadc304",
   "metadata": {},
   "outputs": [],
   "source": [
    "from src.architectures import SimpleCosine\n",
    "\n",
    "# model = SimpleCoembedding(\n",
    "#     drug_featurizer.shape,\n",
    "#     target_featurizer.shape,\n",
    "#     1024\n",
    "# )\n",
    "model = DTI_Model(\n",
    "    drug_featurizer.shape,\n",
    "    target_featurizer.shape,\n",
    "    1024\n",
    ")\n",
    "sd = torch.load(\"../best_models/drug_featurizer:MorganFeaturizer_replicate:0_target_featurizer:ProseFeaturizer_task:davis/test_dscript_cat_best_model.pt\")\n",
    "model.load_state_dict(sd)\n",
    "model = model.to(device)\n",
    "model = model.eval()\n",
    "# model = torch.load(f'/afs/csail.mit.edu/u/s/samsl/Work/Applications/MolTrans/Davis_SimpleCosine_Morgan_ProtBert_DSCRIPT_cat_rep0_best_model.sav').to(device).eval()"
   ]
  },
  {
   "cell_type": "code",
   "execution_count": 15,
   "id": "7f1a27ea-31d7-456f-9e32-fd339ead178a",
   "metadata": {},
   "outputs": [
    {
     "data": {
      "text/html": [
       "<div>\n",
       "<style scoped>\n",
       "    .dataframe tbody tr th:only-of-type {\n",
       "        vertical-align: middle;\n",
       "    }\n",
       "\n",
       "    .dataframe tbody tr th {\n",
       "        vertical-align: top;\n",
       "    }\n",
       "\n",
       "    .dataframe thead th {\n",
       "        text-align: right;\n",
       "    }\n",
       "</style>\n",
       "<table border=\"1\" class=\"dataframe\">\n",
       "  <thead>\n",
       "    <tr style=\"text-align: right;\">\n",
       "      <th></th>\n",
       "      <th>SMILES</th>\n",
       "      <th>Target Sequence</th>\n",
       "      <th>Label</th>\n",
       "      <th>drug_encoding</th>\n",
       "      <th>target_encoding</th>\n",
       "    </tr>\n",
       "  </thead>\n",
       "  <tbody>\n",
       "    <tr>\n",
       "      <th>0</th>\n",
       "      <td>CN(C)CC1CCN2C=C(C3=CC=CC=C32)C4=C(C5=CN(CCO1)C...</td>\n",
       "      <td>PFWKILNPLLERGTYYYFMGQQPGKVLGDQRRPSLPALHFIKGAGK...</td>\n",
       "      <td>0</td>\n",
       "      <td>[0. 0. 0. ... 0. 0. 0.]</td>\n",
       "      <td>[8.483 5.827 3.599 ... 0.    0.    0.   ]</td>\n",
       "    </tr>\n",
       "    <tr>\n",
       "      <th>1</th>\n",
       "      <td>CN1CCC(CC1)COC2=C(C=C3C(=C2)N=CN=C3NC4=C(C=C(C...</td>\n",
       "      <td>MAEKQKHDGRVKIGHYVLGDTLGVGTFGKVKIGEHQLTGHKVAVKI...</td>\n",
       "      <td>0</td>\n",
       "      <td>[0. 0. 0. ... 0. 0. 0.]</td>\n",
       "      <td>[5.978 5.797 2.899 ... 0.    0.    0.   ]</td>\n",
       "    </tr>\n",
       "    <tr>\n",
       "      <th>2</th>\n",
       "      <td>CNC(=O)C1=CC=CC=C1SC2=CC3=C(C=C2)C(=NN3)C=CC4=...</td>\n",
       "      <td>MAALSGGGGGGAEPGQALFNGDMEPEAGAGAGAAASSAADPAIPEE...</td>\n",
       "      <td>0</td>\n",
       "      <td>[0. 1. 0. ... 0. 0. 0.]</td>\n",
       "      <td>[6.789 5.222 3.525 ... 0.    0.    0.   ]</td>\n",
       "    </tr>\n",
       "    <tr>\n",
       "      <th>3</th>\n",
       "      <td>CCN(CC)CCNC(=O)C1=C(NC(=C1C)C=C2C3=C(C=CC(=C3)...</td>\n",
       "      <td>MTSSLQRPWRVPWLPWTILLVSTAAASQNQERLCAFKDPYQQDLGI...</td>\n",
       "      <td>0</td>\n",
       "      <td>[0. 0. 0. ... 0. 0. 0.]</td>\n",
       "      <td>[5.684 5.588 6.551 ... 0.    0.    0.   ]</td>\n",
       "    </tr>\n",
       "    <tr>\n",
       "      <th>4</th>\n",
       "      <td>CC1=C(C=C(C=C1)NC(=O)C2=CC=C(C=C2)CN3CCN(CC3)C...</td>\n",
       "      <td>MGPEALSSLLLLLLVASGDADMKGHFDPAKCRYALGMQDRTIPDSD...</td>\n",
       "      <td>1</td>\n",
       "      <td>[0. 0. 0. ... 0. 0. 0.]</td>\n",
       "      <td>[7.996 7.667 3.286 ... 0.    0.    0.   ]</td>\n",
       "    </tr>\n",
       "    <tr>\n",
       "      <th>...</th>\n",
       "      <td>...</td>\n",
       "      <td>...</td>\n",
       "      <td>...</td>\n",
       "      <td>...</td>\n",
       "      <td>...</td>\n",
       "    </tr>\n",
       "    <tr>\n",
       "      <th>6006</th>\n",
       "      <td>CC1CCN(CC1N(C)C2=NC=NC3=C2C=CN3)C(=O)CC#N</td>\n",
       "      <td>MGHQESPLARAPAGGAAYVKRLCKGLSWREHVESHGSLGAQASPAS...</td>\n",
       "      <td>0</td>\n",
       "      <td>[0. 0. 1. ... 0. 0. 0.]</td>\n",
       "      <td>[13.858  9.551  2.809 ...  0.     1.     0.   ]</td>\n",
       "    </tr>\n",
       "    <tr>\n",
       "      <th>6007</th>\n",
       "      <td>CC1=CC=C(C=C1)N2C(=CC(=N2)C(C)(C)C)NC(=O)NC3=C...</td>\n",
       "      <td>MEEEGGSSGGAAGTSADGGDGGEQLLTVKHELRTANLTGHAEKVGI...</td>\n",
       "      <td>0</td>\n",
       "      <td>[0. 0. 0. ... 0. 0. 0.]</td>\n",
       "      <td>[6.359 3.99  3.616 ... 0.    0.    0.   ]</td>\n",
       "    </tr>\n",
       "    <tr>\n",
       "      <th>6008</th>\n",
       "      <td>CC1=CC(=C(C=C1)F)NC(=O)NC2=CC=C(C=C2)C3=C4C(=C...</td>\n",
       "      <td>MLLRSAGKLNVGTKKEDGESTAPTPRPKVLRCKCHHHCPEDSVNNI...</td>\n",
       "      <td>0</td>\n",
       "      <td>[0. 0. 0. ... 0. 0. 0.]</td>\n",
       "      <td>[3.984 6.175 3.187 ... 0.    0.    0.   ]</td>\n",
       "    </tr>\n",
       "    <tr>\n",
       "      <th>6009</th>\n",
       "      <td>CC1=C(NC(=C1C(=O)N2CCCC2CN3CCCC3)C)C=C4C5=C(C=...</td>\n",
       "      <td>MAGDLSAGFFMEELNTYRQKQGVVLKYQELPNSGPPHDRRFTFQVI...</td>\n",
       "      <td>0</td>\n",
       "      <td>[0. 0. 0. ... 0. 0. 0.]</td>\n",
       "      <td>[5.263 4.483 4.483 ... 0.    0.    0.   ]</td>\n",
       "    </tr>\n",
       "    <tr>\n",
       "      <th>6010</th>\n",
       "      <td>CC(C)(C)C1=CC(=NO1)NC(=O)NC2=CC=C(C=C2)C3=CN4C...</td>\n",
       "      <td>MCFSFIMPPAMADILDIWAVDSQIASDGSIPVDFLLPTGIYIQLEV...</td>\n",
       "      <td>0</td>\n",
       "      <td>[0. 0. 0. ... 0. 0. 0.]</td>\n",
       "      <td>[5.421 4.579 4.766 ... 0.    0.    0.   ]</td>\n",
       "    </tr>\n",
       "  </tbody>\n",
       "</table>\n",
       "<p>6011 rows × 5 columns</p>\n",
       "</div>"
      ],
      "text/plain": [
       "                                                 SMILES  \\\n",
       "0     CN(C)CC1CCN2C=C(C3=CC=CC=C32)C4=C(C5=CN(CCO1)C...   \n",
       "1     CN1CCC(CC1)COC2=C(C=C3C(=C2)N=CN=C3NC4=C(C=C(C...   \n",
       "2     CNC(=O)C1=CC=CC=C1SC2=CC3=C(C=C2)C(=NN3)C=CC4=...   \n",
       "3     CCN(CC)CCNC(=O)C1=C(NC(=C1C)C=C2C3=C(C=CC(=C3)...   \n",
       "4     CC1=C(C=C(C=C1)NC(=O)C2=CC=C(C=C2)CN3CCN(CC3)C...   \n",
       "...                                                 ...   \n",
       "6006          CC1CCN(CC1N(C)C2=NC=NC3=C2C=CN3)C(=O)CC#N   \n",
       "6007  CC1=CC=C(C=C1)N2C(=CC(=N2)C(C)(C)C)NC(=O)NC3=C...   \n",
       "6008  CC1=CC(=C(C=C1)F)NC(=O)NC2=CC=C(C=C2)C3=C4C(=C...   \n",
       "6009  CC1=C(NC(=C1C(=O)N2CCCC2CN3CCCC3)C)C=C4C5=C(C=...   \n",
       "6010  CC(C)(C)C1=CC(=NO1)NC(=O)NC2=CC=C(C=C2)C3=CN4C...   \n",
       "\n",
       "                                        Target Sequence  Label  \\\n",
       "0     PFWKILNPLLERGTYYYFMGQQPGKVLGDQRRPSLPALHFIKGAGK...      0   \n",
       "1     MAEKQKHDGRVKIGHYVLGDTLGVGTFGKVKIGEHQLTGHKVAVKI...      0   \n",
       "2     MAALSGGGGGGAEPGQALFNGDMEPEAGAGAGAAASSAADPAIPEE...      0   \n",
       "3     MTSSLQRPWRVPWLPWTILLVSTAAASQNQERLCAFKDPYQQDLGI...      0   \n",
       "4     MGPEALSSLLLLLLVASGDADMKGHFDPAKCRYALGMQDRTIPDSD...      1   \n",
       "...                                                 ...    ...   \n",
       "6006  MGHQESPLARAPAGGAAYVKRLCKGLSWREHVESHGSLGAQASPAS...      0   \n",
       "6007  MEEEGGSSGGAAGTSADGGDGGEQLLTVKHELRTANLTGHAEKVGI...      0   \n",
       "6008  MLLRSAGKLNVGTKKEDGESTAPTPRPKVLRCKCHHHCPEDSVNNI...      0   \n",
       "6009  MAGDLSAGFFMEELNTYRQKQGVVLKYQELPNSGPPHDRRFTFQVI...      0   \n",
       "6010  MCFSFIMPPAMADILDIWAVDSQIASDGSIPVDFLLPTGIYIQLEV...      0   \n",
       "\n",
       "                drug_encoding                                  target_encoding  \n",
       "0     [0. 0. 0. ... 0. 0. 0.]        [8.483 5.827 3.599 ... 0.    0.    0.   ]  \n",
       "1     [0. 0. 0. ... 0. 0. 0.]        [5.978 5.797 2.899 ... 0.    0.    0.   ]  \n",
       "2     [0. 1. 0. ... 0. 0. 0.]        [6.789 5.222 3.525 ... 0.    0.    0.   ]  \n",
       "3     [0. 0. 0. ... 0. 0. 0.]        [5.684 5.588 6.551 ... 0.    0.    0.   ]  \n",
       "4     [0. 0. 0. ... 0. 0. 0.]        [7.996 7.667 3.286 ... 0.    0.    0.   ]  \n",
       "...                       ...                                              ...  \n",
       "6006  [0. 0. 1. ... 0. 0. 0.]  [13.858  9.551  2.809 ...  0.     1.     0.   ]  \n",
       "6007  [0. 0. 0. ... 0. 0. 0.]        [6.359 3.99  3.616 ... 0.    0.    0.   ]  \n",
       "6008  [0. 0. 0. ... 0. 0. 0.]        [3.984 6.175 3.187 ... 0.    0.    0.   ]  \n",
       "6009  [0. 0. 0. ... 0. 0. 0.]        [5.263 4.483 4.483 ... 0.    0.    0.   ]  \n",
       "6010  [0. 0. 0. ... 0. 0. 0.]        [5.421 4.579 4.766 ... 0.    0.    0.   ]  \n",
       "\n",
       "[6011 rows x 5 columns]"
      ]
     },
     "execution_count": 15,
     "metadata": {},
     "output_type": "execute_result"
    }
   ],
   "source": [
    "df"
   ]
  },
  {
   "cell_type": "code",
   "execution_count": 16,
   "id": "b56820c3-ecba-4c1a-ab7e-3f6915204133",
   "metadata": {},
   "outputs": [],
   "source": [
    "ig = DeepLift(model)"
   ]
  },
  {
   "cell_type": "code",
   "execution_count": 17,
   "id": "da827d90-8a4c-4098-8ee9-723c0a9960ce",
   "metadata": {},
   "outputs": [
    {
     "data": {
      "text/plain": [
       "DTI_Model(\n",
       "  (drug_projector): Sequential(\n",
       "    (0): Linear(in_features=2048, out_features=1024, bias=True)\n",
       "    (1): ReLU()\n",
       "  )\n",
       "  (target_projector): Sequential(\n",
       "    (0): Linear(in_features=6265, out_features=1024, bias=True)\n",
       "    (1): ReLU()\n",
       "  )\n",
       "  (activator): CosineSimilarity()\n",
       ")"
      ]
     },
     "execution_count": 17,
     "metadata": {},
     "output_type": "execute_result"
    }
   ],
   "source": [
    "model"
   ]
  },
  {
   "cell_type": "code",
   "execution_count": 19,
   "id": "a7afd2b8-b37f-446c-82df-568128a1df01",
   "metadata": {
    "scrolled": true,
    "tags": []
   },
   "outputs": [
    {
     "data": {
      "application/vnd.jupyter.widget-view+json": {
       "model_id": "b0108d91b6974b6c97c933f7cfd91464",
       "version_major": 2,
       "version_minor": 0
      },
      "text/plain": [
       "  0%|          | 0/6011 [00:00<?, ?it/s]"
      ]
     },
     "metadata": {},
     "output_type": "display_data"
    }
   ],
   "source": [
    "pattr = []\n",
    "for (_, r) in tqdm(df.iterrows(),total=len(df)):\n",
    "    prot_lift = target_featurizer(r['Target Sequence']).unsqueeze(0)\n",
    "    mol_lift = drug_featurizer(r['SMILES']).unsqueeze(0)\n",
    "    inp = (mol_lift, prot_lift)\n",
    "    base = (baseline_mol,baseline_prot)\n",
    "    target = torch.tensor(r['Label']).unsqueeze(0).unsqueeze(0)\n",
    "    (_, prot_attributions), _ = ig.attribute((mol_lift, prot_lift), (baseline_mol,baseline_prot), return_convergence_delta=True)\n",
    "    pattr.append(prot_attributions.detach().cpu().squeeze())"
   ]
  },
  {
   "cell_type": "code",
   "execution_count": 20,
   "id": "728ebab5-282f-494a-92d9-62a8c2b09ed8",
   "metadata": {},
   "outputs": [],
   "source": [
    "import matplotlib.pyplot as plt\n",
    "import seaborn as sns"
   ]
  },
  {
   "cell_type": "code",
   "execution_count": 21,
   "id": "0fd8ab7c-6d28-424f-a998-c5582d8e2ccd",
   "metadata": {},
   "outputs": [],
   "source": [
    "prot_attr = torch.stack(pattr,0).mean(dim=0).detach().cpu()"
   ]
  },
  {
   "cell_type": "code",
   "execution_count": 22,
   "id": "db6a2f38-f877-4ddc-be26-a67b1d9ec532",
   "metadata": {},
   "outputs": [],
   "source": [
    "# attr_trans = torch.softmax(prot_attr,0).unsqueeze(0)\n",
    "attr_trans = prot_attr.unsqueeze(0)"
   ]
  },
  {
   "cell_type": "code",
   "execution_count": 24,
   "id": "3e08a47a-edec-45ca-8de9-2880710bb9f3",
   "metadata": {},
   "outputs": [],
   "source": [
    "last_size = 100"
   ]
  },
  {
   "cell_type": "code",
   "execution_count": 25,
   "id": "cee1cbcc-6c92-49c5-9397-fa6b788020f2",
   "metadata": {},
   "outputs": [
    {
     "data": {
      "image/png": "[encoded data removed]",
      "text/plain": [
       "<Figure size 432x288 with 1 Axes>"
      ]
     },
     "metadata": {
      "needs_background": "light"
     },
     "output_type": "display_data"
    }
   ],
   "source": [
    "plt.scatter(np.arange(target_featurizer.shape), attr_trans,s=5,color=['gray' for i in range(target_featurizer.shape-last_size)]+['black' for i in range(last_size)])\n",
    "plt.vlines(target_featurizer.shape-last_size,attr_trans.min(), attr_trans.max(),color='r')\n",
    "plt.hlines(attr_trans.mean() + 2*attr_trans.std(),0,target_featurizer.shape,color='royalblue',linestyles='dotted')\n",
    "plt.hlines(attr_trans.mean() - 2*attr_trans.std(),0,target_featurizer.shape,color='royalblue',linestyles='dotted')\n",
    "plt.xlabel('Feature Dimension')\n",
    "plt.ylabel('DeepLift Score')\n",
    "plt.title('Feature ProtBert + BindPredict21 Model on DAVIS Test Data Set')\n",
    "sns.despine()\n",
    "# plt.savefig('esm_dscript_cat_bindingdb_deeplift_attributions.svg')\n",
    "plt.show()"
   ]
  },
  {
   "cell_type": "code",
   "execution_count": null,
   "id": "3ccffce6-7f42-4cb2-8dd6-1c103b0d420f",
   "metadata": {},
   "outputs": [],
   "source": []
  }
 ],
 "metadata": {
  "kernelspec": {
   "display_name": "dsplat",
   "language": "python",
   "name": "dsplat"
  },
  "language_info": {
   "codemirror_mode": {
    "name": "ipython",
    "version": 3
   },
   "file_extension": ".py",
   "mimetype": "text/x-python",
   "name": "python",
   "nbconvert_exporter": "python",
   "pygments_lexer": "ipython3",
   "version": "3.7.12"
  }
 },
 "nbformat": 4,
 "nbformat_minor": 5
}
