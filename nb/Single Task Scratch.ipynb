{
 "cells": [
  {
   "cell_type": "code",
   "execution_count": 1,
   "id": "fd975080-3968-454b-811d-45b65cd18c6d",
   "metadata": {},
   "outputs": [],
   "source": [
    "import os\n",
    "os.chdir(\"/afs/csail.mit.edu/u/s/samsl/Work/Adapting_PLM_DTI\")"
   ]
  },
  {
   "cell_type": "code",
   "execution_count": 2,
   "id": "9f28922b-157a-4fb0-a2d6-c0238b9a83cd",
   "metadata": {},
   "outputs": [],
   "source": [
    "import torch\n",
    "device = torch.device(\"cuda:7\")\n",
    "\n",
    "from src.featurizers import (\n",
    "    ESMFeaturizer,\n",
    "    ProtBertFeaturizer,\n",
    "    MorganFeaturizer,\n",
    ")\n",
    "from src.data import (\n",
    "    get_task_dir,\n",
    "    DTIDataModule,\n",
    ")\n",
    "from src.utils import (\n",
    "    set_random_seed,\n",
    "    get_logger,\n",
    ")\n",
    "from src.architectures import SimpleCoembedding"
   ]
  },
  {
   "cell_type": "code",
   "execution_count": 18,
   "id": "4b7fc09b-3b9c-425e-ad74-be4451feb6eb",
   "metadata": {},
   "outputs": [],
   "source": [
    "import torch\n",
    "import numpy as np\n",
    "import pandas as pd\n",
    "import matplotlib.pyplot as plt\n",
    "import seaborn as sns\n",
    "\n",
    "from sklearn.linear_model import Ridge, RidgeClassifier\n",
    "from sklearn.metrics import average_precision_score\n",
    "from sklearn.model_selection import KFold\n",
    "from collections import defaultdict\n",
    "from collections.abc import Iterable\n",
    "from tqdm.notebook import tqdm"
   ]
  },
  {
   "cell_type": "code",
   "execution_count": 4,
   "id": "88712528-07f8-41c8-a8e3-4cb6f2c5e160",
   "metadata": {},
   "outputs": [],
   "source": [
    "seed = 61998\n",
    "\n",
    "set_random_seed(seed)\n",
    "logg = get_logger()"
   ]
  },
  {
   "cell_type": "code",
   "execution_count": 5,
   "id": "dfe655f4-d391-4d83-8ee0-3f63dafbfb80",
   "metadata": {},
   "outputs": [],
   "source": [
    "TASK = \"davis\""
   ]
  },
  {
   "cell_type": "code",
   "execution_count": 6,
   "id": "e7e5a7b5-3b46-49a5-8bbf-95bfb2bbd074",
   "metadata": {},
   "outputs": [
    {
     "name": "stderr",
     "output_type": "stream",
     "text": [
      "Morgan: 100%|███████████████████████████████████████████████████████████████████████████| 68/68 [00:00<00:00, 1755.19it/s]\n",
      "ProtBert: 100%|███████████████████████████████████████████████████████████████████████| 379/379 [00:00<00:00, 1315.18it/s]\n"
     ]
    }
   ],
   "source": [
    "task_dir = get_task_dir(TASK)\n",
    "\n",
    "drug_featurizer = MorganFeaturizer(save_dir=task_dir)\n",
    "# target_featurizer = ESMFeaturizer(save_dir=task_dir)\n",
    "target_featurizer = ProtBertFeaturizer(save_dir=task_dir)\n",
    "\n",
    "datamodule = DTIDataModule(\n",
    "    task_dir,\n",
    "    drug_featurizer,\n",
    "    target_featurizer,\n",
    "    device=device,\n",
    ")\n",
    "datamodule.setup()"
   ]
  },
  {
   "cell_type": "markdown",
   "id": "3621aebd-f4a4-42e8-8f58-5a0eefe61acf",
   "metadata": {},
   "source": [
    "## All But DUDe"
   ]
  },
  {
   "cell_type": "code",
   "execution_count": 7,
   "id": "f5581d0b-32fd-482a-ae64-328dc1b9e048",
   "metadata": {},
   "outputs": [
    {
     "data": {
      "text/plain": [
       "<All keys matched successfully>"
      ]
     },
     "execution_count": 7,
     "metadata": {},
     "output_type": "execute_result"
    }
   ],
   "source": [
    "protbert_featurizer = ProtBertFeaturizer(save_dir=task_dir)\n",
    "\n",
    "cpi_model = SimpleCoembedding(\n",
    "        2048,\n",
    "        1024,\n",
    "        latent_dimension=1024,\n",
    "        latent_distance=\"Cosine\",\n",
    "        classify=True,\n",
    "    ).to(device)\n",
    "\n",
    "state_dict = torch.load(\"best_models/davis_contrastive_batch128_best_model.pt\")\n",
    "# state_dict = torch.load(\"best_models/bindingdb_contrastive_best_model.pt\")\n",
    "# state_dict = torch.load(\"best_models/biosnap_contrastive_best_model.pt\")\n",
    "# state_dict = torch.load(\"best_models/new_proteins_contrastive_best_model.pt\")\n",
    "\n",
    "cpi_model.load_state_dict(state_dict)"
   ]
  },
  {
   "cell_type": "code",
   "execution_count": 8,
   "id": "1c7a1d14-f8bb-432c-a1fe-32698462adc0",
   "metadata": {},
   "outputs": [],
   "source": [
    "def calc_coverage(\n",
    "    df,\n",
    "    drug_col = \"SMILES\",\n",
    "    target_col = \"Target Sequence\",\n",
    "    label_col = \"Label\"\n",
    "):\n",
    "    drug_uniq = df[drug_col].unique()\n",
    "    target_uniq = df[target_col].unique()\n",
    "\n",
    "    coverage_mtx = np.zeros((len(drug_uniq), len(target_uniq)))\n",
    "\n",
    "    for i, d in tqdm(enumerate(drug_uniq),leave=False, total=len(drug_uniq)):\n",
    "        for j, t in enumerate(target_uniq):\n",
    "            obs_df = df[(df[drug_col] == d) & (df[target_col] == t)]\n",
    "            n_obs = len(obs_df)\n",
    "            coverage_mtx[i,j] = n_obs\n",
    "\n",
    "    return coverage_mtx\n",
    "\n",
    "def viz_coverage(\n",
    "    df,\n",
    "    drug_col = \"SMILES\",\n",
    "    target_col = \"Target Sequence\",\n",
    "    label_col = \"Label\",\n",
    "    binary = True,\n",
    "    precomputed = None,\n",
    "    key = ''\n",
    "):\n",
    "    if precomputed is None:\n",
    "        coverage_mtx = calc_coverage(df, drug_col, target_col, label_col)\n",
    "    else:\n",
    "        coverage_mtx = precomputed\n",
    "    cmap = 'hot'\n",
    "    vmin = coverage_mtx.min()\n",
    "    vmax = coverage_mtx.max()\n",
    "    if binary:\n",
    "        coverage_mtx = (coverage_mtx > 0).astype(int)\n",
    "        cmap = 'binary'\n",
    "        vmin = 0\n",
    "        vmax = 1\n",
    "    drug_uniq = df[drug_col].unique()\n",
    "    target_uniq = df[target_col].unique()\n",
    "    df = pd.DataFrame(coverage_mtx, index = drug_uniq, columns = target_uniq)\n",
    "\n",
    "    sns.set(rc={'figure.figsize':(11.7,8.27)}, style=\"whitegrid\")\n",
    "    sns.heatmap(df, xticklabels=False, yticklabels=False,cmap=cmap, vmin=vmin, vmax=vmax)\n",
    "    plt.title(f\"{key} Drug x Target Coverage\")\n",
    "    plt.ylabel(\"Drug\")\n",
    "    plt.xlabel(\"Target\")\n",
    "    plt.savefig(f\"img/{key}_coverage_drugxtarget.png\",bbox_inches='tight')\n",
    "    plt.show()\n",
    "    # plt.close()\n",
    "    \n",
    "    binary_cov = (coverage_mtx > 0).astype(int)\n",
    "    drug_cov = binary_cov.mean(axis=1)\n",
    "    target_cov = binary_cov.mean(axis=0)\n",
    "\n",
    "    coverages = np.concatenate([drug_cov, target_cov])\n",
    "    labels = [\"Drug\"] * len(drug_cov) + [\"Target\"] * len(target_cov)\n",
    "    covg_df = pd.DataFrame({\"Coverage\": coverages, \"Type\":labels})\n",
    "    # sns.displot(covg_df, x=\"Coverage\", hue=\"Type\")\n",
    "    sns.boxplot(x=covg_df[\"Coverage\"],y=covg_df[\"Type\"])\n",
    "    plt.title(f\"{key} Distribution of Coverages\")\n",
    "    plt.xlim(0,1)\n",
    "    # plt.savefig(f\"img/{key}_coverage_distribution.png\",bbox_inches='tight')\n",
    "    plt.show()\n",
    "    # plt.close()"
   ]
  },
  {
   "cell_type": "code",
   "execution_count": 9,
   "id": "ce2b7295-e651-4cfc-a41f-54ef3a908cbe",
   "metadata": {},
   "outputs": [],
   "source": [
    "drug_column = datamodule._drug_column\n",
    "target_column = datamodule._target_column\n",
    "label_column = datamodule._label_column"
   ]
  },
  {
   "cell_type": "code",
   "execution_count": 10,
   "id": "47ba5447-0913-4af3-816d-a645fa9c9ce2",
   "metadata": {},
   "outputs": [],
   "source": [
    "train_df = datamodule.df_train\n",
    "test_df = datamodule.df_test\n",
    "full_df = pd.concat([datamodule.df_train, datamodule.df_test])\n",
    "\n",
    "drug_uniq = full_df[drug_column].unique()\n",
    "target_uniq = full_df[target_column].unique()"
   ]
  },
  {
   "cell_type": "code",
   "execution_count": 11,
   "id": "7110a18d-d10d-443c-b6bf-57781bc2ea4b",
   "metadata": {},
   "outputs": [
    {
     "name": "stderr",
     "output_type": "stream",
     "text": [
      "ProtBert: 100%|███████████████████████████████████████████████████████████████████████| 379/379 [00:00<00:00, 4126.19it/s]\n",
      "ProtBert: 100%|███████████████████████████████████████████████████████████████████████| 379/379 [00:00<00:00, 4373.90it/s]\n",
      "Morgan: 100%|███████████████████████████████████████████████████████████████████████████| 68/68 [00:00<00:00, 4145.59it/s]\n"
     ]
    }
   ],
   "source": [
    "target_featurizer.preload(target_uniq)\n",
    "protbert_featurizer.preload(target_uniq)\n",
    "drug_featurizer.preload(drug_uniq)"
   ]
  },
  {
   "cell_type": "code",
   "execution_count": 12,
   "id": "165a9969-9bd9-49d8-81f2-235b7706c8b0",
   "metadata": {},
   "outputs": [],
   "source": [
    "def flatten(xs):\n",
    "    for x in xs:\n",
    "        if isinstance(x, Iterable) and not isinstance(x, (str, bytes)):\n",
    "            yield from flatten(x)\n",
    "        else:\n",
    "            yield x"
   ]
  },
  {
   "cell_type": "code",
   "execution_count": 13,
   "id": "9741847d-d7d0-4c4f-93df-f64d41cc6777",
   "metadata": {},
   "outputs": [
    {
     "data": {
      "application/vnd.jupyter.widget-view+json": {
       "model_id": "",
       "version_major": 2,
       "version_minor": 0
      },
      "text/plain": [
       "  0%|          | 0/68 [00:00<?, ?it/s]"
      ]
     },
     "metadata": {},
     "output_type": "display_data"
    },
    {
     "data": {
      "image/png": "[encoded data removed]",
      "text/plain": [
       "<Figure size 432x288 with 2 Axes>"
      ]
     },
     "metadata": {
      "needs_background": "light"
     },
     "output_type": "display_data"
    },
    {
     "data": {
      "image/png": "[encoded data removed]",
      "text/plain": [
       "<Figure size 432x288 with 1 Axes>"
      ]
     },
     "metadata": {
      "needs_background": "light"
     },
     "output_type": "display_data"
    }
   ],
   "source": [
    "viz_coverage(full_df, drug_column, target_column, label_column, key = TASK)"
   ]
  },
  {
   "cell_type": "code",
   "execution_count": 19,
   "id": "0a8d87ca-d247-4550-8a7a-7e3d2b172f2b",
   "metadata": {},
   "outputs": [
    {
     "data": {
      "application/vnd.jupyter.widget-view+json": {
       "model_id": "d682ff0718974972b4c924565a09b212",
       "version_major": 2,
       "version_minor": 0
      },
      "text/plain": [
       "  0%|          | 0/68 [00:00<?, ?it/s]"
      ]
     },
     "metadata": {},
     "output_type": "display_data"
    }
   ],
   "source": [
    "dset_sizes = {}\n",
    "\n",
    "all_predictions = defaultdict(list)\n",
    "all_cpi_predictions = defaultdict(list)\n",
    "all_labels = defaultdict(list)\n",
    "task_aupr_dict = {}\n",
    "cpi_aupr_dict = {}\n",
    "\n",
    "skipped = 0\n",
    "train_only = 0\n",
    "\n",
    "for curr_task in tqdm(drug_uniq,total=len(drug_uniq)):\n",
    "\n",
    "    drug_feat = drug_featurizer(curr_task)\n",
    "    \n",
    "    train_df_task = train_df[train_df[drug_column] == curr_task]\n",
    "    test_df_task = test_df[test_df[drug_column] == curr_task]\n",
    "    \n",
    "    dset_sizes[curr_task] = (len(train_df_task), len(test_df_task))\n",
    "    if (len(train_df_task) < 1) or (len(test_df_task) < 1):\n",
    "        if curr_task in test_df[drug_column].unique():\n",
    "            skipped += 1\n",
    "        else:\n",
    "            train_only += 1\n",
    "        continue\n",
    "    \n",
    "    model = Ridge()\n",
    "\n",
    "    train_X = []\n",
    "    for i, r in train_df_task.iterrows():\n",
    "        train_X.append(target_featurizer(r[target_column]))\n",
    "    train_X = torch.stack(train_X, 0).detach().cpu().numpy()\n",
    "    train_Y = train_df_task[label_column].values\n",
    "    assert len(train_X) == len(train_Y)\n",
    "\n",
    "    model.fit(train_X, train_Y)\n",
    "\n",
    "    test_X = []\n",
    "    cpi_test_drugX = []\n",
    "    cpi_test_targX = []\n",
    "    for i, r in test_df_task.iterrows():\n",
    "        esm_feat = target_featurizer(r[target_column])\n",
    "        protbert_feat = protbert_featurizer(r[target_column])\n",
    "        test_X.append(esm_feat)\n",
    "        cpi_test_drugX.append(drug_feat.to(device))\n",
    "        cpi_test_targX.append(protbert_feat.to(device))\n",
    "    test_X = torch.stack(test_X).detach().cpu().numpy()\n",
    "    test_Y = test_df_task[label_column].values\n",
    "\n",
    "    prd = model.predict(test_X)\n",
    "    with torch.set_grad_enabled(False):\n",
    "        prd_cpi = cpi_model(torch.stack(cpi_test_drugX,0), torch.stack(cpi_test_targX,0))\n",
    "    \n",
    "    all_labels[curr_task].append(test_Y)\n",
    "    all_predictions[curr_task].append(prd)\n",
    "    if not prd_cpi.shape:\n",
    "        prd_cpi = torch.Tensor([prd_cpi.item()]).cpu()\n",
    "    all_cpi_predictions[curr_task] = prd_cpi\n",
    "    \n",
    "    labels = list(flatten(all_labels[curr_task]))\n",
    "    predictions = list(flatten(all_predictions[curr_task]))\n",
    "    predictions_cpi = all_cpi_predictions[curr_task].cpu()\n",
    "    curr_aupr = average_precision_score(labels, predictions)\n",
    "    cpi_aupr = average_precision_score(labels, predictions_cpi)\n",
    "    task_aupr_dict[curr_task] = curr_aupr\n",
    "    cpi_aupr_dict[curr_task] = cpi_aupr"
   ]
  },
  {
   "cell_type": "code",
   "execution_count": 20,
   "id": "7f6afad3-3f3a-4fe4-a143-f1bbf5d2cf8f",
   "metadata": {},
   "outputs": [
    {
     "name": "stdout",
     "output_type": "stream",
     "text": [
      "Total drugs in training set: 68\n",
      "Train only tasks: 0\n",
      "Number of test tasks skipped: 0\n",
      "Pct of test tasks skipped: 0.00%\n"
     ]
    }
   ],
   "source": [
    "print(f\"Total drugs in training set: {len(drug_uniq)}\")\n",
    "print(f\"Train only tasks: {train_only}\")\n",
    "print(f\"Number of test tasks skipped: {skipped}\")\n",
    "print(f\"Pct of test tasks skipped: {skipped / len(test_df[drug_column].unique()):.2%}\")"
   ]
  },
  {
   "cell_type": "code",
   "execution_count": 21,
   "id": "0a95824f-a4d2-40d7-8409-b951a9e1645f",
   "metadata": {},
   "outputs": [
    {
     "name": "stdout",
     "output_type": "stream",
     "text": [
      "Average per-task AUPR (Single Task): 0.47779589060682476\n",
      "Average per-task AUPR (CPI): 0.5234103572806124\n"
     ]
    }
   ],
   "source": [
    "task_auprs = list(task_aupr_dict.values())\n",
    "avg_of_avg = np.nanmean(task_auprs)\n",
    "print(f\"Average per-task AUPR (Single Task): {avg_of_avg}\")\n",
    "\n",
    "cpi_task_auprs = list(cpi_aupr_dict.values())\n",
    "cpi_avg_of_avg = np.nanmean(cpi_task_auprs)\n",
    "print(f\"Average per-task AUPR (CPI): {cpi_avg_of_avg}\")"
   ]
  },
  {
   "cell_type": "code",
   "execution_count": 22,
   "id": "9c42e190-7e15-40ab-8e4e-670ca49c4e71",
   "metadata": {},
   "outputs": [
    {
     "name": "stdout",
     "output_type": "stream",
     "text": [
      "Overall AUPR (Single Task): 0.31958204882343616\n",
      "Overall AUPR (CPI): 0.5062855274195841\n"
     ]
    }
   ],
   "source": [
    "labels = list(flatten(list(all_labels.values())))\n",
    "preds = list(flatten(list(all_predictions.values())))\n",
    "overall_aupr = average_precision_score(labels, preds)\n",
    "print(f\"Overall AUPR (Single Task): {overall_aupr}\")\n",
    "\n",
    "cpi_labels = list(flatten(list(all_labels.values())))\n",
    "cpi_preds = torch.cat([t.cpu() for t in list(all_cpi_predictions.values())])\n",
    "cpi_overall_aupr = average_precision_score(cpi_labels, cpi_preds)\n",
    "print(f\"Overall AUPR (CPI): {cpi_overall_aupr}\")"
   ]
  },
  {
   "cell_type": "markdown",
   "id": "a1b243a9-5f63-45c9-97f2-f27aed2dea90",
   "metadata": {},
   "source": [
    "-----"
   ]
  },
  {
   "cell_type": "markdown",
   "id": "527e06e0-531c-4e65-a0a4-4982f9a7927b",
   "metadata": {},
   "source": [
    "## DUDe"
   ]
  },
  {
   "cell_type": "code",
   "execution_count": 23,
   "id": "ede959ed-2f5e-47f2-9acd-fd0731b8944c",
   "metadata": {},
   "outputs": [],
   "source": [
    "import torch\n",
    "device = torch.device(0)"
   ]
  },
  {
   "cell_type": "code",
   "execution_count": 24,
   "id": "8b367236-cb1c-411c-8a45-c22e32038cd2",
   "metadata": {},
   "outputs": [],
   "source": [
    "drug_featurizer = drug_featurizer.cuda(device)\n",
    "target_featurizer = target_featurizer.cuda(device)"
   ]
  },
  {
   "cell_type": "code",
   "execution_count": 25,
   "id": "3f0f7fd0-b31f-4182-a5ab-68832a9aba4c",
   "metadata": {},
   "outputs": [],
   "source": [
    "fulldf = pd.read_csv('dataset/DUDe/full.tsv',sep='\\t')\n",
    "splitdf = pd.read_csv('dataset/DUDe/dude_within_type_train_test_split.csv',header=None)"
   ]
  },
  {
   "cell_type": "code",
   "execution_count": 26,
   "id": "f9aa3692-c81e-4af1-b7b3-438995c4f7a2",
   "metadata": {},
   "outputs": [],
   "source": [
    "fulldf = fulldf[fulldf['Target_ID'].isin(splitdf[0])]\n",
    "train_df = fulldf[fulldf['Target_ID'].isin(splitdf[splitdf[1] == 'train'][0])]\n",
    "test_df = fulldf[fulldf['Target_ID'].isin(splitdf[splitdf[1] == 'test'][0])]"
   ]
  },
  {
   "cell_type": "code",
   "execution_count": 54,
   "id": "503d9191-bf1f-46fc-b2d4-c0956d91cc30",
   "metadata": {},
   "outputs": [
    {
     "name": "stdout",
     "output_type": "stream",
     "text": [
      "57\n",
      "57\n",
      "788572\n",
      "689002\n"
     ]
    }
   ],
   "source": [
    "target_uniq = fulldf['Target_ID'].unique()\n",
    "print(len(target_uniq))\n",
    "\n",
    "seq_uniq = fulldf['Target_Seq'].unique()\n",
    "print(len(seq_uniq))\n",
    "\n",
    "drug_uniq = fulldf['Molecule_ID'].unique()\n",
    "print(len(drug_uniq))\n",
    "\n",
    "smile_uniq = fulldf['Molecule_SMILES'].unique()\n",
    "print(len(smile_uniq))"
   ]
  },
  {
   "cell_type": "code",
   "execution_count": 55,
   "id": "bd3fa2c3-9ca5-4d20-adb4-231f20986724",
   "metadata": {},
   "outputs": [
    {
     "name": "stderr",
     "output_type": "stream",
     "text": [
      "ProtBert: 100%|███████████████████████████████████████████████████████████████████████████| 57/57 [00:04<00:00, 12.59it/s]\n"
     ]
    }
   ],
   "source": [
    "target_featurizer.preload(seq_uniq)"
   ]
  },
  {
   "cell_type": "code",
   "execution_count": 56,
   "id": "e3607388-9a93-4227-8ad0-c3b676715724",
   "metadata": {},
   "outputs": [
    {
     "name": "stderr",
     "output_type": "stream",
     "text": [
      "Morgan: 100%|███████████████████████████████████████████████████████████████████| 689002/689002 [08:51<00:00, 1295.75it/s]\n"
     ]
    }
   ],
   "source": [
    "drug_featurizer.preload(smile_uniq)"
   ]
  },
  {
   "cell_type": "code",
   "execution_count": 57,
   "id": "0eb5498d-946f-40a4-a5b2-cc12db498d1a",
   "metadata": {},
   "outputs": [],
   "source": [
    "drug_column = 'Molecule_SMILES'\n",
    "target_column = 'Target_Seq'\n",
    "label_column = 'Label'"
   ]
  },
  {
   "cell_type": "code",
   "execution_count": 58,
   "id": "622aae42-9217-4985-bd38-9871035e5759",
   "metadata": {},
   "outputs": [],
   "source": [
    "from sklearn.model_selection import train_test_split"
   ]
  },
  {
   "cell_type": "code",
   "execution_count": 60,
   "id": "684a0db1-625f-472a-ac3b-9989667e7e8e",
   "metadata": {},
   "outputs": [],
   "source": [
    "seq_train = train_df['Target_Seq'].unique()"
   ]
  },
  {
   "cell_type": "code",
   "execution_count": null,
   "id": "995c6609-d5ce-49d6-86d6-3e39fab45168",
   "metadata": {
    "scrolled": true,
    "tags": []
   },
   "outputs": [
    {
     "data": {
      "application/vnd.jupyter.widget-view+json": {
       "model_id": "7ab04f5559b2469d9b671a4e7cf4bf69",
       "version_major": 2,
       "version_minor": 0
      },
      "text/plain": [
       "  0%|          | 0/57 [00:00<?, ?it/s]"
      ]
     },
     "metadata": {},
     "output_type": "display_data"
    }
   ],
   "source": [
    "dset_sizes = {}\n",
    "\n",
    "all_predictions = defaultdict(list)\n",
    "all_cpi_predictions = defaultdict(list)\n",
    "all_labels = defaultdict(list)\n",
    "task_aupr_dict = {}\n",
    "cpi_aupr_dict = {}\n",
    "\n",
    "skipped = 0\n",
    "train_only = 0\n",
    "\n",
    "with torch.set_grad_enabled(False):\n",
    "    for curr_task in tqdm(seq_uniq,total=len(seq_uniq)):\n",
    "\n",
    "        target_feat = target_featurizer(curr_task)\n",
    "\n",
    "        curr_target_df = fulldf[fulldf['Target_Seq'] == curr_target]\n",
    "        curr_target_pos = curr_target_df[curr_target_df['Label'] == 1]\n",
    "        known_positive = curr_target_pos['Molecule_SMILES']\n",
    "        negative = pd.Series(list(set(smile_uniq).difference(known_positive)))\n",
    "\n",
    "        curr_target_all = pd.DataFrame({\n",
    "            'Target_Seq': [curr_target]*(len(known_positive)+len(negative)),\n",
    "            'Molecule_SMILES': pd.concat([known_positive,negative]),\n",
    "            'Label': [1]*len(known_positive) + [0]*len(negative)\n",
    "        })\n",
    "\n",
    "        train_df_task, test_df_task = train_test_split(curr_target_all, test_size=0.2, stratify=curr_target_all['Label'])\n",
    "\n",
    "        dset_sizes[curr_task] = (len(train_df_task), len(test_df_task))\n",
    "        if (len(train_df_task) < 1) or (len(test_df_task) < 1):\n",
    "            if curr_task in test_df[drug_column].unique():\n",
    "                skipped += 1\n",
    "            else:\n",
    "                train_only += 1\n",
    "            continue\n",
    "\n",
    "        model = Ridge()\n",
    "\n",
    "        train_X = []\n",
    "        for i, r in train_df_task.iterrows():\n",
    "            train_X.append(drug_featurizer(r[drug_column]).detach().cpu().numpy())\n",
    "        train_X = np.stack(train_X)\n",
    "        train_Y = train_df_task[label_column].values\n",
    "        assert len(train_X) == len(train_Y)\n",
    "\n",
    "        model.fit(train_X, train_Y)\n",
    "\n",
    "        test_X = []\n",
    "        cpi_test_drugX = []\n",
    "        cpi_test_targX = []\n",
    "        for i, r in test_df_task.iterrows():\n",
    "            morgan_feat = drug_featurizer(r[drug_column])\n",
    "            test_X.append(morgan_feat.detach().cpu().numpy())\n",
    "            # cpi_test_drugX.append(morgan_feat.to(device))\n",
    "            # cpi_test_targX.append(target_feat.to(device))\n",
    "        test_X = np.stack(test_X)\n",
    "        test_Y = test_df_task[label_column].values\n",
    "\n",
    "        prd = model.predict(test_X)\n",
    "        # with torch.set_grad_enabled(False):\n",
    "            # prd_cpi = cpi_model(torch.stack(cpi_test_drugX,0), torch.stack(cpi_test_targX,0))\n",
    "\n",
    "        all_labels[curr_task].append(test_Y)\n",
    "        all_predictions[curr_task].append(prd)\n",
    "        # if not prd_cpi.shape:\n",
    "            # prd_cpi = torch.Tensor([prd_cpi.item()]).cpu()\n",
    "        # all_cpi_predictions[curr_task] = prd_cpi\n",
    "\n",
    "        labels = list(flatten(all_labels[curr_task]))\n",
    "        predictions = list(flatten(all_predictions[curr_task]))\n",
    "        # predictions_cpi = all_cpi_predictions[curr_task].cpu()\n",
    "        curr_aupr = average_precision_score(labels, predictions)\n",
    "        # cpi_aupr = average_precision_score(labels, predictions_cpi)\n",
    "        task_aupr_dict[curr_task] = curr_aupr\n",
    "        # cpi_aupr_dict[curr_task] = cpi_aupr"
   ]
  },
  {
   "cell_type": "code",
   "execution_count": 72,
   "id": "b15d78d8-f734-4061-8444-4cc6a5a6097a",
   "metadata": {},
   "outputs": [
    {
     "name": "stdout",
     "output_type": "stream",
     "text": [
      "Average per-task AUPR (Single Task): 0.8137930073706564\n"
     ]
    }
   ],
   "source": [
    "task_auprs = list(task_aupr_dict.values())\n",
    "avg_of_avg = np.nanmean(task_auprs)\n",
    "print(f\"Average per-task AUPR (Single Task): {avg_of_avg}\")\n",
    "\n",
    "# cpi_task_auprs = list(cpi_aupr_dict.values())\n",
    "# cpi_avg_of_avg = np.nanmean(cpi_task_auprs)\n",
    "# print(f\"Average per-task AUPR (CPI): {cpi_avg_of_avg}\")"
   ]
  },
  {
   "cell_type": "code",
   "execution_count": 73,
   "id": "6e3dc4b5-3400-4d24-ba97-746c499732e7",
   "metadata": {},
   "outputs": [
    {
     "name": "stdout",
     "output_type": "stream",
     "text": [
      "Overall AUPR (Single Task): 0.8103770627322873\n"
     ]
    }
   ],
   "source": [
    "labels = list(flatten(list(all_labels.values())))\n",
    "preds = list(flatten(list(all_predictions.values())))\n",
    "overall_aupr = average_precision_score(labels, preds)\n",
    "print(f\"Overall AUPR (Single Task): {overall_aupr}\")\n",
    "\n",
    "# cpi_labels = list(flatten(list(all_labels.values())))\n",
    "# cpi_preds = torch.cat([t.cpu() for t in list(all_cpi_predictions.values())])\n",
    "# cpi_overall_aupr = average_precision_score(cpi_labels, cpi_preds)\n",
    "# print(f\"Overall AUPR (CPI): {cpi_overall_aupr}\")"
   ]
  }
 ],
 "metadata": {
  "kernelspec": {
   "display_name": "Python [conda env:dsplat] *",
   "language": "python",
   "name": "conda-env-dsplat-py"
  },
  "language_info": {
   "codemirror_mode": {
    "name": "ipython",
    "version": 3
   },
   "file_extension": ".py",
   "mimetype": "text/x-python",
   "name": "python",
   "nbconvert_exporter": "python",
   "pygments_lexer": "ipython3",
   "version": "3.7.12"
  }
 },
 "nbformat": 4,
 "nbformat_minor": 5
}
