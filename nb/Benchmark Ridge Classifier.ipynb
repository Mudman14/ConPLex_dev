{
 "cells": [
  {
   "cell_type": "code",
   "execution_count": 1,
   "id": "514e8b3f-af8e-44fd-904a-c64211534560",
   "metadata": {},
   "outputs": [],
   "source": [
    "import os\n",
    "os.chdir(\"/afs/csail.mit.edu/u/s/samsl/Work/Adapting_PLM_DTI\")"
   ]
  },
  {
   "cell_type": "code",
   "execution_count": 2,
   "id": "d8ea7c97-830e-4c77-92b6-64cf8899cd24",
   "metadata": {},
   "outputs": [],
   "source": [
    "import torch\n",
    "import numpy as np\n",
    "import pandas as pd\n",
    "import matplotlib.pyplot as plt\n",
    "import seaborn as sns\n",
    "\n",
    "from sklearn.linear_model import Ridge, RidgeClassifier\n",
    "from sklearn.metrics import average_precision_score\n",
    "from sklearn.model_selection import KFold\n",
    "from collections import defaultdict\n",
    "from collections.abc import Iterable\n",
    "from tqdm.notebook import tqdm"
   ]
  },
  {
   "cell_type": "code",
   "execution_count": 3,
   "id": "0766cf23-5849-46d4-acd4-e242f24ba23a",
   "metadata": {},
   "outputs": [],
   "source": [
    "from src.featurizers import (\n",
    "    ProtBertFeaturizer,\n",
    "    MorganFeaturizer,\n",
    ")\n",
    "from src.data import (\n",
    "    get_task_dir,\n",
    "    DTIDataModule,\n",
    ")\n",
    "from src.utils import (\n",
    "    set_random_seed,\n",
    "    get_logger,\n",
    ")"
   ]
  },
  {
   "cell_type": "code",
   "execution_count": 9,
   "id": "b9588d26-5411-4bfc-9f8f-517afc64f1d9",
   "metadata": {},
   "outputs": [],
   "source": [
    "def flatten(xs):\n",
    "    for x in xs:\n",
    "        if isinstance(x, Iterable) and not isinstance(x, (str, bytes)):\n",
    "            yield from flatten(x)\n",
    "        else:\n",
    "            yield x"
   ]
  },
  {
   "cell_type": "code",
   "execution_count": 4,
   "id": "e46ecf93-b085-4f53-b682-592da641eb22",
   "metadata": {},
   "outputs": [],
   "source": [
    "device = torch.device(\"cuda:0\")\n",
    "seed = 61998\n",
    "set_random_seed(seed)\n",
    "logg = get_logger()"
   ]
  },
  {
   "cell_type": "code",
   "execution_count": 73,
   "id": "44cbbfc6-d5f6-4d3f-9d01-b8ceaf634b5d",
   "metadata": {},
   "outputs": [],
   "source": [
    "dset_list = ['biosnap', 'biosnap_prot', 'bindingdb', 'davis']"
   ]
  },
  {
   "cell_type": "code",
   "execution_count": 95,
   "id": "feb345a1-1f5e-4915-94b1-4029ff69196a",
   "metadata": {},
   "outputs": [],
   "source": [
    "def summarize_replicates(df):\n",
    "    drug_list = [i[0] for i in df.keys()]\n",
    "    rep_list = [i[1] for i in df.keys()]\n",
    "    scores = df.values()\n",
    "    df = pd.DataFrame({'Task':drug_list,'Rep': rep_list, 'AUPR': scores})\n",
    "    return df.groupby('Task').mean()\n",
    "\n",
    "def display_results(meta, tal, tap, tad):\n",
    "    dset, drug_uniq, train_only, skipped, total = meta\n",
    "    \n",
    "    print(f\"Data Set {dset}:\")\n",
    "    print(f\"Total drugs in training set: {len(drug_uniq)}\")\n",
    "    print(f\"Train only tasks: {train_only}\")\n",
    "    print(f\"Number of test tasks skipped: {skipped}\")\n",
    "    print(f\"Pct of test tasks skipped: {(skipped / total):.2%}\")\n",
    "    \n",
    "    task_auprs = list(tad.values())\n",
    "    avg_of_avg = np.nanmean(task_auprs)\n",
    "    print(f\"Average per-task AUPR: {avg_of_avg}\")\n",
    "    \n",
    "    replicates = list(set([i[1] for i in tal.keys()]))\n",
    "    \n",
    "    rep_auprs = []\n",
    "    for r in replicates:\n",
    "        tal_rep = {k:v for (k,v) in tal.items() if k[1] == r}\n",
    "        tap_rep = {k:v for (k,v) in tap.items() if k[1] == r}\n",
    "        labels = list(flatten(list(tal_rep.values())))\n",
    "        preds = list(flatten(list(tap_rep.values())))\n",
    "        rep_auprs.append(average_precision_score(labels, preds))\n",
    "    print(f\"Overall AUPR: {np.mean(rep_auprs)} +- {np.std(rep_auprs)}\")\n",
    "\n",
    "def benchmark_ridge(dset, n_replicates):\n",
    "    \n",
    "    # Set Up Data\n",
    "    task_dir = get_task_dir(dset)\n",
    "    drug_featurizer = MorganFeaturizer(save_dir=task_dir)\n",
    "    target_featurizer = ProtBertFeaturizer(save_dir=task_dir)\n",
    "    \n",
    "    datamodule = DTIDataModule(\n",
    "        task_dir,\n",
    "        drug_featurizer,\n",
    "        target_featurizer,\n",
    "        device=device,\n",
    "    )\n",
    "    datamodule.setup()\n",
    "    \n",
    "    drug_column = datamodule._drug_column\n",
    "    target_column = datamodule._target_column\n",
    "    label_column = datamodule._label_column\n",
    "    \n",
    "    # Load Embeddings\n",
    "    train_df = datamodule.df_train\n",
    "    test_df = datamodule.df_test\n",
    "    full_df = pd.concat([datamodule.df_train, datamodule.df_test])\n",
    "\n",
    "    drug_uniq = full_df[drug_column].unique()\n",
    "    target_uniq = full_df[target_column].unique()\n",
    "    drug_featurizer.preload(drug_uniq)\n",
    "    target_featurizer.preload(target_uniq)\n",
    "    \n",
    "    # Initialize tracking\n",
    "    dset_sizes = {}\n",
    "\n",
    "    all_predictions = defaultdict(list)\n",
    "    all_cpi_predictions = defaultdict(list)\n",
    "    all_labels = defaultdict(list)\n",
    "    task_aupr_dict = {}\n",
    "    skipped = 0\n",
    "    train_only = 0\n",
    "\n",
    "    # For each drug\n",
    "    for curr_task in tqdm(drug_uniq,total=len(drug_uniq)):\n",
    "\n",
    "        # Generate featurizers and train/test subsets\n",
    "        drug_feat = drug_featurizer(curr_task)\n",
    "        \n",
    "        train_df_task = train_df[train_df[drug_column] == curr_task]\n",
    "        test_df_task = test_df[test_df[drug_column] == curr_task]\n",
    "\n",
    "        dset_sizes[curr_task] = (len(train_df_task), len(test_df_task))\n",
    "        if (len(train_df_task) < 1) or (len(test_df_task) < 1):\n",
    "            if curr_task in test_df[drug_column].unique():\n",
    "                skipped += 1\n",
    "            else:\n",
    "                train_only += 1\n",
    "            continue\n",
    "            \n",
    "        train_X = []\n",
    "        for i, r in train_df_task.iterrows():\n",
    "            train_X.append(target_featurizer(r[target_column]))\n",
    "        train_X = torch.stack(train_X, 0).detach().cpu().numpy()\n",
    "        train_Y = train_df_task[label_column].values\n",
    "        assert len(train_X) == len(train_Y)\n",
    "        \n",
    "        test_X = []\n",
    "        for i, r in test_df_task.iterrows():\n",
    "            test_X.append(target_featurizer(r[target_column]))\n",
    "        test_X = torch.stack(test_X, 0).detach().cpu().numpy()\n",
    "        test_Y = test_df_task[label_column].values\n",
    "        assert len(test_X) == len(test_Y)\n",
    "\n",
    "        # For each replicate\n",
    "        for r in range(n_replicates):\n",
    "            \n",
    "            # Fit a model\n",
    "            model = Ridge(random_state=r)\n",
    "            model.fit(train_X, train_Y)\n",
    "            \n",
    "            # Make and store predictions\n",
    "            prd = model.predict(test_X)\n",
    "            curr_aupr = average_precision_score(test_Y, prd)\n",
    "            task_aupr_dict[(curr_task,r)] = curr_aupr \n",
    "\n",
    "            all_labels[(curr_task, r)].append(test_Y)\n",
    "            all_predictions[(curr_task, r)].append(prd)\n",
    "    \n",
    "    total = len(test_df[drug_column].unique())\n",
    "    meta = dset, drug_uniq, train_only, skipped, total\n",
    "        \n",
    "    return meta, all_labels, all_predictions, task_aupr_dict"
   ]
  },
  {
   "cell_type": "code",
   "execution_count": 96,
   "id": "c668fc41-2626-497d-9a04-a343cbe3fab5",
   "metadata": {},
   "outputs": [
    {
     "name": "stderr",
     "output_type": "stream",
     "text": [
      "Morgan:  54%|██████████████████████████████████████████████████████████████████████████▊                                                               | 2443/4510 [00:00<00:00, 3018.59it/s][15:05:27] Unusual charge on atom 0 number of radical electrons set to zero\n",
      "[15:05:27] Unusual charge on atom 42 number of radical electrons set to zero\n",
      "Morgan: 100%|██████████████████████████████████████████████████████████████████████████████████████████████████████████████████████████████████████████| 4510/4510 [00:01<00:00, 2926.38it/s]\n",
      "ProtBert: 100%|████████████████████████████████████████████████████████████████████████████████████████████████████████████████████████████████████████| 2181/2181 [00:00<00:00, 3237.04it/s]\n",
      "Morgan: 100%|██████████████████████████████████████████████████████████████████████████████████████████████████████████████████████████████████████████| 4491/4491 [00:01<00:00, 3943.94it/s]\n",
      "ProtBert: 100%|████████████████████████████████████████████████████████████████████████████████████████████████████████████████████████████████████████| 2181/2181 [00:00<00:00, 3879.48it/s]\n"
     ]
    },
    {
     "data": {
      "application/vnd.jupyter.widget-view+json": {
       "model_id": "19a22fd7fa214c00969a1050db8d3c1f",
       "version_major": 2,
       "version_minor": 0
      },
      "text/plain": [
       "  0%|          | 0/4491 [00:00<?, ?it/s]"
      ]
     },
     "metadata": {},
     "output_type": "display_data"
    },
    {
     "name": "stderr",
     "output_type": "stream",
     "text": [
      "Morgan:  59%|█████████████████████████████████████████████████████████████████████████████████                                                         | 2650/4510 [00:01<00:00, 2983.89it/s][15:06:09] Unusual charge on atom 0 number of radical electrons set to zero\n",
      "[15:06:09] Unusual charge on atom 42 number of radical electrons set to zero\n",
      "Morgan: 100%|██████████████████████████████████████████████████████████████████████████████████████████████████████████████████████████████████████████| 4510/4510 [00:01<00:00, 2848.61it/s]\n",
      "ProtBert: 100%|████████████████████████████████████████████████████████████████████████████████████████████████████████████████████████████████████████| 2181/2181 [00:00<00:00, 3161.74it/s]\n",
      "Morgan: 100%|██████████████████████████████████████████████████████████████████████████████████████████████████████████████████████████████████████████| 4487/4487 [00:01<00:00, 3919.78it/s]\n",
      "ProtBert: 100%|████████████████████████████████████████████████████████████████████████████████████████████████████████████████████████████████████████| 2180/2180 [00:00<00:00, 3620.68it/s]\n"
     ]
    },
    {
     "data": {
      "application/vnd.jupyter.widget-view+json": {
       "model_id": "7c772273d82242799569c38ae2b1620b",
       "version_major": 2,
       "version_minor": 0
      },
      "text/plain": [
       "  0%|          | 0/4487 [00:00<?, ?it/s]"
      ]
     },
     "metadata": {},
     "output_type": "display_data"
    },
    {
     "name": "stderr",
     "output_type": "stream",
     "text": [
      "Morgan: 100%|██████████████████████████████████████████████████████████████████████████████████████████████████████████████████████████████████████████| 7165/7165 [00:02<00:00, 2712.42it/s]\n",
      "ProtBert: 100%|████████████████████████████████████████████████████████████████████████████████████████████████████████████████████████████████████████| 1254/1254 [00:00<00:00, 3096.62it/s]\n",
      "Morgan: 100%|██████████████████████████████████████████████████████████████████████████████████████████████████████████████████████████████████████████| 6186/6186 [00:01<00:00, 3628.49it/s]\n",
      "ProtBert: 100%|████████████████████████████████████████████████████████████████████████████████████████████████████████████████████████████████████████| 1198/1198 [00:00<00:00, 3615.45it/s]\n"
     ]
    },
    {
     "data": {
      "application/vnd.jupyter.widget-view+json": {
       "model_id": "9bf69eb63bfe4055a4add82486ccbc49",
       "version_major": 2,
       "version_minor": 0
      },
      "text/plain": [
       "  0%|          | 0/6186 [00:00<?, ?it/s]"
      ]
     },
     "metadata": {},
     "output_type": "display_data"
    },
    {
     "name": "stderr",
     "output_type": "stream",
     "text": [
      "Morgan: 100%|██████████████████████████████████████████████████████████████████████████████████████████████████████████████████████████████████████████████| 68/68 [00:00<00:00, 2852.70it/s]\n",
      "ProtBert: 100%|██████████████████████████████████████████████████████████████████████████████████████████████████████████████████████████████████████████| 379/379 [00:00<00:00, 2994.83it/s]\n",
      "Morgan: 100%|██████████████████████████████████████████████████████████████████████████████████████████████████████████████████████████████████████████████| 68/68 [00:00<00:00, 3693.22it/s]\n",
      "ProtBert: 100%|██████████████████████████████████████████████████████████████████████████████████████████████████████████████████████████████████████████| 379/379 [00:00<00:00, 3918.81it/s]\n"
     ]
    },
    {
     "data": {
      "application/vnd.jupyter.widget-view+json": {
       "model_id": "9deb3bcba6e843dba12b69fff828c777",
       "version_major": 2,
       "version_minor": 0
      },
      "text/plain": [
       "  0%|          | 0/68 [00:00<?, ?it/s]"
      ]
     },
     "metadata": {},
     "output_type": "display_data"
    }
   ],
   "source": [
    "results = {}\n",
    "\n",
    "for dset in dset_list:\n",
    "    meta, tal, tap, tad = benchmark_ridge(dset,5)\n",
    "    results[dset] = (meta, tal, tap, tad)"
   ]
  },
  {
   "cell_type": "code",
   "execution_count": 97,
   "id": "896f39c0-6bb2-45cd-847e-09e0fc021225",
   "metadata": {},
   "outputs": [
    {
     "name": "stdout",
     "output_type": "stream",
     "text": [
      "Data Set biosnap:\n",
      "Total drugs in training set: 4491\n",
      "Train only tasks: 1529\n",
      "Number of test tasks skipped: 91\n",
      "Pct of test tasks skipped: 3.07%\n",
      "Average per-task AUPR: 0.8567428675403678\n",
      "Overall AUPR: 0.6412202615305818 +- 0.0\n",
      "----------------------\n",
      "Data Set biosnap_prot:\n",
      "Total drugs in training set: 4487\n",
      "Train only tasks: 1556\n",
      "Number of test tasks skipped: 104\n",
      "Pct of test tasks skipped: 3.55%\n",
      "Average per-task AUPR: 0.8445605884426521\n",
      "Overall AUPR: 0.6169060728797731 +- 0.0\n",
      "----------------------\n",
      "Data Set bindingdb:\n",
      "Total drugs in training set: 6186\n",
      "Train only tasks: 2865\n",
      "Number of test tasks skipped: 2372\n",
      "Pct of test tasks skipped: 71.42%\n",
      "Average per-task AUPR: 0.8508353930972035\n",
      "Overall AUPR: 0.5164448652661519 +- 0.0\n",
      "----------------------\n",
      "Data Set davis:\n",
      "Total drugs in training set: 68\n",
      "Train only tasks: 0\n",
      "Number of test tasks skipped: 0\n",
      "Pct of test tasks skipped: 0.00%\n",
      "Average per-task AUPR: 0.4777958906068247\n",
      "Overall AUPR: 0.31959984472067293 +- 0.0\n",
      "----------------------\n"
     ]
    }
   ],
   "source": [
    "for dset in dset_list:\n",
    "    display_results(*results[dset])\n",
    "    print('----------------------')"
   ]
  },
  {
   "cell_type": "code",
   "execution_count": null,
   "id": "7963caf2-7dc3-448a-ad50-3c7b319dc580",
   "metadata": {},
   "outputs": [],
   "source": []
  }
 ],
 "metadata": {
  "kernelspec": {
   "display_name": "Python [conda env:dsplat] *",
   "language": "python",
   "name": "conda-env-dsplat-py"
  },
  "language_info": {
   "codemirror_mode": {
    "name": "ipython",
    "version": 3
   },
   "file_extension": ".py",
   "mimetype": "text/x-python",
   "name": "python",
   "nbconvert_exporter": "python",
   "pygments_lexer": "ipython3",
   "version": "3.7.12"
  }
 },
 "nbformat": 4,
 "nbformat_minor": 5
}
