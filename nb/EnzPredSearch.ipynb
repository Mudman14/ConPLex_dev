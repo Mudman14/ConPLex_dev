{
 "cells": [
  {
   "cell_type": "code",
   "execution_count": null,
   "id": "ae1bd2cd-4fd4-48cc-9093-99ad56baceb8",
   "metadata": {},
   "outputs": [],
   "source": [
    "from omegaconf import OmegaConf\n",
    "from sklearn.model_selection import ParameterGrid"
   ]
  },
  {
   "cell_type": "code",
   "execution_count": null,
   "id": "5ffb9895-6e1c-4424-bbb6-085f7aca7bdd",
   "metadata": {},
   "outputs": [],
   "source": [
    "tasks = [\n",
    "            \"halogenase\",\n",
    "            \"bkace\",\n",
    "            \"gt\",\n",
    "            \"esterase\",\n",
    "            \"kinase\",\n",
    "            \"phosphatase\"\n",
    "        ]\n",
    "model_type = ['SimpleCoembedding']\n",
    "drug_featurizers = ['MorganFeaturizer']\n",
    "target_featurizers = ['ProtBertFeaturizer']\n",
    "fold = list(range(10))"
   ]
  },
  {
   "cell_type": "code",
   "execution_count": null,
   "id": "5f18c4a6-9c4d-4ddf-96d3-fe9922f4a8b9",
   "metadata": {},
   "outputs": [],
   "source": [
    "param_grid = ParameterGrid(\n",
    "    {\n",
    "        \"task\": tasks,\n",
    "        \"drug_featurizer\": drug_featurizers,\n",
    "        \"target_featurizer\": target_featurizers,\n",
    "        \"replicate\": fold,\n",
    "    }\n",
    ")\n",
    "\n",
    "defaults = {\n",
    "    \"contrastive_split\": \"within\",\n",
    "    \"model_architecture\": \"SimpleCoembedding\",\n",
    "    \"latent_dimension\": 1024,\n",
    "    \"latent_distance\": \"Cosine\",\n",
    "    \"batch_size\": 32,\n",
    "    \"shuffle\": True,\n",
    "    \"num_workers\": 0,\n",
    "    \"epochs\": 50,\n",
    "    \"every_n_val\": 1,\n",
    "    \"lr\": 1e-4,\n",
    "    \"clr\": 1e-5,\n",
    "    \"verbosity\": 3,\n",
    "    \"wandb_proj\": \"DTI_Benchmarking\",\n",
    "}\n",
    "\n",
    "N_GPUS = 8\n",
    "config_files = {}\n",
    "\n",
    "param_sets = list(param_grid)\n",
    "param_sets.sort(key=lambda x: x[\"task\"], reverse=True)\n",
    "\n",
    "for i, param in enumerate(param_sets):\n",
    "    param_name = \"_\".join([f\"{k}:{v}\" for k, v in param.items()])\n",
    "    oc = OmegaConf.structured(param)\n",
    "    oc.device = 0\n",
    "    oc.update(defaults)\n",
    "    oc.model_save_dir = f\"./best_models/enzpred_contrastive/{param_name}\"\n",
    "    oc.log_file = f\"{oc.model_save_dir}/log.txt\"\n",
    "\n",
    "    filename = f\"./configs/enzpred_contrastive/config_{param_name}.yaml\"\n",
    "    config_files[param_name] = filename\n",
    "    OmegaConf.save(config=oc, f=f\"../{filename}\")\n",
    "\n",
    "base_cmd = \"python train_DTI.py --config {} --exp-id {} --wandb-proj EnzPred --contrastive\"\n",
    "list_file = \"../configs/enzpred_contrastive/benchmark_sweep_list.txt\"\n",
    "with open(list_file, \"w+\") as f:\n",
    "    for fi, key in config_files.items():\n",
    "        cmd = base_cmd.format(key, fi)\n",
    "        f.write(f\"{cmd}\\n\")\n",
    "\n",
    "bash_file = \"../configs/enzpred_contrastive/benchmark_sweep_run.sh\"\n",
    "with open(bash_file, \"w+\") as f:\n",
    "    f.write(\n",
    "        f\"simple_gpu_scheduler --gpus {' '.join([str(i) for i in range(N_GPUS)])} < {list_file}\"\n",
    "    )\n"
   ]
  },
  {
   "cell_type": "markdown",
   "id": "b6b4d7db-410c-421a-877f-78f1d5e167c7",
   "metadata": {},
   "source": [
    "# Mimic Splits and Eval"
   ]
  },
  {
   "cell_type": "code",
   "execution_count": 24,
   "id": "8665ed2c-7d82-46c9-81f8-ee94b78b6ad5",
   "metadata": {},
   "outputs": [],
   "source": [
    "import os\n",
    "os.chdir(\"/afs/csail.mit.edu/u/s/samsl/Work/Adapting_PLM_DTI\")"
   ]
  },
  {
   "cell_type": "code",
   "execution_count": 25,
   "id": "48f1656b-76b7-422a-8dfa-06d769b28dd5",
   "metadata": {},
   "outputs": [],
   "source": [
    "from src.architectures import SimpleCoembedding\n",
    "from src.featurizers import ProtBertFeaturizer, MorganFeaturizer\n",
    "from src.utils import config_logger"
   ]
  },
  {
   "cell_type": "code",
   "execution_count": 26,
   "id": "84dbee50-be6f-4ea0-a859-30367f640d57",
   "metadata": {},
   "outputs": [],
   "source": [
    "logg = config_logger(\n",
    "        None,\n",
    "        \"%(asctime)s [%(levelname)s] %(message)s\",\n",
    "        0,\n",
    "        use_stdout=True,\n",
    "    )"
   ]
  },
  {
   "cell_type": "code",
   "execution_count": 27,
   "id": "91d36c47-84d4-4067-82ec-d59495eedf23",
   "metadata": {},
   "outputs": [],
   "source": [
    "import torch\n",
    "import torch.nn as nn\n",
    "from torch.utils.data import DataLoader\n",
    "from torch.autograd import Variable\n",
    "\n",
    "import numpy as np\n",
    "import pandas as pd\n",
    "import pickle as pk\n",
    "from tqdm.notebook import tqdm\n",
    "\n",
    "from sklearn.model_selection import KFold\n",
    "from sklearn.metrics import average_precision_score\n",
    "\n",
    "from dataclasses import dataclass\n",
    "from src.data import BinaryDataset, drug_target_collate_fn"
   ]
  },
  {
   "cell_type": "code",
   "execution_count": 28,
   "id": "dd0bafdd-45e0-4c64-bf3c-c974187d4fdb",
   "metadata": {},
   "outputs": [],
   "source": [
    "TASK_PATH = {        \n",
    "    \"halogenase\": \"./dataset/EnzPred/halogenase_NaCl_binary.csv\",\n",
    "    \"gt\": \"./dataset/EnzPred/gt_acceptors_achiral_binary.csv\",\n",
    "    \"bkace\": \"./dataset/EnzPred/duf_binary.csv\",\n",
    "    \"esterase\": \"./dataset/EnzPred/esterase_binary.csv\",\n",
    "    \"phosphatase\": \"./dataset/EnzPred/phosphatase_chiral_binary.csv\",\n",
    "    \"kinase\": \"./dataset/EnzPred/davis_filtered.csv\",\n",
    "}"
   ]
  },
  {
   "cell_type": "code",
   "execution_count": 29,
   "id": "63b13ecf-4bec-444d-bc85-e1e20a9e28a9",
   "metadata": {},
   "outputs": [],
   "source": [
    "N_SPLITS = {        \n",
    "    \"halogenase\": \"N\",\n",
    "    \"gt\": \"N\",\n",
    "    \"bkace\": 10,\n",
    "    \"esterase\": 10,\n",
    "    \"phosphatase\": 10,\n",
    "    \"kinase\": 10,\n",
    "}"
   ]
  },
  {
   "cell_type": "code",
   "execution_count": 30,
   "id": "ff45773b-0392-4fcd-8fab-110c8fe13be7",
   "metadata": {},
   "outputs": [],
   "source": [
    "@dataclass\n",
    "class Config:\n",
    "    drug_shape: int = 2048\n",
    "    target_shape: int = 1024\n",
    "    latent_shape: int = 1024\n",
    "    lr: float = 1e-4\n",
    "    epochs: int = 25\n",
    "    batch_size: int = 32\n",
    "    shuffle: bool = True\n",
    "    num_workers: int = 0\n",
    "    \n",
    "conf = Config()"
   ]
  },
  {
   "cell_type": "code",
   "execution_count": 31,
   "id": "5eba9572-5702-42fc-b30d-d4e40b776b83",
   "metadata": {},
   "outputs": [],
   "source": [
    "def create_model(conf):\n",
    "    model = SimpleCoembedding(\n",
    "        conf.drug_shape,\n",
    "        conf.target_shape,\n",
    "        latent_dimension=conf.latent_shape,\n",
    "        latent_distance=\"Cosine\",\n",
    "        classify=True,\n",
    "    ).to(conf.device)\n",
    "    return model"
   ]
  },
  {
   "cell_type": "code",
   "execution_count": 32,
   "id": "2b8a5589-b954-4f42-a3c1-6a4ff7997b04",
   "metadata": {},
   "outputs": [],
   "source": [
    "def create_data(dataframe, conf, drug_feat, target_feat):\n",
    "\n",
    "    bdataset = BinaryDataset(\n",
    "        dataframe[conf.drug_col],\n",
    "        dataframe[conf.target_col],\n",
    "        dataframe[conf.label_col],\n",
    "        drug_feat,\n",
    "        target_feat,\n",
    "    )\n",
    "    bdataloader = DataLoader(\n",
    "        bdataset,\n",
    "        batch_size = conf.batch_size,\n",
    "        shuffle = conf.shuffle,\n",
    "        num_workers = conf.num_workers,\n",
    "        collate_fn = drug_target_collate_fn,\n",
    "    )\n",
    "    return bdataloader"
   ]
  },
  {
   "cell_type": "code",
   "execution_count": 33,
   "id": "5e668781-a815-40d3-b0f7-70df6c976813",
   "metadata": {},
   "outputs": [],
   "source": [
    "def step(model, batch, device=None):\n",
    "\n",
    "    if device is None:\n",
    "        device = torch.device(\"cpu\")\n",
    "\n",
    "    drug, target, label = batch\n",
    "\n",
    "    pred = model(drug.to(device), target.to(device))\n",
    "    label = Variable(torch.from_numpy(np.array(label)).float()).to(device)\n",
    "    return pred, label\n",
    "\n",
    "def train_model(model, dataloader, conf):\n",
    "    \n",
    "    opt = torch.optim.Adam(model.parameters(), lr=conf.lr)\n",
    "    loss_fct = torch.nn.BCELoss()\n",
    "    model.train()\n",
    "    \n",
    "    for epo in tqdm(range(conf.epochs), leave=False, desc=\"Train\"):\n",
    "        \n",
    "        # for i, batch in tqdm(enumerate(dataloader), leave=False, desc=\"Epoch\", total=len(dataloader)):\n",
    "        for i, batch in enumerate(dataloader):\n",
    "\n",
    "            pred, label = step(model, batch, conf.device)\n",
    "            loss = loss_fct(pred, label)\n",
    "\n",
    "            opt.zero_grad()\n",
    "            loss.backward()\n",
    "            opt.step()\n",
    "            \n",
    "    return model"
   ]
  },
  {
   "cell_type": "code",
   "execution_count": 34,
   "id": "3cea8fb7-89bb-418e-a0ce-a4d287a52975",
   "metadata": {},
   "outputs": [],
   "source": [
    "def eval_model(model, dataloader, conf):\n",
    "    model.eval()\n",
    "    \n",
    "    preds = []\n",
    "    labels = []\n",
    "    \n",
    "    with torch.set_grad_enabled(False):\n",
    "        for i, batch in enumerate(dataloader):\n",
    "        \n",
    "            pred, label = step(model, batch, conf.device)\n",
    "            preds.append(pred)\n",
    "            labels.append(label)\n",
    "    \n",
    "    preds = torch.cat(preds).detach().cpu().numpy()\n",
    "    labels = torch.cat(labels).detach().cpu().numpy()\n",
    "    aupr = average_precision_score(labels, preds)\n",
    "    \n",
    "    return aupr"
   ]
  },
  {
   "cell_type": "code",
   "execution_count": 64,
   "id": "1e7f400f-4b16-405f-9fa8-9af1a44049ea",
   "metadata": {},
   "outputs": [],
   "source": [
    "from pprint import PrettyPrinter"
   ]
  },
  {
   "cell_type": "code",
   "execution_count": 65,
   "id": "28c257de-bf4f-4d93-bd3e-23a40782ac08",
   "metadata": {},
   "outputs": [],
   "source": [
    "pp = PrettyPrinter()"
   ]
  },
  {
   "cell_type": "code",
   "execution_count": 70,
   "id": "b3dba875-f5a6-47e2-85fa-fb8bff770904",
   "metadata": {},
   "outputs": [],
   "source": [
    "x = pp.pformat(vars(conf))"
   ]
  },
  {
   "cell_type": "code",
   "execution_count": 74,
   "id": "2c55b197-b60a-464d-8950-6c30dc147674",
   "metadata": {},
   "outputs": [],
   "source": [
    "from pathlib import Path"
   ]
  },
  {
   "cell_type": "code",
   "execution_count": 35,
   "id": "e8ff91ba-13f6-4b1d-a44b-b08e497fd4e1",
   "metadata": {},
   "outputs": [],
   "source": [
    "conf.enzyme_type = \"halogenase\"\n",
    "conf.device = torch.device(\"cuda:0\")"
   ]
  },
  {
   "cell_type": "code",
   "execution_count": 48,
   "id": "2a311c5b-512a-4c34-9ddd-15e7a979f1ab",
   "metadata": {},
   "outputs": [
    {
     "name": "stdout",
     "output_type": "stream",
     "text": [
      "0 42 42\n",
      "2 40 42\n",
      "0 42 42\n",
      "0 42 42\n",
      "3 39 42\n",
      "0 42 42\n",
      "0 42 42\n",
      "0 42 42\n",
      "0 42 42\n",
      "0 42 42\n",
      "0 42 42\n",
      "0 42 42\n",
      "1 41 42\n",
      "0 42 42\n",
      "0 42 42\n",
      "0 42 42\n",
      "0 42 42\n",
      "0 42 42\n",
      "0 42 42\n",
      "0 42 42\n",
      "0 42 42\n",
      "2 40 42\n",
      "0 42 42\n",
      "6 36 42\n",
      "1 41 42\n",
      "5 37 42\n",
      "11 31 42\n",
      "4 38 42\n",
      "2 40 42\n",
      "1 41 42\n",
      "0 42 42\n",
      "3 39 42\n",
      "3 39 42\n",
      "1 41 42\n",
      "1 41 42\n",
      "1 41 42\n",
      "0 42 42\n",
      "0 42 42\n",
      "1 41 42\n",
      "0 42 42\n",
      "0 42 42\n",
      "0 42 42\n",
      "2 40 42\n",
      "0 42 42\n",
      "0 42 42\n",
      "0 42 42\n",
      "0 42 42\n",
      "4 38 42\n",
      "0 42 42\n",
      "1 41 42\n",
      "1 41 42\n",
      "3 39 42\n",
      "0 42 42\n",
      "0 42 42\n",
      "4 38 42\n",
      "0 42 42\n",
      "0 42 42\n",
      "0 42 42\n",
      "0 42 42\n",
      "0 42 42\n",
      "0 42 42\n",
      "0 42 42\n"
     ]
    }
   ],
   "source": [
    "for sub in full_df[conf.drug_col].unique():\n",
    "    task_df = full_df[full_df[conf.drug_col] == sub]\n",
    "    print(task_df[conf.label_col].sum(), len(task_df) - task_df[conf.label_col].sum(), len(task_df))"
   ]
  },
  {
   "cell_type": "code",
   "execution_count": 46,
   "id": "9436deb9-9aa6-43c8-a60e-12cd364acbaa",
   "metadata": {},
   "outputs": [
    {
     "data": {
      "text/plain": [
       "0       0\n",
       "1       0\n",
       "2       0\n",
       "3       0\n",
       "4       0\n",
       "       ..\n",
       "2599    0\n",
       "2600    0\n",
       "2601    0\n",
       "2602    0\n",
       "2603    0\n",
       "Name: Conversion_NaCl, Length: 2604, dtype: int64"
      ]
     },
     "execution_count": 46,
     "metadata": {},
     "output_type": "execute_result"
    }
   ],
   "source": [
    "full_df[conf.label_col]"
   ]
  },
  {
   "cell_type": "code",
   "execution_count": 36,
   "id": "9d101c37-f5bd-4ce7-a545-4b935dd76ac1",
   "metadata": {},
   "outputs": [],
   "source": [
    "data_file = TASK_PATH[conf.enzyme_type]\n",
    "full_df = pd.read_csv(data_file,index_col=0)\n",
    "conf.target_col = full_df.columns[0]\n",
    "conf.drug_col = full_df.columns[1]\n",
    "conf.label_col = full_df.columns[2]\n",
    "\n",
    "substrates = full_df[conf.drug_col].unique()\n",
    "enzymes = full_df[conf.target_col].unique()\n",
    "\n",
    "n_splits = len(enzymes) if N_SPLITS[conf.enzyme_type] == \"N\" else N_SPLITS[conf.enzyme_type]\n",
    "kfsplitter = KFold(n_splits)\n",
    "\n",
    "# drug_feat = MorganFeaturizer().to(conf.device)\n",
    "# drug_feat.preload(substrates)\n",
    "\n",
    "# target_feat = ProtBertFeaturizer().to(conf.device)\n",
    "# target_feat.preload(enzymes)"
   ]
  },
  {
   "cell_type": "code",
   "execution_count": 51,
   "id": "4658f691-0e2b-46a0-9e27-073fad5ea7b5",
   "metadata": {
    "scrolled": true,
    "tags": []
   },
   "outputs": [
    {
     "data": {
      "application/vnd.jupyter.widget-view+json": {
       "model_id": "531ef8b2f40a461eb7ac67c40b6bc588",
       "version_major": 2,
       "version_minor": 0
      },
      "text/plain": [
       "Task:   0%|          | 0/96 [00:00<?, ?it/s]"
      ]
     },
     "metadata": {},
     "output_type": "display_data"
    },
    {
     "data": {
      "application/vnd.jupyter.widget-view+json": {
       "model_id": "",
       "version_major": 2,
       "version_minor": 0
      },
      "text/plain": [
       "Split:   0%|          | 0/10 [00:00<?, ?it/s]"
      ]
     },
     "metadata": {},
     "output_type": "display_data"
    },
    {
     "data": {
      "application/vnd.jupyter.widget-view+json": {
       "model_id": "",
       "version_major": 2,
       "version_minor": 0
      },
      "text/plain": [
       "Train:   0%|          | 0/25 [00:00<?, ?it/s]"
      ]
     },
     "metadata": {},
     "output_type": "display_data"
    },
    {
     "data": {
      "application/vnd.jupyter.widget-view+json": {
       "model_id": "",
       "version_major": 2,
       "version_minor": 0
      },
      "text/plain": [
       "Train:   0%|          | 0/25 [00:00<?, ?it/s]"
      ]
     },
     "metadata": {},
     "output_type": "display_data"
    },
    {
     "data": {
      "application/vnd.jupyter.widget-view+json": {
       "model_id": "",
       "version_major": 2,
       "version_minor": 0
      },
      "text/plain": [
       "Train:   0%|          | 0/25 [00:00<?, ?it/s]"
      ]
     },
     "metadata": {},
     "output_type": "display_data"
    },
    {
     "data": {
      "application/vnd.jupyter.widget-view+json": {
       "model_id": "",
       "version_major": 2,
       "version_minor": 0
      },
      "text/plain": [
       "Train:   0%|          | 0/25 [00:00<?, ?it/s]"
      ]
     },
     "metadata": {},
     "output_type": "display_data"
    },
    {
     "data": {
      "application/vnd.jupyter.widget-view+json": {
       "model_id": "",
       "version_major": 2,
       "version_minor": 0
      },
      "text/plain": [
       "Train:   0%|          | 0/25 [00:00<?, ?it/s]"
      ]
     },
     "metadata": {},
     "output_type": "display_data"
    },
    {
     "data": {
      "application/vnd.jupyter.widget-view+json": {
       "model_id": "",
       "version_major": 2,
       "version_minor": 0
      },
      "text/plain": [
       "Train:   0%|          | 0/25 [00:00<?, ?it/s]"
      ]
     },
     "metadata": {},
     "output_type": "display_data"
    },
    {
     "data": {
      "application/vnd.jupyter.widget-view+json": {
       "model_id": "",
       "version_major": 2,
       "version_minor": 0
      },
      "text/plain": [
       "Train:   0%|          | 0/25 [00:00<?, ?it/s]"
      ]
     },
     "metadata": {},
     "output_type": "display_data"
    },
    {
     "data": {
      "application/vnd.jupyter.widget-view+json": {
       "model_id": "",
       "version_major": 2,
       "version_minor": 0
      },
      "text/plain": [
       "Train:   0%|          | 0/25 [00:00<?, ?it/s]"
      ]
     },
     "metadata": {},
     "output_type": "display_data"
    },
    {
     "data": {
      "application/vnd.jupyter.widget-view+json": {
       "model_id": "",
       "version_major": 2,
       "version_minor": 0
      },
      "text/plain": [
       "Train:   0%|          | 0/25 [00:00<?, ?it/s]"
      ]
     },
     "metadata": {},
     "output_type": "display_data"
    },
    {
     "data": {
      "application/vnd.jupyter.widget-view+json": {
       "model_id": "",
       "version_major": 2,
       "version_minor": 0
      },
      "text/plain": [
       "Train:   0%|          | 0/25 [00:00<?, ?it/s]"
      ]
     },
     "metadata": {},
     "output_type": "display_data"
    },
    {
     "data": {
      "application/vnd.jupyter.widget-view+json": {
       "model_id": "aa0053e5369a461db15589f735c7478a",
       "version_major": 2,
       "version_minor": 0
      },
      "text/plain": [
       "Split:   0%|          | 0/10 [00:00<?, ?it/s]"
      ]
     },
     "metadata": {},
     "output_type": "display_data"
    },
    {
     "data": {
      "application/vnd.jupyter.widget-view+json": {
       "model_id": "1e4f4a492c384932ab4512bb247a9193",
       "version_major": 2,
       "version_minor": 0
      },
      "text/plain": [
       "Train:   0%|          | 0/25 [00:00<?, ?it/s]"
      ]
     },
     "metadata": {},
     "output_type": "display_data"
    },
    {
     "ename": "KeyboardInterrupt",
     "evalue": "",
     "output_type": "error",
     "traceback": [
      "\u001b[0;31m---------------------------------------------------------------------------\u001b[0m",
      "\u001b[0;31mKeyboardInterrupt\u001b[0m                         Traceback (most recent call last)",
      "\u001b[0;32m/tmp/ipykernel_595171/386939402.py\u001b[0m in \u001b[0;36m<module>\u001b[0;34m\u001b[0m\n\u001b[1;32m     15\u001b[0m \u001b[0;34m\u001b[0m\u001b[0m\n\u001b[1;32m     16\u001b[0m         \u001b[0mmodel\u001b[0m \u001b[0;34m=\u001b[0m \u001b[0mcreate_model\u001b[0m\u001b[0;34m(\u001b[0m\u001b[0mconf\u001b[0m\u001b[0;34m)\u001b[0m\u001b[0;34m\u001b[0m\u001b[0;34m\u001b[0m\u001b[0m\n\u001b[0;32m---> 17\u001b[0;31m         \u001b[0mmodel\u001b[0m \u001b[0;34m=\u001b[0m \u001b[0mtrain_model\u001b[0m\u001b[0;34m(\u001b[0m\u001b[0mmodel\u001b[0m\u001b[0;34m,\u001b[0m \u001b[0mtrain_dataloader\u001b[0m\u001b[0;34m,\u001b[0m \u001b[0mconf\u001b[0m\u001b[0;34m)\u001b[0m\u001b[0;34m\u001b[0m\u001b[0;34m\u001b[0m\u001b[0m\n\u001b[0m\u001b[1;32m     18\u001b[0m \u001b[0;34m\u001b[0m\u001b[0m\n\u001b[1;32m     19\u001b[0m         \u001b[0maupr\u001b[0m \u001b[0;34m=\u001b[0m \u001b[0meval_model\u001b[0m\u001b[0;34m(\u001b[0m\u001b[0mmodel\u001b[0m\u001b[0;34m,\u001b[0m \u001b[0mtest_dataloader\u001b[0m\u001b[0;34m,\u001b[0m \u001b[0mconf\u001b[0m\u001b[0;34m)\u001b[0m\u001b[0;34m\u001b[0m\u001b[0;34m\u001b[0m\u001b[0m\n",
      "\u001b[0;32m/tmp/ipykernel_595171/1633207417.py\u001b[0m in \u001b[0;36mtrain_model\u001b[0;34m(model, dataloader, conf)\u001b[0m\n\u001b[1;32m     21\u001b[0m         \u001b[0;32mfor\u001b[0m \u001b[0mi\u001b[0m\u001b[0;34m,\u001b[0m \u001b[0mbatch\u001b[0m \u001b[0;32min\u001b[0m \u001b[0menumerate\u001b[0m\u001b[0;34m(\u001b[0m\u001b[0mdataloader\u001b[0m\u001b[0;34m)\u001b[0m\u001b[0;34m:\u001b[0m\u001b[0;34m\u001b[0m\u001b[0;34m\u001b[0m\u001b[0m\n\u001b[1;32m     22\u001b[0m \u001b[0;34m\u001b[0m\u001b[0m\n\u001b[0;32m---> 23\u001b[0;31m             \u001b[0mpred\u001b[0m\u001b[0;34m,\u001b[0m \u001b[0mlabel\u001b[0m \u001b[0;34m=\u001b[0m \u001b[0mstep\u001b[0m\u001b[0;34m(\u001b[0m\u001b[0mmodel\u001b[0m\u001b[0;34m,\u001b[0m \u001b[0mbatch\u001b[0m\u001b[0;34m,\u001b[0m \u001b[0mconf\u001b[0m\u001b[0;34m.\u001b[0m\u001b[0mdevice\u001b[0m\u001b[0;34m)\u001b[0m\u001b[0;34m\u001b[0m\u001b[0;34m\u001b[0m\u001b[0m\n\u001b[0m\u001b[1;32m     24\u001b[0m             \u001b[0mloss\u001b[0m \u001b[0;34m=\u001b[0m \u001b[0mloss_fct\u001b[0m\u001b[0;34m(\u001b[0m\u001b[0mpred\u001b[0m\u001b[0;34m,\u001b[0m \u001b[0mlabel\u001b[0m\u001b[0;34m)\u001b[0m\u001b[0;34m\u001b[0m\u001b[0;34m\u001b[0m\u001b[0m\n\u001b[1;32m     25\u001b[0m \u001b[0;34m\u001b[0m\u001b[0m\n",
      "\u001b[0;32m/tmp/ipykernel_595171/1633207417.py\u001b[0m in \u001b[0;36mstep\u001b[0;34m(model, batch, device)\u001b[0m\n\u001b[1;32m      6\u001b[0m     \u001b[0mdrug\u001b[0m\u001b[0;34m,\u001b[0m \u001b[0mtarget\u001b[0m\u001b[0;34m,\u001b[0m \u001b[0mlabel\u001b[0m \u001b[0;34m=\u001b[0m \u001b[0mbatch\u001b[0m\u001b[0;34m\u001b[0m\u001b[0;34m\u001b[0m\u001b[0m\n\u001b[1;32m      7\u001b[0m \u001b[0;34m\u001b[0m\u001b[0m\n\u001b[0;32m----> 8\u001b[0;31m     \u001b[0mpred\u001b[0m \u001b[0;34m=\u001b[0m \u001b[0mmodel\u001b[0m\u001b[0;34m(\u001b[0m\u001b[0mdrug\u001b[0m\u001b[0;34m.\u001b[0m\u001b[0mto\u001b[0m\u001b[0;34m(\u001b[0m\u001b[0mdevice\u001b[0m\u001b[0;34m)\u001b[0m\u001b[0;34m,\u001b[0m \u001b[0mtarget\u001b[0m\u001b[0;34m.\u001b[0m\u001b[0mto\u001b[0m\u001b[0;34m(\u001b[0m\u001b[0mdevice\u001b[0m\u001b[0;34m)\u001b[0m\u001b[0;34m)\u001b[0m\u001b[0;34m\u001b[0m\u001b[0;34m\u001b[0m\u001b[0m\n\u001b[0m\u001b[1;32m      9\u001b[0m     \u001b[0mlabel\u001b[0m \u001b[0;34m=\u001b[0m \u001b[0mVariable\u001b[0m\u001b[0;34m(\u001b[0m\u001b[0mtorch\u001b[0m\u001b[0;34m.\u001b[0m\u001b[0mfrom_numpy\u001b[0m\u001b[0;34m(\u001b[0m\u001b[0mnp\u001b[0m\u001b[0;34m.\u001b[0m\u001b[0marray\u001b[0m\u001b[0;34m(\u001b[0m\u001b[0mlabel\u001b[0m\u001b[0;34m)\u001b[0m\u001b[0;34m)\u001b[0m\u001b[0;34m.\u001b[0m\u001b[0mfloat\u001b[0m\u001b[0;34m(\u001b[0m\u001b[0;34m)\u001b[0m\u001b[0;34m)\u001b[0m\u001b[0;34m.\u001b[0m\u001b[0mto\u001b[0m\u001b[0;34m(\u001b[0m\u001b[0mdevice\u001b[0m\u001b[0;34m)\u001b[0m\u001b[0;34m\u001b[0m\u001b[0;34m\u001b[0m\u001b[0m\n\u001b[1;32m     10\u001b[0m     \u001b[0;32mreturn\u001b[0m \u001b[0mpred\u001b[0m\u001b[0;34m,\u001b[0m \u001b[0mlabel\u001b[0m\u001b[0;34m\u001b[0m\u001b[0;34m\u001b[0m\u001b[0m\n",
      "\u001b[0;32m~/Work/anaconda3/envs/dsplat/lib/python3.7/site-packages/torch/nn/modules/module.py\u001b[0m in \u001b[0;36m_call_impl\u001b[0;34m(self, *input, **kwargs)\u001b[0m\n\u001b[1;32m   1108\u001b[0m         if not (self._backward_hooks or self._forward_hooks or self._forward_pre_hooks or _global_backward_hooks\n\u001b[1;32m   1109\u001b[0m                 or _global_forward_hooks or _global_forward_pre_hooks):\n\u001b[0;32m-> 1110\u001b[0;31m             \u001b[0;32mreturn\u001b[0m \u001b[0mforward_call\u001b[0m\u001b[0;34m(\u001b[0m\u001b[0;34m*\u001b[0m\u001b[0minput\u001b[0m\u001b[0;34m,\u001b[0m \u001b[0;34m**\u001b[0m\u001b[0mkwargs\u001b[0m\u001b[0;34m)\u001b[0m\u001b[0;34m\u001b[0m\u001b[0;34m\u001b[0m\u001b[0m\n\u001b[0m\u001b[1;32m   1111\u001b[0m         \u001b[0;31m# Do not call functions when jit is used\u001b[0m\u001b[0;34m\u001b[0m\u001b[0;34m\u001b[0m\u001b[0;34m\u001b[0m\u001b[0m\n\u001b[1;32m   1112\u001b[0m         \u001b[0mfull_backward_hooks\u001b[0m\u001b[0;34m,\u001b[0m \u001b[0mnon_full_backward_hooks\u001b[0m \u001b[0;34m=\u001b[0m \u001b[0;34m[\u001b[0m\u001b[0;34m]\u001b[0m\u001b[0;34m,\u001b[0m \u001b[0;34m[\u001b[0m\u001b[0;34m]\u001b[0m\u001b[0;34m\u001b[0m\u001b[0;34m\u001b[0m\u001b[0m\n",
      "\u001b[0;32m/data/cb/samsl/Adapting_PLM_DTI/src/architectures.py\u001b[0m in \u001b[0;36mforward\u001b[0;34m(self, drug, target)\u001b[0m\n\u001b[1;32m    116\u001b[0m     \u001b[0;32mdef\u001b[0m \u001b[0mforward\u001b[0m\u001b[0;34m(\u001b[0m\u001b[0mself\u001b[0m\u001b[0;34m,\u001b[0m \u001b[0mdrug\u001b[0m\u001b[0;34m,\u001b[0m \u001b[0mtarget\u001b[0m\u001b[0;34m)\u001b[0m\u001b[0;34m:\u001b[0m\u001b[0;34m\u001b[0m\u001b[0;34m\u001b[0m\u001b[0m\n\u001b[1;32m    117\u001b[0m         \u001b[0;32mif\u001b[0m \u001b[0mself\u001b[0m\u001b[0;34m.\u001b[0m\u001b[0mdo_classify\u001b[0m\u001b[0;34m:\u001b[0m\u001b[0;34m\u001b[0m\u001b[0;34m\u001b[0m\u001b[0m\n\u001b[0;32m--> 118\u001b[0;31m             \u001b[0;32mreturn\u001b[0m \u001b[0mself\u001b[0m\u001b[0;34m.\u001b[0m\u001b[0mclassify\u001b[0m\u001b[0;34m(\u001b[0m\u001b[0mdrug\u001b[0m\u001b[0;34m,\u001b[0m \u001b[0mtarget\u001b[0m\u001b[0;34m)\u001b[0m\u001b[0;34m\u001b[0m\u001b[0;34m\u001b[0m\u001b[0m\n\u001b[0m\u001b[1;32m    119\u001b[0m         \u001b[0;32melse\u001b[0m\u001b[0;34m:\u001b[0m\u001b[0;34m\u001b[0m\u001b[0;34m\u001b[0m\u001b[0m\n\u001b[1;32m    120\u001b[0m             \u001b[0;32mreturn\u001b[0m \u001b[0mself\u001b[0m\u001b[0;34m.\u001b[0m\u001b[0mregress\u001b[0m\u001b[0;34m(\u001b[0m\u001b[0mdrug\u001b[0m\u001b[0;34m,\u001b[0m \u001b[0mtarget\u001b[0m\u001b[0;34m)\u001b[0m\u001b[0;34m\u001b[0m\u001b[0;34m\u001b[0m\u001b[0m\n",
      "\u001b[0;32m/data/cb/samsl/Adapting_PLM_DTI/src/architectures.py\u001b[0m in \u001b[0;36mclassify\u001b[0;34m(self, drug, target)\u001b[0m\n\u001b[1;32m    131\u001b[0m \u001b[0;34m\u001b[0m\u001b[0m\n\u001b[1;32m    132\u001b[0m     \u001b[0;32mdef\u001b[0m \u001b[0mclassify\u001b[0m\u001b[0;34m(\u001b[0m\u001b[0mself\u001b[0m\u001b[0;34m,\u001b[0m \u001b[0mdrug\u001b[0m\u001b[0;34m,\u001b[0m \u001b[0mtarget\u001b[0m\u001b[0;34m)\u001b[0m\u001b[0;34m:\u001b[0m\u001b[0;34m\u001b[0m\u001b[0;34m\u001b[0m\u001b[0m\n\u001b[0;32m--> 133\u001b[0;31m         \u001b[0mdrug_projection\u001b[0m \u001b[0;34m=\u001b[0m \u001b[0mself\u001b[0m\u001b[0;34m.\u001b[0m\u001b[0mdrug_projector\u001b[0m\u001b[0;34m(\u001b[0m\u001b[0mdrug\u001b[0m\u001b[0;34m)\u001b[0m\u001b[0;34m\u001b[0m\u001b[0;34m\u001b[0m\u001b[0m\n\u001b[0m\u001b[1;32m    134\u001b[0m         \u001b[0mtarget_projection\u001b[0m \u001b[0;34m=\u001b[0m \u001b[0mself\u001b[0m\u001b[0;34m.\u001b[0m\u001b[0mtarget_projector\u001b[0m\u001b[0;34m(\u001b[0m\u001b[0mtarget\u001b[0m\u001b[0;34m)\u001b[0m\u001b[0;34m\u001b[0m\u001b[0;34m\u001b[0m\u001b[0m\n\u001b[1;32m    135\u001b[0m \u001b[0;34m\u001b[0m\u001b[0m\n",
      "\u001b[0;32m~/Work/anaconda3/envs/dsplat/lib/python3.7/site-packages/torch/nn/modules/module.py\u001b[0m in \u001b[0;36m_call_impl\u001b[0;34m(self, *input, **kwargs)\u001b[0m\n\u001b[1;32m   1108\u001b[0m         if not (self._backward_hooks or self._forward_hooks or self._forward_pre_hooks or _global_backward_hooks\n\u001b[1;32m   1109\u001b[0m                 or _global_forward_hooks or _global_forward_pre_hooks):\n\u001b[0;32m-> 1110\u001b[0;31m             \u001b[0;32mreturn\u001b[0m \u001b[0mforward_call\u001b[0m\u001b[0;34m(\u001b[0m\u001b[0;34m*\u001b[0m\u001b[0minput\u001b[0m\u001b[0;34m,\u001b[0m \u001b[0;34m**\u001b[0m\u001b[0mkwargs\u001b[0m\u001b[0;34m)\u001b[0m\u001b[0;34m\u001b[0m\u001b[0;34m\u001b[0m\u001b[0m\n\u001b[0m\u001b[1;32m   1111\u001b[0m         \u001b[0;31m# Do not call functions when jit is used\u001b[0m\u001b[0;34m\u001b[0m\u001b[0;34m\u001b[0m\u001b[0;34m\u001b[0m\u001b[0m\n\u001b[1;32m   1112\u001b[0m         \u001b[0mfull_backward_hooks\u001b[0m\u001b[0;34m,\u001b[0m \u001b[0mnon_full_backward_hooks\u001b[0m \u001b[0;34m=\u001b[0m \u001b[0;34m[\u001b[0m\u001b[0;34m]\u001b[0m\u001b[0;34m,\u001b[0m \u001b[0;34m[\u001b[0m\u001b[0;34m]\u001b[0m\u001b[0;34m\u001b[0m\u001b[0;34m\u001b[0m\u001b[0m\n",
      "\u001b[0;32m~/Work/anaconda3/envs/dsplat/lib/python3.7/site-packages/torch/nn/modules/container.py\u001b[0m in \u001b[0;36mforward\u001b[0;34m(self, input)\u001b[0m\n\u001b[1;32m    139\u001b[0m     \u001b[0;32mdef\u001b[0m \u001b[0mforward\u001b[0m\u001b[0;34m(\u001b[0m\u001b[0mself\u001b[0m\u001b[0;34m,\u001b[0m \u001b[0minput\u001b[0m\u001b[0;34m)\u001b[0m\u001b[0;34m:\u001b[0m\u001b[0;34m\u001b[0m\u001b[0;34m\u001b[0m\u001b[0m\n\u001b[1;32m    140\u001b[0m         \u001b[0;32mfor\u001b[0m \u001b[0mmodule\u001b[0m \u001b[0;32min\u001b[0m \u001b[0mself\u001b[0m\u001b[0;34m:\u001b[0m\u001b[0;34m\u001b[0m\u001b[0;34m\u001b[0m\u001b[0m\n\u001b[0;32m--> 141\u001b[0;31m             \u001b[0minput\u001b[0m \u001b[0;34m=\u001b[0m \u001b[0mmodule\u001b[0m\u001b[0;34m(\u001b[0m\u001b[0minput\u001b[0m\u001b[0;34m)\u001b[0m\u001b[0;34m\u001b[0m\u001b[0;34m\u001b[0m\u001b[0m\n\u001b[0m\u001b[1;32m    142\u001b[0m         \u001b[0;32mreturn\u001b[0m \u001b[0minput\u001b[0m\u001b[0;34m\u001b[0m\u001b[0;34m\u001b[0m\u001b[0m\n\u001b[1;32m    143\u001b[0m \u001b[0;34m\u001b[0m\u001b[0m\n",
      "\u001b[0;32m~/Work/anaconda3/envs/dsplat/lib/python3.7/site-packages/torch/nn/modules/module.py\u001b[0m in \u001b[0;36m_call_impl\u001b[0;34m(self, *input, **kwargs)\u001b[0m\n\u001b[1;32m   1108\u001b[0m         if not (self._backward_hooks or self._forward_hooks or self._forward_pre_hooks or _global_backward_hooks\n\u001b[1;32m   1109\u001b[0m                 or _global_forward_hooks or _global_forward_pre_hooks):\n\u001b[0;32m-> 1110\u001b[0;31m             \u001b[0;32mreturn\u001b[0m \u001b[0mforward_call\u001b[0m\u001b[0;34m(\u001b[0m\u001b[0;34m*\u001b[0m\u001b[0minput\u001b[0m\u001b[0;34m,\u001b[0m \u001b[0;34m**\u001b[0m\u001b[0mkwargs\u001b[0m\u001b[0;34m)\u001b[0m\u001b[0;34m\u001b[0m\u001b[0;34m\u001b[0m\u001b[0m\n\u001b[0m\u001b[1;32m   1111\u001b[0m         \u001b[0;31m# Do not call functions when jit is used\u001b[0m\u001b[0;34m\u001b[0m\u001b[0;34m\u001b[0m\u001b[0;34m\u001b[0m\u001b[0m\n\u001b[1;32m   1112\u001b[0m         \u001b[0mfull_backward_hooks\u001b[0m\u001b[0;34m,\u001b[0m \u001b[0mnon_full_backward_hooks\u001b[0m \u001b[0;34m=\u001b[0m \u001b[0;34m[\u001b[0m\u001b[0;34m]\u001b[0m\u001b[0;34m,\u001b[0m \u001b[0;34m[\u001b[0m\u001b[0;34m]\u001b[0m\u001b[0;34m\u001b[0m\u001b[0;34m\u001b[0m\u001b[0m\n",
      "\u001b[0;32m~/Work/anaconda3/envs/dsplat/lib/python3.7/site-packages/torch/nn/modules/activation.py\u001b[0m in \u001b[0;36mforward\u001b[0;34m(self, input)\u001b[0m\n\u001b[1;32m     96\u001b[0m \u001b[0;34m\u001b[0m\u001b[0m\n\u001b[1;32m     97\u001b[0m     \u001b[0;32mdef\u001b[0m \u001b[0mforward\u001b[0m\u001b[0;34m(\u001b[0m\u001b[0mself\u001b[0m\u001b[0;34m,\u001b[0m \u001b[0minput\u001b[0m\u001b[0;34m:\u001b[0m \u001b[0mTensor\u001b[0m\u001b[0;34m)\u001b[0m \u001b[0;34m->\u001b[0m \u001b[0mTensor\u001b[0m\u001b[0;34m:\u001b[0m\u001b[0;34m\u001b[0m\u001b[0;34m\u001b[0m\u001b[0m\n\u001b[0;32m---> 98\u001b[0;31m         \u001b[0;32mreturn\u001b[0m \u001b[0mF\u001b[0m\u001b[0;34m.\u001b[0m\u001b[0mrelu\u001b[0m\u001b[0;34m(\u001b[0m\u001b[0minput\u001b[0m\u001b[0;34m,\u001b[0m \u001b[0minplace\u001b[0m\u001b[0;34m=\u001b[0m\u001b[0mself\u001b[0m\u001b[0;34m.\u001b[0m\u001b[0minplace\u001b[0m\u001b[0;34m)\u001b[0m\u001b[0;34m\u001b[0m\u001b[0;34m\u001b[0m\u001b[0m\n\u001b[0m\u001b[1;32m     99\u001b[0m \u001b[0;34m\u001b[0m\u001b[0m\n\u001b[1;32m    100\u001b[0m     \u001b[0;32mdef\u001b[0m \u001b[0mextra_repr\u001b[0m\u001b[0;34m(\u001b[0m\u001b[0mself\u001b[0m\u001b[0;34m)\u001b[0m \u001b[0;34m->\u001b[0m \u001b[0mstr\u001b[0m\u001b[0;34m:\u001b[0m\u001b[0;34m\u001b[0m\u001b[0;34m\u001b[0m\u001b[0m\n",
      "\u001b[0;31mKeyboardInterrupt\u001b[0m: "
     ]
    }
   ],
   "source": [
    "task_aupr = {s: [] for s in substrates}\n",
    "for curr_task in tqdm(substrates,leave=False,desc=\"Task\"):\n",
    "    \n",
    "    aupr_list = []\n",
    "    \n",
    "    for i, (train_ind, test_ind) in tqdm(enumerate(kfsplitter.split(enzymes)), leave=False, desc=\"Split\", total=n_splits):\n",
    "            \n",
    "        train_enzymes = [enzymes[i] for i in train_ind]\n",
    "        train_df = full_df[full_df[conf.target_col].isin(train_enzymes)]\n",
    "        train_dataloader = create_data(train_df, conf, drug_feat, target_feat)\n",
    "        \n",
    "        test_enzymes = [enzymes[i] for i in test_ind]\n",
    "        test_df = full_df[(full_df[conf.target_col].isin(test_enzymes)) & (full_df[conf.drug_col] == curr_task)]\n",
    "        test_dataloader = create_data(test_df, conf, drug_feat, target_feat)\n",
    "\n",
    "        model = create_model(conf)\n",
    "        model = train_model(model, train_dataloader, conf)\n",
    "\n",
    "        aupr = eval_model(model, test_dataloader, conf)\n",
    "        aupr_list.append(aupr)\n",
    "        task_aupr[curr_task] = aupr_list"
   ]
  },
  {
   "cell_type": "code",
   "execution_count": 93,
   "id": "931fc572-18ed-4ac0-9f5d-195de4bf9f1c",
   "metadata": {},
   "outputs": [],
   "source": [
    "task_aupr = {k: np.array(v) for k,v in task_aupr.items()}"
   ]
  },
  {
   "cell_type": "code",
   "execution_count": 99,
   "id": "bcadb6f4-4651-48bf-a9be-0c1dfde777db",
   "metadata": {
    "scrolled": true,
    "tags": []
   },
   "outputs": [
    {
     "name": "stdout",
     "output_type": "stream",
     "text": [
      "2022-07-22 13:44:05,808 [INFO] Substrate CC(=O)OC1=CC=CC2=CC=CC=C21 AUPR: 0.9629192797942798\n",
      "2022-07-22 13:44:05,808 [INFO] Substrate CC(=O)OC1=CC=CC2=CC=CC=C21 AUPR: 0.9629192797942798\n",
      "2022-07-22 13:44:05,808 [INFO] Substrate CC(=O)OC1=CC=CC2=CC=CC=C21 AUPR: 0.9629192797942798\n",
      "2022-07-22 13:44:05,813 [INFO] Substrate CCCC(=O)OC1=CC=CC2=CC=CC=C21 AUPR: nan\n",
      "2022-07-22 13:44:05,813 [INFO] Substrate CCCC(=O)OC1=CC=CC2=CC=CC=C21 AUPR: nan\n",
      "2022-07-22 13:44:05,813 [INFO] Substrate CCCC(=O)OC1=CC=CC2=CC=CC=C21 AUPR: nan\n",
      "2022-07-22 13:44:05,823 [INFO] Substrate CC(=O)OCC(COC(=O)C)OC(=O)C AUPR: nan\n",
      "2022-07-22 13:44:05,823 [INFO] Substrate CC(=O)OCC(COC(=O)C)OC(=O)C AUPR: nan\n",
      "2022-07-22 13:44:05,823 [INFO] Substrate CC(=O)OCC(COC(=O)C)OC(=O)C AUPR: nan\n",
      "2022-07-22 13:44:05,825 [INFO] Substrate CCC(=O)OCC(COC(=O)CC)OC(=O)CC AUPR: nan\n",
      "2022-07-22 13:44:05,825 [INFO] Substrate CCC(=O)OCC(COC(=O)CC)OC(=O)CC AUPR: nan\n",
      "2022-07-22 13:44:05,825 [INFO] Substrate CCC(=O)OCC(COC(=O)CC)OC(=O)CC AUPR: nan\n",
      "2022-07-22 13:44:05,827 [INFO] Substrate CCCC(=O)OCC(COC(=O)CCC)OC(=O)CCC AUPR: nan\n",
      "2022-07-22 13:44:05,827 [INFO] Substrate CCCC(=O)OCC(COC(=O)CCC)OC(=O)CCC AUPR: nan\n",
      "2022-07-22 13:44:05,827 [INFO] Substrate CCCC(=O)OCC(COC(=O)CCC)OC(=O)CCC AUPR: nan\n",
      "2022-07-22 13:44:05,829 [INFO] Substrate CCCCCCCC(=O)OCC(COC(=O)CCCCCCC)OC(=O)CCCCCCC AUPR: nan\n",
      "2022-07-22 13:44:05,829 [INFO] Substrate CCCCCCCC(=O)OCC(COC(=O)CCCCCCC)OC(=O)CCCCCCC AUPR: nan\n",
      "2022-07-22 13:44:05,829 [INFO] Substrate CCCCCCCC(=O)OCC(COC(=O)CCCCCCC)OC(=O)CCCCCCC AUPR: nan\n",
      "2022-07-22 13:44:05,831 [INFO] Substrate CCCCCCCCC=CCCCCCCCC(=O)OCC(COC(=O)CCCCCCCC=CCCCCCCCC)OC(=O)CCCCCCCC=CCCCCCCCC AUPR: nan\n",
      "2022-07-22 13:44:05,831 [INFO] Substrate CCCCCCCCC=CCCCCCCCC(=O)OCC(COC(=O)CCCCCCCC=CCCCCCCCC)OC(=O)CCCCCCCC=CCCCCCCCC AUPR: nan\n",
      "2022-07-22 13:44:05,831 [INFO] Substrate CCCCCCCCC=CCCCCCCCC(=O)OCC(COC(=O)CCCCCCCC=CCCCCCCCC)OC(=O)CCCCCCCC=CCCCCCCCC AUPR: nan\n",
      "2022-07-22 13:44:05,833 [INFO] Substrate CCCCCCOC(=O)C AUPR: nan\n",
      "2022-07-22 13:44:05,833 [INFO] Substrate CCCCCCOC(=O)C AUPR: nan\n",
      "2022-07-22 13:44:05,833 [INFO] Substrate CCCCCCOC(=O)C AUPR: nan\n",
      "2022-07-22 13:44:05,835 [INFO] Substrate CCCCCCCCOC(=O)C AUPR: nan\n",
      "2022-07-22 13:44:05,835 [INFO] Substrate CCCCCCCCOC(=O)C AUPR: nan\n",
      "2022-07-22 13:44:05,835 [INFO] Substrate CCCCCCCCOC(=O)C AUPR: nan\n",
      "2022-07-22 13:44:05,836 [INFO] Substrate CCCCCCCCCCCCOC(=O)C AUPR: nan\n",
      "2022-07-22 13:44:05,836 [INFO] Substrate CCCCCCCCCCCCOC(=O)C AUPR: nan\n",
      "2022-07-22 13:44:05,836 [INFO] Substrate CCCCCCCCCCCCOC(=O)C AUPR: nan\n",
      "2022-07-22 13:44:05,838 [INFO] Substrate CCCCCCCCCCCCCCCOC(=O)C AUPR: nan\n",
      "2022-07-22 13:44:05,838 [INFO] Substrate CCCCCCCCCCCCCCCOC(=O)C AUPR: nan\n",
      "2022-07-22 13:44:05,838 [INFO] Substrate CCCCCCCCCCCCCCCOC(=O)C AUPR: nan\n",
      "2022-07-22 13:44:05,839 [INFO] Substrate CCOC(=O)C AUPR: nan\n",
      "2022-07-22 13:44:05,839 [INFO] Substrate CCOC(=O)C AUPR: nan\n",
      "2022-07-22 13:44:05,839 [INFO] Substrate CCOC(=O)C AUPR: nan\n",
      "2022-07-22 13:44:05,845 [INFO] Substrate CCC(=O)OCC AUPR: nan\n",
      "2022-07-22 13:44:05,845 [INFO] Substrate CCC(=O)OCC AUPR: nan\n",
      "2022-07-22 13:44:05,845 [INFO] Substrate CCC(=O)OCC AUPR: nan\n",
      "2022-07-22 13:44:05,846 [INFO] Substrate CCCC(=O)OCC AUPR: nan\n",
      "2022-07-22 13:44:05,846 [INFO] Substrate CCCC(=O)OCC AUPR: nan\n",
      "2022-07-22 13:44:05,846 [INFO] Substrate CCCC(=O)OCC AUPR: nan\n",
      "2022-07-22 13:44:05,848 [INFO] Substrate CCCCCC(=O)OCC AUPR: nan\n",
      "2022-07-22 13:44:05,848 [INFO] Substrate CCCCCC(=O)OCC AUPR: nan\n",
      "2022-07-22 13:44:05,848 [INFO] Substrate CCCCCC(=O)OCC AUPR: nan\n",
      "2022-07-22 13:44:05,850 [INFO] Substrate CCCCCCCC(=O)OCC AUPR: nan\n",
      "2022-07-22 13:44:05,850 [INFO] Substrate CCCCCCCC(=O)OCC AUPR: nan\n",
      "2022-07-22 13:44:05,850 [INFO] Substrate CCCCCCCC(=O)OCC AUPR: nan\n",
      "2022-07-22 13:44:05,852 [INFO] Substrate CCCCCCCCCC(=O)OCC AUPR: nan\n",
      "2022-07-22 13:44:05,852 [INFO] Substrate CCCCCCCCCC(=O)OCC AUPR: nan\n",
      "2022-07-22 13:44:05,852 [INFO] Substrate CCCCCCCCCC(=O)OCC AUPR: nan\n",
      "2022-07-22 13:44:05,853 [INFO] Substrate CCCCCCCCCCCC(=O)OCC AUPR: nan\n",
      "2022-07-22 13:44:05,853 [INFO] Substrate CCCCCCCCCCCC(=O)OCC AUPR: nan\n",
      "2022-07-22 13:44:05,853 [INFO] Substrate CCCCCCCCCCCC(=O)OCC AUPR: nan\n",
      "2022-07-22 13:44:05,854 [INFO] Substrate CCCCCCCCCCCCCC(=O)OCC AUPR: nan\n",
      "2022-07-22 13:44:05,854 [INFO] Substrate CCCCCCCCCCCCCC(=O)OCC AUPR: nan\n",
      "2022-07-22 13:44:05,854 [INFO] Substrate CCCCCCCCCCCCCC(=O)OCC AUPR: nan\n",
      "2022-07-22 13:44:05,856 [INFO] Substrate CCOC(=O)C1=CC=CC=C1 AUPR: nan\n",
      "2022-07-22 13:44:05,856 [INFO] Substrate CCOC(=O)C1=CC=CC=C1 AUPR: nan\n",
      "2022-07-22 13:44:05,856 [INFO] Substrate CCOC(=O)C1=CC=CC=C1 AUPR: nan\n",
      "2022-07-22 13:44:05,859 [INFO] Substrate C[C@@H]1CCC(C(C1)OC(=O)C)C(C)C AUPR: nan\n",
      "2022-07-22 13:44:05,859 [INFO] Substrate C[C@@H]1CCC(C(C1)OC(=O)C)C(C)C AUPR: nan\n",
      "2022-07-22 13:44:05,859 [INFO] Substrate C[C@@H]1CCC(C(C1)OC(=O)C)C(C)C AUPR: nan\n",
      "2022-07-22 13:44:05,860 [INFO] Substrate C[C@H]1CCC(C(C1)OC(=O)C)C(C)C AUPR: nan\n",
      "2022-07-22 13:44:05,860 [INFO] Substrate C[C@H]1CCC(C(C1)OC(=O)C)C(C)C AUPR: nan\n",
      "2022-07-22 13:44:05,860 [INFO] Substrate C[C@H]1CCC(C(C1)OC(=O)C)C(C)C AUPR: nan\n",
      "2022-07-22 13:44:05,862 [INFO] Substrate CCOC(=O)[C@@H]1CCCN1CC2=CC=CC=C2 AUPR: nan\n",
      "2022-07-22 13:44:05,862 [INFO] Substrate CCOC(=O)[C@@H]1CCCN1CC2=CC=CC=C2 AUPR: nan\n",
      "2022-07-22 13:44:05,862 [INFO] Substrate CCOC(=O)[C@@H]1CCCN1CC2=CC=CC=C2 AUPR: nan\n",
      "2022-07-22 13:44:05,863 [INFO] Substrate CCOC(=O)[C@H]1CCCN1CC2=CC=CC=C2 AUPR: nan\n",
      "2022-07-22 13:44:05,863 [INFO] Substrate CCOC(=O)[C@H]1CCCN1CC2=CC=CC=C2 AUPR: nan\n",
      "2022-07-22 13:44:05,863 [INFO] Substrate CCOC(=O)[C@H]1CCCN1CC2=CC=CC=C2 AUPR: nan\n",
      "2022-07-22 13:44:05,864 [INFO] Substrate COC(=O)[C@@H](C1=CC=CC=C1)O AUPR: nan\n",
      "2022-07-22 13:44:05,864 [INFO] Substrate COC(=O)[C@@H](C1=CC=CC=C1)O AUPR: nan\n",
      "2022-07-22 13:44:05,864 [INFO] Substrate COC(=O)[C@@H](C1=CC=CC=C1)O AUPR: nan\n",
      "2022-07-22 13:44:05,866 [INFO] Substrate COC(=O)[C@H](C1=CC=CC=C1)O AUPR: nan\n",
      "2022-07-22 13:44:05,866 [INFO] Substrate COC(=O)[C@H](C1=CC=CC=C1)O AUPR: nan\n",
      "2022-07-22 13:44:05,866 [INFO] Substrate COC(=O)[C@H](C1=CC=CC=C1)O AUPR: nan\n",
      "2022-07-22 13:44:05,868 [INFO] Substrate CCOC(=O)C[C@H](CCl)O AUPR: nan\n",
      "2022-07-22 13:44:05,868 [INFO] Substrate CCOC(=O)C[C@H](CCl)O AUPR: nan\n",
      "2022-07-22 13:44:05,868 [INFO] Substrate CCOC(=O)C[C@H](CCl)O AUPR: nan\n",
      "2022-07-22 13:44:05,869 [INFO] Substrate CCOC(=O)C[C@@H](CCl)O AUPR: nan\n",
      "2022-07-22 13:44:05,869 [INFO] Substrate CCOC(=O)C[C@@H](CCl)O AUPR: nan\n",
      "2022-07-22 13:44:05,869 [INFO] Substrate CCOC(=O)C[C@@H](CCl)O AUPR: nan\n",
      "2022-07-22 13:44:05,871 [INFO] Substrate CCOC(=O)[C@@H](C)O AUPR: nan\n",
      "2022-07-22 13:44:05,871 [INFO] Substrate CCOC(=O)[C@@H](C)O AUPR: nan\n",
      "2022-07-22 13:44:05,871 [INFO] Substrate CCOC(=O)[C@@H](C)O AUPR: nan\n",
      "2022-07-22 13:44:05,872 [INFO] Substrate CCOC(=O)[C@H](C)O AUPR: nan\n",
      "2022-07-22 13:44:05,872 [INFO] Substrate CCOC(=O)[C@H](C)O AUPR: nan\n",
      "2022-07-22 13:44:05,872 [INFO] Substrate CCOC(=O)[C@H](C)O AUPR: nan\n",
      "2022-07-22 13:44:05,874 [INFO] Substrate C[C@@H](CC(=O)OC)O AUPR: nan\n",
      "2022-07-22 13:44:05,874 [INFO] Substrate C[C@@H](CC(=O)OC)O AUPR: nan\n",
      "2022-07-22 13:44:05,874 [INFO] Substrate C[C@@H](CC(=O)OC)O AUPR: nan\n",
      "2022-07-22 13:44:05,876 [INFO] Substrate C1=CC=C(C=C1)COC(=O)C2=CC=C(C=C2)C=O AUPR: nan\n",
      "2022-07-22 13:44:05,876 [INFO] Substrate C1=CC=C(C=C1)COC(=O)C2=CC=C(C=C2)C=O AUPR: nan\n",
      "2022-07-22 13:44:05,876 [INFO] Substrate C1=CC=C(C=C1)COC(=O)C2=CC=C(C=C2)C=O AUPR: nan\n",
      "2022-07-22 13:44:05,877 [INFO] Substrate C[C@H](CC(=O)OC)O AUPR: nan\n",
      "2022-07-22 13:44:05,877 [INFO] Substrate C[C@H](CC(=O)OC)O AUPR: nan\n",
      "2022-07-22 13:44:05,877 [INFO] Substrate C[C@H](CC(=O)OC)O AUPR: nan\n",
      "2022-07-22 13:44:05,878 [INFO] Substrate C[C@H]1CC[C@@H]([C@@H](C1)OC(=O)C)C(C)C AUPR: nan\n",
      "2022-07-22 13:44:05,878 [INFO] Substrate C[C@H]1CC[C@@H]([C@@H](C1)OC(=O)C)C(C)C AUPR: nan\n",
      "2022-07-22 13:44:05,878 [INFO] Substrate C[C@H]1CC[C@@H]([C@@H](C1)OC(=O)C)C(C)C AUPR: nan\n",
      "2022-07-22 13:44:05,879 [INFO] Substrate C[C@@H]1CC[C@H]([C@H](C1)OC(=O)C)C(C)C AUPR: nan\n",
      "2022-07-22 13:44:05,879 [INFO] Substrate C[C@@H]1CC[C@H]([C@H](C1)OC(=O)C)C(C)C AUPR: nan\n",
      "2022-07-22 13:44:05,879 [INFO] Substrate C[C@@H]1CC[C@H]([C@H](C1)OC(=O)C)C(C)C AUPR: nan\n",
      "2022-07-22 13:44:05,882 [INFO] Substrate CCCOC(=O)C1=CC=C(C=C1)O AUPR: nan\n",
      "2022-07-22 13:44:05,882 [INFO] Substrate CCCOC(=O)C1=CC=C(C=C1)O AUPR: nan\n",
      "2022-07-22 13:44:05,882 [INFO] Substrate CCCOC(=O)C1=CC=C(C=C1)O AUPR: nan\n",
      "2022-07-22 13:44:05,883 [INFO] Substrate CCCCOC(=O)C1=CC=C(C=C1)O AUPR: nan\n",
      "2022-07-22 13:44:05,883 [INFO] Substrate CCCCOC(=O)C1=CC=C(C=C1)O AUPR: nan\n",
      "2022-07-22 13:44:05,883 [INFO] Substrate CCCCOC(=O)C1=CC=C(C=C1)O AUPR: nan\n",
      "2022-07-22 13:44:05,885 [INFO] Substrate COC(=O)C1=CC(=CC=C1)O AUPR: nan\n",
      "2022-07-22 13:44:05,885 [INFO] Substrate COC(=O)C1=CC(=CC=C1)O AUPR: nan\n",
      "2022-07-22 13:44:05,885 [INFO] Substrate COC(=O)C1=CC(=CC=C1)O AUPR: nan\n",
      "2022-07-22 13:44:05,887 [INFO] Substrate COC(=O)C1=CC=CC=C1O AUPR: nan\n",
      "2022-07-22 13:44:05,887 [INFO] Substrate COC(=O)C1=CC=CC=C1O AUPR: nan\n",
      "2022-07-22 13:44:05,887 [INFO] Substrate COC(=O)C1=CC=CC=C1O AUPR: nan\n",
      "2022-07-22 13:44:05,888 [INFO] Substrate CCOC(=O)C1=CC=CC=C1C(=O)OCC AUPR: nan\n",
      "2022-07-22 13:44:05,888 [INFO] Substrate CCOC(=O)C1=CC=CC=C1C(=O)OCC AUPR: nan\n",
      "2022-07-22 13:44:05,888 [INFO] Substrate CCOC(=O)C1=CC=CC=C1C(=O)OCC AUPR: nan\n",
      "2022-07-22 13:44:05,889 [INFO] Substrate CC[C@H](CC(=O)OC)O AUPR: nan\n",
      "2022-07-22 13:44:05,889 [INFO] Substrate CC[C@H](CC(=O)OC)O AUPR: nan\n",
      "2022-07-22 13:44:05,889 [INFO] Substrate CC[C@H](CC(=O)OC)O AUPR: nan\n",
      "2022-07-22 13:44:05,890 [INFO] Substrate CC[C@@H](CC(=O)OC)O AUPR: nan\n",
      "2022-07-22 13:44:05,890 [INFO] Substrate CC[C@@H](CC(=O)OC)O AUPR: nan\n",
      "2022-07-22 13:44:05,890 [INFO] Substrate CC[C@@H](CC(=O)OC)O AUPR: nan\n",
      "2022-07-22 13:44:05,892 [INFO] Substrate C1=CC=C(C=C1)C[C@H](C(=O)OCC2=CC=CC=C2)O AUPR: nan\n",
      "2022-07-22 13:44:05,892 [INFO] Substrate C1=CC=C(C=C1)C[C@H](C(=O)OCC2=CC=CC=C2)O AUPR: nan\n",
      "2022-07-22 13:44:05,892 [INFO] Substrate C1=CC=C(C=C1)C[C@H](C(=O)OCC2=CC=CC=C2)O AUPR: nan\n",
      "2022-07-22 13:44:05,894 [INFO] Substrate C1=CC=C(C=C1)COC(=O)C2=CC=C(C=C2)O AUPR: nan\n",
      "2022-07-22 13:44:05,894 [INFO] Substrate C1=CC=C(C=C1)COC(=O)C2=CC=C(C=C2)O AUPR: nan\n",
      "2022-07-22 13:44:05,894 [INFO] Substrate C1=CC=C(C=C1)COC(=O)C2=CC=C(C=C2)O AUPR: nan\n",
      "2022-07-22 13:44:05,895 [INFO] Substrate COC(=O)C1=CC=CC=C1 AUPR: nan\n",
      "2022-07-22 13:44:05,895 [INFO] Substrate COC(=O)C1=CC=CC=C1 AUPR: nan\n",
      "2022-07-22 13:44:05,895 [INFO] Substrate COC(=O)C1=CC=CC=C1 AUPR: nan\n",
      "2022-07-22 13:44:05,897 [INFO] Substrate CCCC(=O)OC AUPR: nan\n",
      "2022-07-22 13:44:05,897 [INFO] Substrate CCCC(=O)OC AUPR: nan\n",
      "2022-07-22 13:44:05,897 [INFO] Substrate CCCC(=O)OC AUPR: nan\n",
      "2022-07-22 13:44:05,898 [INFO] Substrate CCCCCCCCCC(=O)OC AUPR: nan\n",
      "2022-07-22 13:44:05,898 [INFO] Substrate CCCCCCCCCC(=O)OC AUPR: nan\n",
      "2022-07-22 13:44:05,898 [INFO] Substrate CCCCCCCCCC(=O)OC AUPR: nan\n",
      "2022-07-22 13:44:05,900 [INFO] Substrate CCCCCCCCC=CCCCCCCCC(=O)OC AUPR: nan\n",
      "2022-07-22 13:44:05,900 [INFO] Substrate CCCCCCCCC=CCCCCCCCC(=O)OC AUPR: nan\n",
      "2022-07-22 13:44:05,900 [INFO] Substrate CCCCCCCCC=CCCCCCCCC(=O)OC AUPR: nan\n",
      "2022-07-22 13:44:05,901 [INFO] Substrate CCCCCC(=O)OC AUPR: nan\n",
      "2022-07-22 13:44:05,901 [INFO] Substrate CCCCCC(=O)OC AUPR: nan\n",
      "2022-07-22 13:44:05,901 [INFO] Substrate CCCCCC(=O)OC AUPR: nan\n",
      "2022-07-22 13:44:05,902 [INFO] Substrate CCCCCCCC(=O)OC AUPR: nan\n",
      "2022-07-22 13:44:05,902 [INFO] Substrate CCCCCCCC(=O)OC AUPR: nan\n",
      "2022-07-22 13:44:05,902 [INFO] Substrate CCCCCCCC(=O)OC AUPR: nan\n",
      "2022-07-22 13:44:05,903 [INFO] Substrate CCCCCCCCCCCC(=O)OC AUPR: nan\n",
      "2022-07-22 13:44:05,903 [INFO] Substrate CCCCCCCCCCCC(=O)OC AUPR: nan\n",
      "2022-07-22 13:44:05,903 [INFO] Substrate CCCCCCCCCCCC(=O)OC AUPR: nan\n",
      "2022-07-22 13:44:05,904 [INFO] Substrate CCCCCCCCCCCCCC(=O)OC AUPR: nan\n",
      "2022-07-22 13:44:05,904 [INFO] Substrate CCCCCCCCCCCCCC(=O)OC AUPR: nan\n",
      "2022-07-22 13:44:05,904 [INFO] Substrate CCCCCCCCCCCCCC(=O)OC AUPR: nan\n",
      "2022-07-22 13:44:05,907 [INFO] Substrate CCCOC(=O)CC AUPR: nan\n",
      "2022-07-22 13:44:05,907 [INFO] Substrate CCCOC(=O)CC AUPR: nan\n",
      "2022-07-22 13:44:05,907 [INFO] Substrate CCCOC(=O)CC AUPR: nan\n",
      "2022-07-22 13:44:05,910 [INFO] Substrate CCCC(=O)OCCC AUPR: nan\n",
      "2022-07-22 13:44:05,910 [INFO] Substrate CCCC(=O)OCCC AUPR: nan\n",
      "2022-07-22 13:44:05,910 [INFO] Substrate CCCC(=O)OCCC AUPR: nan\n",
      "2022-07-22 13:44:05,912 [INFO] Substrate CCCCCC(=O)OCCC AUPR: nan\n",
      "2022-07-22 13:44:05,912 [INFO] Substrate CCCCCC(=O)OCCC AUPR: nan\n",
      "2022-07-22 13:44:05,912 [INFO] Substrate CCCCCC(=O)OCCC AUPR: nan\n",
      "2022-07-22 13:44:05,914 [INFO] Substrate C1=CC=C(C=C1)CCOC(=O)C=CC2=CC=CC=C2 AUPR: nan\n",
      "2022-07-22 13:44:05,914 [INFO] Substrate C1=CC=C(C=C1)CCOC(=O)C=CC2=CC=CC=C2 AUPR: nan\n",
      "2022-07-22 13:44:05,914 [INFO] Substrate C1=CC=C(C=C1)CCOC(=O)C=CC2=CC=CC=C2 AUPR: nan\n",
      "2022-07-22 13:44:05,916 [INFO] Substrate CC(C)COC(=O)C=CC1=CC=CC=C1 AUPR: nan\n",
      "2022-07-22 13:44:05,916 [INFO] Substrate CC(C)COC(=O)C=CC1=CC=CC=C1 AUPR: nan\n",
      "2022-07-22 13:44:05,916 [INFO] Substrate CC(C)COC(=O)C=CC1=CC=CC=C1 AUPR: nan\n",
      "2022-07-22 13:44:05,918 [INFO] Substrate COC(=O)/C=C/C1=C(C=CC(=C1)O)O AUPR: nan\n",
      "2022-07-22 13:44:05,918 [INFO] Substrate COC(=O)/C=C/C1=C(C=CC(=C1)O)O AUPR: nan\n",
      "2022-07-22 13:44:05,918 [INFO] Substrate COC(=O)/C=C/C1=C(C=CC(=C1)O)O AUPR: nan\n",
      "2022-07-22 13:44:05,919 [INFO] Substrate COC(=O)C=CC1=CC=CC=C1 AUPR: nan\n",
      "2022-07-22 13:44:05,919 [INFO] Substrate COC(=O)C=CC1=CC=CC=C1 AUPR: nan\n",
      "2022-07-22 13:44:05,919 [INFO] Substrate COC(=O)C=CC1=CC=CC=C1 AUPR: nan\n",
      "2022-07-22 13:44:05,921 [INFO] Substrate COC1=C(C=CC(=C1)C=CC(=O)OC)O AUPR: nan\n",
      "2022-07-22 13:44:05,921 [INFO] Substrate COC1=C(C=CC(=C1)C=CC(=O)OC)O AUPR: nan\n",
      "2022-07-22 13:44:05,921 [INFO] Substrate COC1=C(C=CC(=C1)C=CC(=O)OC)O AUPR: nan\n",
      "2022-07-22 13:44:05,922 [INFO] Substrate CC(=O)OC=C AUPR: nan\n",
      "2022-07-22 13:44:05,922 [INFO] Substrate CC(=O)OC=C AUPR: nan\n",
      "2022-07-22 13:44:05,922 [INFO] Substrate CC(=O)OC=C AUPR: nan\n",
      "2022-07-22 13:44:05,924 [INFO] Substrate CCC(=O)OC=C AUPR: nan\n",
      "2022-07-22 13:44:05,924 [INFO] Substrate CCC(=O)OC=C AUPR: nan\n",
      "2022-07-22 13:44:05,924 [INFO] Substrate CCC(=O)OC=C AUPR: nan\n",
      "2022-07-22 13:44:05,925 [INFO] Substrate CCCC(=O)OC=C AUPR: nan\n",
      "2022-07-22 13:44:05,925 [INFO] Substrate CCCC(=O)OC=C AUPR: nan\n",
      "2022-07-22 13:44:05,925 [INFO] Substrate CCCC(=O)OC=C AUPR: nan\n",
      "2022-07-22 13:44:05,927 [INFO] Substrate CCCCCCCCCCCC(=O)OC=C AUPR: nan\n",
      "2022-07-22 13:44:05,927 [INFO] Substrate CCCCCCCCCCCC(=O)OC=C AUPR: nan\n",
      "2022-07-22 13:44:05,927 [INFO] Substrate CCCCCCCCCCCC(=O)OC=C AUPR: nan\n",
      "2022-07-22 13:44:05,928 [INFO] Substrate CCCCCCCCCCCCCC(=O)OC=C AUPR: nan\n",
      "2022-07-22 13:44:05,928 [INFO] Substrate CCCCCCCCCCCCCC(=O)OC=C AUPR: nan\n",
      "2022-07-22 13:44:05,928 [INFO] Substrate CCCCCCCCCCCCCC(=O)OC=C AUPR: nan\n",
      "2022-07-22 13:44:05,930 [INFO] Substrate CCCCCCCCCCCCCCCC(=O)OC=C AUPR: nan\n",
      "2022-07-22 13:44:05,930 [INFO] Substrate CCCCCCCCCCCCCCCC(=O)OC=C AUPR: nan\n",
      "2022-07-22 13:44:05,930 [INFO] Substrate CCCCCCCCCCCCCCCC(=O)OC=C AUPR: nan\n",
      "2022-07-22 13:44:05,931 [INFO] Substrate CCCCCCCCC=CCCCCCCCC(=O)OC=C AUPR: nan\n",
      "2022-07-22 13:44:05,931 [INFO] Substrate CCCCCCCCC=CCCCCCCCC(=O)OC=C AUPR: nan\n",
      "2022-07-22 13:44:05,931 [INFO] Substrate CCCCCCCCC=CCCCCCCCC(=O)OC=C AUPR: nan\n",
      "2022-07-22 13:44:05,932 [INFO] Substrate C=COC(=O)C1=CC=CC=C1 AUPR: nan\n",
      "2022-07-22 13:44:05,932 [INFO] Substrate C=COC(=O)C1=CC=CC=C1 AUPR: nan\n",
      "2022-07-22 13:44:05,932 [INFO] Substrate C=COC(=O)C1=CC=CC=C1 AUPR: nan\n",
      "2022-07-22 13:44:05,934 [INFO] Substrate CC=CC(=O)OC=C AUPR: nan\n",
      "2022-07-22 13:44:05,934 [INFO] Substrate CC=CC(=O)OC=C AUPR: nan\n",
      "2022-07-22 13:44:05,934 [INFO] Substrate CC=CC(=O)OC=C AUPR: nan\n",
      "2022-07-22 13:44:05,936 [INFO] Substrate C=CC(=O)OC=C AUPR: nan\n",
      "2022-07-22 13:44:05,936 [INFO] Substrate C=CC(=O)OC=C AUPR: nan\n",
      "2022-07-22 13:44:05,936 [INFO] Substrate C=CC(=O)OC=C AUPR: nan\n",
      "2022-07-22 13:44:05,937 [INFO] Substrate CC(=CCCC(=CCOC(=O)C)C)C AUPR: nan\n",
      "2022-07-22 13:44:05,937 [INFO] Substrate CC(=CCCC(=CCOC(=O)C)C)C AUPR: nan\n",
      "2022-07-22 13:44:05,937 [INFO] Substrate CC(=CCCC(=CCOC(=O)C)C)C AUPR: nan\n",
      "2022-07-22 13:44:05,939 [INFO] Substrate CC(=C)CCOC(=O)C AUPR: nan\n",
      "2022-07-22 13:44:05,939 [INFO] Substrate CC(=C)CCOC(=O)C AUPR: nan\n",
      "2022-07-22 13:44:05,939 [INFO] Substrate CC(=C)CCOC(=O)C AUPR: nan\n",
      "2022-07-22 13:44:05,940 [INFO] Substrate CCC(C(=O)C)C(=O)OCC AUPR: nan\n",
      "2022-07-22 13:44:05,940 [INFO] Substrate CCC(C(=O)C)C(=O)OCC AUPR: nan\n",
      "2022-07-22 13:44:05,940 [INFO] Substrate CCC(C(=O)C)C(=O)OCC AUPR: nan\n",
      "2022-07-22 13:44:05,949 [INFO] Substrate CCOC(=O)C(C)C(=O)C AUPR: nan\n",
      "2022-07-22 13:44:05,949 [INFO] Substrate CCOC(=O)C(C)C(=O)C AUPR: nan\n",
      "2022-07-22 13:44:05,949 [INFO] Substrate CCOC(=O)C(C)C(=O)C AUPR: nan\n",
      "2022-07-22 13:44:05,951 [INFO] Substrate CCCC(=O)CC(=O)OCC AUPR: nan\n",
      "2022-07-22 13:44:05,951 [INFO] Substrate CCCC(=O)CC(=O)OCC AUPR: nan\n",
      "2022-07-22 13:44:05,951 [INFO] Substrate CCCC(=O)CC(=O)OCC AUPR: nan\n",
      "2022-07-22 13:44:05,952 [INFO] Substrate CCOC(=O)CC(=O)C AUPR: nan\n",
      "2022-07-22 13:44:05,952 [INFO] Substrate CCOC(=O)CC(=O)C AUPR: nan\n",
      "2022-07-22 13:44:05,952 [INFO] Substrate CCOC(=O)CC(=O)C AUPR: nan\n",
      "2022-07-22 13:44:05,953 [INFO] Substrate CCC(=O)CC(=O)OCC AUPR: nan\n",
      "2022-07-22 13:44:05,953 [INFO] Substrate CCC(=O)CC(=O)OCC AUPR: nan\n",
      "2022-07-22 13:44:05,953 [INFO] Substrate CCC(=O)CC(=O)OCC AUPR: nan\n",
      "2022-07-22 13:44:05,954 [INFO] Substrate CC1CCC(=O)O1 AUPR: nan\n",
      "2022-07-22 13:44:05,954 [INFO] Substrate CC1CCC(=O)O1 AUPR: nan\n",
      "2022-07-22 13:44:05,954 [INFO] Substrate CC1CCC(=O)O1 AUPR: nan\n",
      "2022-07-22 13:44:05,957 [INFO] Substrate COC(=O)CO AUPR: nan\n",
      "2022-07-22 13:44:05,957 [INFO] Substrate COC(=O)CO AUPR: nan\n",
      "2022-07-22 13:44:05,957 [INFO] Substrate COC(=O)CO AUPR: nan\n",
      "2022-07-22 13:44:05,958 [INFO] Substrate CC1(COC(=O)[C@@H]1O)C AUPR: nan\n",
      "2022-07-22 13:44:05,958 [INFO] Substrate CC1(COC(=O)[C@@H]1O)C AUPR: nan\n",
      "2022-07-22 13:44:05,958 [INFO] Substrate CC1(COC(=O)[C@@H]1O)C AUPR: nan\n",
      "2022-07-22 13:44:05,959 [INFO] Substrate CC1(COC(=O)[C@H]1O)C AUPR: nan\n",
      "2022-07-22 13:44:05,959 [INFO] Substrate CC1(COC(=O)[C@H]1O)C AUPR: nan\n",
      "2022-07-22 13:44:05,959 [INFO] Substrate CC1(COC(=O)[C@H]1O)C AUPR: nan\n",
      "2022-07-22 13:44:05,960 [INFO] Substrate C[C@@H]1CC[C@H]([C@@H](C1)OC(=O)CCC(=O)O[C@@H]2C[C@@H](CC[C@H]2C(C)C)C)C(C)C AUPR: nan\n",
      "2022-07-22 13:44:05,960 [INFO] Substrate C[C@@H]1CC[C@H]([C@@H](C1)OC(=O)CCC(=O)O[C@@H]2C[C@@H](CC[C@H]2C(C)C)C)C(C)C AUPR: nan\n",
      "2022-07-22 13:44:05,960 [INFO] Substrate C[C@@H]1CC[C@H]([C@@H](C1)OC(=O)CCC(=O)O[C@@H]2C[C@@H](CC[C@H]2C(C)C)C)C(C)C AUPR: nan\n",
      "2022-07-22 13:44:05,962 [INFO] Substrate CCOC(=O)C1=CC=CC=C1Cl AUPR: nan\n",
      "2022-07-22 13:44:05,962 [INFO] Substrate CCOC(=O)C1=CC=CC=C1Cl AUPR: nan\n",
      "2022-07-22 13:44:05,962 [INFO] Substrate CCOC(=O)C1=CC=CC=C1Cl AUPR: nan\n",
      "2022-07-22 13:44:05,963 [INFO] Substrate CCCC(=O)OC1CCCCC1 AUPR: nan\n",
      "2022-07-22 13:44:05,963 [INFO] Substrate CCCC(=O)OC1CCCCC1 AUPR: nan\n",
      "2022-07-22 13:44:05,963 [INFO] Substrate CCCC(=O)OC1CCCCC1 AUPR: nan\n",
      "2022-07-22 13:44:05,964 [INFO] Substrate CCCCCOC(=O)C1=CC=CC=C1 AUPR: nan\n",
      "2022-07-22 13:44:05,964 [INFO] Substrate CCCCCOC(=O)C1=CC=CC=C1 AUPR: nan\n",
      "2022-07-22 13:44:05,964 [INFO] Substrate CCCCCOC(=O)C1=CC=CC=C1 AUPR: nan\n",
      "2022-07-22 13:44:05,965 [INFO] Substrate C1=CC(=C(C=C1Cl)Cl)C(=O)OC2=C(C=C(C=C2)Cl)Cl AUPR: nan\n",
      "2022-07-22 13:44:05,965 [INFO] Substrate C1=CC(=C(C=C1Cl)Cl)C(=O)OC2=C(C=C(C=C2)Cl)Cl AUPR: nan\n",
      "2022-07-22 13:44:05,965 [INFO] Substrate C1=CC(=C(C=C1Cl)Cl)C(=O)OC2=C(C=C(C=C2)Cl)Cl AUPR: nan\n",
      "2022-07-22 13:44:05,966 [INFO] Substrate C1=CC(=C(C=C1Cl)Cl)COC(=O)C2=C(C=C(C=C2)Cl)Cl AUPR: nan\n",
      "2022-07-22 13:44:05,966 [INFO] Substrate C1=CC(=C(C=C1Cl)Cl)COC(=O)C2=C(C=C(C=C2)Cl)Cl AUPR: nan\n",
      "2022-07-22 13:44:05,966 [INFO] Substrate C1=CC(=C(C=C1Cl)Cl)COC(=O)C2=C(C=C(C=C2)Cl)Cl AUPR: nan\n",
      "2022-07-22 13:44:05,967 [INFO] Substrate CCOC(=O)C1=C(NC(=C(C1C2=CC=CC=C2)C(=O)OCC)C)C AUPR: nan\n",
      "2022-07-22 13:44:05,967 [INFO] Substrate CCOC(=O)C1=C(NC(=C(C1C2=CC=CC=C2)C(=O)OCC)C)C AUPR: nan\n",
      "2022-07-22 13:44:05,967 [INFO] Substrate CCOC(=O)C1=C(NC(=C(C1C2=CC=CC=C2)C(=O)OCC)C)C AUPR: nan\n",
      "2022-07-22 13:44:05,969 [INFO] Substrate C[C@H](C(=O)OC)O AUPR: nan\n",
      "2022-07-22 13:44:05,969 [INFO] Substrate C[C@H](C(=O)OC)O AUPR: nan\n",
      "2022-07-22 13:44:05,969 [INFO] Substrate C[C@H](C(=O)OC)O AUPR: nan\n",
      "2022-07-22 13:44:05,970 [INFO] Substrate C[C@@H](C(=O)OC)O AUPR: nan\n",
      "2022-07-22 13:44:05,970 [INFO] Substrate C[C@@H](C(=O)OC)O AUPR: nan\n",
      "2022-07-22 13:44:05,970 [INFO] Substrate C[C@@H](C(=O)OC)O AUPR: nan\n",
      "2022-07-22 13:44:05,971 [INFO] Substrate CCCOC(=O)C AUPR: nan\n",
      "2022-07-22 13:44:05,971 [INFO] Substrate CCCOC(=O)C AUPR: nan\n",
      "2022-07-22 13:44:05,971 [INFO] Substrate CCCOC(=O)C AUPR: nan\n",
      "2022-07-22 13:44:05,972 [INFO] Substrate CCCCOC(=O)C AUPR: nan\n",
      "2022-07-22 13:44:05,972 [INFO] Substrate CCCCOC(=O)C AUPR: nan\n",
      "2022-07-22 13:44:05,972 [INFO] Substrate CCCCOC(=O)C AUPR: nan\n",
      "2022-07-22 13:44:05,973 [INFO] Substrate CC(=O)OC1=CC=CC=C1 AUPR: nan\n",
      "2022-07-22 13:44:05,973 [INFO] Substrate CC(=O)OC1=CC=CC=C1 AUPR: nan\n",
      "2022-07-22 13:44:05,973 [INFO] Substrate CC(=O)OC1=CC=CC=C1 AUPR: nan\n",
      "2022-07-22 13:44:05,974 [INFO] Substrate CCC(=O)OC1=CC=CC=C1 AUPR: nan\n",
      "2022-07-22 13:44:05,974 [INFO] Substrate CCC(=O)OC1=CC=CC=C1 AUPR: nan\n",
      "2022-07-22 13:44:05,974 [INFO] Substrate CCC(=O)OC1=CC=CC=C1 AUPR: nan\n",
      "2022-07-22 13:44:05,975 [INFO] Substrate CC(=O)OCC(C(C(C(C=O)OC(=O)C)OC(=O)C)OC(=O)C)OC(=O)C AUPR: nan\n",
      "2022-07-22 13:44:05,975 [INFO] Substrate CC(=O)OCC(C(C(C(C=O)OC(=O)C)OC(=O)C)OC(=O)C)OC(=O)C AUPR: nan\n",
      "2022-07-22 13:44:05,975 [INFO] Substrate CC(=O)OCC(C(C(C(C=O)OC(=O)C)OC(=O)C)OC(=O)C)OC(=O)C AUPR: nan\n",
      "2022-07-22 13:44:05,979 [INFO] Substrate CCCCCCCCCCCC(=O)OCC(COC(=O)CCCCCCCCCCC)OC(=O)CCCCCCCCCCC AUPR: nan\n",
      "2022-07-22 13:44:05,979 [INFO] Substrate CCCCCCCCCCCC(=O)OCC(COC(=O)CCCCCCCCCCC)OC(=O)CCCCCCCCCCC AUPR: nan\n",
      "2022-07-22 13:44:05,979 [INFO] Substrate CCCCCCCCCCCC(=O)OCC(COC(=O)CCCCCCCCCCC)OC(=O)CCCCCCCCCCC AUPR: nan\n",
      "2022-07-22 13:44:05,980 [INFO] AUPR: 0.9629192797942798\n",
      "2022-07-22 13:44:05,980 [INFO] AUPR: 0.9629192797942798\n",
      "2022-07-22 13:44:05,980 [INFO] AUPR: 0.9629192797942798\n",
      "2022-07-22 13:44:05,981 [INFO] {'CC(=O)OC1=CC=CC2=CC=CC=C21': array([1.        , 0.91179317, 0.9571163 , 0.92607888, 1.        ,\n",
      "       1.        , 1.        , 0.89722939, 1.        , 0.93697506]), 'CCCC(=O)OC1=CC=CC2=CC=CC=C21': array([], dtype=float64), 'CC(=O)OCC(COC(=O)C)OC(=O)C': array([], dtype=float64), 'CCC(=O)OCC(COC(=O)CC)OC(=O)CC': array([], dtype=float64), 'CCCC(=O)OCC(COC(=O)CCC)OC(=O)CCC': array([], dtype=float64), 'CCCCCCCC(=O)OCC(COC(=O)CCCCCCC)OC(=O)CCCCCCC': array([], dtype=float64), 'CCCCCCCCC=CCCCCCCCC(=O)OCC(COC(=O)CCCCCCCC=CCCCCCCCC)OC(=O)CCCCCCCC=CCCCCCCCC': array([], dtype=float64), 'CCCCCCOC(=O)C': array([], dtype=float64), 'CCCCCCCCOC(=O)C': array([], dtype=float64), 'CCCCCCCCCCCCOC(=O)C': array([], dtype=float64), 'CCCCCCCCCCCCCCCOC(=O)C': array([], dtype=float64), 'CCOC(=O)C': array([], dtype=float64), 'CCC(=O)OCC': array([], dtype=float64), 'CCCC(=O)OCC': array([], dtype=float64), 'CCCCCC(=O)OCC': array([], dtype=float64), 'CCCCCCCC(=O)OCC': array([], dtype=float64), 'CCCCCCCCCC(=O)OCC': array([], dtype=float64), 'CCCCCCCCCCCC(=O)OCC': array([], dtype=float64), 'CCCCCCCCCCCCCC(=O)OCC': array([], dtype=float64), 'CCOC(=O)C1=CC=CC=C1': array([], dtype=float64), 'C[C@@H]1CCC(C(C1)OC(=O)C)C(C)C': array([], dtype=float64), 'C[C@H]1CCC(C(C1)OC(=O)C)C(C)C': array([], dtype=float64), 'CCOC(=O)[C@@H]1CCCN1CC2=CC=CC=C2': array([], dtype=float64), 'CCOC(=O)[C@H]1CCCN1CC2=CC=CC=C2': array([], dtype=float64), 'COC(=O)[C@@H](C1=CC=CC=C1)O': array([], dtype=float64), 'COC(=O)[C@H](C1=CC=CC=C1)O': array([], dtype=float64), 'CCOC(=O)C[C@H](CCl)O': array([], dtype=float64), 'CCOC(=O)C[C@@H](CCl)O': array([], dtype=float64), 'CCOC(=O)[C@@H](C)O': array([], dtype=float64), 'CCOC(=O)[C@H](C)O': array([], dtype=float64), 'C[C@@H](CC(=O)OC)O': array([], dtype=float64), 'C1=CC=C(C=C1)COC(=O)C2=CC=C(C=C2)C=O': array([], dtype=float64), 'C[C@H](CC(=O)OC)O': array([], dtype=float64), 'C[C@H]1CC[C@@H]([C@@H](C1)OC(=O)C)C(C)C': array([], dtype=float64), 'C[C@@H]1CC[C@H]([C@H](C1)OC(=O)C)C(C)C': array([], dtype=float64), 'CCCOC(=O)C1=CC=C(C=C1)O': array([], dtype=float64), 'CCCCOC(=O)C1=CC=C(C=C1)O': array([], dtype=float64), 'COC(=O)C1=CC(=CC=C1)O': array([], dtype=float64), 'COC(=O)C1=CC=CC=C1O': array([], dtype=float64), 'CCOC(=O)C1=CC=CC=C1C(=O)OCC': array([], dtype=float64), 'CC[C@H](CC(=O)OC)O': array([], dtype=float64), 'CC[C@@H](CC(=O)OC)O': array([], dtype=float64), 'C1=CC=C(C=C1)C[C@H](C(=O)OCC2=CC=CC=C2)O': array([], dtype=float64), 'C1=CC=C(C=C1)COC(=O)C2=CC=C(C=C2)O': array([], dtype=float64), 'COC(=O)C1=CC=CC=C1': array([], dtype=float64), 'CCCC(=O)OC': array([], dtype=float64), 'CCCCCCCCCC(=O)OC': array([], dtype=float64), 'CCCCCCCCC=CCCCCCCCC(=O)OC': array([], dtype=float64), 'CCCCCC(=O)OC': array([], dtype=float64), 'CCCCCCCC(=O)OC': array([], dtype=float64), 'CCCCCCCCCCCC(=O)OC': array([], dtype=float64), 'CCCCCCCCCCCCCC(=O)OC': array([], dtype=float64), 'CCCOC(=O)CC': array([], dtype=float64), 'CCCC(=O)OCCC': array([], dtype=float64), 'CCCCCC(=O)OCCC': array([], dtype=float64), 'C1=CC=C(C=C1)CCOC(=O)C=CC2=CC=CC=C2': array([], dtype=float64), 'CC(C)COC(=O)C=CC1=CC=CC=C1': array([], dtype=float64), 'COC(=O)/C=C/C1=C(C=CC(=C1)O)O': array([], dtype=float64), 'COC(=O)C=CC1=CC=CC=C1': array([], dtype=float64), 'COC1=C(C=CC(=C1)C=CC(=O)OC)O': array([], dtype=float64), 'CC(=O)OC=C': array([], dtype=float64), 'CCC(=O)OC=C': array([], dtype=float64), 'CCCC(=O)OC=C': array([], dtype=float64), 'CCCCCCCCCCCC(=O)OC=C': array([], dtype=float64), 'CCCCCCCCCCCCCC(=O)OC=C': array([], dtype=float64), 'CCCCCCCCCCCCCCCC(=O)OC=C': array([], dtype=float64), 'CCCCCCCCC=CCCCCCCCC(=O)OC=C': array([], dtype=float64), 'C=COC(=O)C1=CC=CC=C1': array([], dtype=float64), 'CC=CC(=O)OC=C': array([], dtype=float64), 'C=CC(=O)OC=C': array([], dtype=float64), 'CC(=CCCC(=CCOC(=O)C)C)C': array([], dtype=float64), 'CC(=C)CCOC(=O)C': array([], dtype=float64), 'CCC(C(=O)C)C(=O)OCC': array([], dtype=float64), 'CCOC(=O)C(C)C(=O)C': array([], dtype=float64), 'CCCC(=O)CC(=O)OCC': array([], dtype=float64), 'CCOC(=O)CC(=O)C': array([], dtype=float64), 'CCC(=O)CC(=O)OCC': array([], dtype=float64), 'CC1CCC(=O)O1': array([], dtype=float64), 'COC(=O)CO': array([], dtype=float64), 'CC1(COC(=O)[C@@H]1O)C': array([], dtype=float64), 'CC1(COC(=O)[C@H]1O)C': array([], dtype=float64), 'C[C@@H]1CC[C@H]([C@@H](C1)OC(=O)CCC(=O)O[C@@H]2C[C@@H](CC[C@H]2C(C)C)C)C(C)C': array([], dtype=float64), 'CCOC(=O)C1=CC=CC=C1Cl': array([], dtype=float64), 'CCCC(=O)OC1CCCCC1': array([], dtype=float64), 'CCCCCOC(=O)C1=CC=CC=C1': array([], dtype=float64), 'C1=CC(=C(C=C1Cl)Cl)C(=O)OC2=C(C=C(C=C2)Cl)Cl': array([], dtype=float64), 'C1=CC(=C(C=C1Cl)Cl)COC(=O)C2=C(C=C(C=C2)Cl)Cl': array([], dtype=float64), 'CCOC(=O)C1=C(NC(=C(C1C2=CC=CC=C2)C(=O)OCC)C)C': array([], dtype=float64), 'C[C@H](C(=O)OC)O': array([], dtype=float64), 'C[C@@H](C(=O)OC)O': array([], dtype=float64), 'CCCOC(=O)C': array([], dtype=float64), 'CCCCOC(=O)C': array([], dtype=float64), 'CC(=O)OC1=CC=CC=C1': array([], dtype=float64), 'CCC(=O)OC1=CC=CC=C1': array([], dtype=float64), 'CC(=O)OCC(C(C(C(C=O)OC(=O)C)OC(=O)C)OC(=O)C)OC(=O)C': array([], dtype=float64), 'CCCCCCCCCCCC(=O)OCC(COC(=O)CCCCCCCCCCC)OC(=O)CCCCCCCCCCC': array([], dtype=float64)}\n",
      "2022-07-22 13:44:05,981 [INFO] {'CC(=O)OC1=CC=CC2=CC=CC=C21': array([1.        , 0.91179317, 0.9571163 , 0.92607888, 1.        ,\n",
      "       1.        , 1.        , 0.89722939, 1.        , 0.93697506]), 'CCCC(=O)OC1=CC=CC2=CC=CC=C21': array([], dtype=float64), 'CC(=O)OCC(COC(=O)C)OC(=O)C': array([], dtype=float64), 'CCC(=O)OCC(COC(=O)CC)OC(=O)CC': array([], dtype=float64), 'CCCC(=O)OCC(COC(=O)CCC)OC(=O)CCC': array([], dtype=float64), 'CCCCCCCC(=O)OCC(COC(=O)CCCCCCC)OC(=O)CCCCCCC': array([], dtype=float64), 'CCCCCCCCC=CCCCCCCCC(=O)OCC(COC(=O)CCCCCCCC=CCCCCCCCC)OC(=O)CCCCCCCC=CCCCCCCCC': array([], dtype=float64), 'CCCCCCOC(=O)C': array([], dtype=float64), 'CCCCCCCCOC(=O)C': array([], dtype=float64), 'CCCCCCCCCCCCOC(=O)C': array([], dtype=float64), 'CCCCCCCCCCCCCCCOC(=O)C': array([], dtype=float64), 'CCOC(=O)C': array([], dtype=float64), 'CCC(=O)OCC': array([], dtype=float64), 'CCCC(=O)OCC': array([], dtype=float64), 'CCCCCC(=O)OCC': array([], dtype=float64), 'CCCCCCCC(=O)OCC': array([], dtype=float64), 'CCCCCCCCCC(=O)OCC': array([], dtype=float64), 'CCCCCCCCCCCC(=O)OCC': array([], dtype=float64), 'CCCCCCCCCCCCCC(=O)OCC': array([], dtype=float64), 'CCOC(=O)C1=CC=CC=C1': array([], dtype=float64), 'C[C@@H]1CCC(C(C1)OC(=O)C)C(C)C': array([], dtype=float64), 'C[C@H]1CCC(C(C1)OC(=O)C)C(C)C': array([], dtype=float64), 'CCOC(=O)[C@@H]1CCCN1CC2=CC=CC=C2': array([], dtype=float64), 'CCOC(=O)[C@H]1CCCN1CC2=CC=CC=C2': array([], dtype=float64), 'COC(=O)[C@@H](C1=CC=CC=C1)O': array([], dtype=float64), 'COC(=O)[C@H](C1=CC=CC=C1)O': array([], dtype=float64), 'CCOC(=O)C[C@H](CCl)O': array([], dtype=float64), 'CCOC(=O)C[C@@H](CCl)O': array([], dtype=float64), 'CCOC(=O)[C@@H](C)O': array([], dtype=float64), 'CCOC(=O)[C@H](C)O': array([], dtype=float64), 'C[C@@H](CC(=O)OC)O': array([], dtype=float64), 'C1=CC=C(C=C1)COC(=O)C2=CC=C(C=C2)C=O': array([], dtype=float64), 'C[C@H](CC(=O)OC)O': array([], dtype=float64), 'C[C@H]1CC[C@@H]([C@@H](C1)OC(=O)C)C(C)C': array([], dtype=float64), 'C[C@@H]1CC[C@H]([C@H](C1)OC(=O)C)C(C)C': array([], dtype=float64), 'CCCOC(=O)C1=CC=C(C=C1)O': array([], dtype=float64), 'CCCCOC(=O)C1=CC=C(C=C1)O': array([], dtype=float64), 'COC(=O)C1=CC(=CC=C1)O': array([], dtype=float64), 'COC(=O)C1=CC=CC=C1O': array([], dtype=float64), 'CCOC(=O)C1=CC=CC=C1C(=O)OCC': array([], dtype=float64), 'CC[C@H](CC(=O)OC)O': array([], dtype=float64), 'CC[C@@H](CC(=O)OC)O': array([], dtype=float64), 'C1=CC=C(C=C1)C[C@H](C(=O)OCC2=CC=CC=C2)O': array([], dtype=float64), 'C1=CC=C(C=C1)COC(=O)C2=CC=C(C=C2)O': array([], dtype=float64), 'COC(=O)C1=CC=CC=C1': array([], dtype=float64), 'CCCC(=O)OC': array([], dtype=float64), 'CCCCCCCCCC(=O)OC': array([], dtype=float64), 'CCCCCCCCC=CCCCCCCCC(=O)OC': array([], dtype=float64), 'CCCCCC(=O)OC': array([], dtype=float64), 'CCCCCCCC(=O)OC': array([], dtype=float64), 'CCCCCCCCCCCC(=O)OC': array([], dtype=float64), 'CCCCCCCCCCCCCC(=O)OC': array([], dtype=float64), 'CCCOC(=O)CC': array([], dtype=float64), 'CCCC(=O)OCCC': array([], dtype=float64), 'CCCCCC(=O)OCCC': array([], dtype=float64), 'C1=CC=C(C=C1)CCOC(=O)C=CC2=CC=CC=C2': array([], dtype=float64), 'CC(C)COC(=O)C=CC1=CC=CC=C1': array([], dtype=float64), 'COC(=O)/C=C/C1=C(C=CC(=C1)O)O': array([], dtype=float64), 'COC(=O)C=CC1=CC=CC=C1': array([], dtype=float64), 'COC1=C(C=CC(=C1)C=CC(=O)OC)O': array([], dtype=float64), 'CC(=O)OC=C': array([], dtype=float64), 'CCC(=O)OC=C': array([], dtype=float64), 'CCCC(=O)OC=C': array([], dtype=float64), 'CCCCCCCCCCCC(=O)OC=C': array([], dtype=float64), 'CCCCCCCCCCCCCC(=O)OC=C': array([], dtype=float64), 'CCCCCCCCCCCCCCCC(=O)OC=C': array([], dtype=float64), 'CCCCCCCCC=CCCCCCCCC(=O)OC=C': array([], dtype=float64), 'C=COC(=O)C1=CC=CC=C1': array([], dtype=float64), 'CC=CC(=O)OC=C': array([], dtype=float64), 'C=CC(=O)OC=C': array([], dtype=float64), 'CC(=CCCC(=CCOC(=O)C)C)C': array([], dtype=float64), 'CC(=C)CCOC(=O)C': array([], dtype=float64), 'CCC(C(=O)C)C(=O)OCC': array([], dtype=float64), 'CCOC(=O)C(C)C(=O)C': array([], dtype=float64), 'CCCC(=O)CC(=O)OCC': array([], dtype=float64), 'CCOC(=O)CC(=O)C': array([], dtype=float64), 'CCC(=O)CC(=O)OCC': array([], dtype=float64), 'CC1CCC(=O)O1': array([], dtype=float64), 'COC(=O)CO': array([], dtype=float64), 'CC1(COC(=O)[C@@H]1O)C': array([], dtype=float64), 'CC1(COC(=O)[C@H]1O)C': array([], dtype=float64), 'C[C@@H]1CC[C@H]([C@@H](C1)OC(=O)CCC(=O)O[C@@H]2C[C@@H](CC[C@H]2C(C)C)C)C(C)C': array([], dtype=float64), 'CCOC(=O)C1=CC=CC=C1Cl': array([], dtype=float64), 'CCCC(=O)OC1CCCCC1': array([], dtype=float64), 'CCCCCOC(=O)C1=CC=CC=C1': array([], dtype=float64), 'C1=CC(=C(C=C1Cl)Cl)C(=O)OC2=C(C=C(C=C2)Cl)Cl': array([], dtype=float64), 'C1=CC(=C(C=C1Cl)Cl)COC(=O)C2=C(C=C(C=C2)Cl)Cl': array([], dtype=float64), 'CCOC(=O)C1=C(NC(=C(C1C2=CC=CC=C2)C(=O)OCC)C)C': array([], dtype=float64), 'C[C@H](C(=O)OC)O': array([], dtype=float64), 'C[C@@H](C(=O)OC)O': array([], dtype=float64), 'CCCOC(=O)C': array([], dtype=float64), 'CCCCOC(=O)C': array([], dtype=float64), 'CC(=O)OC1=CC=CC=C1': array([], dtype=float64), 'CCC(=O)OC1=CC=CC=C1': array([], dtype=float64), 'CC(=O)OCC(C(C(C(C=O)OC(=O)C)OC(=O)C)OC(=O)C)OC(=O)C': array([], dtype=float64), 'CCCCCCCCCCCC(=O)OCC(COC(=O)CCCCCCCCCCC)OC(=O)CCCCCCCCCCC': array([], dtype=float64)}\n",
      "2022-07-22 13:44:05,981 [INFO] {'CC(=O)OC1=CC=CC2=CC=CC=C21': array([1.        , 0.91179317, 0.9571163 , 0.92607888, 1.        ,\n",
      "       1.        , 1.        , 0.89722939, 1.        , 0.93697506]), 'CCCC(=O)OC1=CC=CC2=CC=CC=C21': array([], dtype=float64), 'CC(=O)OCC(COC(=O)C)OC(=O)C': array([], dtype=float64), 'CCC(=O)OCC(COC(=O)CC)OC(=O)CC': array([], dtype=float64), 'CCCC(=O)OCC(COC(=O)CCC)OC(=O)CCC': array([], dtype=float64), 'CCCCCCCC(=O)OCC(COC(=O)CCCCCCC)OC(=O)CCCCCCC': array([], dtype=float64), 'CCCCCCCCC=CCCCCCCCC(=O)OCC(COC(=O)CCCCCCCC=CCCCCCCCC)OC(=O)CCCCCCCC=CCCCCCCCC': array([], dtype=float64), 'CCCCCCOC(=O)C': array([], dtype=float64), 'CCCCCCCCOC(=O)C': array([], dtype=float64), 'CCCCCCCCCCCCOC(=O)C': array([], dtype=float64), 'CCCCCCCCCCCCCCCOC(=O)C': array([], dtype=float64), 'CCOC(=O)C': array([], dtype=float64), 'CCC(=O)OCC': array([], dtype=float64), 'CCCC(=O)OCC': array([], dtype=float64), 'CCCCCC(=O)OCC': array([], dtype=float64), 'CCCCCCCC(=O)OCC': array([], dtype=float64), 'CCCCCCCCCC(=O)OCC': array([], dtype=float64), 'CCCCCCCCCCCC(=O)OCC': array([], dtype=float64), 'CCCCCCCCCCCCCC(=O)OCC': array([], dtype=float64), 'CCOC(=O)C1=CC=CC=C1': array([], dtype=float64), 'C[C@@H]1CCC(C(C1)OC(=O)C)C(C)C': array([], dtype=float64), 'C[C@H]1CCC(C(C1)OC(=O)C)C(C)C': array([], dtype=float64), 'CCOC(=O)[C@@H]1CCCN1CC2=CC=CC=C2': array([], dtype=float64), 'CCOC(=O)[C@H]1CCCN1CC2=CC=CC=C2': array([], dtype=float64), 'COC(=O)[C@@H](C1=CC=CC=C1)O': array([], dtype=float64), 'COC(=O)[C@H](C1=CC=CC=C1)O': array([], dtype=float64), 'CCOC(=O)C[C@H](CCl)O': array([], dtype=float64), 'CCOC(=O)C[C@@H](CCl)O': array([], dtype=float64), 'CCOC(=O)[C@@H](C)O': array([], dtype=float64), 'CCOC(=O)[C@H](C)O': array([], dtype=float64), 'C[C@@H](CC(=O)OC)O': array([], dtype=float64), 'C1=CC=C(C=C1)COC(=O)C2=CC=C(C=C2)C=O': array([], dtype=float64), 'C[C@H](CC(=O)OC)O': array([], dtype=float64), 'C[C@H]1CC[C@@H]([C@@H](C1)OC(=O)C)C(C)C': array([], dtype=float64), 'C[C@@H]1CC[C@H]([C@H](C1)OC(=O)C)C(C)C': array([], dtype=float64), 'CCCOC(=O)C1=CC=C(C=C1)O': array([], dtype=float64), 'CCCCOC(=O)C1=CC=C(C=C1)O': array([], dtype=float64), 'COC(=O)C1=CC(=CC=C1)O': array([], dtype=float64), 'COC(=O)C1=CC=CC=C1O': array([], dtype=float64), 'CCOC(=O)C1=CC=CC=C1C(=O)OCC': array([], dtype=float64), 'CC[C@H](CC(=O)OC)O': array([], dtype=float64), 'CC[C@@H](CC(=O)OC)O': array([], dtype=float64), 'C1=CC=C(C=C1)C[C@H](C(=O)OCC2=CC=CC=C2)O': array([], dtype=float64), 'C1=CC=C(C=C1)COC(=O)C2=CC=C(C=C2)O': array([], dtype=float64), 'COC(=O)C1=CC=CC=C1': array([], dtype=float64), 'CCCC(=O)OC': array([], dtype=float64), 'CCCCCCCCCC(=O)OC': array([], dtype=float64), 'CCCCCCCCC=CCCCCCCCC(=O)OC': array([], dtype=float64), 'CCCCCC(=O)OC': array([], dtype=float64), 'CCCCCCCC(=O)OC': array([], dtype=float64), 'CCCCCCCCCCCC(=O)OC': array([], dtype=float64), 'CCCCCCCCCCCCCC(=O)OC': array([], dtype=float64), 'CCCOC(=O)CC': array([], dtype=float64), 'CCCC(=O)OCCC': array([], dtype=float64), 'CCCCCC(=O)OCCC': array([], dtype=float64), 'C1=CC=C(C=C1)CCOC(=O)C=CC2=CC=CC=C2': array([], dtype=float64), 'CC(C)COC(=O)C=CC1=CC=CC=C1': array([], dtype=float64), 'COC(=O)/C=C/C1=C(C=CC(=C1)O)O': array([], dtype=float64), 'COC(=O)C=CC1=CC=CC=C1': array([], dtype=float64), 'COC1=C(C=CC(=C1)C=CC(=O)OC)O': array([], dtype=float64), 'CC(=O)OC=C': array([], dtype=float64), 'CCC(=O)OC=C': array([], dtype=float64), 'CCCC(=O)OC=C': array([], dtype=float64), 'CCCCCCCCCCCC(=O)OC=C': array([], dtype=float64), 'CCCCCCCCCCCCCC(=O)OC=C': array([], dtype=float64), 'CCCCCCCCCCCCCCCC(=O)OC=C': array([], dtype=float64), 'CCCCCCCCC=CCCCCCCCC(=O)OC=C': array([], dtype=float64), 'C=COC(=O)C1=CC=CC=C1': array([], dtype=float64), 'CC=CC(=O)OC=C': array([], dtype=float64), 'C=CC(=O)OC=C': array([], dtype=float64), 'CC(=CCCC(=CCOC(=O)C)C)C': array([], dtype=float64), 'CC(=C)CCOC(=O)C': array([], dtype=float64), 'CCC(C(=O)C)C(=O)OCC': array([], dtype=float64), 'CCOC(=O)C(C)C(=O)C': array([], dtype=float64), 'CCCC(=O)CC(=O)OCC': array([], dtype=float64), 'CCOC(=O)CC(=O)C': array([], dtype=float64), 'CCC(=O)CC(=O)OCC': array([], dtype=float64), 'CC1CCC(=O)O1': array([], dtype=float64), 'COC(=O)CO': array([], dtype=float64), 'CC1(COC(=O)[C@@H]1O)C': array([], dtype=float64), 'CC1(COC(=O)[C@H]1O)C': array([], dtype=float64), 'C[C@@H]1CC[C@H]([C@@H](C1)OC(=O)CCC(=O)O[C@@H]2C[C@@H](CC[C@H]2C(C)C)C)C(C)C': array([], dtype=float64), 'CCOC(=O)C1=CC=CC=C1Cl': array([], dtype=float64), 'CCCC(=O)OC1CCCCC1': array([], dtype=float64), 'CCCCCOC(=O)C1=CC=CC=C1': array([], dtype=float64), 'C1=CC(=C(C=C1Cl)Cl)C(=O)OC2=C(C=C(C=C2)Cl)Cl': array([], dtype=float64), 'C1=CC(=C(C=C1Cl)Cl)COC(=O)C2=C(C=C(C=C2)Cl)Cl': array([], dtype=float64), 'CCOC(=O)C1=C(NC(=C(C1C2=CC=CC=C2)C(=O)OCC)C)C': array([], dtype=float64), 'C[C@H](C(=O)OC)O': array([], dtype=float64), 'C[C@@H](C(=O)OC)O': array([], dtype=float64), 'CCCOC(=O)C': array([], dtype=float64), 'CCCCOC(=O)C': array([], dtype=float64), 'CC(=O)OC1=CC=CC=C1': array([], dtype=float64), 'CCC(=O)OC1=CC=CC=C1': array([], dtype=float64), 'CC(=O)OCC(C(C(C(C=O)OC(=O)C)OC(=O)C)OC(=O)C)OC(=O)C': array([], dtype=float64), 'CCCCCCCCCCCC(=O)OCC(COC(=O)CCCCCCCCCCC)OC(=O)CCCCCCCCCCC': array([], dtype=float64)}\n"
     ]
    }
   ],
   "source": [
    "each_avg_aupr = []\n",
    "for curr_task in substrates:\n",
    "    avg_aupr = np.nanmean(task_aupr[curr_task])\n",
    "    logg.info(f\"Substrate {curr_task} AUPR: {avg_aupr}\")\n",
    "    each_avg_aupr.append(avg_aupr)\n",
    "\n",
    "logg.info(f\"AUPR: {np.nanmean(np.array(each_avg_aupr))}\")\n",
    "logg.info(task_aupr)"
   ]
  },
  {
   "cell_type": "code",
   "execution_count": 86,
   "id": "546b0813-36c9-4929-b01f-166d8e5a46cd",
   "metadata": {},
   "outputs": [],
   "source": [
    "with open(f\"{conf.enzyme_type}_results.pk\", \"wb\") as fi:\n",
    "    pk.dump(tapr, fi)"
   ]
  },
  {
   "cell_type": "code",
   "execution_count": 97,
   "id": "1cd0db05-78e4-47c4-a5d2-468984e0da46",
   "metadata": {},
   "outputs": [
    {
     "data": {
      "text/plain": [
       "nan"
      ]
     },
     "execution_count": 97,
     "metadata": {},
     "output_type": "execute_result"
    }
   ],
   "source": [
    "labels = [0,0,0,0,0]\n",
    "preds = [0.1,0.9,0.3,0.5,0.4]\n",
    "\n",
    "average_precision_score(labels, preds)"
   ]
  },
  {
   "cell_type": "code",
   "execution_count": 104,
   "id": "758a8470-6133-485c-84f6-2c95b711792d",
   "metadata": {},
   "outputs": [],
   "source": [
    "from pathlib import Path"
   ]
  },
  {
   "cell_type": "code",
   "execution_count": 105,
   "id": "a89b3ff2-7dbb-4a19-a845-180a8f410723",
   "metadata": {},
   "outputs": [],
   "source": [
    "p = Path(\"src/featurizers/base.py\")"
   ]
  },
  {
   "cell_type": "code",
   "execution_count": 110,
   "id": "74654e64-eba1-40d3-b057-fd1041eadbd2",
   "metadata": {},
   "outputs": [
    {
     "data": {
      "text/plain": [
       "PosixPath('/data/cb/samsl/Adapting_PLM_DTI/src/featurizers/base.log')"
      ]
     },
     "execution_count": 110,
     "metadata": {},
     "output_type": "execute_result"
    }
   ],
   "source": [
    "p.absolute().with_suffix(\".log\")"
   ]
  },
  {
   "cell_type": "code",
   "execution_count": null,
   "id": "f2853b53-d595-4f2d-8b24-f68535c067d0",
   "metadata": {},
   "outputs": [],
   "source": []
  },
  {
   "cell_type": "code",
   "execution_count": 1,
   "id": "d2eac24d-4e91-4954-b267-0b3233d6315b",
   "metadata": {},
   "outputs": [],
   "source": [
    "import torch"
   ]
  },
  {
   "cell_type": "code",
   "execution_count": 3,
   "id": "c3bb230b-8ab8-4d1e-8284-9c0cc7cceaad",
   "metadata": {},
   "outputs": [],
   "source": [
    "labels = [1,1,1,1,1]\n",
    "preds = [0.1,0.2,0.3,0.4,0.5]"
   ]
  },
  {
   "cell_type": "code",
   "execution_count": 12,
   "id": "45d78b4f-a1d4-48b3-bd01-bf96eec5a08f",
   "metadata": {},
   "outputs": [
    {
     "data": {
      "text/plain": [
       "tensor([1.0000, 1.0000, 1.0000, 1.0000, 1.0000, 0.1000, 0.2000, 0.3000, 0.4000,\n",
       "        0.5000])"
      ]
     },
     "execution_count": 12,
     "metadata": {},
     "output_type": "execute_result"
    }
   ],
   "source": [
    "t1 = torch.tensor(labels)\n",
    "t2 = torch.tensor(preds)\n",
    "t3 = torch.tensor(0.5)\n",
    "torch.cat([t1,t2])"
   ]
  },
  {
   "cell_type": "code",
   "execution_count": 13,
   "id": "c861c94e-ebee-4d08-a430-b0eb6cfa798b",
   "metadata": {},
   "outputs": [
    {
     "ename": "RuntimeError",
     "evalue": "zero-dimensional tensor (at position 0) cannot be concatenated",
     "output_type": "error",
     "traceback": [
      "\u001b[0;31m---------------------------------------------------------------------------\u001b[0m",
      "\u001b[0;31mRuntimeError\u001b[0m                              Traceback (most recent call last)",
      "\u001b[0;32m/tmp/ipykernel_713278/1354331379.py\u001b[0m in \u001b[0;36m<module>\u001b[0;34m\u001b[0m\n\u001b[0;32m----> 1\u001b[0;31m \u001b[0mtorch\u001b[0m\u001b[0;34m.\u001b[0m\u001b[0mcat\u001b[0m\u001b[0;34m(\u001b[0m\u001b[0;34m[\u001b[0m\u001b[0mt3\u001b[0m\u001b[0;34m]\u001b[0m\u001b[0;34m)\u001b[0m\u001b[0;34m\u001b[0m\u001b[0;34m\u001b[0m\u001b[0m\n\u001b[0m",
      "\u001b[0;31mRuntimeError\u001b[0m: zero-dimensional tensor (at position 0) cannot be concatenated"
     ]
    }
   ],
   "source": [
    "torch.cat([t3])"
   ]
  },
  {
   "cell_type": "code",
   "execution_count": 16,
   "id": "38113801-fb8b-43f0-b7b2-8089a0c5debb",
   "metadata": {},
   "outputs": [
    {
     "data": {
      "text/plain": [
       "tensor([1, 1, 1, 1, 1])"
      ]
     },
     "execution_count": 16,
     "metadata": {},
     "output_type": "execute_result"
    }
   ],
   "source": [
    "t1"
   ]
  },
  {
   "cell_type": "code",
   "execution_count": 19,
   "id": "aa6c27e3-37bb-412f-9574-b9e492d1b476",
   "metadata": {},
   "outputs": [
    {
     "data": {
      "text/plain": [
       "tensor([1, 1, 1, 1, 1])"
      ]
     },
     "execution_count": 19,
     "metadata": {},
     "output_type": "execute_result"
    }
   ],
   "source": [
    "t1.reshape(-1)"
   ]
  },
  {
   "cell_type": "code",
   "execution_count": 17,
   "id": "7fc44c69-07ae-440f-8db9-9592b0737939",
   "metadata": {},
   "outputs": [
    {
     "data": {
      "text/plain": [
       "tensor(0.5000)"
      ]
     },
     "execution_count": 17,
     "metadata": {},
     "output_type": "execute_result"
    }
   ],
   "source": [
    "t3"
   ]
  },
  {
   "cell_type": "code",
   "execution_count": 21,
   "id": "66ee4adf-969c-46d0-93c7-823eeb97ff45",
   "metadata": {},
   "outputs": [
    {
     "data": {
      "text/plain": [
       "tensor([0.5000])"
      ]
     },
     "execution_count": 21,
     "metadata": {},
     "output_type": "execute_result"
    }
   ],
   "source": [
    "t3.view(-1)"
   ]
  },
  {
   "cell_type": "code",
   "execution_count": 22,
   "id": "5f950fb0-37ef-404f-a8b0-8b2826da957d",
   "metadata": {},
   "outputs": [
    {
     "ename": "NameError",
     "evalue": "name 'TASK_PATH' is not defined",
     "output_type": "error",
     "traceback": [
      "\u001b[0;31m---------------------------------------------------------------------------\u001b[0m",
      "\u001b[0;31mNameError\u001b[0m                                 Traceback (most recent call last)",
      "\u001b[0;32m/tmp/ipykernel_713278/1948290256.py\u001b[0m in \u001b[0;36m<module>\u001b[0;34m\u001b[0m\n\u001b[0;32m----> 1\u001b[0;31m \u001b[0mTASK_PATH\u001b[0m\u001b[0;34m\u001b[0m\u001b[0;34m\u001b[0m\u001b[0m\n\u001b[0m",
      "\u001b[0;31mNameError\u001b[0m: name 'TASK_PATH' is not defined"
     ]
    }
   ],
   "source": [
    "TASK_PATH"
   ]
  }
 ],
 "metadata": {
  "kernelspec": {
   "display_name": "dsplat",
   "language": "python",
   "name": "dsplat"
  },
  "language_info": {
   "codemirror_mode": {
    "name": "ipython",
    "version": 3
   },
   "file_extension": ".py",
   "mimetype": "text/x-python",
   "name": "python",
   "nbconvert_exporter": "python",
   "pygments_lexer": "ipython3",
   "version": "3.7.12"
  }
 },
 "nbformat": 4,
 "nbformat_minor": 5
}
