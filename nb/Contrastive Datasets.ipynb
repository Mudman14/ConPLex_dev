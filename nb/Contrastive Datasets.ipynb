{
 "cells": [
  {
   "cell_type": "code",
   "execution_count": 1,
   "id": "9d24922f-a606-4d00-940a-de6ba7c3fed4",
   "metadata": {},
   "outputs": [],
   "source": [
    "import torch\n",
    "import torch.nn as nn\n",
    "from torch.utils.data import Dataset, DataLoader"
   ]
  },
  {
   "cell_type": "code",
   "execution_count": 2,
   "id": "eb4121e4-0eae-4c29-a770-7d9413c96137",
   "metadata": {},
   "outputs": [],
   "source": [
    "import pandas as pd"
   ]
  },
  {
   "cell_type": "code",
   "execution_count": 59,
   "id": "5ef52947-c2de-4651-95cc-b4f03d31142f",
   "metadata": {},
   "outputs": [],
   "source": [
    "#\n",
    "# filepath\n",
    "file_path = '../dataset/BindingDB/test.csv'\n",
    "# name of SMILES column\n",
    "smiles_col = 'SMILES'\n",
    "# name of Sequence column\n",
    "seq_col = 'Target Sequence'\n",
    "# name of Label column\n",
    "label_col = 'Label'"
   ]
  },
  {
   "cell_type": "code",
   "execution_count": 76,
   "id": "5bf2f059-75f9-4efc-ace8-1119497f7014",
   "metadata": {},
   "outputs": [],
   "source": [
    "import numpy as np\n",
    "from numpy.random import choice"
   ]
  },
  {
   "cell_type": "code",
   "execution_count": 68,
   "id": "99135e7a-1266-46a0-8a0a-9212a4651a60",
   "metadata": {},
   "outputs": [],
   "source": [
    "df = pd.read_csv(file_path,sep=',')"
   ]
  },
  {
   "cell_type": "code",
   "execution_count": 93,
   "id": "7623ccc2-cc68-47ab-8dab-d8dc192f3e42",
   "metadata": {},
   "outputs": [],
   "source": [
    "pos_df = df[df[label_col] == 1]\n",
    "neg_df = df[df[label_col] == 0]"
   ]
  },
  {
   "cell_type": "code",
   "execution_count": 101,
   "id": "58c0baef-af6e-4805-97d5-3f6c579e328f",
   "metadata": {},
   "outputs": [],
   "source": [
    "contrastive = []\n",
    "n_neg_per = 10\n",
    "\n",
    "for _,r in pos_df.iterrows():\n",
    "    for _ in range(n_neg_per):\n",
    "        contrastive.append((r[seq_col], r[smiles_col], choice(neg_df[smiles_col])))\n",
    "                       \n",
    "contrastive = pd.DataFrame(contrastive,columns=['Anchor','Positive','Negative'])"
   ]
  },
  {
   "cell_type": "code",
   "execution_count": 103,
   "id": "59449770-8758-4713-8e4c-9a4b07ea0c0c",
   "metadata": {},
   "outputs": [
    {
     "data": {
      "text/html": [
       "<div>\n",
       "<style scoped>\n",
       "    .dataframe tbody tr th:only-of-type {\n",
       "        vertical-align: middle;\n",
       "    }\n",
       "\n",
       "    .dataframe tbody tr th {\n",
       "        vertical-align: top;\n",
       "    }\n",
       "\n",
       "    .dataframe thead th {\n",
       "        text-align: right;\n",
       "    }\n",
       "</style>\n",
       "<table border=\"1\" class=\"dataframe\">\n",
       "  <thead>\n",
       "    <tr style=\"text-align: right;\">\n",
       "      <th></th>\n",
       "      <th>Anchor</th>\n",
       "      <th>Positive</th>\n",
       "      <th>Negative</th>\n",
       "    </tr>\n",
       "  </thead>\n",
       "  <tbody>\n",
       "    <tr>\n",
       "      <th>0</th>\n",
       "      <td>MSHHWGYGKHNGPEHWHKDFPIAKGERQSPVDIDTHTAKYDPSLKP...</td>\n",
       "      <td>NS(=O)(=O)c1ccc(cc1)C(=O)NCCOCCOCCN(CC([O-])=O...</td>\n",
       "      <td>Cc1[nH]c(\\C=C2/C(=O)Nc3ccc(F)cc23)c(C)c1C(=O)N...</td>\n",
       "    </tr>\n",
       "    <tr>\n",
       "      <th>1</th>\n",
       "      <td>MSHHWGYGKHNGPEHWHKDFPIAKGERQSPVDIDTHTAKYDPSLKP...</td>\n",
       "      <td>NS(=O)(=O)c1ccc(cc1)C(=O)NCCOCCOCCN(CC([O-])=O...</td>\n",
       "      <td>CCN(CCO)CCCOc1ccc2c(Nc3cc(CC(=O)Nc4cccc(F)c4)n...</td>\n",
       "    </tr>\n",
       "    <tr>\n",
       "      <th>2</th>\n",
       "      <td>MSHHWGYGKHNGPEHWHKDFPIAKGERQSPVDIDTHTAKYDPSLKP...</td>\n",
       "      <td>NS(=O)(=O)c1ccc(cc1)C(=O)NCCOCCOCCN(CC([O-])=O...</td>\n",
       "      <td>CCn1cc(cn1)-c1cnc2ccc(cc2n1)N1CCN(C)Cc2c(OC)cc...</td>\n",
       "    </tr>\n",
       "    <tr>\n",
       "      <th>3</th>\n",
       "      <td>MSHHWGYGKHNGPEHWHKDFPIAKGERQSPVDIDTHTAKYDPSLKP...</td>\n",
       "      <td>NS(=O)(=O)c1ccc(cc1)C(=O)NCCOCCOCCN(CC([O-])=O...</td>\n",
       "      <td>CC(C)(C)c1cnc(CSc2cnc(NC(=O)C3CCNCC3)s2)o1</td>\n",
       "    </tr>\n",
       "    <tr>\n",
       "      <th>4</th>\n",
       "      <td>MSHHWGYGKHNGPEHWHKDFPIAKGERQSPVDIDTHTAKYDPSLKP...</td>\n",
       "      <td>NS(=O)(=O)c1ccc(cc1)C(=O)NCCOCCOCCN(CC([O-])=O...</td>\n",
       "      <td>NC(=O)c1ccc(OCCCc2cnc[nH]2)cc1</td>\n",
       "    </tr>\n",
       "  </tbody>\n",
       "</table>\n",
       "</div>"
      ],
      "text/plain": [
       "                                              Anchor  \\\n",
       "0  MSHHWGYGKHNGPEHWHKDFPIAKGERQSPVDIDTHTAKYDPSLKP...   \n",
       "1  MSHHWGYGKHNGPEHWHKDFPIAKGERQSPVDIDTHTAKYDPSLKP...   \n",
       "2  MSHHWGYGKHNGPEHWHKDFPIAKGERQSPVDIDTHTAKYDPSLKP...   \n",
       "3  MSHHWGYGKHNGPEHWHKDFPIAKGERQSPVDIDTHTAKYDPSLKP...   \n",
       "4  MSHHWGYGKHNGPEHWHKDFPIAKGERQSPVDIDTHTAKYDPSLKP...   \n",
       "\n",
       "                                            Positive  \\\n",
       "0  NS(=O)(=O)c1ccc(cc1)C(=O)NCCOCCOCCN(CC([O-])=O...   \n",
       "1  NS(=O)(=O)c1ccc(cc1)C(=O)NCCOCCOCCN(CC([O-])=O...   \n",
       "2  NS(=O)(=O)c1ccc(cc1)C(=O)NCCOCCOCCN(CC([O-])=O...   \n",
       "3  NS(=O)(=O)c1ccc(cc1)C(=O)NCCOCCOCCN(CC([O-])=O...   \n",
       "4  NS(=O)(=O)c1ccc(cc1)C(=O)NCCOCCOCCN(CC([O-])=O...   \n",
       "\n",
       "                                            Negative  \n",
       "0  Cc1[nH]c(\\C=C2/C(=O)Nc3ccc(F)cc23)c(C)c1C(=O)N...  \n",
       "1  CCN(CCO)CCCOc1ccc2c(Nc3cc(CC(=O)Nc4cccc(F)c4)n...  \n",
       "2  CCn1cc(cn1)-c1cnc2ccc(cc2n1)N1CCN(C)Cc2c(OC)cc...  \n",
       "3         CC(C)(C)c1cnc(CSc2cnc(NC(=O)C3CCNCC3)s2)o1  \n",
       "4                     NC(=O)c1ccc(OCCCc2cnc[nH]2)cc1  "
      ]
     },
     "execution_count": 103,
     "metadata": {},
     "output_type": "execute_result"
    }
   ],
   "source": [
    "contrastive.head()"
   ]
  },
  {
   "cell_type": "code",
   "execution_count": 34,
   "id": "7d42885e-2189-4105-b4dc-a8ffe4aa122b",
   "metadata": {},
   "outputs": [],
   "source": [
    "class ContrastiveDataset(Dataset):\n",
    "    def __init__(self, contrastive_df, mfeats, pfeats):\n",
    "        self.mfeats = mfeats\n",
    "        self.pfeats = pfeats\n",
    "        self.contrastive_df = contrastive_df\n",
    "        \n",
    "        self.anchors = contrastive_df.Anchor\n",
    "        self.positives = contrastive_df.Positive\n",
    "        self.negatives = contrastive_df.Negative\n",
    "\n",
    "    def __len__(self):\n",
    "        return len(self.contrastive_df)\n",
    "\n",
    "    @property\n",
    "    def shape(self):\n",
    "        return self.mfeats._size, self.pfeats._size\n",
    "\n",
    "    def __getitem__(self, i):\n",
    "        \n",
    "        anchorEmb = self.pfeats(self.anchors[i])\n",
    "        positiveEmb = self.mfeats(self.positives[i])\n",
    "        negativeEmb = self.mfeats(self.negatives[i])\n",
    "\n",
    "        return anchorEmb, positiveEmb, negativeEmb"
   ]
  },
  {
   "cell_type": "code",
   "execution_count": 35,
   "id": "66c925e7-b7b6-4fe2-a797-d758d8ab07bf",
   "metadata": {},
   "outputs": [],
   "source": [
    "mdd = MoleculeDecoyDataset('casp3', casp3[casp3.Label == 1].index, casp3[casp3.Label == 0].index, mfeat, pfeat)"
   ]
  },
  {
   "cell_type": "code",
   "execution_count": 45,
   "id": "74d72aad-38ba-4974-811e-dceaac7feb56",
   "metadata": {},
   "outputs": [
    {
     "data": {
      "text/plain": [
       "(('casp3', 'CHEMBL193674', 'ZINC10009916'),\n",
       " ('casp3', 'CHEMBL193674', 'ZINC14732299'),\n",
       " ('casp3', 'CHEMBL592983', 'ZINC10009916'))"
      ]
     },
     "execution_count": 45,
     "metadata": {},
     "output_type": "execute_result"
    }
   ],
   "source": [
    "mdd[0], mdd[213], mdd[214]"
   ]
  },
  {
   "cell_type": "code",
   "execution_count": 38,
   "id": "e4b5631b-639f-4cab-b2bd-3d2d40437bbc",
   "metadata": {},
   "outputs": [
    {
     "data": {
      "text/html": [
       "<div>\n",
       "<style scoped>\n",
       "    .dataframe tbody tr th:only-of-type {\n",
       "        vertical-align: middle;\n",
       "    }\n",
       "\n",
       "    .dataframe tbody tr th {\n",
       "        vertical-align: top;\n",
       "    }\n",
       "\n",
       "    .dataframe thead th {\n",
       "        text-align: right;\n",
       "    }\n",
       "</style>\n",
       "<table border=\"1\" class=\"dataframe\">\n",
       "  <thead>\n",
       "    <tr style=\"text-align: right;\">\n",
       "      <th></th>\n",
       "      <th>Target_Seq</th>\n",
       "      <th>Molecule_SMILES</th>\n",
       "      <th>Label</th>\n",
       "    </tr>\n",
       "    <tr>\n",
       "      <th>Molecule_ID</th>\n",
       "      <th></th>\n",
       "      <th></th>\n",
       "      <th></th>\n",
       "    </tr>\n",
       "  </thead>\n",
       "  <tbody>\n",
       "    <tr>\n",
       "      <th>CHEMBL193674</th>\n",
       "      <td>CFREENANFNKIFLPTIYSIIFLTGIVGNGLVILVMGYQKKLRSMT...</td>\n",
       "      <td>CC(=O)OCCN1C(=O)c2c(-c3ccccc3)nc3ccc(S(=O)(=O)...</td>\n",
       "      <td>1</td>\n",
       "    </tr>\n",
       "    <tr>\n",
       "      <th>CHEMBL592983</th>\n",
       "      <td>CFREENANFNKIFLPTIYSIIFLTGIVGNGLVILVMGYQKKLRSMT...</td>\n",
       "      <td>CC1(C)C[NH+]=C2C(=O)c3cc(S(=O)(=O)N4CCCC4COc4c...</td>\n",
       "      <td>1</td>\n",
       "    </tr>\n",
       "    <tr>\n",
       "      <th>CHEMBL147642</th>\n",
       "      <td>CFREENANFNKIFLPTIYSIIFLTGIVGNGLVILVMGYQKKLRSMT...</td>\n",
       "      <td>O=CC(CC(=O)[O-])NC(=O)c1ccc(CNS(=O)(=O)c2ccc(O...</td>\n",
       "      <td>1</td>\n",
       "    </tr>\n",
       "    <tr>\n",
       "      <th>CHEMBL183437</th>\n",
       "      <td>CFREENANFNKIFLPTIYSIIFLTGIVGNGLVILVMGYQKKLRSMT...</td>\n",
       "      <td>Cc1ccccc1N1C(=O)c2c(C)nc3ccc(S(=O)(=O)N4CCOCC4...</td>\n",
       "      <td>1</td>\n",
       "    </tr>\n",
       "    <tr>\n",
       "      <th>CHEMBL100927</th>\n",
       "      <td>CFREENANFNKIFLPTIYSIIFLTGIVGNGLVILVMGYQKKLRSMT...</td>\n",
       "      <td>CC(C)CC(NC(=O)COc1ccnc2ccccc12)C(=O)NC1CC(=O)OC1O</td>\n",
       "      <td>1</td>\n",
       "    </tr>\n",
       "    <tr>\n",
       "      <th>...</th>\n",
       "      <td>...</td>\n",
       "      <td>...</td>\n",
       "      <td>...</td>\n",
       "    </tr>\n",
       "    <tr>\n",
       "      <th>ZINC66829646</th>\n",
       "      <td>CFREENANFNKIFLPTIYSIIFLTGIVGNGLVILVMGYQKKLRSMT...</td>\n",
       "      <td>CC1CCC(N2CC(C(=O)N3CCC(N(C)S(C)(=O)=O)CC3)CC2=...</td>\n",
       "      <td>0</td>\n",
       "    </tr>\n",
       "    <tr>\n",
       "      <th>ZINC66896939</th>\n",
       "      <td>CFREENANFNKIFLPTIYSIIFLTGIVGNGLVILVMGYQKKLRSMT...</td>\n",
       "      <td>CC1CN(C(C(=O)N(C)CC(=O)N2CCOCC2)C(C)C)CC(C)O1</td>\n",
       "      <td>0</td>\n",
       "    </tr>\n",
       "    <tr>\n",
       "      <th>ZINC66935942</th>\n",
       "      <td>CFREENANFNKIFLPTIYSIIFLTGIVGNGLVILVMGYQKKLRSMT...</td>\n",
       "      <td>O=C(C1CCCCN1S(=O)(=O)CC1CCCCO1)N1CCOCC1</td>\n",
       "      <td>0</td>\n",
       "    </tr>\n",
       "    <tr>\n",
       "      <th>ZINC67109823</th>\n",
       "      <td>CFREENANFNKIFLPTIYSIIFLTGIVGNGLVILVMGYQKKLRSMT...</td>\n",
       "      <td>CCCOC1CCCN(C(=O)C2=CC=CN3CCS(=O)(=O)N=C23)C1</td>\n",
       "      <td>0</td>\n",
       "    </tr>\n",
       "    <tr>\n",
       "      <th>ZINC67402245</th>\n",
       "      <td>CFREENANFNKIFLPTIYSIIFLTGIVGNGLVILVMGYQKKLRSMT...</td>\n",
       "      <td>CCc1ncc(CN(C)CC(=O)N2CCN(C(=O)N(C)C)CC2)s1</td>\n",
       "      <td>0</td>\n",
       "    </tr>\n",
       "  </tbody>\n",
       "</table>\n",
       "<p>10983 rows × 3 columns</p>\n",
       "</div>"
      ],
      "text/plain": [
       "                                                     Target_Seq  \\\n",
       "Molecule_ID                                                       \n",
       "CHEMBL193674  CFREENANFNKIFLPTIYSIIFLTGIVGNGLVILVMGYQKKLRSMT...   \n",
       "CHEMBL592983  CFREENANFNKIFLPTIYSIIFLTGIVGNGLVILVMGYQKKLRSMT...   \n",
       "CHEMBL147642  CFREENANFNKIFLPTIYSIIFLTGIVGNGLVILVMGYQKKLRSMT...   \n",
       "CHEMBL183437  CFREENANFNKIFLPTIYSIIFLTGIVGNGLVILVMGYQKKLRSMT...   \n",
       "CHEMBL100927  CFREENANFNKIFLPTIYSIIFLTGIVGNGLVILVMGYQKKLRSMT...   \n",
       "...                                                         ...   \n",
       "ZINC66829646  CFREENANFNKIFLPTIYSIIFLTGIVGNGLVILVMGYQKKLRSMT...   \n",
       "ZINC66896939  CFREENANFNKIFLPTIYSIIFLTGIVGNGLVILVMGYQKKLRSMT...   \n",
       "ZINC66935942  CFREENANFNKIFLPTIYSIIFLTGIVGNGLVILVMGYQKKLRSMT...   \n",
       "ZINC67109823  CFREENANFNKIFLPTIYSIIFLTGIVGNGLVILVMGYQKKLRSMT...   \n",
       "ZINC67402245  CFREENANFNKIFLPTIYSIIFLTGIVGNGLVILVMGYQKKLRSMT...   \n",
       "\n",
       "                                                Molecule_SMILES  Label  \n",
       "Molecule_ID                                                             \n",
       "CHEMBL193674  CC(=O)OCCN1C(=O)c2c(-c3ccccc3)nc3ccc(S(=O)(=O)...      1  \n",
       "CHEMBL592983  CC1(C)C[NH+]=C2C(=O)c3cc(S(=O)(=O)N4CCCC4COc4c...      1  \n",
       "CHEMBL147642  O=CC(CC(=O)[O-])NC(=O)c1ccc(CNS(=O)(=O)c2ccc(O...      1  \n",
       "CHEMBL183437  Cc1ccccc1N1C(=O)c2c(C)nc3ccc(S(=O)(=O)N4CCOCC4...      1  \n",
       "CHEMBL100927  CC(C)CC(NC(=O)COc1ccnc2ccccc12)C(=O)NC1CC(=O)OC1O      1  \n",
       "...                                                         ...    ...  \n",
       "ZINC66829646  CC1CCC(N2CC(C(=O)N3CCC(N(C)S(C)(=O)=O)CC3)CC2=...      0  \n",
       "ZINC66896939      CC1CN(C(C(=O)N(C)CC(=O)N2CCOCC2)C(C)C)CC(C)O1      0  \n",
       "ZINC66935942            O=C(C1CCCCN1S(=O)(=O)CC1CCCCO1)N1CCOCC1      0  \n",
       "ZINC67109823       CCCOC1CCCN(C(=O)C2=CC=CN3CCS(=O)(=O)N=C23)C1      0  \n",
       "ZINC67402245         CCc1ncc(CN(C)CC(=O)N2CCN(C(=O)N(C)C)CC2)s1      0  \n",
       "\n",
       "[10983 rows x 3 columns]"
      ]
     },
     "execution_count": 38,
     "metadata": {},
     "output_type": "execute_result"
    }
   ],
   "source": [
    "casp3"
   ]
  }
 ],
 "metadata": {
  "kernelspec": {
   "display_name": "Python [conda env:dsplat] *",
   "language": "python",
   "name": "conda-env-dsplat-py"
  },
  "language_info": {
   "codemirror_mode": {
    "name": "ipython",
    "version": 3
   },
   "file_extension": ".py",
   "mimetype": "text/x-python",
   "name": "python",
   "nbconvert_exporter": "python",
   "pygments_lexer": "ipython3",
   "version": "3.7.12"
  }
 },
 "nbformat": 4,
 "nbformat_minor": 5
}
