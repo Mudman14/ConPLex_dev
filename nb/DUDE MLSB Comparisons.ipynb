{
 "cells": [
  {
   "cell_type": "code",
   "execution_count": 16,
   "id": "0eb79b03-9826-4163-a9f3-3d7016c85cb1",
   "metadata": {},
   "outputs": [],
   "source": [
    "import os\n",
    "import sys\n",
    "\n",
    "from rdkit import Chem\n",
    "from rdkit.Chem import AllChem\n",
    "from rdkit.Chem import PandasTools\n",
    "from Bio import SeqIO\n",
    "\n",
    "import numpy as np\n",
    "import pandas as pd\n",
    "import torch\n",
    "\n",
    "from tqdm.notebook import tqdm\n",
    "\n",
    "import matplotlib.pyplot as plt\n",
    "import seaborn as sns\n",
    "import warnings"
   ]
  },
  {
   "cell_type": "code",
   "execution_count": 22,
   "id": "64a88ee6-7dc3-4f6f-b1af-c39e3a312c0b",
   "metadata": {},
   "outputs": [],
   "source": [
    "BASE_DIR = \"..\"\n",
    "MODEL_BASE_DIR = f\"{BASE_DIR}/best_models\"\n",
    "DATA_DIR = f\"/afs/csail.mit.edu/u/s/samsl/Work/databases/DUDe\"\n",
    "os.makedirs(MODEL_BASE_DIR,exist_ok=True)\n",
    "os.makedirs(DATA_DIR,exist_ok=True)\n",
    "sys.path.append(BASE_DIR)"
   ]
  },
  {
   "cell_type": "code",
   "execution_count": 43,
   "id": "d5ce87a7-d46e-4764-8e88-2a1f344ceb8b",
   "metadata": {},
   "outputs": [],
   "source": [
    "# Load model\n",
    "from src.featurizers import MorganFeaturizer, ProtBertFeaturizer\n",
    "from src.architectures import SimpleCoembedding\n",
    "\n",
    "# Set device\n",
    "device = torch.device(5)\n",
    "\n",
    "# Load featurizers\n",
    "mol_f = MorganFeaturizer().cuda(device)\n",
    "prot_f = ProtBertFeaturizer().cuda(device)\n",
    "\n",
    "def get_drug_feature(x):\n",
    "    with torch.set_grad_enabled(False):\n",
    "        return mol_f(x).squeeze().detach().cpu().numpy()\n",
    "        \n",
    "def get_target_feature(x):\n",
    "    with torch.set_grad_enabled(False):\n",
    "        return prot_f(x).squeeze().detach().cpu().numpy()"
   ]
  },
  {
   "cell_type": "markdown",
   "id": "b378a601-a069-4029-a915-5197c93da170",
   "metadata": {},
   "source": [
    "## Load DUD-E Data"
   ]
  },
  {
   "cell_type": "code",
   "execution_count": 11,
   "id": "f232fe7a-e125-485e-8523-f6d7e28e52d4",
   "metadata": {},
   "outputs": [
    {
     "data": {
      "text/html": [
       "<div>\n",
       "<style scoped>\n",
       "    .dataframe tbody tr th:only-of-type {\n",
       "        vertical-align: middle;\n",
       "    }\n",
       "\n",
       "    .dataframe tbody tr th {\n",
       "        vertical-align: top;\n",
       "    }\n",
       "\n",
       "    .dataframe thead th {\n",
       "        text-align: right;\n",
       "    }\n",
       "</style>\n",
       "<table border=\"1\" class=\"dataframe\">\n",
       "  <thead>\n",
       "    <tr style=\"text-align: right;\">\n",
       "      <th></th>\n",
       "      <th>Target</th>\n",
       "      <th>Split</th>\n",
       "    </tr>\n",
       "  </thead>\n",
       "  <tbody>\n",
       "    <tr>\n",
       "      <th>0</th>\n",
       "      <td>fa7</td>\n",
       "      <td>train</td>\n",
       "    </tr>\n",
       "    <tr>\n",
       "      <th>1</th>\n",
       "      <td>bace1</td>\n",
       "      <td>train</td>\n",
       "    </tr>\n",
       "    <tr>\n",
       "      <th>2</th>\n",
       "      <td>mmp13</td>\n",
       "      <td>train</td>\n",
       "    </tr>\n",
       "    <tr>\n",
       "      <th>3</th>\n",
       "      <td>ace</td>\n",
       "      <td>train</td>\n",
       "    </tr>\n",
       "    <tr>\n",
       "      <th>4</th>\n",
       "      <td>tryb1</td>\n",
       "      <td>train</td>\n",
       "    </tr>\n",
       "  </tbody>\n",
       "</table>\n",
       "</div>"
      ],
      "text/plain": [
       "  Target  Split\n",
       "0    fa7  train\n",
       "1  bace1  train\n",
       "2  mmp13  train\n",
       "3    ace  train\n",
       "4  tryb1  train"
      ]
     },
     "execution_count": 11,
     "metadata": {},
     "output_type": "execute_result"
    }
   ],
   "source": [
    "splits = pd.read_csv('../dataset/DUDe/dude_within_type_train_test_split.csv',header=None,names=['Target','Split'])\n",
    "splits.head()"
   ]
  },
  {
   "cell_type": "code",
   "execution_count": 31,
   "id": "734ceecc-983f-4de3-ab23-c24843f46c56",
   "metadata": {},
   "outputs": [],
   "source": [
    "train_targets = splits[splits.Split == 'train'].Target.values\n",
    "test_targets = splits[splits.Split == 'test'].Target.values"
   ]
  },
  {
   "cell_type": "code",
   "execution_count": 26,
   "id": "43e575fa-c59a-4ebc-89a0-c9f21eeff5dc",
   "metadata": {},
   "outputs": [
    {
     "data": {
      "application/vnd.jupyter.widget-view+json": {
       "model_id": "cdc41651eb764f3fa531cee9c0878fdb",
       "version_major": 2,
       "version_minor": 0
      },
      "text/plain": [
       "  0%|          | 0/57 [00:00<?, ?it/s]"
      ]
     },
     "metadata": {},
     "output_type": "display_data"
    },
    {
     "name": "stderr",
     "output_type": "stream",
     "text": [
      "[11:17:46] Explicit valence for atom # 7 N, 5, is greater than permitted\n",
      "[11:17:46] ERROR: Could not sanitize molecule ending on line 3875828\n",
      "[11:17:46] ERROR: Explicit valence for atom # 7 N, 5, is greater than permitted\n",
      "[11:23:07] Explicit valence for atom # 9 N, 5, is greater than permitted\n",
      "[11:23:07] ERROR: Could not sanitize molecule ending on line 1034433\n",
      "[11:23:07] ERROR: Explicit valence for atom # 9 N, 5, is greater than permitted\n",
      "[11:23:19] Explicit valence for atom # 7 N, 5, is greater than permitted\n",
      "[11:23:19] ERROR: Could not sanitize molecule ending on line 586033\n",
      "[11:23:19] ERROR: Explicit valence for atom # 7 N, 5, is greater than permitted\n",
      "[11:23:58] Explicit valence for atom # 7 N, 5, is greater than permitted\n",
      "[11:23:58] ERROR: Could not sanitize molecule ending on line 1169873\n",
      "[11:23:58] ERROR: Explicit valence for atom # 7 N, 5, is greater than permitted\n"
     ]
    }
   ],
   "source": [
    "active_dfs = {}\n",
    "decoy_dfs = {}\n",
    "link_dfs = {}\n",
    "\n",
    "def get_sequence_from_pdb(target_path):\n",
    "    warnings.filterwarnings('ignore')\n",
    "    recs = list(SeqIO.parse(target_path, \"pdb-atom\"))\n",
    "    return str(recs[0].seq)\n",
    "\n",
    "for tid in tqdm(splits.Target):\n",
    "    tseq = get_sequence_from_pdb(f'{DATA_DIR}/{tid}/receptor.pdb')\n",
    "    actives_frame = PandasTools.LoadSDF(f'{DATA_DIR}/{tid}/actives_final.sdf',\n",
    "                                        smilesName='SMILES',molColName=None,includeFingerprints=True).drop_duplicates()\n",
    "    decoys_frame = PandasTools.LoadSDF(f'{DATA_DIR}/{tid}/decoys_final.sdf',\n",
    "                                        smilesName='SMILES',molColName=None,includeFingerprints=True).drop_duplicates()\n",
    "\n",
    "    links = []\n",
    "    for _, row in actives_frame.iterrows():\n",
    "        links.append((tid, tseq, row.ID, row.SMILES, 1))\n",
    "    for _, row in decoys_frame.iterrows():\n",
    "        links.append((tid, tseq, row.ID, row.SMILES, 0))\n",
    "    df = pd.DataFrame(links)\n",
    "    \n",
    "    active_dfs[tid] = actives_frame\n",
    "    decoy_dfs[tid] = decoys_frame\n",
    "    link_dfs[tid] = df"
   ]
  },
  {
   "cell_type": "code",
   "execution_count": 32,
   "id": "0d3d7fc1-d1f9-493a-9cee-f2c4336f6762",
   "metadata": {},
   "outputs": [],
   "source": [
    "train_df = pd.concat([link_dfs[i] for i in train_targets])\n",
    "test_df = pd.concat([link_dfs[i] for i in test_targets])"
   ]
  },
  {
   "cell_type": "code",
   "execution_count": 46,
   "id": "3e24b63b-ba51-4866-b374-fe60502316b5",
   "metadata": {},
   "outputs": [
    {
     "data": {
      "text/html": [
       "<div>\n",
       "<style scoped>\n",
       "    .dataframe tbody tr th:only-of-type {\n",
       "        vertical-align: middle;\n",
       "    }\n",
       "\n",
       "    .dataframe tbody tr th {\n",
       "        vertical-align: top;\n",
       "    }\n",
       "\n",
       "    .dataframe thead th {\n",
       "        text-align: right;\n",
       "    }\n",
       "</style>\n",
       "<table border=\"1\" class=\"dataframe\">\n",
       "  <thead>\n",
       "    <tr style=\"text-align: right;\">\n",
       "      <th></th>\n",
       "      <th>0</th>\n",
       "      <th>1</th>\n",
       "      <th>2</th>\n",
       "      <th>3</th>\n",
       "      <th>4</th>\n",
       "    </tr>\n",
       "  </thead>\n",
       "  <tbody>\n",
       "    <tr>\n",
       "      <th>0</th>\n",
       "      <td>fa7</td>\n",
       "      <td>IVGGKVCPKGECPWQVLLLVNGAQLCGGTLINTIWVVSAAHCFDKI...</td>\n",
       "      <td>CHEMBL178616</td>\n",
       "      <td>COc1cc([C@@H](Nc2ccc(C(N)=[NH2+])cc2)C(=O)N[C@...</td>\n",
       "      <td>1</td>\n",
       "    </tr>\n",
       "    <tr>\n",
       "      <th>1</th>\n",
       "      <td>fa7</td>\n",
       "      <td>IVGGKVCPKGECPWQVLLLVNGAQLCGGTLINTIWVVSAAHCFDKI...</td>\n",
       "      <td>CHEMBL194689</td>\n",
       "      <td>C[N@@H+]1CCC[C@@H]1CCN(Cc1ccc2ccc(C(N)=[NH2+])...</td>\n",
       "      <td>1</td>\n",
       "    </tr>\n",
       "    <tr>\n",
       "      <th>2</th>\n",
       "      <td>fa7</td>\n",
       "      <td>IVGGKVCPKGECPWQVLLLVNGAQLCGGTLINTIWVVSAAHCFDKI...</td>\n",
       "      <td>CHEMBL194689</td>\n",
       "      <td>C[N@@H+]1CCC[C@H]1CCN(Cc1ccc2ccc(C(N)=[NH2+])c...</td>\n",
       "      <td>1</td>\n",
       "    </tr>\n",
       "    <tr>\n",
       "      <th>3</th>\n",
       "      <td>fa7</td>\n",
       "      <td>IVGGKVCPKGECPWQVLLLVNGAQLCGGTLINTIWVVSAAHCFDKI...</td>\n",
       "      <td>CHEMBL206232</td>\n",
       "      <td>Cc1cccc(NC(=O)Cc2cc([C@H](CC(=O)[O-])C(=O)[O-]...</td>\n",
       "      <td>1</td>\n",
       "    </tr>\n",
       "    <tr>\n",
       "      <th>4</th>\n",
       "      <td>fa7</td>\n",
       "      <td>IVGGKVCPKGECPWQVLLLVNGAQLCGGTLINTIWVVSAAHCFDKI...</td>\n",
       "      <td>CHEMBL206232</td>\n",
       "      <td>Cc1cccc(NC(=O)Cc2cc([C@H](CC(=O)[O-])C(=O)[O-]...</td>\n",
       "      <td>1</td>\n",
       "    </tr>\n",
       "    <tr>\n",
       "      <th>...</th>\n",
       "      <td>...</td>\n",
       "      <td>...</td>\n",
       "      <td>...</td>\n",
       "      <td>...</td>\n",
       "      <td>...</td>\n",
       "    </tr>\n",
       "    <tr>\n",
       "      <th>32779</th>\n",
       "      <td>aa2ar</td>\n",
       "      <td>IMGSSVYITVELAIAVLAILGNVLVCWAVWLNSNLQNVTNYFVVSL...</td>\n",
       "      <td>ZINC21665379</td>\n",
       "      <td>COc1ccc(C(=O)O[C@@H](C)C(=O)N2CCNC2=O)cc1S(=O)...</td>\n",
       "      <td>0</td>\n",
       "    </tr>\n",
       "    <tr>\n",
       "      <th>32780</th>\n",
       "      <td>aa2ar</td>\n",
       "      <td>IMGSSVYITVELAIAVLAILGNVLVCWAVWLNSNLQNVTNYFVVSL...</td>\n",
       "      <td>ZINC14160534</td>\n",
       "      <td>Cc1cc(C)nc(N/C(=N\\C(=S)NC[C@H]2CCCO2)N2CCN(c3n...</td>\n",
       "      <td>0</td>\n",
       "    </tr>\n",
       "    <tr>\n",
       "      <th>32781</th>\n",
       "      <td>aa2ar</td>\n",
       "      <td>IMGSSVYITVELAIAVLAILGNVLVCWAVWLNSNLQNVTNYFVVSL...</td>\n",
       "      <td>ZINC21684426</td>\n",
       "      <td>C[C@@H](OC(=O)CNS(=O)(=O)/C=C/c1ccccc1)C(=O)Nc...</td>\n",
       "      <td>0</td>\n",
       "    </tr>\n",
       "    <tr>\n",
       "      <th>32782</th>\n",
       "      <td>aa2ar</td>\n",
       "      <td>IMGSSVYITVELAIAVLAILGNVLVCWAVWLNSNLQNVTNYFVVSL...</td>\n",
       "      <td>ZINC65743371</td>\n",
       "      <td>COC(=O)[C@]1(OC)C[C@H](O)[C@H](O)[C@H](COP(=O)...</td>\n",
       "      <td>0</td>\n",
       "    </tr>\n",
       "    <tr>\n",
       "      <th>32783</th>\n",
       "      <td>aa2ar</td>\n",
       "      <td>IMGSSVYITVELAIAVLAILGNVLVCWAVWLNSNLQNVTNYFVVSL...</td>\n",
       "      <td>ZINC65743372</td>\n",
       "      <td>COC(=O)[C@]1(OC)C[C@@H](O)[C@H](O)[C@H](COP(=O...</td>\n",
       "      <td>0</td>\n",
       "    </tr>\n",
       "  </tbody>\n",
       "</table>\n",
       "<p>419258 rows × 5 columns</p>\n",
       "</div>"
      ],
      "text/plain": [
       "           0                                                  1             2  \\\n",
       "0        fa7  IVGGKVCPKGECPWQVLLLVNGAQLCGGTLINTIWVVSAAHCFDKI...  CHEMBL178616   \n",
       "1        fa7  IVGGKVCPKGECPWQVLLLVNGAQLCGGTLINTIWVVSAAHCFDKI...  CHEMBL194689   \n",
       "2        fa7  IVGGKVCPKGECPWQVLLLVNGAQLCGGTLINTIWVVSAAHCFDKI...  CHEMBL194689   \n",
       "3        fa7  IVGGKVCPKGECPWQVLLLVNGAQLCGGTLINTIWVVSAAHCFDKI...  CHEMBL206232   \n",
       "4        fa7  IVGGKVCPKGECPWQVLLLVNGAQLCGGTLINTIWVVSAAHCFDKI...  CHEMBL206232   \n",
       "...      ...                                                ...           ...   \n",
       "32779  aa2ar  IMGSSVYITVELAIAVLAILGNVLVCWAVWLNSNLQNVTNYFVVSL...  ZINC21665379   \n",
       "32780  aa2ar  IMGSSVYITVELAIAVLAILGNVLVCWAVWLNSNLQNVTNYFVVSL...  ZINC14160534   \n",
       "32781  aa2ar  IMGSSVYITVELAIAVLAILGNVLVCWAVWLNSNLQNVTNYFVVSL...  ZINC21684426   \n",
       "32782  aa2ar  IMGSSVYITVELAIAVLAILGNVLVCWAVWLNSNLQNVTNYFVVSL...  ZINC65743371   \n",
       "32783  aa2ar  IMGSSVYITVELAIAVLAILGNVLVCWAVWLNSNLQNVTNYFVVSL...  ZINC65743372   \n",
       "\n",
       "                                                       3  4  \n",
       "0      COc1cc([C@@H](Nc2ccc(C(N)=[NH2+])cc2)C(=O)N[C@...  1  \n",
       "1      C[N@@H+]1CCC[C@@H]1CCN(Cc1ccc2ccc(C(N)=[NH2+])...  1  \n",
       "2      C[N@@H+]1CCC[C@H]1CCN(Cc1ccc2ccc(C(N)=[NH2+])c...  1  \n",
       "3      Cc1cccc(NC(=O)Cc2cc([C@H](CC(=O)[O-])C(=O)[O-]...  1  \n",
       "4      Cc1cccc(NC(=O)Cc2cc([C@H](CC(=O)[O-])C(=O)[O-]...  1  \n",
       "...                                                  ... ..  \n",
       "32779  COc1ccc(C(=O)O[C@@H](C)C(=O)N2CCNC2=O)cc1S(=O)...  0  \n",
       "32780  Cc1cc(C)nc(N/C(=N\\C(=S)NC[C@H]2CCCO2)N2CCN(c3n...  0  \n",
       "32781  C[C@@H](OC(=O)CNS(=O)(=O)/C=C/c1ccccc1)C(=O)Nc...  0  \n",
       "32782  COC(=O)[C@]1(OC)C[C@H](O)[C@H](O)[C@H](COP(=O)...  0  \n",
       "32783  COC(=O)[C@]1(OC)C[C@@H](O)[C@H](O)[C@H](COP(=O...  0  \n",
       "\n",
       "[419258 rows x 5 columns]"
      ]
     },
     "execution_count": 46,
     "metadata": {},
     "output_type": "execute_result"
    }
   ],
   "source": [
    "train_df"
   ]
  },
  {
   "cell_type": "code",
   "execution_count": 52,
   "id": "d0e88fe4-a99d-4f68-acb7-4ab33d424469",
   "metadata": {},
   "outputs": [],
   "source": [
    "all_targets = pd.concat([train_df, test_df])[[0,1]].drop_duplicates()\n",
    "all_drugs = pd.concat([train_df, test_df])[[2,3]].drop_duplicates()"
   ]
  },
  {
   "cell_type": "code",
   "execution_count": 56,
   "id": "085aec88-6a20-4409-b22d-b3a715666d2b",
   "metadata": {},
   "outputs": [
    {
     "data": {
      "application/vnd.jupyter.widget-view+json": {
       "model_id": "12c75ad93c1545739db53893d67bc382",
       "version_major": 2,
       "version_minor": 0
      },
      "text/plain": [
       "  0%|          | 0/57 [00:00<?, ?it/s]"
      ]
     },
     "metadata": {},
     "output_type": "display_data"
    },
    {
     "data": {
      "application/vnd.jupyter.widget-view+json": {
       "model_id": "7fe095ff83aa44df81b680cc492a0027",
       "version_major": 2,
       "version_minor": 0
      },
      "text/plain": [
       "  0%|          | 0/808755 [00:00<?, ?it/s]"
      ]
     },
     "metadata": {},
     "output_type": "display_data"
    }
   ],
   "source": [
    "target_feats = {}\n",
    "drug_feats = {}\n",
    "\n",
    "for i, r in tqdm(all_targets.iterrows(),total=len(all_targets)):\n",
    "    target_feats[r[0]] = get_target_feature(r[1])\n",
    "for i, r in tqdm(all_drugs.iterrows(),total=len(all_drugs)):\n",
    "    drug_feats[r[2]] = get_drug_feature(r[3])"
   ]
  },
  {
   "cell_type": "code",
   "execution_count": 57,
   "id": "1f0b994e-89e5-44c8-bebc-e7cc40e8222c",
   "metadata": {},
   "outputs": [],
   "source": [
    "train_X = np.stack([\n",
    "    np.concatenate([target_feats[x], drug_feats[y]]) for (x,y) in zip(train_df[0].values, train_df[2].values)\n",
    "])\n",
    "\n",
    "train_Y = train_df[4]"
   ]
  },
  {
   "cell_type": "code",
   "execution_count": 58,
   "id": "580832e9-ada9-44a3-b7c8-1542b415f8df",
   "metadata": {},
   "outputs": [],
   "source": [
    "test_X = np.stack([\n",
    "    np.concatenate([get_target_feature(x), get_drug_feature(y)]) for (x,y) in zip(test_df[1].values, test_df[3].values)\n",
    "])\n",
    "test_Y = test_df[4]"
   ]
  },
  {
   "cell_type": "code",
   "execution_count": 66,
   "id": "374bf39d-9bc6-4b5e-a238-f81bf215f220",
   "metadata": {},
   "outputs": [],
   "source": [
    "np.save('../nbdata/DUDE_trainX.npz', train_X)\n",
    "np.save('../nbdata/DUDE_trainY.npz', train_Y)\n",
    "np.save('../nbdata/DUDE_testX.npz', test_X)\n",
    "np.save('../nbdata/DUDE_testY.npz', test_Y)"
   ]
  },
  {
   "cell_type": "markdown",
   "id": "f5077c6b-aaad-4a1a-85cc-7a807d0242e9",
   "metadata": {},
   "source": [
    "## Load BIOSNAP Data"
   ]
  },
  {
   "cell_type": "code",
   "execution_count": 181,
   "id": "e2e9ac03-11fe-465e-ab37-7546dcd0b328",
   "metadata": {},
   "outputs": [],
   "source": [
    "biosnap_train = pd.read_csv('../dataset/BIOSNAP/full_data/train.csv')\n",
    "biosnap_test = pd.read_csv('../dataset/BIOSNAP/full_data/test.csv')"
   ]
  },
  {
   "cell_type": "code",
   "execution_count": 182,
   "id": "06c7e260-5886-4a31-ad9c-7b3472fa56fc",
   "metadata": {},
   "outputs": [
    {
     "data": {
      "application/vnd.jupyter.widget-view+json": {
       "model_id": "4e875762aee74f0cac8497b011267161",
       "version_major": 2,
       "version_minor": 0
      },
      "text/plain": [
       "  0%|          | 0/2182 [00:00<?, ?it/s]"
      ]
     },
     "metadata": {},
     "output_type": "display_data"
    },
    {
     "data": {
      "application/vnd.jupyter.widget-view+json": {
       "model_id": "71da7ad77c7d4ce1b4a8621dc01ef880",
       "version_major": 2,
       "version_minor": 0
      },
      "text/plain": [
       "  0%|          | 0/4491 [00:00<?, ?it/s]"
      ]
     },
     "metadata": {},
     "output_type": "display_data"
    },
    {
     "name": "stderr",
     "output_type": "stream",
     "text": [
      "[21:22:05] Unusual charge on atom 0 number of radical electrons set to zero\n",
      "[21:22:05] Unusual charge on atom 42 number of radical electrons set to zero\n"
     ]
    }
   ],
   "source": [
    "bs_targets = pd.concat([biosnap_train, biosnap_test])[['Gene', 'Target Sequence']].drop_duplicates()\n",
    "bs_drugs = pd.concat([biosnap_train, biosnap_test])[['DrugBank ID', 'SMILES']].drop_duplicates()\n",
    "\n",
    "bs_target_feats = {}\n",
    "bs_drug_feats = {}\n",
    "\n",
    "for i, r in tqdm(bs_targets.iterrows(),total=len(bs_targets)):\n",
    "    bs_target_feats[r['Gene']] = get_target_feature(r['Target Sequence'])\n",
    "for i, r in tqdm(bs_drugs.iterrows(),total=len(bs_drugs)):\n",
    "    bs_drug_feats[r['DrugBank ID']] = get_drug_feature(r['SMILES'])"
   ]
  },
  {
   "cell_type": "code",
   "execution_count": 185,
   "id": "6b167414-a5c6-4b38-ae0c-c9f69b97447d",
   "metadata": {},
   "outputs": [],
   "source": [
    "snap_train_X = np.stack([\n",
    "    np.concatenate([bs_target_feats[x], bs_drug_feats[y]]) for (x,y) in zip(biosnap_train['Gene'].values, biosnap_train['DrugBank ID'].values)\n",
    "])\n",
    "snap_train_Y = biosnap_train['Label']"
   ]
  },
  {
   "cell_type": "code",
   "execution_count": 186,
   "id": "eefeee4d-c8be-4b76-a098-e01c87999685",
   "metadata": {},
   "outputs": [],
   "source": [
    "snap_test_X = np.stack([\n",
    "    np.concatenate([bs_target_feats[x], bs_drug_feats[y]]) for (x,y) in zip(biosnap_test['Gene'].values, biosnap_test['DrugBank ID'].values)\n",
    "])\n",
    "snap_test_Y = biosnap_test['Label']"
   ]
  },
  {
   "cell_type": "markdown",
   "id": "32869e27-f46d-406f-8410-2c2e42f2bf2b",
   "metadata": {},
   "source": [
    "## Train Models"
   ]
  },
  {
   "cell_type": "code",
   "execution_count": 161,
   "id": "09e8c4e6-3fc9-4d36-a03c-b86567993fdd",
   "metadata": {},
   "outputs": [],
   "source": [
    "from sklearn.linear_model import LogisticRegression, LinearRegression\n",
    "from sklearn.neural_network import MLPClassifier"
   ]
  },
  {
   "cell_type": "code",
   "execution_count": 156,
   "id": "676a0226-a2d9-4e89-8be5-5937b6fed5d0",
   "metadata": {},
   "outputs": [],
   "source": [
    "from sklearn.metrics import average_precision_score, precision_recall_curve\n",
    "from sklearn.metrics import roc_auc_score, roc_curve, precision_score, recall_score, accuracy_score"
   ]
  },
  {
   "cell_type": "code",
   "execution_count": 162,
   "id": "1dd8f0ca-3a3e-4a04-8db6-a4802d234007",
   "metadata": {},
   "outputs": [],
   "source": [
    "lr_model = LogisticRegression()\n",
    "llr_model = LinearRegression()\n",
    "mlp_model = MLPClassifier()"
   ]
  },
  {
   "cell_type": "code",
   "execution_count": 197,
   "id": "c1cfb263-02b9-4b58-aff0-636396f91072",
   "metadata": {},
   "outputs": [],
   "source": [
    "mlp_wide = MLPClassifier(hidden_layer_sizes=(1024),)"
   ]
  },
  {
   "cell_type": "code",
   "execution_count": 216,
   "id": "d08ddc89-0c4e-4396-a6ef-40f9579f9d21",
   "metadata": {},
   "outputs": [
    {
     "data": {
      "text/plain": [
       "<All keys matched successfully>"
      ]
     },
     "execution_count": 216,
     "metadata": {},
     "output_type": "execute_result"
    }
   ],
   "source": [
    "model_no_contrast_path = f\"{MODEL_BASE_DIR}/new_api/testBIOSNAP-noContrast_best_model.pt\"\n",
    "model_contrast_path = f\"{MODEL_BASE_DIR}/new_api/testBIOSNAP_best_model.pt\"\n",
    "\n",
    "# Load model\n",
    "model_noCon = SimpleCoembedding(mol_f.shape, prot_f.shape, 1024).to(device)\n",
    "model_Con = SimpleCoembedding(mol_f.shape, prot_f.shape, 1024).to(device)\n",
    "\n",
    "model_noCon.load_state_dict(torch.load(model_no_contrast_path))\n",
    "model_Con.load_state_dict(torch.load(model_contrast_path))"
   ]
  },
  {
   "cell_type": "code",
   "execution_count": 217,
   "id": "34266192-798f-42b9-b72a-c3a1aa1fef87",
   "metadata": {},
   "outputs": [],
   "source": [
    "def dti_model_predict(x, model,\n",
    "                      t_shape = prot_f.shape,\n",
    "                      d_shape = mol_f.shape,\n",
    "                      device = device\n",
    "                     ):\n",
    "    assert t_shape + d_shape == x.shape[1]\n",
    "    with torch.set_grad_enabled(False):\n",
    "        t_embed = torch.from_numpy(x[:,:t_shape]).to(device)\n",
    "        d_embed = torch.from_numpy(x[:,-d_shape:]).to(device)\n",
    "        phat = model(d_embed, t_embed).detach().cpu().numpy()\n",
    "        return phat"
   ]
  },
  {
   "cell_type": "code",
   "execution_count": 166,
   "id": "625bebab-db8d-42b2-9059-ec6cb813118f",
   "metadata": {},
   "outputs": [
    {
     "data": {
      "text/plain": [
       "MLPClassifier()"
      ]
     },
     "execution_count": 166,
     "metadata": {},
     "output_type": "execute_result"
    }
   ],
   "source": [
    "lr_model.fit(train_X, train_Y)\n",
    "llr_model.fit(train_X, train_Y)\n",
    "mlp_model.fit(train_X, train_Y)"
   ]
  },
  {
   "cell_type": "code",
   "execution_count": 198,
   "id": "ba3ae8ed-76ee-440e-922d-ee737d6240a7",
   "metadata": {},
   "outputs": [
    {
     "data": {
      "text/plain": [
       "MLPClassifier(hidden_layer_sizes=1024)"
      ]
     },
     "execution_count": 198,
     "metadata": {},
     "output_type": "execute_result"
    }
   ],
   "source": [
    "mlp_wide.fit(train_X, train_Y)"
   ]
  },
  {
   "cell_type": "markdown",
   "id": "bd442731-d2b9-41c9-9898-a384a6ccb4de",
   "metadata": {},
   "source": [
    "## Evaluate on DUDe"
   ]
  },
  {
   "cell_type": "code",
   "execution_count": 190,
   "id": "06c7284e-6ae1-413e-a7d7-ec5bb2488101",
   "metadata": {},
   "outputs": [],
   "source": [
    "def binarize(x,t):\n",
    "    return (x >= t).astype(int)\n",
    "\n",
    "def fdr(y, phat):\n",
    "    return 1 - precision_score(y, phat)"
   ]
  },
  {
   "cell_type": "code",
   "execution_count": 218,
   "id": "28e2da1e-b3cf-43c1-ab14-79461390d3c3",
   "metadata": {},
   "outputs": [],
   "source": [
    "lr_predictions = lr_model.predict(test_X)\n",
    "llr_predictions = llr_model.predict(test_X)\n",
    "mlp_predictions = mlp_model.predict(test_X)\n",
    "mlp_wide_predictions = mlp_wide.predict(test_X)\n",
    "nocon_predictions = dti_model_predict(test_X, model_noCon)\n",
    "contrast_predictions = dti_model_predict(test_X, model_Con)"
   ]
  },
  {
   "cell_type": "code",
   "execution_count": 219,
   "id": "f41704e5-39dc-46c5-931f-8215142c7dbc",
   "metadata": {},
   "outputs": [
    {
     "name": "stdout",
     "output_type": "stream",
     "text": [
      "AUPR (Logistic): 0.2567557623925064\n",
      "AUPR (MLP): 0.2830099655363373\n",
      "AUPR (MLP Wide): 0.3061420261866066\n",
      "AUPR (DTI): 0.0763327537889308\n",
      "AUPR (DTI Contrastive): 0.4527715949137886\n"
     ]
    },
    {
     "data": {
      "image/png": "[encoded data removed]",
      "text/plain": [
       "<Figure size 432x288 with 1 Axes>"
      ]
     },
     "metadata": {
      "needs_background": "light"
     },
     "output_type": "display_data"
    },
    {
     "name": "stdout",
     "output_type": "stream",
     "text": [
      "AUROC (Logistic): 0.679569579984269\n",
      "AUROC (MLP): 0.7263786158319168\n",
      "AUROC (MLP Wide): 0.6609616100342529\n",
      "AUROC (DTI): 0.6719236315478887\n",
      "AUROC (DTI Contrastive): 0.8861448700527281\n"
     ]
    },
    {
     "data": {
      "image/png": "[encoded data removed]",
      "text/plain": [
       "<Figure size 432x288 with 1 Axes>"
      ]
     },
     "metadata": {
      "needs_background": "light"
     },
     "output_type": "display_data"
    }
   ],
   "source": [
    "model_predictions = {\n",
    "    'Logistic': lr_predictions,\n",
    "    'MLP': mlp_predictions,\n",
    "    'MLP Wide': mlp_wide_predictions,\n",
    "    'DTI': nocon_predictions,\n",
    "    'DTI Contrastive': contrast_predictions,\n",
    "}\n",
    "\n",
    "model_metrics = {}\n",
    "\n",
    "for m_name, m_predictions in model_predictions.items():\n",
    "    aupr = average_precision_score(test_Y, m_predictions)\n",
    "    roc = roc_auc_score(test_Y, m_predictions)\n",
    "    prc, rec, thr = precision_recall_curve(test_Y, m_predictions)\n",
    "    fpr, tpr, thr = roc_curve(test_Y, m_predictions)\n",
    "    model_metrics[m_name] = (aupr, roc, prc, rec, fpr, tpr)\n",
    "    \n",
    "    print(f'AUPR ({m_name}): {aupr}')\n",
    "    plt.scatter(rec, prc, label=f'{m_name} (AUPR={aupr:.2f})',s=1)\n",
    "plt.xlabel('Recall')\n",
    "plt.ylabel('Precision')\n",
    "plt.axhline(test_Y.sum() / len(test_Y), linestyle='--', color='gray', label='Random')\n",
    "plt.legend()\n",
    "sns.despine()\n",
    "plt.show()\n",
    "\n",
    "for m_name in model_predictions.keys():\n",
    "    aupr, roc, prc, rec, fpr, tpr = model_metrics[m_name]\n",
    "    print(f'AUROC ({m_name}): {roc}')\n",
    "    plt.scatter(fpr, tpr, label=f'{m_name} (AUROC={roc:.2f})',s=1)\n",
    "plt.xlabel('FPR')\n",
    "plt.ylabel('TPR')\n",
    "plt.plot([0,1], [0,1], linestyle='--', color='gray', label='Random')\n",
    "plt.legend()\n",
    "sns.despine()\n",
    "plt.show()"
   ]
  },
  {
   "cell_type": "markdown",
   "id": "853475c3-1874-408d-839c-eeefad176e0d",
   "metadata": {},
   "source": [
    "## Evaluate on BIOSNAP"
   ]
  },
  {
   "cell_type": "code",
   "execution_count": 204,
   "id": "f717006d-6a2d-4ab0-9e1c-bef93071ecbe",
   "metadata": {},
   "outputs": [],
   "source": [
    "snap_lr_predictions = lr_model.predict(snap_test_X)\n",
    "snap_llr_predictions = llr_model.predict(snap_test_X)\n",
    "snap_mlp_predictions = mlp_model.predict(snap_test_X)\n",
    "snap_mlp_wide_predictions = mlp_wide.predict(snap_test_X)\n",
    "snap_nocon_predictions = dti_model_predict(snap_test_X, model_noCon)\n",
    "snap_contrast_predictions = dti_model_predict(snap_test_X, model_Con)"
   ]
  },
  {
   "cell_type": "code",
   "execution_count": 205,
   "id": "6668407b-0cc8-49cc-84b5-e139c984324e",
   "metadata": {},
   "outputs": [
    {
     "name": "stdout",
     "output_type": "stream",
     "text": [
      "AUPR (Logistic): 0.49521211604938986\n",
      "AUPR (MLP): 0.5010669507273576\n",
      "AUPR (MLP Wide): 0.5059352110964574\n",
      "AUPR (DTI): 0.8979610401256449\n",
      "AUPR (DTI Contrastive): 0.8968186017623122\n"
     ]
    },
    {
     "data": {
      "image/png": "[encoded data removed]",
      "text/plain": [
       "<Figure size 432x288 with 1 Axes>"
      ]
     },
     "metadata": {
      "needs_background": "light"
     },
     "output_type": "display_data"
    },
    {
     "name": "stdout",
     "output_type": "stream",
     "text": [
      "AUROC (Logistic): 0.4796311520442056\n",
      "AUROC (MLP): 0.49394562199902303\n",
      "AUROC (MLP Wide): 0.5038750746314101\n",
      "AUROC (DTI): 0.8772934513667974\n",
      "AUROC (DTI Contrastive): 0.880189414850029\n"
     ]
    },
    {
     "data": {
      "image/png": "[encoded data removed]",
      "text/plain": [
       "<Figure size 432x288 with 1 Axes>"
      ]
     },
     "metadata": {
      "needs_background": "light"
     },
     "output_type": "display_data"
    }
   ],
   "source": [
    "model_predictions = {\n",
    "    'Logistic': snap_lr_predictions,\n",
    "    'MLP': snap_mlp_predictions,\n",
    "    'MLP Wide': snap_mlp_wide_predictions,\n",
    "    'DTI': snap_nocon_predictions,\n",
    "    'DTI Contrastive': snap_contrast_predictions,\n",
    "}\n",
    "model_metrics = {}\n",
    "\n",
    "for m_name, m_predictions in model_predictions.items():\n",
    "    aupr = average_precision_score(snap_test_Y, m_predictions)\n",
    "    roc = roc_auc_score(snap_test_Y, m_predictions)\n",
    "    prc, rec, thr = precision_recall_curve(snap_test_Y, m_predictions)\n",
    "    fpr, tpr, thr = roc_curve(snap_test_Y, m_predictions)\n",
    "    model_metrics[m_name] = (aupr, roc, prc, rec, fpr, tpr)\n",
    "    \n",
    "    print(f'AUPR ({m_name}): {aupr}')\n",
    "    plt.scatter(rec, prc, label=f'{m_name} (AUPR={aupr:.2f})',s=1)\n",
    "plt.xlabel('Recall')\n",
    "plt.ylabel('Precision')\n",
    "plt.axhline(test_Y.sum() / len(test_Y), linestyle='--', color='gray', label='Random')\n",
    "plt.legend()\n",
    "sns.despine()\n",
    "plt.show()\n",
    "\n",
    "for m_name in model_predictions.keys():\n",
    "    aupr, roc, prc, rec, fpr, tpr = model_metrics[m_name]\n",
    "    print(f'AUROC ({m_name}): {roc}')\n",
    "    plt.scatter(fpr, tpr, label=f'{m_name} (AUROC={roc:.2f})',s=1)\n",
    "plt.xlabel('FPR')\n",
    "plt.ylabel('TPR')\n",
    "plt.plot([0,1], [0,1], linestyle='--', color='gray', label='Random')\n",
    "plt.legend()\n",
    "sns.despine()\n",
    "plt.show()"
   ]
  },
  {
   "cell_type": "code",
   "execution_count": null,
   "id": "5cf1adfb-007a-4a66-bcdf-4009fab1d5a3",
   "metadata": {},
   "outputs": [],
   "source": []
  }
 ],
 "metadata": {
  "kernelspec": {
   "display_name": "Python [conda env:dsplat] *",
   "language": "python",
   "name": "conda-env-dsplat-py"
  },
  "language_info": {
   "codemirror_mode": {
    "name": "ipython",
    "version": 3
   },
   "file_extension": ".py",
   "mimetype": "text/x-python",
   "name": "python",
   "nbconvert_exporter": "python",
   "pygments_lexer": "ipython3",
   "version": "3.7.12"
  }
 },
 "nbformat": 4,
 "nbformat_minor": 5
}
