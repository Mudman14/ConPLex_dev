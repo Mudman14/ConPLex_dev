{
 "cells": [
  {
   "cell_type": "code",
   "execution_count": 1,
   "id": "88d68c97-2973-4ffe-8bf5-508e19701b0e",
   "metadata": {},
   "outputs": [],
   "source": [
    "import os\n",
    "import sys\n",
    "import torch\n",
    "import pandas as pd\n",
    "from tqdm.notebook import tqdm\n",
    "import pickle as pk\n",
    "import numpy as np\n",
    "\n",
    "import matplotlib.pyplot as plt\n",
    "import seaborn as sns\n",
    "\n",
    "device = torch.cuda.set_device(0)\n",
    "\n",
    "BASE_DIR = \"..\"\n",
    "MODEL_BASE_DIR = f\"{BASE_DIR}/best_models\"\n",
    "DATA_DIR = f\"{BASE_DIR}/nbdata\"\n",
    "os.makedirs(DATA_DIR,exist_ok=True)\n",
    "sys.path.append(BASE_DIR)"
   ]
  },
  {
   "cell_type": "code",
   "execution_count": 17,
   "id": "8af9db3e-3ceb-4b9f-a62a-4440ebc47f4d",
   "metadata": {},
   "outputs": [],
   "source": [
    "import torch\n",
    "from torch import nn"
   ]
  },
  {
   "cell_type": "code",
   "execution_count": 2,
   "id": "2687622d-477e-4c69-a77f-170b413c729c",
   "metadata": {},
   "outputs": [],
   "source": [
    "from tdc import utils\n",
    "names = utils.retrieve_benchmark_names('DTI_DG_Group')"
   ]
  },
  {
   "cell_type": "code",
   "execution_count": 3,
   "id": "400ea0d8-6165-4e40-b08c-a5a28e2107da",
   "metadata": {},
   "outputs": [
    {
     "data": {
      "text/plain": [
       "['bindingdb_patent']"
      ]
     },
     "execution_count": 3,
     "metadata": {},
     "output_type": "execute_result"
    }
   ],
   "source": [
    "names"
   ]
  },
  {
   "cell_type": "code",
   "execution_count": 4,
   "id": "0ee0fd19-ab80-4aff-acdb-69c1b7cae2de",
   "metadata": {},
   "outputs": [
    {
     "name": "stderr",
     "output_type": "stream",
     "text": [
      "Found local copy...\n"
     ]
    }
   ],
   "source": [
    "from tdc.benchmark_group import dti_dg_group\n",
    "group = dti_dg_group(path = DATA_DIR)"
   ]
  },
  {
   "cell_type": "code",
   "execution_count": 5,
   "id": "6b01e5fa-6ccf-4eeb-89eb-c1d58314f19a",
   "metadata": {},
   "outputs": [],
   "source": [
    "benchmark = group.get('bindingdb_patent')"
   ]
  },
  {
   "cell_type": "code",
   "execution_count": 6,
   "id": "a7bc818e-31da-424f-a3bc-382d21999911",
   "metadata": {},
   "outputs": [],
   "source": [
    "predictions = {}\n",
    "name = benchmark['name']\n",
    "train_val, test = benchmark['train_val'], benchmark['test']\n",
    "\n",
    "## Natural log transformed (kd/ki/ic50??)"
   ]
  },
  {
   "cell_type": "code",
   "execution_count": 7,
   "id": "3443b34e-9baa-4620-b005-8f156acab67e",
   "metadata": {},
   "outputs": [],
   "source": [
    "all_drugs = pd.concat([train_val,test]).Drug.values\n",
    "all_proteins = pd.concat([train_val,test]).Target.values"
   ]
  },
  {
   "cell_type": "code",
   "execution_count": 8,
   "id": "754e7298-a2a8-4820-ad77-752d3beca0d1",
   "metadata": {},
   "outputs": [],
   "source": [
    "to_disk_path = f\"{DATA_DIR}/tdc_bindingdb_patent_train\""
   ]
  },
  {
   "cell_type": "code",
   "execution_count": 9,
   "id": "af0ea3e4-9793-460c-a54f-ec67506e7caa",
   "metadata": {},
   "outputs": [],
   "source": [
    "from mol_feats import Morgan_f\n",
    "from prot_feats import Prose_f"
   ]
  },
  {
   "cell_type": "code",
   "execution_count": 10,
   "id": "9524b419-5ae0-446f-b297-c207fa7c0c4a",
   "metadata": {},
   "outputs": [],
   "source": [
    "mol_featurizer = Morgan_f()\n",
    "prot_featurizer = Prose_f()"
   ]
  },
  {
   "cell_type": "code",
   "execution_count": 11,
   "id": "05939ff9-3b12-4442-8fb5-24e4c3b71d15",
   "metadata": {
    "scrolled": true,
    "tags": []
   },
   "outputs": [
    {
     "name": "stderr",
     "output_type": "stream",
     "text": [
      "  0%|                                                                                      | 138/232458 [00:00<02:49, 1374.55it/s]"
     ]
    },
    {
     "name": "stdout",
     "output_type": "stream",
     "text": [
      "--- precomputing morgan molecule featurizer ---\n"
     ]
    },
    {
     "name": "stderr",
     "output_type": "stream",
     "text": [
      "  3%|██▍                                                                                  | 6708/232458 [00:03<02:07, 1765.65it/s]RDKit ERROR: [12:54:18] Explicit valence for atom # 20 N, 4, is greater than permitted\n",
      "[12:54:18] Explicit valence for atom # 20 N, 4, is greater than permitted\n",
      "RDKit ERROR: [12:54:18] Explicit valence for atom # 20 N, 4, is greater than permitted\n",
      "[12:54:18] Explicit valence for atom # 20 N, 4, is greater than permitted\n",
      "  3%|██▌                                                                                  | 6892/232458 [00:03<02:09, 1737.33it/s]RDKit ERROR: [12:54:18] Explicit valence for atom # 4 N, 4, is greater than permitted\n",
      "[12:54:18] Explicit valence for atom # 4 N, 4, is greater than permitted\n",
      "RDKit ERROR: [12:54:18] Explicit valence for atom # 10 N, 4, is greater than permitted\n",
      "[12:54:18] Explicit valence for atom # 10 N, 4, is greater than permitted\n",
      "RDKit ERROR: [12:54:18] Explicit valence for atom # 10 N, 4, is greater than permitted\n",
      "[12:54:18] Explicit valence for atom # 10 N, 4, is greater than permitted\n",
      "RDKit ERROR: [12:54:18] Explicit valence for atom # 4 N, 4, is greater than permitted\n",
      "[12:54:18] Explicit valence for atom # 4 N, 4, is greater than permitted\n",
      "RDKit ERROR: [12:54:18] Explicit valence for atom # 20 N, 4, is greater than permitted\n",
      "[12:54:18] Explicit valence for atom # 20 N, 4, is greater than permitted\n",
      "RDKit ERROR: [12:54:18] Explicit valence for atom # 17 N, 4, is greater than permitted\n",
      "[12:54:18] Explicit valence for atom # 17 N, 4, is greater than permitted\n",
      "  3%|██▌                                                                                  | 7071/232458 [00:03<02:12, 1702.44it/s]RDKit ERROR: [12:54:18] Explicit valence for atom # 19 N, 4, is greater than permitted\n",
      "[12:54:18] Explicit valence for atom # 19 N, 4, is greater than permitted\n"
     ]
    },
    {
     "name": "stdout",
     "output_type": "stream",
     "text": [
      "rdkit not found this smiles for morgan: None convert to all 0 features\n",
      "rdkit not found this smiles for morgan: None convert to all 0 features\n",
      "rdkit not found this smiles for morgan: None convert to all 0 features\n",
      "rdkit not found this smiles for morgan: None convert to all 0 features\n",
      "rdkit not found this smiles for morgan: None convert to all 0 features\n",
      "rdkit not found this smiles for morgan: None convert to all 0 features\n",
      "rdkit not found this smiles for morgan: None convert to all 0 features\n",
      "rdkit not found this smiles for morgan: None convert to all 0 features\n",
      "rdkit not found this smiles for morgan: None convert to all 0 features\n"
     ]
    },
    {
     "name": "stderr",
     "output_type": "stream",
     "text": [
      "  3%|██▋                                                                                  | 7382/232458 [00:04<01:48, 2082.42it/s]RDKit ERROR: [12:54:18] Explicit valence for atom # 4 N, 4, is greater than permitted\n",
      "[12:54:18] Explicit valence for atom # 4 N, 4, is greater than permitted\n",
      "RDKit ERROR: [12:54:18] Explicit valence for atom # 19 N, 4, is greater than permitted\n",
      "[12:54:18] Explicit valence for atom # 19 N, 4, is greater than permitted\n",
      "  3%|██▉                                                                                  | 7993/232458 [00:04<01:35, 2362.78it/s]RDKit ERROR: [12:54:18] Can't kekulize mol.  Unkekulized atoms: 6 7 8 10 11 13 14\n",
      "RDKit ERROR: \n",
      "[12:54:18] Can't kekulize mol.  Unkekulized atoms: 6 7 8 10 11 13 14\n",
      "\n"
     ]
    },
    {
     "name": "stdout",
     "output_type": "stream",
     "text": [
      "rdkit not found this smiles for morgan: None convert to all 0 features\n",
      "rdkit not found this smiles for morgan: None convert to all 0 features\n",
      "rdkit not found this smiles for morgan: None convert to all 0 features\n"
     ]
    },
    {
     "name": "stderr",
     "output_type": "stream",
     "text": [
      "RDKit ERROR: [12:54:18] Can't kekulize mol.  Unkekulized atoms: 13 14 15 17 18 20 21\n",
      "RDKit ERROR: \n",
      "[12:54:18] Can't kekulize mol.  Unkekulized atoms: 13 14 15 17 18 20 21\n",
      "\n",
      "RDKit ERROR: [12:54:18] Can't kekulize mol.  Unkekulized atoms: 16 17 18 20 21 23 24\n",
      "RDKit ERROR: \n",
      "[12:54:18] Can't kekulize mol.  Unkekulized atoms: 16 17 18 20 21 23 24\n",
      "\n",
      "RDKit ERROR: [12:54:18] Can't kekulize mol.  Unkekulized atoms: 6 7 8 10 11 13 14\n",
      "RDKit ERROR: \n",
      "[12:54:18] Can't kekulize mol.  Unkekulized atoms: 6 7 8 10 11 13 14\n",
      "\n",
      "  4%|███                                                                                  | 8474/232458 [00:04<01:40, 2226.81it/s]"
     ]
    },
    {
     "name": "stdout",
     "output_type": "stream",
     "text": [
      "rdkit not found this smiles for morgan: None convert to all 0 features\n",
      "rdkit not found this smiles for morgan: None convert to all 0 features\n",
      "rdkit not found this smiles for morgan: None convert to all 0 features\n"
     ]
    },
    {
     "name": "stderr",
     "output_type": "stream",
     "text": [
      "  5%|████▌                                                                               | 12499/232458 [00:06<01:57, 1869.20it/s]RDKit ERROR: [12:54:21] Explicit valence for atom # 1 N, 4, is greater than permitted\n",
      "[12:54:21] Explicit valence for atom # 1 N, 4, is greater than permitted\n",
      "  6%|████▋                                                                               | 12893/232458 [00:06<01:57, 1870.21it/s]"
     ]
    },
    {
     "name": "stdout",
     "output_type": "stream",
     "text": [
      "rdkit not found this smiles for morgan: None convert to all 0 features\n"
     ]
    },
    {
     "name": "stderr",
     "output_type": "stream",
     "text": [
      "  9%|███████▍                                                                            | 20623/232458 [00:10<01:52, 1883.61it/s]RDKit ERROR: [12:54:25] Can't kekulize mol.  Unkekulized atoms: 1 2 3 4 5 6 7 8 9\n",
      "RDKit ERROR: \n",
      "[12:54:25] Can't kekulize mol.  Unkekulized atoms: 1 2 3 4 5 6 7 8 9\n",
      "\n",
      "RDKit ERROR: [12:54:25] Can't kekulize mol.  Unkekulized atoms: 27 28 29 30 31 32 34 35 36\n",
      "[12:54:25] Can't kekulize mol.  Unkekulized atoms: 27 28 29 30 31 32 34 35 36\n",
      "\n",
      "RDKit ERROR: \n",
      "RDKit ERROR: [12:54:25] Can't kekulize mol.  Unkekulized atoms: 23 24 25 26 27 28 30 31 32\n",
      "[12:54:25] Can't kekulize mol.  Unkekulized atoms: 23 24 25 26 27 28 30 31 32\n",
      "\n",
      "RDKit ERROR: \n",
      "RDKit ERROR: [12:54:25] Can't kekulize mol.  Unkekulized atoms: 25 26 27 28 29 30 32 33 34\n",
      "[12:54:25] Can't kekulize mol.  Unkekulized atoms: 25 26 27 28 29 30 32 33 34\n",
      "\n",
      "RDKit ERROR: \n",
      "RDKit ERROR: [12:54:25] Can't kekulize mol.  Unkekulized atoms: 1 2 3 4 5 6 7 8 9\n",
      "[12:54:25] Can't kekulize mol.  Unkekulized atoms: 1 2 3 4 5 6 7 8 9\n",
      "\n",
      "RDKit ERROR: \n",
      "RDKit ERROR: [12:54:25] Can't kekulize mol.  Unkekulized atoms: 1 2 3 4 5 6 7 8 9\n",
      "RDKit ERROR: \n",
      "[12:54:25] Can't kekulize mol.  Unkekulized atoms: 1 2 3 4 5 6 7 8 9\n",
      "\n",
      "RDKit ERROR: [12:54:25] Can't kekulize mol.  Unkekulized atoms: 1 2 3 4 5 6 7 8 9\n",
      "[12:54:25] Can't kekulize mol.  Unkekulized atoms: 1 2 3 4 5 6 7 8 9\n",
      "\n",
      "RDKit ERROR: \n",
      "RDKit ERROR: [12:54:25] Can't kekulize mol.  Unkekulized atoms: 1 2 3 4 5 6 7 8 9\n",
      "[12:54:25] Can't kekulize mol.  Unkekulized atoms: 1 2 3 4 5 6 7 8 9\n",
      "\n",
      "RDKit ERROR: \n",
      "RDKit ERROR: [12:54:25] Can't kekulize mol.  Unkekulized atoms: 20 21 22 23 24 25 27 28 29\n",
      "RDKit ERROR: \n",
      "[12:54:25] Can't kekulize mol.  Unkekulized atoms: 20 21 22 23 24 25 27 28 29\n",
      "\n",
      "RDKit ERROR: [12:54:25] Can't kekulize mol.  Unkekulized atoms: 1 2 3 4 5 6 7 8 9\n",
      "[12:54:25] Can't kekulize mol.  Unkekulized atoms: 1 2 3 4 5 6 7 8 9\n",
      "\n",
      "RDKit ERROR: \n",
      "RDKit ERROR: [12:54:25] Can't kekulize mol.  Unkekulized atoms: 1 2 3 4 5 6 7 8 9\n",
      "[12:54:25] Can't kekulize mol.  Unkekulized atoms: 1 2 3 4 5 6 7 8 9\n",
      "\n",
      "RDKit ERROR: \n",
      "RDKit ERROR: [12:54:25] Can't kekulize mol.  Unkekulized atoms: 1 2 3 4 5 6 7 8 9\n",
      "[12:54:25] Can't kekulize mol.  Unkekulized atoms: 1 2 3 4 5 6 7 8 9\n",
      "\n",
      "RDKit ERROR: \n",
      "RDKit ERROR: [12:54:25] Can't kekulize mol.  Unkekulized atoms: 1 2 3 4 5 6 7 9 10\n",
      "[12:54:25] Can't kekulize mol.  Unkekulized atoms: 1 2 3 4 5 6 7 9 10\n",
      "\n",
      "RDKit ERROR: \n",
      "RDKit ERROR: [12:54:25] Can't kekulize mol.  Unkekulized atoms: 22 23 24 25 26 27 29 30 31\n",
      "[12:54:25] Can't kekulize mol.  Unkekulized atoms: 22 23 24 25 26 27 29 30 31\n",
      "\n",
      "RDKit ERROR: \n",
      "RDKit ERROR: [12:54:25] Can't kekulize mol.  Unkekulized atoms: 1 2 3 4 5 6 7 8 9\n",
      "[12:54:25] Can't kekulize mol.  Unkekulized atoms: 1 2 3 4 5 6 7 8 9\n",
      "\n",
      "RDKit ERROR: \n",
      "RDKit ERROR: [12:54:25] Can't kekulize mol.  Unkekulized atoms: 1 2 3 4 5 6 7 8 9\n",
      "[12:54:25] Can't kekulize mol.  Unkekulized atoms: 1 2 3 4 5 6 7 8 9\n",
      "\n",
      "RDKit ERROR: \n",
      "RDKit ERROR: [12:54:25] Can't kekulize mol.  Unkekulized atoms: 21 22 23 24 25 26 28 29 30\n",
      "[12:54:25] Can't kekulize mol.  Unkekulized atoms: 21 22 23 24 25 26 28 29 30\n",
      "\n",
      "RDKit ERROR: \n",
      "RDKit ERROR: [12:54:25] Can't kekulize mol.  Unkekulized atoms: 1 2 3 4 5 6 7 8 9\n",
      "[12:54:25] Can't kekulize mol.  Unkekulized atoms: 1 2 3 4 5 6 7 8 9\n",
      "\n",
      "RDKit ERROR: \n",
      "RDKit ERROR: [12:54:25] Can't kekulize mol.  Unkekulized atoms: 25 26 27 28 29 30 32 33 34\n",
      "[12:54:25] Can't kekulize mol.  Unkekulized atoms: 25 26 27 28 29 30 32 33 34\n",
      "\n",
      "RDKit ERROR: \n",
      "RDKit ERROR: [12:54:25] Can't kekulize mol.  Unkekulized atoms: 1 2 3 4 5 6 7 8 9\n",
      "[12:54:25] Can't kekulize mol.  Unkekulized atoms: 1 2 3 4 5 6 7 8 9\n",
      "\n",
      "RDKit ERROR: \n",
      "RDKit ERROR: [12:54:25] Can't kekulize mol.  Unkekulized atoms: 25 26 27 28 29 30 32 33 34\n",
      "[12:54:25] Can't kekulize mol.  Unkekulized atoms: 25 26 27 28 29 30 32 33 34\n",
      "\n",
      "RDKit ERROR: \n",
      "RDKit ERROR: [12:54:25] Can't kekulize mol.  Unkekulized atoms: 1 2 3 4 5 6 7 8 9\n",
      "[12:54:25] Can't kekulize mol.  Unkekulized atoms: 1 2 3 4 5 6 7 8 9\n",
      "\n",
      "RDKit ERROR: \n",
      "RDKit ERROR: [12:54:25] Can't kekulize mol.  Unkekulized atoms: 1 2 3 4 5 6 7 8 9\n",
      "[12:54:25] Can't kekulize mol.  Unkekulized atoms: 1 2 3 4 5 6 7 8 9\n",
      "\n",
      "RDKit ERROR: \n",
      "RDKit ERROR: [12:54:25] Can't kekulize mol.  Unkekulized atoms: 25 26 27 28 29 30 32 33 34\n",
      "[12:54:25] Can't kekulize mol.  Unkekulized atoms: 25 26 27 28 29 30 32 33 34\n",
      "\n",
      "RDKit ERROR: \n",
      "RDKit ERROR: [12:54:25] Can't kekulize mol.  Unkekulized atoms: 1 2 3 4 5 6 7 8 9\n",
      "RDKit ERROR: \n",
      "[12:54:25] Can't kekulize mol.  Unkekulized atoms: 1 2 3 4 5 6 7 8 9\n",
      "\n",
      "RDKit ERROR: [12:54:25] Can't kekulize mol.  Unkekulized atoms: 1 2 3 4 5 6 7 8 9\n",
      "RDKit ERROR: \n",
      "[12:54:25] Can't kekulize mol.  Unkekulized atoms: 1 2 3 4 5 6 7 8 9\n",
      "\n",
      "RDKit ERROR: [12:54:25] Can't kekulize mol.  Unkekulized atoms: 1 2 3 4 5 6 7 8 9\n",
      "RDKit ERROR: \n",
      "[12:54:25] Can't kekulize mol.  Unkekulized atoms: 1 2 3 4 5 6 7 8 9\n",
      "\n",
      "RDKit ERROR: [12:54:25] Can't kekulize mol.  Unkekulized atoms: 1 2 3 4 5 6 7 8 9\n",
      "[12:54:25] Can't kekulize mol.  Unkekulized atoms: 1 2 3 4 5 6 7 8 9\n",
      "\n",
      "RDKit ERROR: \n",
      "RDKit ERROR: [12:54:25] Can't kekulize mol.  Unkekulized atoms: 1 2 3 4 5 6 7 8 9\n",
      "RDKit ERROR: \n",
      "[12:54:25] Can't kekulize mol.  Unkekulized atoms: 1 2 3 4 5 6 7 8 9\n",
      "\n",
      "RDKit ERROR: [12:54:25] Can't kekulize mol.  Unkekulized atoms: 1 2 3 4 5 6 7 8 9\n",
      "RDKit ERROR: \n",
      "[12:54:25] Can't kekulize mol.  Unkekulized atoms: 1 2 3 4 5 6 7 8 9\n",
      "\n",
      "RDKit ERROR: [12:54:25] Can't kekulize mol.  Unkekulized atoms: 1 2 3 4 5 6 7 8 9\n",
      "[12:54:25] Can't kekulize mol.  Unkekulized atoms: 1 2 3 4 5 6 7 8 9\n",
      "\n",
      "RDKit ERROR: \n",
      "RDKit ERROR: [12:54:25] Can't kekulize mol.  Unkekulized atoms: 1 2 3 4 5 6 7 8 9\n",
      "[12:54:25] Can't kekulize mol.  Unkekulized atoms: 1 2 3 4 5 6 7 8 9\n",
      "\n",
      "RDKit ERROR: \n",
      "RDKit ERROR: [12:54:25] Can't kekulize mol.  Unkekulized atoms: 1 2 3 4 5 6 7 8 9\n",
      "[12:54:25] Can't kekulize mol.  Unkekulized atoms: 1 2 3 4 5 6 7 8 9\n",
      "\n",
      "RDKit ERROR: \n",
      "RDKit ERROR: [12:54:25] Can't kekulize mol.  Unkekulized atoms: 1 2 3 4 5 6 7 8 9\n",
      "[12:54:25] Can't kekulize mol.  Unkekulized atoms: 1 2 3 4 5 6 7 8 9\n",
      "\n",
      "RDKit ERROR: \n",
      "RDKit ERROR: [12:54:25] Can't kekulize mol.  Unkekulized atoms: 1 2 3 4 5 6 7 8 9\n",
      "[12:54:25] Can't kekulize mol.  Unkekulized atoms: 1 2 3 4 5 6 7 8 9\n",
      "\n",
      "RDKit ERROR: \n",
      "RDKit ERROR: [12:54:25] Can't kekulize mol.  Unkekulized atoms: 1 2 3 4 5 6 7 8 9\n",
      "[12:54:25] Can't kekulize mol.  Unkekulized atoms: 1 2 3 4 5 6 7 8 9\n",
      "\n",
      "RDKit ERROR: \n",
      "RDKit ERROR: [12:54:25] Can't kekulize mol.  Unkekulized atoms: 22 23 24 25 26 27 29 30 31\n",
      "[12:54:25] Can't kekulize mol.  Unkekulized atoms: 22 23 24 25 26 27 29 30 31\n",
      "\n",
      "RDKit ERROR: \n",
      "RDKit ERROR: [12:54:25] Can't kekulize mol.  Unkekulized atoms: 1 2 3 4 5 6 7 8 9\n",
      "[12:54:25] Can't kekulize mol.  Unkekulized atoms: 1 2 3 4 5 6 7 8 9\n",
      "\n",
      "RDKit ERROR: \n",
      "RDKit ERROR: [12:54:25] Can't kekulize mol.  Unkekulized atoms: 1 2 3 4 5 6 7 8 9\n",
      "[12:54:25] Can't kekulize mol.  Unkekulized atoms: 1 2 3 4 5 6 7 8 9\n",
      "\n",
      "RDKit ERROR: \n",
      "RDKit ERROR: [12:54:25] Can't kekulize mol.  Unkekulized atoms: 6 7 8 9 10 11 19 20 21\n",
      "RDKit ERROR: \n",
      "[12:54:25] Can't kekulize mol.  Unkekulized atoms: 6 7 8 9 10 11 19 20 21\n",
      "\n",
      "RDKit ERROR: [12:54:25] Can't kekulize mol.  Unkekulized atoms: 1 2 3 4 5 6 7 8 9\n",
      "[12:54:25] Can't kekulize mol.  Unkekulized atoms: 1 2 3 4 5 6 7 8 9\n",
      "\n",
      "RDKit ERROR: \n",
      "RDKit ERROR: [12:54:25] Can't kekulize mol.  Unkekulized atoms: 25 26 27 28 29 30 32 33 34\n",
      "RDKit ERROR: \n",
      "[12:54:25] Can't kekulize mol.  Unkekulized atoms: 25 26 27 28 29 30 32 33 34\n",
      "\n",
      "  9%|███████▌                                                                            | 20813/232458 [00:11<01:58, 1779.81it/s]RDKit ERROR: [12:54:25] Can't kekulize mol.  Unkekulized atoms: 23 24 25 26 27 28 30 31 32\n",
      "RDKit ERROR: \n",
      "[12:54:25] Can't kekulize mol.  Unkekulized atoms: 23 24 25 26 27 28 30 31 32\n",
      "\n",
      "RDKit ERROR: [12:54:25] Can't kekulize mol.  Unkekulized atoms: 1 2 3 4 5 6 7 8 9\n",
      "RDKit ERROR: \n",
      "[12:54:25] Can't kekulize mol.  Unkekulized atoms: 1 2 3 4 5 6 7 8 9\n",
      "\n",
      "RDKit ERROR: [12:54:25] Can't kekulize mol.  Unkekulized atoms: 1 2 3 4 5 6 7 8 9\n",
      "[12:54:25] Can't kekulize mol.  Unkekulized atoms: 1 2 3 4 5 6 7 8 9\n",
      "\n",
      "RDKit ERROR: \n",
      "RDKit ERROR: [12:54:25] Can't kekulize mol.  Unkekulized atoms: 1 2 3 4 5 6 7 8 9\n",
      "[12:54:25] Can't kekulize mol.  Unkekulized atoms: 1 2 3 4 5 6 7 8 9\n",
      "\n",
      "RDKit ERROR: \n",
      "RDKit ERROR: [12:54:25] Can't kekulize mol.  Unkekulized atoms: 1 2 3 4 5 6 7 8 9\n",
      "[12:54:25] Can't kekulize mol.  Unkekulized atoms: 1 2 3 4 5 6 7 8 9\n",
      "\n",
      "RDKit ERROR: \n",
      "RDKit ERROR: [12:54:25] Can't kekulize mol.  Unkekulized atoms: 21 22 23 24 25 26 28 29 30\n",
      "[12:54:25] Can't kekulize mol.  Unkekulized atoms: 21 22 23 24 25 26 28 29 30\n",
      "\n",
      "RDKit ERROR: \n",
      "RDKit ERROR: [12:54:25] Can't kekulize mol.  Unkekulized atoms: 19 20 21 22 23 24 26 27 28\n",
      "[12:54:25] Can't kekulize mol.  Unkekulized atoms: 19 20 21 22 23 24 26 27 28\n",
      "\n",
      "RDKit ERROR: \n",
      "RDKit ERROR: [12:54:25] Can't kekulize mol.  Unkekulized atoms: 2 3 4 5 6 7 8 9 10\n",
      "[12:54:25] Can't kekulize mol.  Unkekulized atoms: 2 3 4 5 6 7 8 9 10\n",
      "\n",
      "RDKit ERROR: \n",
      "RDKit ERROR: [12:54:25] Can't kekulize mol.  Unkekulized atoms: 1 2 3 4 5 6 7 8 9\n",
      "[12:54:25] Can't kekulize mol.  Unkekulized atoms: 1 2 3 4 5 6 7 8 9\n",
      "\n",
      "RDKit ERROR: \n",
      "RDKit ERROR: [12:54:25] Can't kekulize mol.  Unkekulized atoms: 1 2 3 4 5 6 7 8 9\n",
      "[12:54:25] Can't kekulize mol.  Unkekulized atoms: 1 2 3 4 5 6 7 8 9\n",
      "\n",
      "RDKit ERROR: \n",
      "RDKit ERROR: [12:54:25] Can't kekulize mol.  Unkekulized atoms: 19 20 21 22 23 24 26 27 28\n",
      "[12:54:25] Can't kekulize mol.  Unkekulized atoms: 19 20 21 22 23 24 26 27 28\n",
      "\n",
      "RDKit ERROR: \n",
      "RDKit ERROR: [12:54:25] Can't kekulize mol.  Unkekulized atoms: 1 2 3 4 5 6 7 8 9\n",
      "[12:54:25] Can't kekulize mol.  Unkekulized atoms: 1 2 3 4 5 6 7 8 9\n",
      "\n",
      "RDKit ERROR: \n",
      "RDKit ERROR: [12:54:25] Can't kekulize mol.  Unkekulized atoms: 20 21 22 23 24 25 27 28 29\n",
      "[12:54:25] Can't kekulize mol.  Unkekulized atoms: 20 21 22 23 24 25 27 28 29\n",
      "\n",
      "RDKit ERROR: \n",
      "RDKit ERROR: [12:54:25] Can't kekulize mol.  Unkekulized atoms: 1 2 3 4 5 6 7 8 9\n",
      "[12:54:25] Can't kekulize mol.  Unkekulized atoms: 1 2 3 4 5 6 7 8 9\n",
      "\n",
      "RDKit ERROR: \n",
      "RDKit ERROR: [12:54:25] Can't kekulize mol.  Unkekulized atoms: 21 22 23 24 25 26 28 29 30\n",
      "[12:54:25] Can't kekulize mol.  Unkekulized atoms: 21 22 23 24 25 26 28 29 30\n",
      "\n",
      "RDKit ERROR: \n",
      "RDKit ERROR: [12:54:25] Can't kekulize mol.  Unkekulized atoms: 1 2 3 4 5 6 7 8 9\n",
      "[12:54:25] Can't kekulize mol.  Unkekulized atoms: 1 2 3 4 5 6 7 8 9\n",
      "\n",
      "RDKit ERROR: \n",
      "RDKit ERROR: [12:54:25] Can't kekulize mol.  Unkekulized atoms: 1 2 3 4 5 6 7 8 9\n",
      "[12:54:25] Can't kekulize mol.  Unkekulized atoms: 1 2 3 4 5 6 7 8 9\n",
      "\n",
      "RDKit ERROR: \n",
      "RDKit ERROR: [12:54:25] Can't kekulize mol.  Unkekulized atoms: 1 2 3 4 5 6 7 8 9\n",
      "[12:54:25] Can't kekulize mol.  Unkekulized atoms: 1 2 3 4 5 6 7 8 9\n",
      "\n",
      "RDKit ERROR: \n",
      "RDKit ERROR: [12:54:25] Can't kekulize mol.  Unkekulized atoms: 1 2 3 4 5 6 7 8 9\n",
      "[12:54:25] Can't kekulize mol.  Unkekulized atoms: 1 2 3 4 5 6 7 8 9\n",
      "\n",
      "RDKit ERROR: \n",
      "RDKit ERROR: [12:54:25] Can't kekulize mol.  Unkekulized atoms: 1 2 3 4 5 6 7 8 9\n",
      "[12:54:25] Can't kekulize mol.  Unkekulized atoms: 1 2 3 4 5 6 7 8 9\n",
      "\n",
      "RDKit ERROR: \n",
      "RDKit ERROR: [12:54:25] Can't kekulize mol.  Unkekulized atoms: 6 7 8 9 10 11 12 13 14\n",
      "[12:54:25] Can't kekulize mol.  Unkekulized atoms: 6 7 8 9 10 11 12 13 14\n",
      "\n",
      "RDKit ERROR: \n",
      "RDKit ERROR: [12:54:25] Can't kekulize mol.  Unkekulized atoms: 1 2 3 4 5 6 7 8 9\n",
      "[12:54:25] Can't kekulize mol.  Unkekulized atoms: 1 2 3 4 5 6 7 8 9\n",
      "\n",
      "RDKit ERROR: \n",
      "RDKit ERROR: [12:54:25] Can't kekulize mol.  Unkekulized atoms: 1 2 3 4 5 6 7 8 9\n",
      "[12:54:25] Can't kekulize mol.  Unkekulized atoms: 1 2 3 4 5 6 7 8 9\n",
      "\n",
      "RDKit ERROR: \n",
      "RDKit ERROR: [12:54:25] Can't kekulize mol.  Unkekulized atoms: 1 2 3 4 5 6 7 8 9\n",
      "[12:54:25] Can't kekulize mol.  Unkekulized atoms: 1 2 3 4 5 6 7 8 9\n",
      "\n",
      "RDKit ERROR: \n",
      "RDKit ERROR: [12:54:25] Can't kekulize mol.  Unkekulized atoms: 30 31 32 33 34 35 37 38 39\n",
      "[12:54:25] Can't kekulize mol.  Unkekulized atoms: 30 31 32 33 34 35 37 38 39\n",
      "\n",
      "RDKit ERROR: \n",
      "RDKit ERROR: [12:54:25] Can't kekulize mol.  Unkekulized atoms: 1 2 3 4 5 6 7 8 9\n",
      "[12:54:25] Can't kekulize mol.  Unkekulized atoms: 1 2 3 4 5 6 7 8 9\n",
      "\n",
      "RDKit ERROR: \n",
      "RDKit ERROR: [12:54:25] Can't kekulize mol.  Unkekulized atoms: 1 2 3 4 5 6 7 8 9\n",
      "[12:54:25] Can't kekulize mol.  Unkekulized atoms: 1 2 3 4 5 6 7 8 9\n",
      "\n",
      "RDKit ERROR: \n",
      "RDKit ERROR: [12:54:25] Can't kekulize mol.  Unkekulized atoms: 26 27 28 29 30 31 33 34 35\n",
      "[12:54:25] Can't kekulize mol.  Unkekulized atoms: 26 27 28 29 30 31 33 34 35\n",
      "\n",
      "RDKit ERROR: \n",
      "RDKit ERROR: [12:54:25] Can't kekulize mol.  Unkekulized atoms: 1 2 3 4 5 6 7 8 9\n",
      "[12:54:25] Can't kekulize mol.  Unkekulized atoms: 1 2 3 4 5 6 7 8 9\n",
      "\n",
      "RDKit ERROR: \n",
      "RDKit ERROR: [12:54:25] Can't kekulize mol.  Unkekulized atoms: 1 2 3 4 5 6 7 8 9\n",
      "RDKit ERROR: \n",
      "[12:54:25] Can't kekulize mol.  Unkekulized atoms: 1 2 3 4 5 6 7 8 9\n",
      "\n",
      "RDKit ERROR: [12:54:25] Can't kekulize mol.  Unkekulized atoms: 24 25 26 27 28 29 31 32 33\n",
      "[12:54:25] Can't kekulize mol.  Unkekulized atoms: 24 25 26 27 28 29 31 32 33\n",
      "\n",
      "RDKit ERROR: \n",
      "RDKit ERROR: [12:54:25] Can't kekulize mol.  Unkekulized atoms: 1 2 3 4 5 6 7 8 9\n",
      "[12:54:25] Can't kekulize mol.  Unkekulized atoms: 1 2 3 4 5 6 7 8 9\n",
      "\n",
      "RDKit ERROR: \n",
      "RDKit ERROR: [12:54:25] Can't kekulize mol.  Unkekulized atoms: 25 26 27 28 29 30 32 33 34\n",
      "[12:54:25] Can't kekulize mol.  Unkekulized atoms: 25 26 27 28 29 30 32 33 34\n",
      "\n",
      "RDKit ERROR: \n",
      "RDKit ERROR: [12:54:25] Can't kekulize mol.  Unkekulized atoms: 24 25 26 27 28 29 30 31 32\n",
      "[12:54:25] Can't kekulize mol.  Unkekulized atoms: 24 25 26 27 28 29 30 31 32\n",
      "\n",
      "RDKit ERROR: \n",
      "RDKit ERROR: [12:54:25] Can't kekulize mol.  Unkekulized atoms: 1 2 3 4 5 6 7 8 9\n",
      "[12:54:25] Can't kekulize mol.  Unkekulized atoms: 1 2 3 4 5 6 7 8 9\n",
      "\n",
      "RDKit ERROR: \n",
      "RDKit ERROR: [12:54:25] Can't kekulize mol.  Unkekulized atoms: 1 2 3 4 5 6 7 8 9\n",
      "[12:54:25] Can't kekulize mol.  Unkekulized atoms: 1 2 3 4 5 6 7 8 9\n",
      "\n",
      "RDKit ERROR: \n",
      "RDKit ERROR: [12:54:25] Can't kekulize mol.  Unkekulized atoms: 1 2 3 4 5 6 7 8 9\n",
      "RDKit ERROR: \n",
      "[12:54:25] Can't kekulize mol.  Unkekulized atoms: 1 2 3 4 5 6 7 8 9\n",
      "\n",
      "RDKit ERROR: [12:54:25] Can't kekulize mol.  Unkekulized atoms: 1 2 3 4 5 6 7 8 9\n",
      "[12:54:25] Can't kekulize mol.  Unkekulized atoms: 1 2 3 4 5 6 7 8 9\n",
      "\n",
      "RDKit ERROR: \n",
      "RDKit ERROR: [12:54:25] Can't kekulize mol.  Unkekulized atoms: 1 2 3 4 5 6 7 8 9\n",
      "[12:54:25] Can't kekulize mol.  Unkekulized atoms: 1 2 3 4 5 6 7 8 9\n",
      "\n",
      "RDKit ERROR: \n",
      "RDKit ERROR: [12:54:25] Can't kekulize mol.  Unkekulized atoms: 1 2 3 4 5 6 7 8 9\n",
      "[12:54:25] Can't kekulize mol.  Unkekulized atoms: 1 2 3 4 5 6 7 8 9\n",
      "\n",
      "RDKit ERROR: \n",
      "RDKit ERROR: [12:54:25] Can't kekulize mol.  Unkekulized atoms: 26 27 28 29 30 31 33 34 35\n",
      "[12:54:25] Can't kekulize mol.  Unkekulized atoms: 26 27 28 29 30 31 33 34 35\n",
      "\n",
      "RDKit ERROR: \n",
      "RDKit ERROR: [12:54:25] Can't kekulize mol.  Unkekulized atoms: 22 23 24 25 26 27 29 30 31\n",
      "[12:54:25] Can't kekulize mol.  Unkekulized atoms: 22 23 24 25 26 27 29 30 31\n",
      "\n",
      "RDKit ERROR: \n",
      "RDKit ERROR: [12:54:25] Can't kekulize mol.  Unkekulized atoms: 1 2 3 4 5 6 7 8 9\n",
      "[12:54:25] Can't kekulize mol.  Unkekulized atoms: 1 2 3 4 5 6 7 8 9\n",
      "\n",
      "RDKit ERROR: \n",
      "RDKit ERROR: [12:54:25] Can't kekulize mol.  Unkekulized atoms: 1 2 3 4 5 6 7 8 9\n",
      "RDKit ERROR: \n",
      "[12:54:25] Can't kekulize mol.  Unkekulized atoms: 1 2 3 4 5 6 7 8 9\n",
      "\n",
      "RDKit ERROR: [12:54:25] Can't kekulize mol.  Unkekulized atoms: 1 2 3 4 5 6 7 8 9\n",
      "[12:54:25] Can't kekulize mol.  Unkekulized atoms: 1 2 3 4 5 6 7 8 9\n",
      "\n",
      "RDKit ERROR: \n"
     ]
    },
    {
     "name": "stdout",
     "output_type": "stream",
     "text": [
      "rdkit not found this smiles for morgan: None convert to all 0 features\n",
      "rdkit not found this smiles for morgan: None convert to all 0 features\n",
      "rdkit not found this smiles for morgan: None convert to all 0 features\n",
      "rdkit not found this smiles for morgan: None convert to all 0 features\n",
      "rdkit not found this smiles for morgan: None convert to all 0 features\n",
      "rdkit not found this smiles for morgan: None convert to all 0 features\n",
      "rdkit not found this smiles for morgan: None convert to all 0 features\n",
      "rdkit not found this smiles for morgan: None convert to all 0 features\n",
      "rdkit not found this smiles for morgan: None convert to all 0 features\n",
      "rdkit not found this smiles for morgan: None convert to all 0 features\n",
      "rdkit not found this smiles for morgan: None convert to all 0 features\n",
      "rdkit not found this smiles for morgan: None convert to all 0 features\n",
      "rdkit not found this smiles for morgan: None convert to all 0 features\n",
      "rdkit not found this smiles for morgan: None convert to all 0 features\n",
      "rdkit not found this smiles for morgan: None convert to all 0 features\n",
      "rdkit not found this smiles for morgan: None convert to all 0 features\n",
      "rdkit not found this smiles for morgan: None convert to all 0 features\n",
      "rdkit not found this smiles for morgan: None convert to all 0 features\n",
      "rdkit not found this smiles for morgan: None convert to all 0 features\n",
      "rdkit not found this smiles for morgan: None convert to all 0 features\n",
      "rdkit not found this smiles for morgan: None convert to all 0 features\n",
      "rdkit not found this smiles for morgan: None convert to all 0 features\n",
      "rdkit not found this smiles for morgan: None convert to all 0 features\n",
      "rdkit not found this smiles for morgan: None convert to all 0 features\n",
      "rdkit not found this smiles for morgan: None convert to all 0 features\n",
      "rdkit not found this smiles for morgan: None convert to all 0 features\n",
      "rdkit not found this smiles for morgan: None convert to all 0 features\n",
      "rdkit not found this smiles for morgan: None convert to all 0 features\n",
      "rdkit not found this smiles for morgan: None convert to all 0 features\n",
      "rdkit not found this smiles for morgan: None convert to all 0 features\n",
      "rdkit not found this smiles for morgan: None convert to all 0 features\n",
      "rdkit not found this smiles for morgan: None convert to all 0 features\n",
      "rdkit not found this smiles for morgan: None convert to all 0 features\n",
      "rdkit not found this smiles for morgan: None convert to all 0 features\n",
      "rdkit not found this smiles for morgan: None convert to all 0 features\n",
      "rdkit not found this smiles for morgan: None convert to all 0 features\n",
      "rdkit not found this smiles for morgan: None convert to all 0 features\n",
      "rdkit not found this smiles for morgan: None convert to all 0 features\n",
      "rdkit not found this smiles for morgan: None convert to all 0 features\n",
      "rdkit not found this smiles for morgan: None convert to all 0 features\n",
      "rdkit not found this smiles for morgan: None convert to all 0 features\n",
      "rdkit not found this smiles for morgan: None convert to all 0 features\n",
      "rdkit not found this smiles for morgan: None convert to all 0 features\n",
      "rdkit not found this smiles for morgan: None convert to all 0 features\n",
      "rdkit not found this smiles for morgan: None convert to all 0 features\n",
      "rdkit not found this smiles for morgan: None convert to all 0 features\n",
      "rdkit not found this smiles for morgan: None convert to all 0 features\n",
      "rdkit not found this smiles for morgan: None convert to all 0 features\n",
      "rdkit not found this smiles for morgan: None convert to all 0 features\n",
      "rdkit not found this smiles for morgan: None convert to all 0 features\n",
      "rdkit not found this smiles for morgan: None convert to all 0 features\n",
      "rdkit not found this smiles for morgan: None convert to all 0 features\n",
      "rdkit not found this smiles for morgan: None convert to all 0 features\n",
      "rdkit not found this smiles for morgan: None convert to all 0 features\n",
      "rdkit not found this smiles for morgan: None convert to all 0 features\n",
      "rdkit not found this smiles for morgan: None convert to all 0 features\n",
      "rdkit not found this smiles for morgan: None convert to all 0 features\n",
      "rdkit not found this smiles for morgan: None convert to all 0 features\n",
      "rdkit not found this smiles for morgan: None convert to all 0 features\n",
      "rdkit not found this smiles for morgan: None convert to all 0 features\n",
      "rdkit not found this smiles for morgan: None convert to all 0 features\n",
      "rdkit not found this smiles for morgan: None convert to all 0 features\n",
      "rdkit not found this smiles for morgan: None convert to all 0 features\n",
      "rdkit not found this smiles for morgan: None convert to all 0 features\n",
      "rdkit not found this smiles for morgan: None convert to all 0 features\n",
      "rdkit not found this smiles for morgan: None convert to all 0 features\n",
      "rdkit not found this smiles for morgan: None convert to all 0 features\n",
      "rdkit not found this smiles for morgan: None convert to all 0 features\n",
      "rdkit not found this smiles for morgan: None convert to all 0 features\n",
      "rdkit not found this smiles for morgan: None convert to all 0 features\n",
      "rdkit not found this smiles for morgan: None convert to all 0 features\n",
      "rdkit not found this smiles for morgan: None convert to all 0 features\n",
      "rdkit not found this smiles for morgan: None convert to all 0 features\n",
      "rdkit not found this smiles for morgan: None convert to all 0 features\n",
      "rdkit not found this smiles for morgan: None convert to all 0 features\n",
      "rdkit not found this smiles for morgan: None convert to all 0 features\n",
      "rdkit not found this smiles for morgan: None convert to all 0 features\n",
      "rdkit not found this smiles for morgan: None convert to all 0 features\n",
      "rdkit not found this smiles for morgan: None convert to all 0 features\n",
      "rdkit not found this smiles for morgan: None convert to all 0 features\n",
      "rdkit not found this smiles for morgan: None convert to all 0 features\n",
      "rdkit not found this smiles for morgan: None convert to all 0 features\n",
      "rdkit not found this smiles for morgan: None convert to all 0 features\n",
      "rdkit not found this smiles for morgan: None convert to all 0 features\n",
      "rdkit not found this smiles for morgan: None convert to all 0 features\n",
      "rdkit not found this smiles for morgan: None convert to all 0 features\n",
      "rdkit not found this smiles for morgan: None convert to all 0 features\n"
     ]
    },
    {
     "name": "stderr",
     "output_type": "stream",
     "text": [
      "RDKit ERROR: [12:54:25] Explicit valence for atom # 28 N, 4, is greater than permitted\n",
      "[12:54:25] Explicit valence for atom # 28 N, 4, is greater than permitted\n",
      "  9%|███████▌                                                                            | 20993/232458 [00:11<02:15, 1565.99it/s]RDKit ERROR: [12:54:25] Can't kekulize mol.  Unkekulized atoms: 1 2 3 4 5 6 7 8 9\n",
      "RDKit ERROR: \n",
      "[12:54:25] Can't kekulize mol.  Unkekulized atoms: 1 2 3 4 5 6 7 8 9\n",
      "\n",
      "RDKit ERROR: [12:54:25] Can't kekulize mol.  Unkekulized atoms: 1 2 3 4 5 6 7 8 9\n",
      "RDKit ERROR: \n",
      "[12:54:25] Can't kekulize mol.  Unkekulized atoms: 1 2 3 4 5 6 7 8 9\n",
      "\n",
      "RDKit ERROR: [12:54:25] Can't kekulize mol.  Unkekulized atoms: 1 2 3 4 5 6 7 8 9\n",
      "[12:54:25] Can't kekulize mol.  Unkekulized atoms: 1 2 3 4 5 6 7 8 9\n",
      "\n",
      "RDKit ERROR: \n",
      "RDKit ERROR: [12:54:25] Can't kekulize mol.  Unkekulized atoms: 1 2 3 4 5 6 7 8 9\n",
      "[12:54:25] Can't kekulize mol.  Unkekulized atoms: 1 2 3 4 5 6 7 8 9\n",
      "\n",
      "RDKit ERROR: \n",
      "RDKit ERROR: [12:54:25] Can't kekulize mol.  Unkekulized atoms: 1 2 3 4 5 6 7 8 9\n",
      "RDKit ERROR: \n",
      "[12:54:25] Can't kekulize mol.  Unkekulized atoms: 1 2 3 4 5 6 7 8 9\n",
      "\n",
      "RDKit ERROR: [12:54:25] Can't kekulize mol.  Unkekulized atoms: 26 27 28 29 30 31 33 34 35\n",
      "RDKit ERROR: \n",
      "[12:54:25] Can't kekulize mol.  Unkekulized atoms: 26 27 28 29 30 31 33 34 35\n",
      "\n",
      "RDKit ERROR: [12:54:25] Can't kekulize mol.  Unkekulized atoms: 1 2 3 4 5 6 7 8 9\n",
      "[12:54:25] Can't kekulize mol.  Unkekulized atoms: 1 2 3 4 5 6 7 8 9\n",
      "\n",
      "RDKit ERROR: \n",
      "RDKit ERROR: [12:54:25] Can't kekulize mol.  Unkekulized atoms: 27 28 29 30 31 32 34 35 36\n",
      "[12:54:25] Can't kekulize mol.  Unkekulized atoms: 27 28 29 30 31 32 34 35 36\n",
      "\n",
      "RDKit ERROR: \n",
      "RDKit ERROR: [12:54:25] Can't kekulize mol.  Unkekulized atoms: 1 2 3 4 5 6 7 8 9\n",
      "RDKit ERROR: \n",
      "[12:54:25] Can't kekulize mol.  Unkekulized atoms: 1 2 3 4 5 6 7 8 9\n",
      "\n",
      "RDKit ERROR: [12:54:25] Can't kekulize mol.  Unkekulized atoms: 21 22 23 24 25 26 28 29 30\n",
      "[12:54:25] Can't kekulize mol.  Unkekulized atoms: 21 22 23 24 25 26 28 29 30\n",
      "\n",
      "RDKit ERROR: \n",
      "  9%|███████▋                                                                            | 21340/232458 [00:11<01:42, 2051.44it/s]"
     ]
    },
    {
     "name": "stdout",
     "output_type": "stream",
     "text": [
      "rdkit not found this smiles for morgan: None convert to all 0 features\n",
      "rdkit not found this smiles for morgan: None convert to all 0 features\n",
      "rdkit not found this smiles for morgan: None convert to all 0 features\n",
      "rdkit not found this smiles for morgan: None convert to all 0 features\n",
      "rdkit not found this smiles for morgan: None convert to all 0 features\n",
      "rdkit not found this smiles for morgan: None convert to all 0 features\n",
      "rdkit not found this smiles for morgan: None convert to all 0 features\n",
      "rdkit not found this smiles for morgan: None convert to all 0 features\n",
      "rdkit not found this smiles for morgan: None convert to all 0 features\n",
      "rdkit not found this smiles for morgan: None convert to all 0 features\n",
      "rdkit not found this smiles for morgan: None convert to all 0 features\n"
     ]
    },
    {
     "name": "stderr",
     "output_type": "stream",
     "text": [
      " 11%|█████████▍                                                                          | 26215/232458 [00:13<01:37, 2121.52it/s]RDKit ERROR: [12:54:28] Can't kekulize mol.  Unkekulized atoms: 12 13 14 15 16\n",
      "RDKit ERROR: \n",
      "[12:54:28] Can't kekulize mol.  Unkekulized atoms: 12 13 14 15 16\n",
      "\n",
      " 11%|█████████▌                                                                          | 26477/232458 [00:13<01:31, 2244.62it/s]RDKit ERROR: [12:54:28] Explicit valence for atom # 4 N, 4, is greater than permitted\n",
      "[12:54:28] Explicit valence for atom # 4 N, 4, is greater than permitted\n"
     ]
    },
    {
     "name": "stdout",
     "output_type": "stream",
     "text": [
      "rdkit not found this smiles for morgan: None convert to all 0 features\n",
      "rdkit not found this smiles for morgan: None convert to all 0 features\n"
     ]
    },
    {
     "name": "stderr",
     "output_type": "stream",
     "text": [
      "RDKit ERROR: [12:54:28] Explicit valence for atom # 19 N, 4, is greater than permitted\n",
      "[12:54:28] Explicit valence for atom # 19 N, 4, is greater than permitted\n",
      " 12%|█████████▋                                                                          | 26919/232458 [00:14<01:48, 1888.82it/s]"
     ]
    },
    {
     "name": "stdout",
     "output_type": "stream",
     "text": [
      "rdkit not found this smiles for morgan: None convert to all 0 features\n"
     ]
    },
    {
     "name": "stderr",
     "output_type": "stream",
     "text": [
      " 13%|██████████▌                                                                         | 29104/232458 [00:14<01:21, 2505.03it/s]RDKit ERROR: [12:54:29] Explicit valence for atom # 14 N, 4, is greater than permitted\n",
      "[12:54:29] Explicit valence for atom # 14 N, 4, is greater than permitted\n",
      " 13%|██████████▌                                                                         | 29386/232458 [00:15<01:20, 2519.52it/s]"
     ]
    },
    {
     "name": "stdout",
     "output_type": "stream",
     "text": [
      "rdkit not found this smiles for morgan: None convert to all 0 features\n"
     ]
    },
    {
     "name": "stderr",
     "output_type": "stream",
     "text": [
      " 13%|██████████▉                                                                         | 30144/232458 [00:15<01:48, 1867.57it/s]RDKit ERROR: [12:54:30] Explicit valence for atom # 26 N, 4, is greater than permitted\n",
      "[12:54:30] Explicit valence for atom # 26 N, 4, is greater than permitted\n",
      " 13%|███████████                                                                         | 30530/232458 [00:15<01:57, 1714.99it/s]"
     ]
    },
    {
     "name": "stdout",
     "output_type": "stream",
     "text": [
      "rdkit not found this smiles for morgan: None convert to all 0 features\n"
     ]
    },
    {
     "name": "stderr",
     "output_type": "stream",
     "text": [
      " 13%|███████████                                                                         | 30707/232458 [00:15<01:58, 1708.00it/s]RDKit ERROR: [12:54:30] Can't kekulize mol.  Unkekulized atoms: 14 15 16 17 35 36 37 38 39\n",
      "[12:54:30] Can't kekulize mol.  Unkekulized atoms: 14 15 16 17 35 36 37 38 39\n",
      "\n",
      "RDKit ERROR: \n",
      " 13%|███████████▏                                                                        | 30898/232458 [00:15<01:54, 1757.84it/s]RDKit ERROR: [12:54:30] Can't kekulize mol.  Unkekulized atoms: 29 30 31 33 34\n",
      "[12:54:30] Can't kekulize mol.  Unkekulized atoms: 29 30 31 33 34\n",
      "\n",
      "RDKit ERROR: \n",
      " 13%|███████████▏                                                                        | 31077/232458 [00:16<01:59, 1685.30it/s]"
     ]
    },
    {
     "name": "stdout",
     "output_type": "stream",
     "text": [
      "rdkit not found this smiles for morgan: None convert to all 0 features\n",
      "rdkit not found this smiles for morgan: None convert to all 0 features\n"
     ]
    },
    {
     "name": "stderr",
     "output_type": "stream",
     "text": [
      " 14%|███████████▊                                                                        | 32718/232458 [00:17<02:02, 1627.82it/s]RDKit ERROR: [12:54:31] Explicit valence for atom # 8 N, 4, is greater than permitted\n",
      "[12:54:31] Explicit valence for atom # 8 N, 4, is greater than permitted\n",
      " 14%|███████████▉                                                                        | 33045/232458 [00:17<02:05, 1586.18it/s]"
     ]
    },
    {
     "name": "stdout",
     "output_type": "stream",
     "text": [
      "rdkit not found this smiles for morgan: None convert to all 0 features\n"
     ]
    },
    {
     "name": "stderr",
     "output_type": "stream",
     "text": [
      " 15%|████████████▉                                                                       | 35847/232458 [00:18<01:03, 3079.02it/s]RDKit ERROR: [12:54:33] Explicit valence for atom # 21 N, 4, is greater than permitted\n",
      "[12:54:33] Explicit valence for atom # 21 N, 4, is greater than permitted\n",
      "RDKit ERROR: [12:54:33] Explicit valence for atom # 1 N, 4, is greater than permitted\n",
      "[12:54:33] Explicit valence for atom # 1 N, 4, is greater than permitted\n",
      " 16%|█████████████                                                                       | 36166/232458 [00:18<01:21, 2402.20it/s]"
     ]
    },
    {
     "name": "stdout",
     "output_type": "stream",
     "text": [
      "rdkit not found this smiles for morgan: None convert to all 0 features\n",
      "rdkit not found this smiles for morgan: None convert to all 0 features\n"
     ]
    },
    {
     "name": "stderr",
     "output_type": "stream",
     "text": [
      " 17%|██████████████▍                                                                     | 39963/232458 [00:20<01:37, 1965.15it/s]RDKit ERROR: [12:54:34] Can't kekulize mol.  Unkekulized atoms: 20 21 22\n",
      "RDKit ERROR: \n",
      "[12:54:34] Can't kekulize mol.  Unkekulized atoms: 20 21 22\n",
      "\n",
      "RDKit ERROR: [12:54:34] Can't kekulize mol.  Unkekulized atoms: 17 18 19\n",
      "[12:54:34] Can't kekulize mol.  Unkekulized atoms: 17 18 19\n",
      "\n",
      "RDKit ERROR: \n",
      " 17%|██████████████▌                                                                     | 40169/232458 [00:20<01:43, 1856.34it/s]"
     ]
    },
    {
     "name": "stdout",
     "output_type": "stream",
     "text": [
      "rdkit not found this smiles for morgan: None convert to all 0 features\n",
      "rdkit not found this smiles for morgan: None convert to all 0 features\n"
     ]
    },
    {
     "name": "stderr",
     "output_type": "stream",
     "text": [
      " 18%|██████████████▊                                                                     | 40965/232458 [00:20<01:06, 2900.50it/s]RDKit ERROR: [12:54:35] Can't kekulize mol.  Unkekulized atoms: 15 16 17 31 32 34 35 36 37\n",
      "RDKit ERROR: \n",
      "[12:54:35] Can't kekulize mol.  Unkekulized atoms: 15 16 17 31 32 34 35 36 37\n",
      "\n",
      " 18%|███████████████                                                                     | 41543/232458 [00:20<01:23, 2278.78it/s]"
     ]
    },
    {
     "name": "stdout",
     "output_type": "stream",
     "text": [
      "rdkit not found this smiles for morgan: None convert to all 0 features\n"
     ]
    },
    {
     "name": "stderr",
     "output_type": "stream",
     "text": [
      " 19%|███████████████▌                                                                    | 43087/232458 [00:21<01:22, 2294.38it/s]RDKit ERROR: [12:54:36] Explicit valence for atom # 1 N, 4, is greater than permitted\n",
      "[12:54:36] Explicit valence for atom # 1 N, 4, is greater than permitted\n",
      " 19%|███████████████▋                                                                    | 43562/232458 [00:21<01:34, 2004.54it/s]"
     ]
    },
    {
     "name": "stdout",
     "output_type": "stream",
     "text": [
      "rdkit not found this smiles for morgan: None convert to all 0 features\n"
     ]
    },
    {
     "name": "stderr",
     "output_type": "stream",
     "text": [
      " 19%|███████████████▉                                                                    | 44140/232458 [00:22<01:54, 1644.21it/s]RDKit ERROR: [12:54:37] Explicit valence for atom # 21 N, 4, is greater than permitted\n",
      "[12:54:37] Explicit valence for atom # 21 N, 4, is greater than permitted\n",
      "RDKit ERROR: [12:54:37] Explicit valence for atom # 20 N, 4, is greater than permitted\n",
      "[12:54:37] Explicit valence for atom # 20 N, 4, is greater than permitted\n",
      " 19%|████████████████                                                                    | 44310/232458 [00:22<02:01, 1547.34it/s]"
     ]
    },
    {
     "name": "stdout",
     "output_type": "stream",
     "text": [
      "rdkit not found this smiles for morgan: None convert to all 0 features\n",
      "rdkit not found this smiles for morgan: None convert to all 0 features\n"
     ]
    },
    {
     "name": "stderr",
     "output_type": "stream",
     "text": [
      " 20%|████████████████▌                                                                   | 45735/232458 [00:23<01:36, 1932.90it/s]RDKit ERROR: [12:54:37] Explicit valence for atom # 27 N, 4, is greater than permitted\n",
      "[12:54:37] Explicit valence for atom # 27 N, 4, is greater than permitted\n",
      "RDKit ERROR: [12:54:37] Explicit valence for atom # 32 N, 4, is greater than permitted\n",
      "[12:54:37] Explicit valence for atom # 32 N, 4, is greater than permitted\n",
      " 20%|████████████████▋                                                                   | 46194/232458 [00:23<01:28, 2093.70it/s]"
     ]
    },
    {
     "name": "stdout",
     "output_type": "stream",
     "text": [
      "rdkit not found this smiles for morgan: None convert to all 0 features\n",
      "rdkit not found this smiles for morgan: None convert to all 0 features\n"
     ]
    },
    {
     "name": "stderr",
     "output_type": "stream",
     "text": [
      " 22%|██████████████████▌                                                                 | 51480/232458 [00:26<01:25, 2125.93it/s]RDKit ERROR: [12:54:41] Can't kekulize mol.  Unkekulized atoms: 6 7 8 9 10 11 19 20 21\n",
      "RDKit ERROR: \n",
      "[12:54:41] Can't kekulize mol.  Unkekulized atoms: 6 7 8 9 10 11 19 20 21\n",
      "\n",
      " 22%|██████████████████▊                                                                 | 51963/232458 [00:26<01:24, 2126.01it/s]"
     ]
    },
    {
     "name": "stdout",
     "output_type": "stream",
     "text": [
      "rdkit not found this smiles for morgan: None convert to all 0 features\n"
     ]
    },
    {
     "name": "stderr",
     "output_type": "stream",
     "text": [
      " 24%|███████████████████▉                                                                | 55074/232458 [00:28<01:30, 1955.45it/s]RDKit ERROR: [12:54:42] Can't kekulize mol.  Unkekulized atoms: 3 4 5 7 8 10 12\n",
      "RDKit ERROR: \n",
      "[12:54:42] Can't kekulize mol.  Unkekulized atoms: 3 4 5 7 8 10 12\n",
      "\n",
      " 24%|████████████████████                                                                | 55510/232458 [00:28<01:30, 1958.35it/s]"
     ]
    },
    {
     "name": "stdout",
     "output_type": "stream",
     "text": [
      "rdkit not found this smiles for morgan: None convert to all 0 features\n"
     ]
    },
    {
     "name": "stderr",
     "output_type": "stream",
     "text": [
      " 24%|████████████████████▏                                                               | 55712/232458 [00:28<01:31, 1940.84it/s]RDKit ERROR: [12:54:43] Explicit valence for atom # 1 N, 4, is greater than permitted\n",
      "[12:54:43] Explicit valence for atom # 1 N, 4, is greater than permitted\n",
      "RDKit ERROR: [12:54:43] Explicit valence for atom # 1 N, 4, is greater than permitted\n",
      "[12:54:43] Explicit valence for atom # 1 N, 4, is greater than permitted\n",
      " 24%|████████████████████▎                                                               | 56236/232458 [00:28<01:18, 2236.09it/s]"
     ]
    },
    {
     "name": "stdout",
     "output_type": "stream",
     "text": [
      "rdkit not found this smiles for morgan: None convert to all 0 features\n",
      "rdkit not found this smiles for morgan: None convert to all 0 features\n"
     ]
    },
    {
     "name": "stderr",
     "output_type": "stream",
     "text": [
      "RDKit ERROR: [12:54:43] Explicit valence for atom # 16 N, 4, is greater than permitted\n",
      "[12:54:43] Explicit valence for atom # 16 N, 4, is greater than permitted\n",
      " 24%|████████████████████▍                                                               | 56680/232458 [00:28<01:33, 1871.92it/s]"
     ]
    },
    {
     "name": "stdout",
     "output_type": "stream",
     "text": [
      "rdkit not found this smiles for morgan: None convert to all 0 features\n"
     ]
    },
    {
     "name": "stderr",
     "output_type": "stream",
     "text": [
      "RDKit ERROR: [12:54:43] Can't kekulize mol.  Unkekulized atoms: 2 3 28\n",
      "RDKit ERROR: \n",
      "[12:54:43] Can't kekulize mol.  Unkekulized atoms: 2 3 28\n",
      "\n",
      "RDKit ERROR: [12:54:43] Can't kekulize mol.  Unkekulized atoms: 2 3 29\n",
      "[12:54:43] Can't kekulize mol.  Unkekulized atoms: 2 3 29\n",
      "\n",
      "RDKit ERROR: \n",
      "RDKit ERROR: [12:54:43] Can't kekulize mol.  Unkekulized atoms: 2 3 29\n",
      "[12:54:43] Can't kekulize mol.  Unkekulized atoms: 2 3 29\n",
      "\n",
      "RDKit ERROR: \n",
      "RDKit ERROR: [12:54:43] Can't kekulize mol.  Unkekulized atoms: 2 3 29\n",
      "RDKit ERROR: \n",
      "[12:54:43] Can't kekulize mol.  Unkekulized atoms: 2 3 29\n",
      "\n",
      "RDKit ERROR: [12:54:43] Can't kekulize mol.  Unkekulized atoms: 2 3 29\n",
      "[12:54:43] Can't kekulize mol.  Unkekulized atoms: 2 3 29\n",
      "\n",
      "RDKit ERROR: \n",
      "RDKit ERROR: [12:54:43] Explicit valence for atom # 3 N, 4, is greater than permitted\n",
      "[12:54:43] Explicit valence for atom # 3 N, 4, is greater than permitted\n",
      " 25%|████████████████████▌                                                               | 57064/232458 [00:29<01:39, 1757.67it/s]"
     ]
    },
    {
     "name": "stdout",
     "output_type": "stream",
     "text": [
      "rdkit not found this smiles for morgan: None convert to all 0 features\n",
      "rdkit not found this smiles for morgan: None convert to all 0 features\n",
      "rdkit not found this smiles for morgan: None convert to all 0 features\n",
      "rdkit not found this smiles for morgan: None convert to all 0 features\n",
      "rdkit not found this smiles for morgan: None convert to all 0 features\n",
      "rdkit not found this smiles for morgan: None convert to all 0 features\n"
     ]
    },
    {
     "name": "stderr",
     "output_type": "stream",
     "text": [
      " 30%|█████████████████████████▎                                                          | 70165/232458 [00:35<01:11, 2262.69it/s]RDKit ERROR: [12:54:49] Explicit valence for atom # 21 N, 4, is greater than permitted\n",
      "[12:54:49] Explicit valence for atom # 21 N, 4, is greater than permitted\n",
      " 30%|█████████████████████████▌                                                          | 70632/232458 [00:35<01:24, 1907.83it/s]"
     ]
    },
    {
     "name": "stdout",
     "output_type": "stream",
     "text": [
      "rdkit not found this smiles for morgan: None convert to all 0 features\n"
     ]
    },
    {
     "name": "stderr",
     "output_type": "stream",
     "text": [
      " 33%|███████████████████████████▍                                                        | 75926/232458 [00:37<01:17, 2027.63it/s]RDKit ERROR: [12:54:52] Explicit valence for atom # 17 N, 4, is greater than permitted\n",
      "[12:54:52] Explicit valence for atom # 17 N, 4, is greater than permitted\n",
      "RDKit ERROR: [12:54:52] Explicit valence for atom # 17 N, 4, is greater than permitted\n",
      "[12:54:52] Explicit valence for atom # 17 N, 4, is greater than permitted\n",
      " 33%|███████████████████████████▌                                                        | 76409/232458 [00:38<01:14, 2107.56it/s]"
     ]
    },
    {
     "name": "stdout",
     "output_type": "stream",
     "text": [
      "rdkit not found this smiles for morgan: None convert to all 0 features\n",
      "rdkit not found this smiles for morgan: None convert to all 0 features\n"
     ]
    },
    {
     "name": "stderr",
     "output_type": "stream",
     "text": [
      " 33%|███████████████████████████▉                                                        | 77455/232458 [00:38<01:28, 1760.50it/s]RDKit ERROR: [12:54:53] Explicit valence for atom # 32 N, 4, is greater than permitted\n",
      "[12:54:53] Explicit valence for atom # 32 N, 4, is greater than permitted\n",
      " 33%|████████████████████████████                                                        | 77713/232458 [00:38<01:18, 1972.24it/s]RDKit ERROR: [12:54:53] Can't kekulize mol.  Unkekulized atoms: 22 24 25 26 27\n",
      "[12:54:53] Can't kekulize mol.  Unkekulized atoms: 22 24 25 26 27\n",
      "\n",
      "RDKit ERROR: \n",
      " 34%|████████████████████████████▏                                                       | 78019/232458 [00:38<01:08, 2266.73it/s]RDKit ERROR: [12:54:53] Can't kekulize mol.  Unkekulized atoms: 15 17 18 19 20\n",
      "RDKit ERROR: \n",
      "[12:54:53] Can't kekulize mol.  Unkekulized atoms: 15 17 18 19 20\n",
      "\n",
      "RDKit ERROR: [12:54:53] Can't kekulize mol.  Unkekulized atoms: 18 20 21 22 23\n",
      "RDKit ERROR: \n",
      "[12:54:53] Can't kekulize mol.  Unkekulized atoms: 18 20 21 22 23\n",
      "\n",
      "RDKit ERROR: [12:54:53] Can't kekulize mol.  Unkekulized atoms: 13 15 16 17 18\n",
      "[12:54:53] Can't kekulize mol.  Unkekulized atoms: 13 15 16 17 18\n",
      "\n",
      "RDKit ERROR: \n"
     ]
    },
    {
     "name": "stdout",
     "output_type": "stream",
     "text": [
      "rdkit not found this smiles for morgan: None convert to all 0 features\n",
      "rdkit not found this smiles for morgan: None convert to all 0 features\n",
      "rdkit not found this smiles for morgan: None convert to all 0 features\n",
      "rdkit not found this smiles for morgan: None convert to all 0 features\n",
      "rdkit not found this smiles for morgan: None convert to all 0 features\n"
     ]
    },
    {
     "name": "stderr",
     "output_type": "stream",
     "text": [
      " 35%|█████████████████████████████▎                                                      | 81255/232458 [00:40<01:10, 2147.52it/s]RDKit ERROR: [12:54:54] Explicit valence for atom # 6 N, 4, is greater than permitted\n",
      "[12:54:54] Explicit valence for atom # 6 N, 4, is greater than permitted\n",
      " 35%|█████████████████████████████▌                                                      | 81723/232458 [00:40<01:16, 1982.69it/s]"
     ]
    },
    {
     "name": "stdout",
     "output_type": "stream",
     "text": [
      "rdkit not found this smiles for morgan: None convert to all 0 features\n"
     ]
    },
    {
     "name": "stderr",
     "output_type": "stream",
     "text": [
      " 36%|██████████████████████████████▌                                                     | 84731/232458 [00:41<01:07, 2184.90it/s]RDKit ERROR: [12:54:56] Can't kekulize mol.  Unkekulized atoms: 10 11 12 13 14 15 16 17 18\n",
      "RDKit ERROR: \n",
      "[12:54:56] Can't kekulize mol.  Unkekulized atoms: 10 11 12 13 14 15 16 17 18\n",
      "\n",
      "RDKit ERROR: [12:54:56] Can't kekulize mol.  Unkekulized atoms: 1 2 3 4 5 6 7 8 9\n",
      "[12:54:56] Can't kekulize mol.  Unkekulized atoms: 1 2 3 4 5 6 7 8 9\n",
      "\n",
      "RDKit ERROR: \n",
      "RDKit ERROR: [12:54:56] Can't kekulize mol.  Unkekulized atoms: 1 2 5 6 7 8 9 10 11\n",
      "RDKit ERROR: \n",
      "[12:54:56] Can't kekulize mol.  Unkekulized atoms: 1 2 5 6 7 8 9 10 11\n",
      "\n",
      " 37%|██████████████████████████████▋                                                     | 84981/232458 [00:41<01:08, 2145.14it/s]RDKit ERROR: [12:54:56] Can't kekulize mol.  Unkekulized atoms: 5 6 7 18 19 20 21 22 23\n",
      "RDKit ERROR: \n",
      "[12:54:56] Can't kekulize mol.  Unkekulized atoms: 5 6 7 18 19 20 21 22 23\n",
      "\n",
      "RDKit ERROR: [12:54:56] Can't kekulize mol.  Unkekulized atoms: 10 11 12 20 21 22 23 24 25\n",
      "RDKit ERROR: \n",
      "[12:54:56] Can't kekulize mol.  Unkekulized atoms: 10 11 12 20 21 22 23 24 25\n",
      "\n",
      "RDKit ERROR: [12:54:56] Can't kekulize mol.  Unkekulized atoms: 1 2 3 14 15 16 17 18 19\n",
      "[12:54:56] Can't kekulize mol.  Unkekulized atoms: 1 2 3 14 15 16 17 18 19\n",
      "\n",
      "RDKit ERROR: \n",
      "RDKit ERROR: [12:54:56] Can't kekulize mol.  Unkekulized atoms: 7 8 9 20 21 22 23 24 25\n",
      "RDKit ERROR: \n",
      "[12:54:56] Can't kekulize mol.  Unkekulized atoms: 7 8 9 20 21 22 23 24 25\n",
      "\n",
      "RDKit ERROR: [12:54:56] Can't kekulize mol.  Unkekulized atoms: 10 11 12 13 14\n",
      "[12:54:56] Can't kekulize mol.  Unkekulized atoms: 10 11 12 13 14\n",
      "\n",
      "RDKit ERROR: \n",
      "RDKit ERROR: [12:54:56] Can't kekulize mol.  Unkekulized atoms: 10 11 12 13 14 15 16 17 18\n",
      "RDKit ERROR: \n",
      "[12:54:56] Can't kekulize mol.  Unkekulized atoms: 10 11 12 13 14 15 16 17 18\n",
      "\n",
      "RDKit ERROR: [12:54:56] Can't kekulize mol.  Unkekulized atoms: 10 11 12 13 14 15 16 17 18\n",
      "RDKit ERROR: \n",
      "[12:54:56] Can't kekulize mol.  Unkekulized atoms: 10 11 12 13 14 15 16 17 18\n",
      "\n",
      " 37%|██████████████████████████████▉                                                     | 85602/232458 [00:41<00:48, 3025.94it/s]"
     ]
    },
    {
     "name": "stdout",
     "output_type": "stream",
     "text": [
      "rdkit not found this smiles for morgan: None convert to all 0 features\n",
      "rdkit not found this smiles for morgan: None convert to all 0 features\n",
      "rdkit not found this smiles for morgan: None convert to all 0 features\n",
      "rdkit not found this smiles for morgan: None convert to all 0 features\n",
      "rdkit not found this smiles for morgan: None convert to all 0 features\n",
      "rdkit not found this smiles for morgan: None convert to all 0 features\n",
      "rdkit not found this smiles for morgan: None convert to all 0 features\n",
      "rdkit not found this smiles for morgan: None convert to all 0 features\n",
      "rdkit not found this smiles for morgan: None convert to all 0 features\n",
      "rdkit not found this smiles for morgan: None convert to all 0 features\n"
     ]
    },
    {
     "name": "stderr",
     "output_type": "stream",
     "text": [
      " 40%|█████████████████████████████████▏                                                  | 91919/232458 [00:44<01:00, 2310.87it/s]RDKit ERROR: [12:54:59] Can't kekulize mol.  Unkekulized atoms: 19 20 22 23 24\n",
      "RDKit ERROR: \n",
      "[12:54:59] Can't kekulize mol.  Unkekulized atoms: 19 20 22 23 24\n",
      "\n",
      "RDKit ERROR: [12:54:59] Can't kekulize mol.  Unkekulized atoms: 19 20 22 23 24\n",
      "[12:54:59] Can't kekulize mol.  Unkekulized atoms: 19 20 22 23 24\n",
      "\n",
      "RDKit ERROR: \n",
      "RDKit ERROR: [12:54:59] Can't kekulize mol.  Unkekulized atoms: 19 20 21 23 24\n",
      "[12:54:59] Can't kekulize mol.  Unkekulized atoms: 19 20 21 23 24\n",
      "\n",
      "RDKit ERROR: \n",
      " 40%|█████████████████████████████████▎                                                  | 92180/232458 [00:44<01:10, 1979.34it/s]RDKit ERROR: [12:54:59] Explicit valence for atom # 8 N, 4, is greater than permitted\n",
      "[12:54:59] Explicit valence for atom # 8 N, 4, is greater than permitted\n"
     ]
    },
    {
     "name": "stdout",
     "output_type": "stream",
     "text": [
      "rdkit not found this smiles for morgan: None convert to all 0 features\n",
      "rdkit not found this smiles for morgan: None convert to all 0 features\n",
      "rdkit not found this smiles for morgan: None convert to all 0 features\n",
      "rdkit not found this smiles for morgan: None convert to all 0 features\n"
     ]
    },
    {
     "name": "stderr",
     "output_type": "stream",
     "text": [
      " 43%|███████████████████████████████████▋                                                | 98844/232458 [00:47<01:04, 2057.55it/s]RDKit ERROR: [12:55:02] Explicit valence for atom # 3 N, 4, is greater than permitted\n",
      "[12:55:02] Explicit valence for atom # 3 N, 4, is greater than permitted\n",
      " 43%|███████████████████████████████████▊                                                | 99261/232458 [00:47<01:12, 1825.82it/s]"
     ]
    },
    {
     "name": "stdout",
     "output_type": "stream",
     "text": [
      "rdkit not found this smiles for morgan: None convert to all 0 features\n"
     ]
    },
    {
     "name": "stderr",
     "output_type": "stream",
     "text": [
      " 43%|████████████████████████████████████                                               | 101034/232458 [00:48<00:59, 2197.94it/s]RDKit ERROR: [12:55:03] Explicit valence for atom # 15 C, 5, is greater than permitted\n",
      "[12:55:03] Explicit valence for atom # 15 C, 5, is greater than permitted\n",
      " 44%|████████████████████████████████████▏                                              | 101294/232458 [00:48<01:03, 2053.50it/s]"
     ]
    },
    {
     "name": "stdout",
     "output_type": "stream",
     "text": [
      "rdkit not found this smiles for morgan: None convert to all 0 features\n"
     ]
    },
    {
     "name": "stderr",
     "output_type": "stream",
     "text": [
      " 44%|████████████████████████████████████▍                                              | 101975/232458 [00:49<01:11, 1819.17it/s]RDKit ERROR: [12:55:03] Can't kekulize mol.  Unkekulized atoms: 13 14 16 17 18 20 21 22 23\n",
      "RDKit ERROR: \n",
      "[12:55:03] Can't kekulize mol.  Unkekulized atoms: 13 14 16 17 18 20 21 22 23\n",
      "\n",
      "RDKit ERROR: [12:55:03] Can't kekulize mol.  Unkekulized atoms: 13 14 16 17 18 20 21 22 23\n",
      "[12:55:03] Can't kekulize mol.  Unkekulized atoms: 13 14 16 17 18 20 21 22 23\n",
      "\n",
      "RDKit ERROR: \n",
      " 44%|████████████████████████████████████▍                                              | 102189/232458 [00:49<01:08, 1890.55it/s]RDKit ERROR: [12:55:03] Can't kekulize mol.  Unkekulized atoms: 16 17 19 20 22 23 24 25 26\n",
      "[12:55:03] Can't kekulize mol.  Unkekulized atoms: 16 17 19 20 22 23 24 25 26\n",
      "\n",
      "RDKit ERROR: \n",
      "RDKit ERROR: [12:55:03] Can't kekulize mol.  Unkekulized atoms: 16 17 19 20 22 23 24 25 26\n",
      "RDKit ERROR: \n",
      "[12:55:03] Can't kekulize mol.  Unkekulized atoms: 16 17 19 20 22 23 24 25 26\n",
      "\n",
      "RDKit ERROR: [12:55:03] Can't kekulize mol.  Unkekulized atoms: 12 13 15 16 18 19 20 21 22\n",
      "[12:55:03] Can't kekulize mol.  Unkekulized atoms: 12 13 15 16 18 19 20 21 22\n",
      "\n",
      "RDKit ERROR: \n",
      " 44%|████████████████████████████████████▌                                              | 102389/232458 [00:49<01:12, 1799.14it/s]"
     ]
    },
    {
     "name": "stdout",
     "output_type": "stream",
     "text": [
      "rdkit not found this smiles for morgan: None convert to all 0 features\n",
      "rdkit not found this smiles for morgan: None convert to all 0 features\n",
      "rdkit not found this smiles for morgan: None convert to all 0 features\n",
      "rdkit not found this smiles for morgan: None convert to all 0 features\n",
      "rdkit not found this smiles for morgan: None convert to all 0 features\n"
     ]
    },
    {
     "name": "stderr",
     "output_type": "stream",
     "text": [
      " 44%|████████████████████████████████████▉                                              | 103439/232458 [00:49<01:00, 2127.82it/s]RDKit ERROR: [12:55:04] Explicit valence for atom # 13 O, 3, is greater than permitted\n",
      "[12:55:04] Explicit valence for atom # 13 O, 3, is greater than permitted\n",
      "RDKit ERROR: [12:55:04] Explicit valence for atom # 13 O, 3, is greater than permitted\n",
      "[12:55:04] Explicit valence for atom # 13 O, 3, is greater than permitted\n",
      " 45%|█████████████████████████████████████                                              | 103973/232458 [00:49<00:53, 2410.86it/s]"
     ]
    },
    {
     "name": "stdout",
     "output_type": "stream",
     "text": [
      "rdkit not found this smiles for morgan: None convert to all 0 features\n",
      "rdkit not found this smiles for morgan: None convert to all 0 features\n"
     ]
    },
    {
     "name": "stderr",
     "output_type": "stream",
     "text": [
      " 46%|█████████████████████████████████████▊                                             | 105909/232458 [00:50<00:57, 2188.89it/s]RDKit ERROR: [12:55:05] Can't kekulize mol.  Unkekulized atoms: 3 4 6\n",
      "RDKit ERROR: \n",
      "[12:55:05] Can't kekulize mol.  Unkekulized atoms: 3 4 6\n",
      "\n",
      "RDKit ERROR: [12:55:05] Can't kekulize mol.  Unkekulized atoms: 10 12 13\n",
      "[12:55:05] Can't kekulize mol.  Unkekulized atoms: 10 12 13\n",
      "\n",
      "RDKit ERROR: \n",
      "RDKit ERROR: [12:55:05] Can't kekulize mol.  Unkekulized atoms: 9 11 12\n",
      "RDKit ERROR: \n",
      "[12:55:05] Can't kekulize mol.  Unkekulized atoms: 9 11 12\n",
      "\n",
      "RDKit ERROR: [12:55:05] Can't kekulize mol.  Unkekulized atoms: 8 9 10 11 12\n",
      "RDKit ERROR: \n",
      "[12:55:05] Can't kekulize mol.  Unkekulized atoms: 8 9 10 11 12\n",
      "\n",
      "RDKit ERROR: [12:55:05] Can't kekulize mol.  Unkekulized atoms: 8 9 10 11 12\n",
      "RDKit ERROR: \n",
      "[12:55:05] Can't kekulize mol.  Unkekulized atoms: 8 9 10 11 12\n",
      "\n",
      "RDKit ERROR: [12:55:05] Can't kekulize mol.  Unkekulized atoms: 7 8 9 10 11\n",
      "RDKit ERROR: \n",
      "[12:55:05] Can't kekulize mol.  Unkekulized atoms: 7 8 9 10 11\n",
      "\n",
      "RDKit ERROR: [12:55:05] Can't kekulize mol.  Unkekulized atoms: 8 9 10 11 12\n",
      "[12:55:05] Can't kekulize mol.  Unkekulized atoms: 8 9 10 11 12\n",
      "\n",
      "RDKit ERROR: \n",
      "RDKit ERROR: [12:55:05] Can't kekulize mol.  Unkekulized atoms: 8 9 10 14 15\n",
      "RDKit ERROR: \n",
      "[12:55:05] Can't kekulize mol.  Unkekulized atoms: 8 9 10 14 15\n",
      "\n",
      "RDKit ERROR: [12:55:05] Can't kekulize mol.  Unkekulized atoms: 7 8 9 10 11\n",
      "[12:55:05] Can't kekulize mol.  Unkekulized atoms: 7 8 9 10 11\n",
      "\n",
      "RDKit ERROR: \n",
      "RDKit ERROR: [12:55:05] Can't kekulize mol.  Unkekulized atoms: 3 4 5 6 7\n",
      "RDKit ERROR: \n",
      "[12:55:05] Can't kekulize mol.  Unkekulized atoms: 3 4 5 6 7\n",
      "\n",
      "RDKit ERROR: [12:55:05] Can't kekulize mol.  Unkekulized atoms: 8 9 10 14 15\n",
      "[12:55:05] Can't kekulize mol.  Unkekulized atoms: 8 9 10 14 15\n",
      "\n",
      "RDKit ERROR: \n",
      "RDKit ERROR: [12:55:05] Can't kekulize mol.  Unkekulized atoms: 3 4 5 6 7\n",
      "[12:55:05] Can't kekulize mol.  Unkekulized atoms: 3 4 5 6 7\n",
      "\n",
      "RDKit ERROR: \n",
      " 46%|█████████████████████████████████████▉                                             | 106143/232458 [00:50<00:58, 2161.59it/s]RDKit ERROR: [12:55:05] Can't kekulize mol.  Unkekulized atoms: 9 10 11 12 13\n",
      "RDKit ERROR: \n",
      "[12:55:05] Can't kekulize mol.  Unkekulized atoms: 9 10 11 12 13\n",
      "\n",
      "RDKit ERROR: [12:55:05] Can't kekulize mol.  Unkekulized atoms: 8 9 10 14 15\n",
      "RDKit ERROR: \n",
      "[12:55:05] Can't kekulize mol.  Unkekulized atoms: 8 9 10 14 15\n",
      "\n",
      "RDKit ERROR: [12:55:05] Can't kekulize mol.  Unkekulized atoms: 9 10 11 12 13\n",
      "[12:55:05] Can't kekulize mol.  Unkekulized atoms: 9 10 11 12 13\n",
      "\n",
      "RDKit ERROR: \n",
      "RDKit ERROR: [12:55:05] Can't kekulize mol.  Unkekulized atoms: 8 9 10 11 12\n",
      "[12:55:05] Can't kekulize mol.  Unkekulized atoms: 8 9 10 11 12\n",
      "\n",
      "RDKit ERROR: \n",
      "RDKit ERROR: [12:55:05] Can't kekulize mol.  Unkekulized atoms: 8 9 10 11 12\n",
      "[12:55:05] Can't kekulize mol.  Unkekulized atoms: 8 9 10 11 12\n",
      "\n",
      "RDKit ERROR: \n",
      "RDKit ERROR: [12:55:05] Can't kekulize mol.  Unkekulized atoms: 8 9 10 11 12\n",
      "[12:55:05] Can't kekulize mol.  Unkekulized atoms: 8 9 10 11 12\n",
      "\n",
      "RDKit ERROR: \n",
      "RDKit ERROR: [12:55:05] Can't kekulize mol.  Unkekulized atoms: 9 10 11 12 13\n",
      "RDKit ERROR: \n",
      "[12:55:05] Can't kekulize mol.  Unkekulized atoms: 9 10 11 12 13\n",
      "\n",
      "RDKit ERROR: [12:55:05] Can't kekulize mol.  Unkekulized atoms: 8 9 10 11 12\n",
      "[12:55:05] Can't kekulize mol.  Unkekulized atoms: 8 9 10 11 12\n",
      "\n",
      "RDKit ERROR: \n",
      "RDKit ERROR: [12:55:05] Can't kekulize mol.  Unkekulized atoms: 9 10 11 12 13\n",
      "RDKit ERROR: \n",
      "[12:55:05] Can't kekulize mol.  Unkekulized atoms: 9 10 11 12 13\n",
      "\n",
      " 46%|██████████████████████████████████████                                             | 106472/232458 [00:51<00:51, 2450.00it/s]"
     ]
    },
    {
     "name": "stdout",
     "output_type": "stream",
     "text": [
      "rdkit not found this smiles for morgan: None convert to all 0 features\n",
      "rdkit not found this smiles for morgan: None convert to all 0 features\n",
      "rdkit not found this smiles for morgan: None convert to all 0 features\n",
      "rdkit not found this smiles for morgan: None convert to all 0 features\n",
      "rdkit not found this smiles for morgan: None convert to all 0 features\n",
      "rdkit not found this smiles for morgan: None convert to all 0 features\n",
      "rdkit not found this smiles for morgan: None convert to all 0 features\n",
      "rdkit not found this smiles for morgan: None convert to all 0 features\n",
      "rdkit not found this smiles for morgan: None convert to all 0 features\n",
      "rdkit not found this smiles for morgan: None convert to all 0 features\n",
      "rdkit not found this smiles for morgan: None convert to all 0 features\n",
      "rdkit not found this smiles for morgan: None convert to all 0 features\n",
      "rdkit not found this smiles for morgan: None convert to all 0 features\n",
      "rdkit not found this smiles for morgan: None convert to all 0 features\n",
      "rdkit not found this smiles for morgan: None convert to all 0 features\n",
      "rdkit not found this smiles for morgan: None convert to all 0 features\n",
      "rdkit not found this smiles for morgan: None convert to all 0 features\n",
      "rdkit not found this smiles for morgan: None convert to all 0 features\n",
      "rdkit not found this smiles for morgan: None convert to all 0 features\n",
      "rdkit not found this smiles for morgan: None convert to all 0 features\n",
      "rdkit not found this smiles for morgan: None convert to all 0 features\n"
     ]
    },
    {
     "name": "stderr",
     "output_type": "stream",
     "text": [
      "RDKit ERROR: [12:55:05] Can't kekulize mol.  Unkekulized atoms: 2 3 4 5 6\n",
      "RDKit ERROR: \n",
      "[12:55:05] Can't kekulize mol.  Unkekulized atoms: 2 3 4 5 6\n",
      "\n",
      " 46%|██████████████████████████████████████▏                                            | 107064/232458 [00:51<00:46, 2705.85it/s]"
     ]
    },
    {
     "name": "stdout",
     "output_type": "stream",
     "text": [
      "rdkit not found this smiles for morgan: None convert to all 0 features\n"
     ]
    },
    {
     "name": "stderr",
     "output_type": "stream",
     "text": [
      " 46%|██████████████████████████████████████▌                                            | 107856/232458 [00:51<00:45, 2758.44it/s]RDKit ERROR: [12:55:06] Can't kekulize mol.  Unkekulized atoms: 9 10 11 12 13 14 15 16 19\n",
      "RDKit ERROR: \n",
      "[12:55:06] Can't kekulize mol.  Unkekulized atoms: 9 10 11 12 13 14 15 16 19\n",
      "\n",
      " 47%|██████████████████████████████████████▊                                            | 108615/232458 [00:51<00:45, 2736.25it/s]"
     ]
    },
    {
     "name": "stdout",
     "output_type": "stream",
     "text": [
      "rdkit not found this smiles for morgan: None convert to all 0 features\n"
     ]
    },
    {
     "name": "stderr",
     "output_type": "stream",
     "text": [
      " 48%|███████████████████████████████████████▉                                           | 111938/232458 [00:53<00:56, 2126.21it/s]RDKit ERROR: [12:55:07] Explicit valence for atom # 3 N, 4, is greater than permitted\n",
      "[12:55:07] Explicit valence for atom # 3 N, 4, is greater than permitted\n",
      " 48%|████████████████████████████████████████▏                                          | 112405/232458 [00:53<00:57, 2077.45it/s]"
     ]
    },
    {
     "name": "stdout",
     "output_type": "stream",
     "text": [
      "rdkit not found this smiles for morgan: None convert to all 0 features\n"
     ]
    },
    {
     "name": "stderr",
     "output_type": "stream",
     "text": [
      " 50%|█████████████████████████████████████████▋                                         | 116684/232458 [00:55<01:00, 1899.75it/s]RDKit ERROR: [12:55:09] Explicit valence for atom # 24 N, 4, is greater than permitted\n",
      "[12:55:09] Explicit valence for atom # 24 N, 4, is greater than permitted\n",
      "RDKit ERROR: [12:55:09] Explicit valence for atom # 24 N, 4, is greater than permitted\n",
      "[12:55:09] Explicit valence for atom # 24 N, 4, is greater than permitted\n",
      " 50%|█████████████████████████████████████████▊                                         | 117068/232458 [00:55<01:09, 1666.80it/s]"
     ]
    },
    {
     "name": "stdout",
     "output_type": "stream",
     "text": [
      "rdkit not found this smiles for morgan: None convert to all 0 features\n",
      "rdkit not found this smiles for morgan: None convert to all 0 features\n"
     ]
    },
    {
     "name": "stderr",
     "output_type": "stream",
     "text": [
      " 50%|█████████████████████████████████████████▊                                         | 117240/232458 [00:55<01:11, 1615.60it/s]RDKit ERROR: [12:55:10] Can't kekulize mol.  Unkekulized atoms: 20 21 22 23 24 25 26 27 28\n",
      "RDKit ERROR: \n",
      "[12:55:10] Can't kekulize mol.  Unkekulized atoms: 20 21 22 23 24 25 26 27 28\n",
      "\n",
      " 51%|██████████████████████████████████████████                                         | 117661/232458 [00:55<01:04, 1786.75it/s]"
     ]
    },
    {
     "name": "stdout",
     "output_type": "stream",
     "text": [
      "rdkit not found this smiles for morgan: None convert to all 0 features\n"
     ]
    },
    {
     "name": "stderr",
     "output_type": "stream",
     "text": [
      " 51%|██████████████████████████████████████████▍                                        | 118978/232458 [00:56<00:48, 2329.02it/s]RDKit ERROR: [12:55:10] Can't kekulize mol.  Unkekulized atoms: 2 3 5 36 38\n",
      "RDKit ERROR: \n",
      "[12:55:10] Can't kekulize mol.  Unkekulized atoms: 2 3 5 36 38\n",
      "\n",
      "RDKit ERROR: [12:55:11] Can't kekulize mol.  Unkekulized atoms: 5 6 8 9 10 11 12 13 14\n",
      "[12:55:11] Can't kekulize mol.  Unkekulized atoms: 5 6 8 9 10 11 12 13 14\n",
      "\n",
      "RDKit ERROR: \n",
      " 51%|██████████████████████████████████████████▋                                        | 119701/232458 [00:56<00:39, 2865.53it/s]"
     ]
    },
    {
     "name": "stdout",
     "output_type": "stream",
     "text": [
      "rdkit not found this smiles for morgan: None convert to all 0 features\n",
      "rdkit not found this smiles for morgan: None convert to all 0 features\n"
     ]
    },
    {
     "name": "stderr",
     "output_type": "stream",
     "text": [
      " 52%|███████████████████████████████████████████▌                                       | 121930/232458 [00:57<00:46, 2370.48it/s]RDKit ERROR: [12:55:12] Explicit valence for atom # 32 N, 4, is greater than permitted\n",
      "[12:55:12] Explicit valence for atom # 32 N, 4, is greater than permitted\n",
      "RDKit ERROR: [12:55:12] Explicit valence for atom # 31 N, 4, is greater than permitted\n",
      "[12:55:12] Explicit valence for atom # 31 N, 4, is greater than permitted\n",
      "RDKit ERROR: [12:55:12] Explicit valence for atom # 32 N, 4, is greater than permitted\n",
      "[12:55:12] Explicit valence for atom # 32 N, 4, is greater than permitted\n",
      " 53%|███████████████████████████████████████████▋                                       | 122458/232458 [00:57<00:51, 2127.65it/s]"
     ]
    },
    {
     "name": "stdout",
     "output_type": "stream",
     "text": [
      "rdkit not found this smiles for morgan: None convert to all 0 features\n",
      "rdkit not found this smiles for morgan: None convert to all 0 features\n",
      "rdkit not found this smiles for morgan: None convert to all 0 features\n"
     ]
    },
    {
     "name": "stderr",
     "output_type": "stream",
     "text": [
      " 53%|████████████████████████████████████████████▏                                      | 123668/232458 [00:58<00:48, 2235.35it/s]RDKit ERROR: [12:55:12] Explicit valence for atom # 25 N, 4, is greater than permitted\n",
      "[12:55:12] Explicit valence for atom # 25 N, 4, is greater than permitted\n",
      " 53%|████████████████████████████████████████████▎                                      | 124110/232458 [00:58<00:38, 2835.64it/s]RDKit ERROR: [12:55:13] Explicit valence for atom # 5 N, 4, is greater than permitted\n",
      "[12:55:13] Explicit valence for atom # 5 N, 4, is greater than permitted\n",
      " 54%|████████████████████████████████████████████▍                                      | 124598/232458 [00:58<00:31, 3414.01it/s]"
     ]
    },
    {
     "name": "stdout",
     "output_type": "stream",
     "text": [
      "rdkit not found this smiles for morgan: None convert to all 0 features\n",
      "rdkit not found this smiles for morgan: None convert to all 0 features\n"
     ]
    },
    {
     "name": "stderr",
     "output_type": "stream",
     "text": [
      " 54%|████████████████████████████████████████████▌                                      | 124949/232458 [00:58<00:35, 3025.09it/s]RDKit ERROR: [12:55:13] Can't kekulize mol.  Unkekulized atoms: 12 13 14 15 16 17 18 19 20\n",
      "RDKit ERROR: \n",
      "[12:55:13] Can't kekulize mol.  Unkekulized atoms: 12 13 14 15 16 17 18 19 20\n",
      "\n",
      " 54%|████████████████████████████████████████████▊                                      | 125470/232458 [00:58<00:29, 3599.58it/s]RDKit ERROR: [12:55:13] Can't kekulize mol.  Unkekulized atoms: 12 13 14 15 16 17 18 28 29\n",
      "RDKit ERROR: \n",
      "[12:55:13] Can't kekulize mol.  Unkekulized atoms: 12 13 14 15 16 17 18 28 29\n",
      "\n",
      "RDKit ERROR: [12:55:13] Can't kekulize mol.  Unkekulized atoms: 4 5 6 8 9 10 11 24 25\n",
      "RDKit ERROR: \n",
      "[12:55:13] Can't kekulize mol.  Unkekulized atoms: 4 5 6 8 9 10 11 24 25\n",
      "\n"
     ]
    },
    {
     "name": "stdout",
     "output_type": "stream",
     "text": [
      "rdkit not found this smiles for morgan: None convert to all 0 features\n",
      "rdkit not found this smiles for morgan: None convert to all 0 features\n",
      "rdkit not found this smiles for morgan: None convert to all 0 features\n"
     ]
    },
    {
     "name": "stderr",
     "output_type": "stream",
     "text": [
      " 55%|█████████████████████████████████████████████▉                                     | 128722/232458 [00:59<00:31, 3292.22it/s]RDKit ERROR: [12:55:14] Can't kekulize mol.  Unkekulized atoms: 2 3 4 30 32\n",
      "RDKit ERROR: \n",
      "[12:55:14] Can't kekulize mol.  Unkekulized atoms: 2 3 4 30 32\n",
      "\n",
      " 56%|██████████████████████████████████████████████▏                                    | 129402/232458 [01:00<00:41, 2480.22it/s]"
     ]
    },
    {
     "name": "stdout",
     "output_type": "stream",
     "text": [
      "rdkit not found this smiles for morgan: None convert to all 0 features\n"
     ]
    },
    {
     "name": "stderr",
     "output_type": "stream",
     "text": [
      " 57%|██████████████████████████████████████████████▉                                    | 131594/232458 [01:01<00:37, 2710.96it/s]RDKit ERROR: [12:55:15] Explicit valence for atom # 8 N, 4, is greater than permitted\n",
      "[12:55:15] Explicit valence for atom # 8 N, 4, is greater than permitted\n",
      " 57%|███████████████████████████████████████████████▏                                   | 132154/232458 [01:01<00:46, 2143.00it/s]"
     ]
    },
    {
     "name": "stdout",
     "output_type": "stream",
     "text": [
      "rdkit not found this smiles for morgan: None convert to all 0 features\n"
     ]
    },
    {
     "name": "stderr",
     "output_type": "stream",
     "text": [
      " 57%|███████████████████████████████████████████████▎                                   | 132388/232458 [01:01<00:50, 1982.03it/s]RDKit ERROR: [12:55:16] Explicit valence for atom # 23 N, 4, is greater than permitted\n",
      "[12:55:16] Explicit valence for atom # 23 N, 4, is greater than permitted\n",
      " 57%|███████████████████████████████████████████████▍                                   | 132866/232458 [01:01<00:49, 2018.68it/s]"
     ]
    },
    {
     "name": "stdout",
     "output_type": "stream",
     "text": [
      "rdkit not found this smiles for morgan: None convert to all 0 features\n"
     ]
    },
    {
     "name": "stderr",
     "output_type": "stream",
     "text": [
      " 59%|█████████████████████████████████████████████████▏                                 | 137796/232458 [01:03<00:37, 2527.12it/s]RDKit ERROR: [12:55:18] Explicit valence for atom # 21 N, 4, is greater than permitted\n",
      "[12:55:18] Explicit valence for atom # 21 N, 4, is greater than permitted\n",
      " 59%|█████████████████████████████████████████████████▎                                 | 138076/232458 [01:03<00:37, 2534.04it/s]RDKit ERROR: [12:55:18] Explicit valence for atom # 16 N, 4, is greater than permitted\n",
      "[12:55:18] Explicit valence for atom # 16 N, 4, is greater than permitted\n"
     ]
    },
    {
     "name": "stdout",
     "output_type": "stream",
     "text": [
      "rdkit not found this smiles for morgan: None convert to all 0 features\n",
      "rdkit not found this smiles for morgan: None convert to all 0 features\n"
     ]
    },
    {
     "name": "stderr",
     "output_type": "stream",
     "text": [
      " 60%|█████████████████████████████████████████████████▉                                 | 139904/232458 [01:04<00:32, 2835.40it/s]RDKit ERROR: [12:55:18] Can't kekulize mol.  Unkekulized atoms: 18 19 20 21 22 23 24 25 26\n",
      "RDKit ERROR: \n",
      "[12:55:18] Can't kekulize mol.  Unkekulized atoms: 18 19 20 21 22 23 24 25 26\n",
      "\n",
      "RDKit ERROR: [12:55:18] Can't kekulize mol.  Unkekulized atoms: 18 19 20 21 22 23 24 25 26\n",
      "[12:55:18] Can't kekulize mol.  Unkekulized atoms: 18 19 20 21 22 23 24 25 26\n",
      "\n",
      "RDKit ERROR: \n",
      " 60%|██████████████████████████████████████████████████                                 | 140222/232458 [01:04<00:31, 2925.59it/s]RDKit ERROR: [12:55:18] Can't kekulize mol.  Unkekulized atoms: 13 14 15 16 17 18 19 20 21\n",
      "RDKit ERROR: \n",
      "[12:55:18] Can't kekulize mol.  Unkekulized atoms: 13 14 15 16 17 18 19 20 21\n",
      "\n",
      " 61%|██████████████████████████████████████████████████▏                                | 140656/232458 [01:04<00:27, 3322.68it/s]"
     ]
    },
    {
     "name": "stdout",
     "output_type": "stream",
     "text": [
      "rdkit not found this smiles for morgan: None convert to all 0 features\n",
      "rdkit not found this smiles for morgan: None convert to all 0 features\n",
      "rdkit not found this smiles for morgan: None convert to all 0 features\n"
     ]
    },
    {
     "name": "stderr",
     "output_type": "stream",
     "text": [
      " 62%|███████████████████████████████████████████████████▊                               | 145034/232458 [01:06<00:31, 2790.55it/s]RDKit ERROR: [12:55:20] Explicit valence for atom # 8 N, 4, is greater than permitted\n",
      "[12:55:20] Explicit valence for atom # 8 N, 4, is greater than permitted\n",
      " 63%|███████████████████████████████████████████████████▉                               | 145609/232458 [01:06<00:35, 2422.14it/s]"
     ]
    },
    {
     "name": "stdout",
     "output_type": "stream",
     "text": [
      "rdkit not found this smiles for morgan: None convert to all 0 features\n"
     ]
    },
    {
     "name": "stderr",
     "output_type": "stream",
     "text": [
      " 63%|████████████████████████████████████████████████████▎                              | 146356/232458 [01:06<00:30, 2808.85it/s]RDKit ERROR: [12:55:21] Explicit valence for atom # 20 N, 4, is greater than permitted\n",
      "[12:55:21] Explicit valence for atom # 20 N, 4, is greater than permitted\n",
      "RDKit ERROR: [12:55:21] Explicit valence for atom # 19 N, 4, is greater than permitted\n",
      "[12:55:21] Explicit valence for atom # 19 N, 4, is greater than permitted\n",
      "RDKit ERROR: [12:55:21] Explicit valence for atom # 20 N, 4, is greater than permitted\n",
      "[12:55:21] Explicit valence for atom # 20 N, 4, is greater than permitted\n",
      " 63%|████████████████████████████████████████████████████▎                              | 146665/232458 [01:06<00:36, 2366.62it/s]RDKit ERROR: [12:55:21] Explicit valence for atom # 24 N, 4, is greater than permitted\n",
      "[12:55:21] Explicit valence for atom # 24 N, 4, is greater than permitted\n",
      " 63%|████████████████████████████████████████████████████▍                              | 146932/232458 [01:06<00:35, 2377.40it/s]"
     ]
    },
    {
     "name": "stdout",
     "output_type": "stream",
     "text": [
      "rdkit not found this smiles for morgan: None convert to all 0 features\n",
      "rdkit not found this smiles for morgan: None convert to all 0 features\n",
      "rdkit not found this smiles for morgan: None convert to all 0 features\n",
      "rdkit not found this smiles for morgan: None convert to all 0 features\n"
     ]
    },
    {
     "name": "stderr",
     "output_type": "stream",
     "text": [
      " 66%|██████████████████████████████████████████████████████▌                            | 152957/232458 [01:09<00:26, 3031.86it/s]RDKit ERROR: [12:55:23] Explicit valence for atom # 41 N, 4, is greater than permitted\n",
      "[12:55:23] Explicit valence for atom # 41 N, 4, is greater than permitted\n",
      " 66%|██████████████████████████████████████████████████████▋                            | 153281/232458 [01:09<00:28, 2825.32it/s]"
     ]
    },
    {
     "name": "stdout",
     "output_type": "stream",
     "text": [
      "rdkit not found this smiles for morgan: None convert to all 0 features\n"
     ]
    },
    {
     "name": "stderr",
     "output_type": "stream",
     "text": [
      " 66%|███████████████████████████████████████████████████████▏                           | 154451/232458 [01:09<00:30, 2571.40it/s]RDKit ERROR: [12:55:24] Explicit valence for atom # 29 N, 4, is greater than permitted\n",
      "[12:55:24] Explicit valence for atom # 29 N, 4, is greater than permitted\n",
      " 67%|███████████████████████████████████████████████████████▍                           | 155248/232458 [01:10<00:24, 3109.91it/s]"
     ]
    },
    {
     "name": "stdout",
     "output_type": "stream",
     "text": [
      "rdkit not found this smiles for morgan: None convert to all 0 features\n"
     ]
    },
    {
     "name": "stderr",
     "output_type": "stream",
     "text": [
      " 67%|███████████████████████████████████████████████████████▊                           | 156280/232458 [01:10<00:28, 2679.41it/s]RDKit ERROR: [12:55:25] Explicit valence for atom # 35 N, 4, is greater than permitted\n",
      "[12:55:25] Explicit valence for atom # 35 N, 4, is greater than permitted\n",
      " 67%|███████████████████████████████████████████████████████▉                           | 156576/232458 [01:10<00:36, 2106.37it/s]"
     ]
    },
    {
     "name": "stdout",
     "output_type": "stream",
     "text": [
      "rdkit not found this smiles for morgan: None convert to all 0 features\n"
     ]
    },
    {
     "name": "stderr",
     "output_type": "stream",
     "text": [
      " 68%|████████████████████████████████████████████████████████▍                          | 158061/232458 [01:11<00:26, 2769.38it/s]RDKit ERROR: [12:55:26] Explicit valence for atom # 6 N, 4, is greater than permitted\n",
      "[12:55:26] Explicit valence for atom # 6 N, 4, is greater than permitted\n",
      "RDKit ERROR: [12:55:26] Explicit valence for atom # 5 N, 4, is greater than permitted\n",
      "[12:55:26] Explicit valence for atom # 5 N, 4, is greater than permitted\n",
      " 68%|████████████████████████████████████████████████████████▌                          | 158358/232458 [01:11<00:28, 2595.10it/s]"
     ]
    },
    {
     "name": "stdout",
     "output_type": "stream",
     "text": [
      "rdkit not found this smiles for morgan: None convert to all 0 features\n",
      "rdkit not found this smiles for morgan: None convert to all 0 features\n"
     ]
    },
    {
     "name": "stderr",
     "output_type": "stream",
     "text": [
      " 68%|████████████████████████████████████████████████████████▋                          | 158633/232458 [01:11<00:33, 2184.45it/s]RDKit ERROR: [12:55:26] Explicit valence for atom # 4 N, 4, is greater than permitted\n",
      "[12:55:26] Explicit valence for atom # 4 N, 4, is greater than permitted\n",
      "RDKit ERROR: [12:55:26] Explicit valence for atom # 4 N, 4, is greater than permitted\n",
      "[12:55:26] Explicit valence for atom # 4 N, 4, is greater than permitted\n",
      "RDKit ERROR: [12:55:26] Explicit valence for atom # 11 N, 4, is greater than permitted\n",
      "[12:55:26] Explicit valence for atom # 11 N, 4, is greater than permitted\n",
      " 68%|████████████████████████████████████████████████████████▊                          | 159087/232458 [01:11<00:38, 1927.09it/s]"
     ]
    },
    {
     "name": "stdout",
     "output_type": "stream",
     "text": [
      "rdkit not found this smiles for morgan: None convert to all 0 features\n",
      "rdkit not found this smiles for morgan: None convert to all 0 features\n",
      "rdkit not found this smiles for morgan: None convert to all 0 features\n"
     ]
    },
    {
     "name": "stderr",
     "output_type": "stream",
     "text": [
      " 70%|██████████████████████████████████████████████████████████▏                        | 163064/232458 [01:13<00:16, 4094.97it/s]RDKit ERROR: [12:55:28] Can't kekulize mol.  Unkekulized atoms: 29 30 31 32 33\n",
      "RDKit ERROR: \n",
      "[12:55:28] Can't kekulize mol.  Unkekulized atoms: 29 30 31 32 33\n",
      "\n",
      "RDKit ERROR: [12:55:28] Can't kekulize mol.  Unkekulized atoms: 29 30 31 32 33\n",
      "[12:55:28] Can't kekulize mol.  Unkekulized atoms: 29 30 31 32 33\n",
      "\n",
      "RDKit ERROR: \n",
      " 70%|██████████████████████████████████████████████████████████▎                        | 163479/232458 [01:13<00:20, 3363.55it/s]"
     ]
    },
    {
     "name": "stdout",
     "output_type": "stream",
     "text": [
      "rdkit not found this smiles for morgan: None convert to all 0 features\n",
      "rdkit not found this smiles for morgan: None convert to all 0 features\n"
     ]
    },
    {
     "name": "stderr",
     "output_type": "stream",
     "text": [
      " 73%|████████████████████████████████████████████████████████████▍                      | 169291/232458 [01:16<00:26, 2396.59it/s]RDKit ERROR: [12:55:31] Can't kekulize mol.  Unkekulized atoms: 17 18 19 20 21 22 23 24 34\n",
      "RDKit ERROR: \n",
      "[12:55:31] Can't kekulize mol.  Unkekulized atoms: 17 18 19 20 21 22 23 24 34\n",
      "\n",
      " 73%|████████████████████████████████████████████████████████████▌                      | 169554/232458 [01:16<00:25, 2457.36it/s]RDKit ERROR: [12:55:31] Can't kekulize mol.  Unkekulized atoms: 15 16 17 18 19 20 21 22 32\n",
      "[12:55:31] Can't kekulize mol.  Unkekulized atoms: 15 16 17 18 19 20 21 22 32\n",
      "\n",
      "RDKit ERROR: \n",
      " 73%|████████████████████████████████████████████████████████████▋                      | 169810/232458 [01:16<00:25, 2482.64it/s]"
     ]
    },
    {
     "name": "stdout",
     "output_type": "stream",
     "text": [
      "rdkit not found this smiles for morgan: None convert to all 0 features\n",
      "rdkit not found this smiles for morgan: None convert to all 0 features\n"
     ]
    },
    {
     "name": "stderr",
     "output_type": "stream",
     "text": [
      " 74%|█████████████████████████████████████████████████████████████▍                     | 172230/232458 [01:17<00:29, 2041.70it/s]RDKit ERROR: [12:55:32] Explicit valence for atom # 13 N, 6, is greater than permitted\n",
      "[12:55:32] Explicit valence for atom # 13 N, 6, is greater than permitted\n",
      " 74%|█████████████████████████████████████████████████████████████▋                     | 172804/232458 [01:17<00:24, 2389.95it/s]"
     ]
    },
    {
     "name": "stdout",
     "output_type": "stream",
     "text": [
      "rdkit not found this smiles for morgan: None convert to all 0 features\n"
     ]
    },
    {
     "name": "stderr",
     "output_type": "stream",
     "text": [
      " 75%|█████████████████████████████████████████████████████████████▉                     | 173422/232458 [01:18<00:17, 3392.66it/s]RDKit ERROR: [12:55:32] Explicit valence for atom # 25 N, 4, is greater than permitted\n",
      "[12:55:32] Explicit valence for atom # 25 N, 4, is greater than permitted\n",
      " 75%|██████████████████████████████████████████████████████████████▏                    | 174127/232458 [01:18<00:20, 2829.47it/s]"
     ]
    },
    {
     "name": "stdout",
     "output_type": "stream",
     "text": [
      "rdkit not found this smiles for morgan: None convert to all 0 features\n"
     ]
    },
    {
     "name": "stderr",
     "output_type": "stream",
     "text": [
      " 76%|██████████████████████████████████████████████████████████████▊                    | 176062/232458 [01:19<00:18, 2977.19it/s]RDKit ERROR: [12:55:33] Explicit valence for atom # 14 N, 4, is greater than permitted\n",
      "[12:55:33] Explicit valence for atom # 14 N, 4, is greater than permitted\n",
      "RDKit ERROR: [12:55:33] Explicit valence for atom # 1 N, 4, is greater than permitted\n",
      "[12:55:33] Explicit valence for atom # 1 N, 4, is greater than permitted\n",
      "RDKit ERROR: [12:55:33] Explicit valence for atom # 6 N, 4, is greater than permitted\n",
      "[12:55:33] Explicit valence for atom # 6 N, 4, is greater than permitted\n",
      " 76%|██████████████████████████████████████████████████████████████▉                    | 176368/232458 [01:19<00:19, 2807.07it/s]"
     ]
    },
    {
     "name": "stdout",
     "output_type": "stream",
     "text": [
      "rdkit not found this smiles for morgan: None convert to all 0 features\n",
      "rdkit not found this smiles for morgan: None convert to all 0 features\n",
      "rdkit not found this smiles for morgan: None convert to all 0 features\n"
     ]
    },
    {
     "name": "stderr",
     "output_type": "stream",
     "text": [
      " 77%|███████████████████████████████████████████████████████████████▊                   | 178739/232458 [01:20<00:22, 2369.58it/s]RDKit ERROR: [12:55:34] Explicit valence for atom # 3 F, 2, is greater than permitted\n",
      "[12:55:34] Explicit valence for atom # 3 F, 2, is greater than permitted\n",
      "RDKit ERROR: [12:55:34] Explicit valence for atom # 3 F, 2, is greater than permitted\n",
      "[12:55:34] Explicit valence for atom # 3 F, 2, is greater than permitted\n",
      " 77%|████████████████████████████████████████████████████████████████▏                  | 179777/232458 [01:20<00:16, 3282.98it/s]"
     ]
    },
    {
     "name": "stdout",
     "output_type": "stream",
     "text": [
      "rdkit not found this smiles for morgan: None convert to all 0 features\n",
      "rdkit not found this smiles for morgan: None convert to all 0 features\n"
     ]
    },
    {
     "name": "stderr",
     "output_type": "stream",
     "text": [
      " 77%|████████████████████████████████████████████████████████████████▎                  | 180137/232458 [01:20<00:15, 3363.59it/s]RDKit ERROR: [12:55:35] Explicit valence for atom # 1 Cl, 2, is greater than permitted\n",
      "[12:55:35] Explicit valence for atom # 1 Cl, 2, is greater than permitted\n",
      "RDKit ERROR: [12:55:35] Can't kekulize mol.  Unkekulized atoms: 11 12 13 14 15 16 17 18 19 20 21 24 25\n",
      "RDKit ERROR: \n",
      "[12:55:35] Can't kekulize mol.  Unkekulized atoms: 11 12 13 14 15 16 17 18 19 20 21 24 25\n",
      "\n",
      "RDKit ERROR: [12:55:35] Can't kekulize mol.  Unkekulized atoms: 5 6 7 8 9 10 11 14 15 16 17 18 19\n",
      "RDKit ERROR: \n",
      "[12:55:35] Can't kekulize mol.  Unkekulized atoms: 5 6 7 8 9 10 11 14 15 16 17 18 19\n",
      "\n",
      "RDKit ERROR: [12:55:35] Can't kekulize mol.  Unkekulized atoms: 8 10 12\n",
      "RDKit ERROR: \n",
      "[12:55:35] Can't kekulize mol.  Unkekulized atoms: 8 10 12\n",
      "\n",
      " 78%|████████████████████████████████████████████████████████████████▍                  | 180489/232458 [01:20<00:16, 3086.00it/s]"
     ]
    },
    {
     "name": "stdout",
     "output_type": "stream",
     "text": [
      "rdkit not found this smiles for morgan: None convert to all 0 features\n",
      "rdkit not found this smiles for morgan: None convert to all 0 features\n",
      "rdkit not found this smiles for morgan: None convert to all 0 features\n",
      "rdkit not found this smiles for morgan: None convert to all 0 features\n"
     ]
    },
    {
     "name": "stderr",
     "output_type": "stream",
     "text": [
      " 83%|████████████████████████████████████████████████████████████████████▊              | 192654/232458 [01:23<00:08, 4949.33it/s]RDKit ERROR: [12:55:38] Explicit valence for atom # 1 N, 4, is greater than permitted\n",
      "[12:55:38] Explicit valence for atom # 1 N, 4, is greater than permitted\n",
      " 83%|████████████████████████████████████████████████████████████████████▉              | 193200/232458 [01:24<00:08, 4517.87it/s]"
     ]
    },
    {
     "name": "stdout",
     "output_type": "stream",
     "text": [
      "rdkit not found this smiles for morgan: None convert to all 0 features\n"
     ]
    },
    {
     "name": "stderr",
     "output_type": "stream",
     "text": [
      " 83%|█████████████████████████████████████████████████████████████████████▏             | 193692/232458 [01:24<00:09, 3971.60it/s]RDKit ERROR: [12:55:38] Explicit valence for atom # 5 N, 4, is greater than permitted\n",
      "[12:55:38] Explicit valence for atom # 5 N, 4, is greater than permitted\n",
      " 84%|█████████████████████████████████████████████████████████████████████▌             | 194720/232458 [01:24<00:06, 5427.75it/s]"
     ]
    },
    {
     "name": "stdout",
     "output_type": "stream",
     "text": [
      "rdkit not found this smiles for morgan: None convert to all 0 features\n"
     ]
    },
    {
     "name": "stderr",
     "output_type": "stream",
     "text": [
      " 84%|█████████████████████████████████████████████████████████████████████▋             | 195331/232458 [01:24<00:08, 4281.43it/s]RDKit ERROR: [12:55:39] Explicit valence for atom # 1 Na, 3, is greater than permitted\n",
      "[12:55:39] Explicit valence for atom # 1 Na, 3, is greater than permitted\n",
      " 84%|█████████████████████████████████████████████████████████████████████▉             | 195841/232458 [01:24<00:10, 3605.64it/s]"
     ]
    },
    {
     "name": "stdout",
     "output_type": "stream",
     "text": [
      "rdkit not found this smiles for morgan: None convert to all 0 features\n"
     ]
    },
    {
     "name": "stderr",
     "output_type": "stream",
     "text": [
      " 85%|██████████████████████████████████████████████████████████████████████▎            | 196909/232458 [01:25<00:16, 2115.91it/s]RDKit ERROR: [12:55:40] Explicit valence for atom # 3 H, 2, is greater than permitted\n",
      "[12:55:40] Explicit valence for atom # 3 H, 2, is greater than permitted\n",
      " 85%|██████████████████████████████████████████████████████████████████████▍            | 197410/232458 [01:25<00:17, 2004.72it/s]"
     ]
    },
    {
     "name": "stdout",
     "output_type": "stream",
     "text": [
      "rdkit not found this smiles for morgan: None convert to all 0 features\n"
     ]
    },
    {
     "name": "stderr",
     "output_type": "stream",
     "text": [
      " 85%|██████████████████████████████████████████████████████████████████████▉            | 198750/232458 [01:26<00:16, 2083.75it/s]RDKit ERROR: [12:55:41] Explicit valence for atom # 21 O, 3, is greater than permitted\n",
      "[12:55:41] Explicit valence for atom # 21 O, 3, is greater than permitted\n",
      " 86%|███████████████████████████████████████████████████████████████████████▏           | 199515/232458 [01:26<00:09, 3432.95it/s]"
     ]
    },
    {
     "name": "stdout",
     "output_type": "stream",
     "text": [
      "rdkit not found this smiles for morgan: None convert to all 0 features\n"
     ]
    },
    {
     "name": "stderr",
     "output_type": "stream",
     "text": [
      " 86%|███████████████████████████████████████████████████████████████████████▋           | 200786/232458 [01:26<00:10, 3048.39it/s]RDKit ERROR: [12:55:41] Explicit valence for atom # 4 N, 4, is greater than permitted\n",
      "[12:55:41] Explicit valence for atom # 4 N, 4, is greater than permitted\n",
      "RDKit ERROR: [12:55:41] Explicit valence for atom # 4 N, 4, is greater than permitted\n",
      "[12:55:41] Explicit valence for atom # 4 N, 4, is greater than permitted\n",
      " 87%|███████████████████████████████████████████████████████████████████████▊           | 201149/232458 [01:27<00:11, 2668.81it/s]"
     ]
    },
    {
     "name": "stdout",
     "output_type": "stream",
     "text": [
      "rdkit not found this smiles for morgan: None convert to all 0 features\n",
      "rdkit not found this smiles for morgan: None convert to all 0 features\n"
     ]
    },
    {
     "name": "stderr",
     "output_type": "stream",
     "text": [
      " 88%|████████████████████████████████████████████████████████████████████████▋          | 203401/232458 [01:27<00:11, 2450.60it/s]RDKit ERROR: [12:55:42] Explicit valence for atom # 3 N, 4, is greater than permitted\n",
      "[12:55:42] Explicit valence for atom # 3 N, 4, is greater than permitted\n",
      " 88%|████████████████████████████████████████████████████████████████████████▋          | 203696/232458 [01:28<00:11, 2483.27it/s]"
     ]
    },
    {
     "name": "stdout",
     "output_type": "stream",
     "text": [
      "rdkit not found this smiles for morgan: None convert to all 0 features\n"
     ]
    },
    {
     "name": "stderr",
     "output_type": "stream",
     "text": [
      "RDKit ERROR: [12:55:42] Explicit valence for atom # 10 N, 4, is greater than permitted\n",
      "[12:55:42] Explicit valence for atom # 10 N, 4, is greater than permitted\n",
      "RDKit ERROR: [12:55:42] Explicit valence for atom # 10 N, 4, is greater than permitted\n",
      "[12:55:42] Explicit valence for atom # 10 N, 4, is greater than permitted\n",
      " 88%|████████████████████████████████████████████████████████████████████████▊          | 203980/232458 [01:28<00:13, 2120.71it/s]RDKit ERROR: [12:55:43] Explicit valence for atom # 21 C, 5, is greater than permitted\n",
      "[12:55:43] Explicit valence for atom # 21 C, 5, is greater than permitted\n",
      " 88%|████████████████████████████████████████████████████████████████████████▉          | 204223/232458 [01:28<00:13, 2067.65it/s]"
     ]
    },
    {
     "name": "stdout",
     "output_type": "stream",
     "text": [
      "rdkit not found this smiles for morgan: None convert to all 0 features\n",
      "rdkit not found this smiles for morgan: None convert to all 0 features\n",
      "rdkit not found this smiles for morgan: None convert to all 0 features\n"
     ]
    },
    {
     "name": "stderr",
     "output_type": "stream",
     "text": [
      " 89%|█████████████████████████████████████████████████████████████████████████▌         | 206167/232458 [01:29<00:08, 3103.25it/s]RDKit ERROR: [12:55:43] Explicit valence for atom # 5 F, 3, is greater than permitted\n",
      "[12:55:43] Explicit valence for atom # 5 F, 3, is greater than permitted\n",
      " 89%|█████████████████████████████████████████████████████████████████████████▊         | 206774/232458 [01:29<00:10, 2471.81it/s]"
     ]
    },
    {
     "name": "stdout",
     "output_type": "stream",
     "text": [
      "rdkit not found this smiles for morgan: None convert to all 0 features\n"
     ]
    },
    {
     "name": "stderr",
     "output_type": "stream",
     "text": [
      " 90%|██████████████████████████████████████████████████████████████████████████▌        | 208759/232458 [01:30<00:10, 2360.99it/s]RDKit ERROR: [12:55:45] Explicit valence for atom # 3 N, 4, is greater than permitted\n",
      "[12:55:45] Explicit valence for atom # 3 N, 4, is greater than permitted\n",
      "RDKit ERROR: [12:55:45] Explicit valence for atom # 13 N, 4, is greater than permitted\n",
      "[12:55:45] Explicit valence for atom # 13 N, 4, is greater than permitted\n",
      " 90%|██████████████████████████████████████████████████████████████████████████▊        | 209606/232458 [01:30<00:05, 3952.83it/s]"
     ]
    },
    {
     "name": "stdout",
     "output_type": "stream",
     "text": [
      "rdkit not found this smiles for morgan: None convert to all 0 features\n",
      "rdkit not found this smiles for morgan: None convert to all 0 features\n"
     ]
    },
    {
     "name": "stderr",
     "output_type": "stream",
     "text": [
      " 90%|██████████████████████████████████████████████████████████████████████████▉        | 210033/232458 [01:30<00:06, 3355.73it/s]RDKit ERROR: [12:55:45] Explicit valence for atom # 1 N, 4, is greater than permitted\n",
      "[12:55:45] Explicit valence for atom # 1 N, 4, is greater than permitted\n",
      " 91%|███████████████████████████████████████████████████████████████████████████▏       | 210405/232458 [01:30<00:09, 2383.19it/s]"
     ]
    },
    {
     "name": "stdout",
     "output_type": "stream",
     "text": [
      "rdkit not found this smiles for morgan: None convert to all 0 features\n"
     ]
    },
    {
     "name": "stderr",
     "output_type": "stream",
     "text": [
      " 91%|███████████████████████████████████████████████████████████████████████████▏       | 210705/232458 [01:31<00:09, 2254.35it/s]RDKit ERROR: [12:55:45] Explicit valence for atom # 13 N, 4, is greater than permitted\n",
      "[12:55:45] Explicit valence for atom # 13 N, 4, is greater than permitted\n",
      "RDKit ERROR: [12:55:45] Explicit valence for atom # 17 N, 4, is greater than permitted\n",
      "[12:55:45] Explicit valence for atom # 17 N, 4, is greater than permitted\n",
      "RDKit ERROR: [12:55:45] Explicit valence for atom # 14 N, 4, is greater than permitted\n",
      "[12:55:45] Explicit valence for atom # 14 N, 4, is greater than permitted\n",
      "RDKit ERROR: [12:55:45] Explicit valence for atom # 17 N, 4, is greater than permitted\n",
      "[12:55:45] Explicit valence for atom # 17 N, 4, is greater than permitted\n",
      " 91%|███████████████████████████████████████████████████████████████████████████▎       | 211038/232458 [01:31<00:08, 2466.75it/s]RDKit ERROR: [12:55:45] Explicit valence for atom # 23 N, 4, is greater than permitted\n",
      "[12:55:45] Explicit valence for atom # 23 N, 4, is greater than permitted\n",
      " 91%|███████████████████████████████████████████████████████████████████████████▌       | 211635/232458 [01:31<00:06, 3240.40it/s]"
     ]
    },
    {
     "name": "stdout",
     "output_type": "stream",
     "text": [
      "rdkit not found this smiles for morgan: None convert to all 0 features\n",
      "rdkit not found this smiles for morgan: None convert to all 0 features\n",
      "rdkit not found this smiles for morgan: None convert to all 0 features\n",
      "rdkit not found this smiles for morgan: None convert to all 0 features\n",
      "rdkit not found this smiles for morgan: None convert to all 0 features\n"
     ]
    },
    {
     "name": "stderr",
     "output_type": "stream",
     "text": [
      " 93%|█████████████████████████████████████████████████████████████████████████████▍     | 216781/232458 [01:33<00:08, 1840.18it/s]RDKit ERROR: [12:55:47] Explicit valence for atom # 1 N, 4, is greater than permitted\n",
      "[12:55:47] Explicit valence for atom # 1 N, 4, is greater than permitted\n",
      " 94%|█████████████████████████████████████████████████████████████████████████████▌     | 217386/232458 [01:33<00:06, 2172.83it/s]"
     ]
    },
    {
     "name": "stdout",
     "output_type": "stream",
     "text": [
      "rdkit not found this smiles for morgan: None convert to all 0 features\n"
     ]
    },
    {
     "name": "stderr",
     "output_type": "stream",
     "text": [
      " 94%|█████████████████████████████████████████████████████████████████████████████▋     | 217636/232458 [01:33<00:06, 2252.98it/s]RDKit ERROR: [12:55:48] Explicit valence for atom # 1 N, 4, is greater than permitted\n",
      "[12:55:48] Explicit valence for atom # 1 N, 4, is greater than permitted\n",
      " 94%|█████████████████████████████████████████████████████████████████████████████▊     | 217967/232458 [01:33<00:05, 2533.82it/s]RDKit ERROR: [12:55:48] Explicit valence for atom # 5 N, 4, is greater than permitted\n",
      "[12:55:48] Explicit valence for atom # 5 N, 4, is greater than permitted\n",
      "RDKit ERROR: [12:55:48] Explicit valence for atom # 5 N, 4, is greater than permitted\n",
      "[12:55:48] Explicit valence for atom # 5 N, 4, is greater than permitted\n"
     ]
    },
    {
     "name": "stdout",
     "output_type": "stream",
     "text": [
      "rdkit not found this smiles for morgan: None convert to all 0 features\n",
      "rdkit not found this smiles for morgan: None convert to all 0 features\n",
      "rdkit not found this smiles for morgan: None convert to all 0 features\n"
     ]
    },
    {
     "name": "stderr",
     "output_type": "stream",
     "text": [
      " 95%|██████████████████████████████████████████████████████████████████████████████▉    | 221052/232458 [01:34<00:03, 3366.25it/s]RDKit ERROR: [12:55:49] Explicit valence for atom # 1 N, 4, is greater than permitted\n",
      "[12:55:49] Explicit valence for atom # 1 N, 4, is greater than permitted\n",
      "RDKit ERROR: [12:55:49] Explicit valence for atom # 1 N, 4, is greater than permitted\n",
      "[12:55:49] Explicit valence for atom # 1 N, 4, is greater than permitted\n",
      "RDKit ERROR: [12:55:49] Explicit valence for atom # 16 Na, 2, is greater than permitted\n",
      "[12:55:49] Explicit valence for atom # 16 Na, 2, is greater than permitted\n",
      " 95%|███████████████████████████████████████████████████████████████████████████████▏   | 221661/232458 [01:34<00:02, 4154.17it/s]"
     ]
    },
    {
     "name": "stdout",
     "output_type": "stream",
     "text": [
      "rdkit not found this smiles for morgan: None convert to all 0 features\n",
      "rdkit not found this smiles for morgan: None convert to all 0 features\n",
      "rdkit not found this smiles for morgan: None convert to all 0 features\n"
     ]
    },
    {
     "name": "stderr",
     "output_type": "stream",
     "text": [
      " 96%|███████████████████████████████████████████████████████████████████████████████▋   | 223048/232458 [01:35<00:03, 2374.22it/s]RDKit ERROR: [12:55:50] Explicit valence for atom # 12 N, 4, is greater than permitted\n",
      "[12:55:50] Explicit valence for atom # 12 N, 4, is greater than permitted\n",
      " 96%|███████████████████████████████████████████████████████████████████████████████▋   | 223308/232458 [01:35<00:03, 2357.57it/s]"
     ]
    },
    {
     "name": "stdout",
     "output_type": "stream",
     "text": [
      "rdkit not found this smiles for morgan: None convert to all 0 features\n"
     ]
    },
    {
     "name": "stderr",
     "output_type": "stream",
     "text": [
      " 97%|████████████████████████████████████████████████████████████████████████████████▏  | 224444/232458 [01:36<00:04, 1797.25it/s]RDKit ERROR: [12:55:51] Explicit valence for atom # 1 N, 4, is greater than permitted\n",
      "[12:55:51] Explicit valence for atom # 1 N, 4, is greater than permitted\n"
     ]
    },
    {
     "name": "stdout",
     "output_type": "stream",
     "text": [
      "rdkit not found this smiles for morgan: None convert to all 0 features\n"
     ]
    },
    {
     "name": "stderr",
     "output_type": "stream",
     "text": [
      "100%|███████████████████████████████████████████████████████████████████████████████████| 232458/232458 [01:37<00:00, 2384.31it/s]\n"
     ]
    },
    {
     "name": "stdout",
     "output_type": "stream",
     "text": [
      "--- saving morgans to ../nbdata/tdc_bindingdb_patent_train_Morgan_MOLECULES.pk ---\n"
     ]
    }
   ],
   "source": [
    "mol_featurizer.precompute(all_drugs,to_disk_path=to_disk_path,from_disk=True)"
   ]
  },
  {
   "cell_type": "code",
   "execution_count": 13,
   "id": "cb621c3a-eee7-4a2a-8728-f3de34d46b49",
   "metadata": {
    "scrolled": true,
    "tags": []
   },
   "outputs": [
    {
     "name": "stderr",
     "output_type": "stream",
     "text": [
      "  0%|                                                                                        | 1/232458 [00:00<9:32:18,  6.77it/s]"
     ]
    },
    {
     "name": "stdout",
     "output_type": "stream",
     "text": [
      "--- precomputing Prose protein featurizer ---\n"
     ]
    },
    {
     "name": "stderr",
     "output_type": "stream",
     "text": [
      "100%|███████████████████████████████████████████████████████████████████████████████████| 232458/232458 [00:54<00:00, 4256.15it/s]"
     ]
    },
    {
     "name": "stdout",
     "output_type": "stream",
     "text": [
      "--- saving protein embeddings to ../nbdata/tdc_bindingdb_patent_train_Prose_f_PROTEINS.pk ---\n"
     ]
    },
    {
     "name": "stderr",
     "output_type": "stream",
     "text": [
      "\n"
     ]
    }
   ],
   "source": [
    "prot_featurizer.precompute(all_proteins,to_disk_path=to_disk_path,from_disk=True)"
   ]
  },
  {
   "cell_type": "code",
   "execution_count": null,
   "id": "a5bc01d9-7ab2-4cb2-b5ed-4ba6735d3f3d",
   "metadata": {},
   "outputs": [],
   "source": [
    "## --- train your model --- ##"
   ]
  },
  {
   "cell_type": "code",
   "execution_count": 82,
   "id": "d0f80a5f-5150-43bb-8266-6f0dbfdf398b",
   "metadata": {},
   "outputs": [],
   "source": [
    "class SimplePLMModel(nn.Module):\n",
    "    def __init__(self,\n",
    "                 mol_emb_size = 2048,\n",
    "                 prot_emb_size = 6165,\n",
    "                 hidden_dim = 512,\n",
    "                 activation = nn.ReLU\n",
    "                ):\n",
    "        super().__init__()\n",
    "        self.mol_emb_size = mol_emb_size\n",
    "        self.prot_emb_size = prot_emb_size\n",
    "\n",
    "        self.mol_projector = nn.Sequential(\n",
    "            nn.Linear(self.mol_emb_size, hidden_dim),\n",
    "            activation()\n",
    "        )\n",
    "\n",
    "        self.prot_projector = nn.Sequential(\n",
    "            nn.Linear(self.prot_emb_size, hidden_dim),\n",
    "            activation()\n",
    "        )\n",
    "        \n",
    "        self.fc = nn.Linear(2*hidden_dim, 1)\n",
    "\n",
    "    def forward(self, mol_emb, prot_emb):\n",
    "        mol_proj = self.mol_projector(mol_emb)\n",
    "        prot_proj = self.prot_projector(prot_emb)\n",
    "        # print(mol_proj.shape, prot_proj.shape)\n",
    "        cat_emb = torch.cat([mol_proj, prot_proj],axis=1)\n",
    "        # print(cat_emb.shape)\n",
    "        return self.fc(cat_emb).squeeze()"
   ]
  },
  {
   "cell_type": "code",
   "execution_count": 83,
   "id": "cd699c55-3e38-4018-8d19-ace5c0ae029e",
   "metadata": {},
   "outputs": [],
   "source": [
    "model = SimplePLMModel().cuda()"
   ]
  },
  {
   "cell_type": "code",
   "execution_count": 84,
   "id": "809569a6-1880-4442-96df-98ffffe7c977",
   "metadata": {},
   "outputs": [],
   "source": [
    "from torch.utils.data import DataLoader\n",
    "from plm_dti import DTIDataset, molecule_protein_collate_fn\n",
    "\n",
    "dti_dataset = DTIDataset(\n",
    "    train_val.Drug,\n",
    "    train_val.Target,\n",
    "    train_val.Y,\n",
    "    mol_featurizer,\n",
    "    prot_featurizer,\n",
    ")\n",
    "\n",
    "dti_dataloader = DataLoader(\n",
    "    dti_dataset,\n",
    "    batch_size=32,\n",
    "    shuffle=True,\n",
    "    collate_fn=lambda x: molecule_protein_collate_fn(x, pad=False))"
   ]
  },
  {
   "cell_type": "code",
   "execution_count": 85,
   "id": "814a4dca-75d0-4fdb-82e3-a008130adbf2",
   "metadata": {
    "scrolled": true,
    "tags": []
   },
   "outputs": [
    {
     "data": {
      "application/vnd.jupyter.widget-view+json": {
       "model_id": "2a21de69036a4800a53eaca505bae549",
       "version_major": 2,
       "version_minor": 0
      },
      "text/plain": [
       "  0%|          | 0/25 [00:00<?, ?it/s]"
      ]
     },
     "metadata": {},
     "output_type": "display_data"
    },
    {
     "name": "stdout",
     "output_type": "stream",
     "text": [
      "Training at Epoch 1 iteration 0 with loss 38.08734\n",
      "Training at Epoch 1 iteration 1000 with loss 2.0454583\n",
      "Training at Epoch 1 iteration 2000 with loss 3.1446316\n",
      "Training at Epoch 1 iteration 3000 with loss 4.0732503\n",
      "Training at Epoch 1 iteration 4000 with loss 6.466305\n",
      "Training at Epoch 1 iteration 5000 with loss 3.009367\n",
      "Training at Epoch 2 iteration 0 with loss 2.7679374\n",
      "Training at Epoch 2 iteration 1000 with loss 3.622054\n",
      "Training at Epoch 2 iteration 2000 with loss 1.7874537\n",
      "Training at Epoch 2 iteration 3000 with loss 2.739191\n",
      "Training at Epoch 2 iteration 4000 with loss 1.9332738\n",
      "Training at Epoch 2 iteration 5000 with loss 1.5109687\n",
      "Training at Epoch 3 iteration 0 with loss 2.9467134\n",
      "Training at Epoch 3 iteration 1000 with loss 3.2371593\n",
      "Training at Epoch 3 iteration 2000 with loss 2.9080515\n",
      "Training at Epoch 3 iteration 3000 with loss 3.9319758\n",
      "Training at Epoch 3 iteration 4000 with loss 3.3324797\n",
      "Training at Epoch 3 iteration 5000 with loss 2.7922795\n",
      "Training at Epoch 4 iteration 0 with loss 2.440145\n",
      "Training at Epoch 4 iteration 1000 with loss 1.1244881\n",
      "Training at Epoch 4 iteration 2000 with loss 0.9983296\n",
      "Training at Epoch 4 iteration 3000 with loss 2.1330628\n",
      "Training at Epoch 4 iteration 4000 with loss 3.119596\n",
      "Training at Epoch 4 iteration 5000 with loss 1.5211732\n",
      "Training at Epoch 5 iteration 0 with loss 2.9310021\n",
      "Training at Epoch 5 iteration 1000 with loss 1.7662282\n",
      "Training at Epoch 5 iteration 2000 with loss 1.8046343\n",
      "Training at Epoch 5 iteration 3000 with loss 2.0826266\n",
      "Training at Epoch 5 iteration 4000 with loss 3.769444\n",
      "Training at Epoch 5 iteration 5000 with loss 3.1292121\n",
      "Training at Epoch 6 iteration 0 with loss 2.9714\n",
      "Training at Epoch 6 iteration 1000 with loss 2.3074965\n",
      "Training at Epoch 6 iteration 2000 with loss 1.6427983\n",
      "Training at Epoch 6 iteration 3000 with loss 1.8390081\n",
      "Training at Epoch 6 iteration 4000 with loss 2.0765913\n",
      "Training at Epoch 6 iteration 5000 with loss 1.4235768\n",
      "Training at Epoch 7 iteration 0 with loss 2.4227521\n",
      "Training at Epoch 7 iteration 1000 with loss 0.990401\n",
      "Training at Epoch 7 iteration 2000 with loss 0.9107801\n",
      "Training at Epoch 7 iteration 3000 with loss 1.0764079\n",
      "Training at Epoch 7 iteration 4000 with loss 2.4428048\n",
      "Training at Epoch 7 iteration 5000 with loss 3.3373733\n",
      "Training at Epoch 8 iteration 0 with loss 0.8861065\n",
      "Training at Epoch 8 iteration 1000 with loss 1.1305091\n",
      "Training at Epoch 8 iteration 2000 with loss 0.9756255\n",
      "Training at Epoch 8 iteration 3000 with loss 1.103095\n",
      "Training at Epoch 8 iteration 4000 with loss 1.363206\n",
      "Training at Epoch 8 iteration 5000 with loss 1.6496131\n",
      "Training at Epoch 9 iteration 0 with loss 1.8344294\n",
      "Training at Epoch 9 iteration 1000 with loss 2.142794\n",
      "Training at Epoch 9 iteration 2000 with loss 0.97309124\n",
      "Training at Epoch 9 iteration 3000 with loss 2.6149797\n",
      "Training at Epoch 9 iteration 4000 with loss 1.5477074\n",
      "Training at Epoch 9 iteration 5000 with loss 1.6835486\n",
      "Training at Epoch 10 iteration 0 with loss 1.1628257\n",
      "Training at Epoch 10 iteration 1000 with loss 1.5080742\n",
      "Training at Epoch 10 iteration 2000 with loss 1.6378415\n",
      "Training at Epoch 10 iteration 3000 with loss 0.6952357\n",
      "Training at Epoch 10 iteration 4000 with loss 2.9416778\n",
      "Training at Epoch 10 iteration 5000 with loss 3.7420933\n",
      "Training at Epoch 11 iteration 0 with loss 0.90558976\n",
      "Training at Epoch 11 iteration 1000 with loss 0.9592067\n",
      "Training at Epoch 11 iteration 2000 with loss 1.9023316\n",
      "Training at Epoch 11 iteration 3000 with loss 1.6227081\n",
      "Training at Epoch 11 iteration 4000 with loss 2.95069\n",
      "Training at Epoch 11 iteration 5000 with loss 0.49020377\n",
      "Training at Epoch 12 iteration 0 with loss 1.2329345\n",
      "Training at Epoch 12 iteration 1000 with loss 0.88732725\n",
      "Training at Epoch 12 iteration 2000 with loss 1.0641459\n",
      "Training at Epoch 12 iteration 3000 with loss 1.9649355\n",
      "Training at Epoch 12 iteration 4000 with loss 0.8897044\n",
      "Training at Epoch 12 iteration 5000 with loss 2.2421546\n",
      "Training at Epoch 13 iteration 0 with loss 1.3066663\n",
      "Training at Epoch 13 iteration 1000 with loss 2.135055\n",
      "Training at Epoch 13 iteration 2000 with loss 0.7625398\n",
      "Training at Epoch 13 iteration 3000 with loss 0.95285803\n",
      "Training at Epoch 13 iteration 4000 with loss 0.9459684\n",
      "Training at Epoch 13 iteration 5000 with loss 2.4028416\n",
      "Training at Epoch 14 iteration 0 with loss 1.2196536\n",
      "Training at Epoch 14 iteration 1000 with loss 0.6870458\n",
      "Training at Epoch 14 iteration 2000 with loss 1.344257\n",
      "Training at Epoch 14 iteration 3000 with loss 1.215513\n",
      "Training at Epoch 14 iteration 4000 with loss 2.9091122\n",
      "Training at Epoch 14 iteration 5000 with loss 1.6714784\n",
      "Training at Epoch 15 iteration 0 with loss 1.1748917\n",
      "Training at Epoch 15 iteration 1000 with loss 0.66603523\n",
      "Training at Epoch 15 iteration 2000 with loss 1.671981\n",
      "Training at Epoch 15 iteration 3000 with loss 0.53880537\n",
      "Training at Epoch 15 iteration 4000 with loss 1.9564521\n",
      "Training at Epoch 15 iteration 5000 with loss 1.9521246\n",
      "Training at Epoch 16 iteration 0 with loss 0.66731024\n",
      "Training at Epoch 16 iteration 1000 with loss 1.0592628\n",
      "Training at Epoch 16 iteration 2000 with loss 0.8809824\n",
      "Training at Epoch 16 iteration 3000 with loss 3.2506049\n",
      "Training at Epoch 16 iteration 4000 with loss 1.5069518\n",
      "Training at Epoch 16 iteration 5000 with loss 0.5851183\n",
      "Training at Epoch 17 iteration 0 with loss 1.4235404\n",
      "Training at Epoch 17 iteration 1000 with loss 1.5102644\n",
      "Training at Epoch 17 iteration 2000 with loss 0.85135436\n",
      "Training at Epoch 17 iteration 3000 with loss 0.8605837\n",
      "Training at Epoch 17 iteration 4000 with loss 0.87712574\n",
      "Training at Epoch 17 iteration 5000 with loss 0.9568275\n",
      "Training at Epoch 18 iteration 0 with loss 1.5116417\n",
      "Training at Epoch 18 iteration 1000 with loss 0.71263903\n",
      "Training at Epoch 18 iteration 2000 with loss 1.41978\n",
      "Training at Epoch 18 iteration 3000 with loss 0.50581086\n",
      "Training at Epoch 18 iteration 4000 with loss 2.3732548\n",
      "Training at Epoch 18 iteration 5000 with loss 0.731689\n",
      "Training at Epoch 19 iteration 0 with loss 1.0544007\n",
      "Training at Epoch 19 iteration 1000 with loss 1.2010984\n",
      "Training at Epoch 19 iteration 2000 with loss 1.2706487\n",
      "Training at Epoch 19 iteration 3000 with loss 2.5186741\n",
      "Training at Epoch 19 iteration 4000 with loss 0.50733495\n",
      "Training at Epoch 19 iteration 5000 with loss 2.142272\n",
      "Training at Epoch 20 iteration 0 with loss 1.0826313\n",
      "Training at Epoch 20 iteration 1000 with loss 1.2162199\n",
      "Training at Epoch 20 iteration 2000 with loss 1.7113262\n",
      "Training at Epoch 20 iteration 3000 with loss 0.62884784\n",
      "Training at Epoch 20 iteration 4000 with loss 0.59577286\n",
      "Training at Epoch 20 iteration 5000 with loss 1.0623701\n",
      "Training at Epoch 21 iteration 0 with loss 1.002419\n",
      "Training at Epoch 21 iteration 1000 with loss 1.1414409\n",
      "Training at Epoch 21 iteration 2000 with loss 1.1397399\n",
      "Training at Epoch 21 iteration 3000 with loss 0.62013125\n",
      "Training at Epoch 21 iteration 4000 with loss 0.7008874\n",
      "Training at Epoch 21 iteration 5000 with loss 1.0730319\n",
      "Training at Epoch 22 iteration 0 with loss 1.2866871\n",
      "Training at Epoch 22 iteration 1000 with loss 0.7425033\n",
      "Training at Epoch 22 iteration 2000 with loss 0.35911924\n",
      "Training at Epoch 22 iteration 3000 with loss 1.334747\n",
      "Training at Epoch 22 iteration 4000 with loss 1.3117251\n",
      "Training at Epoch 22 iteration 5000 with loss 0.6581659\n",
      "Training at Epoch 23 iteration 0 with loss 2.2202897\n",
      "Training at Epoch 23 iteration 1000 with loss 0.684402\n",
      "Training at Epoch 23 iteration 2000 with loss 1.8491389\n",
      "Training at Epoch 23 iteration 3000 with loss 0.6955354\n",
      "Training at Epoch 23 iteration 4000 with loss 3.6374643\n",
      "Training at Epoch 23 iteration 5000 with loss 1.6984639\n",
      "Training at Epoch 24 iteration 0 with loss 0.86543596\n",
      "Training at Epoch 24 iteration 1000 with loss 1.5751871\n",
      "Training at Epoch 24 iteration 2000 with loss 1.6233642\n",
      "Training at Epoch 24 iteration 3000 with loss 0.9822906\n",
      "Training at Epoch 24 iteration 4000 with loss 2.3355193\n",
      "Training at Epoch 24 iteration 5000 with loss 1.2321229\n",
      "Training at Epoch 25 iteration 0 with loss 1.1269217\n",
      "Training at Epoch 25 iteration 1000 with loss 0.92066157\n",
      "Training at Epoch 25 iteration 2000 with loss 1.0914906\n",
      "Training at Epoch 25 iteration 3000 with loss 0.588948\n",
      "Training at Epoch 25 iteration 4000 with loss 1.1274838\n",
      "Training at Epoch 25 iteration 5000 with loss 1.4431697\n"
     ]
    }
   ],
   "source": [
    "from torch.autograd import Variable\n",
    "\n",
    "n_epo = 25\n",
    "opt = torch.optim.Adam(model.parameters(), lr=1e-3)\n",
    "every_n_val = 1\n",
    "loss_history = []\n",
    "\n",
    "for epo in tqdm(range(n_epo)):\n",
    "    model.train()\n",
    "    for i, (d, p, label) in enumerate(dti_dataloader):\n",
    "        \n",
    "        score = model(d.cuda(), p.cuda())\n",
    "        label = Variable(torch.from_numpy(np.array(label)).float()).cuda()\n",
    "\n",
    "        loss_fct = torch.nn.MSELoss()\n",
    "\n",
    "        loss = loss_fct(score, label)\n",
    "        loss_history.append((epo, i, float(loss.cpu().detach().numpy())))\n",
    "\n",
    "        opt.zero_grad()\n",
    "        loss.backward()\n",
    "        opt.step()\n",
    "\n",
    "        if (i % 1000 == 0):\n",
    "            print('Training at Epoch ' + str(epo + 1) + ' iteration ' + str(i) + ' with loss ' + str(\n",
    "                loss.cpu().detach().numpy()))"
   ]
  },
  {
   "cell_type": "code",
   "execution_count": 91,
   "id": "f897fa2a-b623-439a-9abf-058f9d80ce0a",
   "metadata": {},
   "outputs": [],
   "source": [
    "running_loss = [float(i[2].cpu().detach().numpy()) for i in loss_history]"
   ]
  },
  {
   "cell_type": "code",
   "execution_count": 86,
   "id": "606061d5-bab0-4deb-a533-51ae78ec632e",
   "metadata": {},
   "outputs": [],
   "source": [
    "test_dataset = DTIDataset(\n",
    "    test.Drug,\n",
    "    test.Target,\n",
    "    test.Y,\n",
    "    mol_featurizer,\n",
    "    prot_featurizer,\n",
    ")\n",
    "\n",
    "test_dataloader = DataLoader(\n",
    "    test_dataset,\n",
    "    batch_size=32,\n",
    "    shuffle=False,\n",
    "    collate_fn=lambda x: molecule_protein_collate_fn(x, pad=False))"
   ]
  },
  {
   "cell_type": "code",
   "execution_count": 87,
   "id": "de4a9e7a-7cc0-4692-9e3e-b28c802ea73d",
   "metadata": {},
   "outputs": [],
   "source": [
    "pred_list = []\n",
    "\n",
    "model.eval()\n",
    "with torch.no_grad():\n",
    "    for i, (d, p, label) in enumerate(test_dataloader):\n",
    "        score = model(d.cuda(), p.cuda())\n",
    "        score = score.detach().cpu().numpy()\n",
    "        pred_list.extend(score)\n",
    "    \n",
    "pred_list = np.array(pred_list)\n",
    "predictions = {name: pred_list}"
   ]
  },
  {
   "cell_type": "code",
   "execution_count": 88,
   "id": "79843ab3-8b1f-48d8-936b-9247de73b6df",
   "metadata": {},
   "outputs": [],
   "source": [
    "out = group.evaluate(predictions)"
   ]
  },
  {
   "cell_type": "code",
   "execution_count": 89,
   "id": "6050c060-6fd8-4d4e-8bc3-e76fb602ceea",
   "metadata": {},
   "outputs": [
    {
     "data": {
      "text/plain": [
       "{'bindingdb_patent': {'pcc': 0.504}}"
      ]
     },
     "execution_count": 89,
     "metadata": {},
     "output_type": "execute_result"
    }
   ],
   "source": [
    "out"
   ]
  }
 ],
 "metadata": {
  "kernelspec": {
   "display_name": "Python [conda env:dsplat] *",
   "language": "python",
   "name": "conda-env-dsplat-py"
  },
  "language_info": {
   "codemirror_mode": {
    "name": "ipython",
    "version": 3
   },
   "file_extension": ".py",
   "mimetype": "text/x-python",
   "name": "python",
   "nbconvert_exporter": "python",
   "pygments_lexer": "ipython3",
   "version": "3.7.10"
  }
 },
 "nbformat": 4,
 "nbformat_minor": 5
}
