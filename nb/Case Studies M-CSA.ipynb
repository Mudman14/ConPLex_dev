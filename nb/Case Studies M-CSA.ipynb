{
 "cells": [
  {
   "cell_type": "code",
   "execution_count": 1,
   "id": "acd1a213-9ddb-4139-9234-f6f09d6daa0e",
   "metadata": {},
   "outputs": [],
   "source": [
    "import os\n",
    "import sys\n",
    "\n",
    "from rdkit import Chem\n",
    "from rdkit.Chem import AllChem\n",
    "\n",
    "import numpy as np\n",
    "import pandas as pd\n",
    "import torch\n",
    "\n",
    "from tqdm.notebook import tqdm\n",
    "\n",
    "import matplotlib.pyplot as plt\n",
    "import seaborn as sns"
   ]
  },
  {
   "cell_type": "code",
   "execution_count": 2,
   "id": "4411a046-4de7-4ac8-b528-a0c98d68b178",
   "metadata": {},
   "outputs": [],
   "source": [
    "BASE_DIR = \"..\"\n",
    "MODEL_BASE_DIR = f\"{BASE_DIR}/best_models\"\n",
    "DATA_DIR = f\"{BASE_DIR}/nbdata\"\n",
    "os.makedirs(MODEL_BASE_DIR,exist_ok=True)\n",
    "os.makedirs(DATA_DIR,exist_ok=True)\n",
    "sys.path.append(BASE_DIR)"
   ]
  },
  {
   "cell_type": "markdown",
   "id": "781f16d2-d73b-4b7f-8391-7f90aeaf3c1f",
   "metadata": {},
   "source": [
    "---"
   ]
  },
  {
   "cell_type": "code",
   "execution_count": 3,
   "id": "1b8c52d3-5b4b-4815-b072-846362ab6fe7",
   "metadata": {},
   "outputs": [],
   "source": [
    "from Bio import SeqIO"
   ]
  },
  {
   "cell_type": "code",
   "execution_count": 4,
   "id": "819d84e0-83fe-48d6-98b4-bb9786de9e05",
   "metadata": {},
   "outputs": [],
   "source": [
    "from Bio.SeqUtils import IUPACData\n",
    "IUPACData.protein_letters_3to1['Sec'] = 'U'"
   ]
  },
  {
   "cell_type": "code",
   "execution_count": 5,
   "id": "3a18207e-57bd-4efc-83ee-1d22d999c59a",
   "metadata": {},
   "outputs": [],
   "source": [
    "csa_db = pd.read_csv('/afs/csail.mit.edu/u/s/samsl/Work/databases/M-CSA/CSA_proteins_full_list.csv',\n",
    "                    names=['MCSA-ID',\n",
    "                           'Uniprot_ID',\n",
    "                           'PDB','EC','Type',\n",
    "                           'Residue_ID','Chain',\n",
    "                           'Residue_Index','FuncLocation',\n",
    "                           'Role','RoleType',\n",
    "                           'RoleGroup']\n",
    "                    )\n",
    "csa_db = csa_db[csa_db['Type'] == 'residue']\n",
    "csa_db['Residue_Single'] = csa_db.Residue_ID.apply(lambda x: IUPACData.protein_letters_3to1[x.title()])\n",
    "binding_sites = csa_db[['Uniprot_ID','Type','Residue_Index','Residue_ID','Residue_Single','RoleType']]\n",
    "binding_sites = binding_sites.drop_duplicates(['Uniprot_ID','Residue_Index','Residue_ID'])\n",
    "binding_sites = binding_sites.set_index('Uniprot_ID')\n",
    "binding_sites.to_csv('/afs/csail.mit.edu/u/s/samsl/Work/databases/M-CSA/CSA_binding_sites_clean.csv',\n",
    "                     sep=',',index=True,header=True)\n",
    "binding_sites = pd.read_csv('/afs/csail.mit.edu/u/s/samsl/Work/databases/M-CSA/CSA_binding_sites_clean.csv',\n",
    "                           index_col=0)"
   ]
  },
  {
   "cell_type": "code",
   "execution_count": 6,
   "id": "c654afa6-d8c1-48dc-a6af-73fd195de66f",
   "metadata": {},
   "outputs": [],
   "source": [
    "rec = list(SeqIO.parse('/afs/csail.mit.edu/u/s/samsl/Work/databases/M-CSA/dti_dg_overlap.fasta','fasta'))\n",
    "for r in rec:\n",
    "    r.name = r.name.split('|')[1]\n",
    "    r.id = r.name\n",
    "seqDict = {r.id: r for r in rec if r.id in binding_sites.index.unique()}"
   ]
  },
  {
   "cell_type": "code",
   "execution_count": 7,
   "id": "4281881e-c341-4384-a8dc-8547dd5c1367",
   "metadata": {},
   "outputs": [
    {
     "data": {
      "text/plain": [
       "dict_keys(['P00918', 'P09960', 'P11766', 'Q04828', 'P05164', 'P06213', 'P29466', 'P42574', 'P47712', 'P27487', 'Q92831', 'P04062', 'P25774', 'P62937', 'P00750', 'P07237', 'P00747', 'P18031', 'Q02127', 'P27695', 'P05091', 'Q14790', 'P00374'])"
      ]
     },
     "execution_count": 7,
     "metadata": {},
     "output_type": "execute_result"
    }
   ],
   "source": [
    "seqDict.keys()"
   ]
  },
  {
   "cell_type": "code",
   "execution_count": 8,
   "id": "c037d991-0ea5-43b8-beef-f84479dab69a",
   "metadata": {
    "tags": []
   },
   "outputs": [],
   "source": [
    "off_by_dict = {}\n",
    "off_by_tries = [int(-np.floor(n/2)*(-1)**n) for n in range(1,42)]\n",
    "\n",
    "def get_off_by_vect(pid, binding_sites, seqDict):\n",
    "    try:\n",
    "        off_by_vect = []\n",
    "        off_by_ind = 0\n",
    "        for i, row in binding_sites.loc[pid].reset_index().iterrows():\n",
    "            if seqDict[pid].seq[row.Residue_Index - off_by_tries[off_by_ind]] == row.Residue_Single:\n",
    "                # continue\n",
    "                off_by_vect.append(off_by_tries[off_by_ind])\n",
    "            else:\n",
    "                off_by_ind = 0\n",
    "                while seqDict[pid].seq[row.Residue_Index - off_by_tries[off_by_ind]] != row.Residue_Single:\n",
    "                    off_by_ind += 1\n",
    "                off_by_vect.append(off_by_tries[off_by_ind])\n",
    "        # print(pid, off_by_vect)\n",
    "        return off_by_vect\n",
    "    except IndexError as e:\n",
    "        # print(pid, e)\n",
    "        return None\n",
    "    \n",
    "\n",
    "for pid in seqDict.keys():\n",
    "    off_by_dict[pid] = get_off_by_vect(pid, binding_sites, seqDict)"
   ]
  },
  {
   "cell_type": "code",
   "execution_count": 9,
   "id": "48c3e0e9-d3fc-47ee-a90b-ab3b58783978",
   "metadata": {},
   "outputs": [],
   "source": [
    "def get_mutation_mask(pid, binding_sites, seqDict):\n",
    "    seq = seqDict[pid]\n",
    "    bs_df = binding_sites.loc[pid]\n",
    "    \n",
    "    off_by_vect = get_off_by_vect(pid, binding_sites, seqDict)\n",
    "    true_idx = [(r.Residue_Index - offset) for ((_,r),offset) in zip(bs_df.iterrows(), off_by_vect)]\n",
    "    \n",
    "    mask = np.array([1 if i in true_idx else 0 for i in range(len(seq))])\n",
    "    return mask\n",
    "\n",
    "def verify_mask(pid, mask, binding_sites, seqDict):\n",
    "    seq = seqDict[pid]\n",
    "    tmpdf = pd.DataFrame(binding_sites.loc[pid].Residue_Single)\n",
    "    tmpdf['Residue_Mask'] = [seq[i] for i in range(len(seq)) if mask[i]]\n",
    "    return tmpdf"
   ]
  },
  {
   "cell_type": "code",
   "execution_count": 10,
   "id": "fe374a82-63e8-4bae-8642-9ab63094a4f5",
   "metadata": {},
   "outputs": [],
   "source": [
    "binding_site_masks = {pid:get_mutation_mask(pid,binding_sites,seqDict) for pid in seqDict.keys() if get_off_by_vect(pid,binding_sites,seqDict) is not None} "
   ]
  },
  {
   "cell_type": "code",
   "execution_count": 11,
   "id": "48edbc19-1c1e-4a87-9434-14e9e6a070bd",
   "metadata": {},
   "outputs": [],
   "source": [
    "def sample_aa():\n",
    "    from random import choice\n",
    "    aa_set = list(IUPACData.protein_letters_3to1.values())\n",
    "    return choice(aa_set)\n",
    "    \n",
    "def mutate_aa_seq(seq, mask):\n",
    "    new_aa = []\n",
    "    for i, r in enumerate(seq):\n",
    "        if mask[i]:\n",
    "            new_aa.append(sample_aa())\n",
    "        else:\n",
    "            new_aa.append(r)\n",
    "    return ''.join(new_aa)"
   ]
  },
  {
   "cell_type": "code",
   "execution_count": 12,
   "id": "67dc3bf2-53f0-4c8f-b830-d1b44873c640",
   "metadata": {},
   "outputs": [
    {
     "data": {
      "text/plain": [
       "array([0, 0, 0, 0, 0, 0, 0, 0, 0, 0, 0, 0, 0, 0, 0, 0, 0, 0, 0, 0, 0, 0,\n",
       "       1, 0, 0, 0, 0, 0, 0, 0, 1, 0, 0, 0, 0, 0, 0, 0, 0, 0, 0, 0, 0, 0,\n",
       "       0, 0, 0, 0, 0, 0, 0, 0, 0, 0, 0, 0, 0, 0, 0, 0, 0, 0, 0, 0, 0, 0,\n",
       "       0, 0, 0, 0, 0, 0, 0, 0, 0, 0, 0, 0, 0, 0, 0, 0, 0, 0, 0, 0, 0, 0,\n",
       "       0, 0, 0, 0, 0, 0, 0, 0, 0, 0, 0, 0, 0, 0, 0, 0, 0, 0, 0, 0, 0, 0,\n",
       "       0, 0, 0, 0, 0, 0, 0, 0, 0, 0, 0, 0, 0, 0, 0, 0, 0, 0, 0, 0, 0, 0,\n",
       "       0, 0, 0, 0, 0, 0, 0, 0, 0, 0, 0, 0, 0, 0, 0, 0, 0, 0, 0, 0, 0, 0,\n",
       "       0, 0, 0, 0, 0, 0, 0, 0, 0, 0, 0, 0, 0, 0, 0, 0, 0, 0, 0, 0, 0, 0,\n",
       "       0, 0, 0, 0, 0, 0, 0, 0, 0, 0, 0])"
      ]
     },
     "execution_count": 12,
     "metadata": {},
     "output_type": "execute_result"
    }
   ],
   "source": [
    "binding_site_masks[pid]"
   ]
  },
  {
   "cell_type": "code",
   "execution_count": 13,
   "id": "eab3aa1a-6456-4012-b676-1ef74575a630",
   "metadata": {},
   "outputs": [
    {
     "data": {
      "text/plain": [
       "'MDFSRNLYDIGEQLDSEDLASLKFLSLDYIPQRKQEPIKDALMLFQRLQEKRMLEESNLSFLKELLFRINRLDLLITYLNTRKEEMERELQTPGRAQISAYRVMLYQISEEVSRSELRSFKFLLQEEISKCKLDDDMNLLDIFIEMEKRVILGEGKLDILKRVCAQINKSLLKIINDYEEFSKERSSSLEGSPDEFSNGEELCGVMTISDSPREQDSESQTLDKVYQMKSKPRGYCLIINNHNFAKAREKVPKLHSIRDUNGTHLDAGALTTTFEELHFEIKPHDDCTVEQIYEILKIYQLMDHSNMDCFICCILSYGDKGIIYGTDGQEAPIYELTSQFTGLKCPSLAVKPKVFFIQASQGDNYQKGIPVETDSEEQPYLEMDLSSPQTRYIPDEADFLLGMATVNNCVSYRNPAEGTWYIQSLCQSLRERCPRGDDILTILTEVNYEVSNKDDKKNMGKQMPQPTFTLRKKLVFPSD'"
      ]
     },
     "execution_count": 13,
     "metadata": {},
     "output_type": "execute_result"
    }
   ],
   "source": [
    "pid = 'Q14790'\n",
    "mutate_aa_seq(seqDict[pid], binding_site_masks[pid])"
   ]
  },
  {
   "cell_type": "code",
   "execution_count": 14,
   "id": "3e6d5ac4-3bdc-4091-9f0f-8f7673435e3e",
   "metadata": {
    "scrolled": true,
    "tags": []
   },
   "outputs": [
    {
     "name": "stderr",
     "output_type": "stream",
     "text": [
      "/afs/csail.mit.edu/u/s/samsl/.local/lib/python3.7/site-packages/sklearn/linear_model/least_angle.py:30: DeprecationWarning: `np.float` is a deprecated alias for the builtin `float`. To silence this warning, use `float` by itself. Doing this will not modify any behavior and is safe. If you specifically wanted the numpy scalar type, use `np.float64` here.\n",
      "Deprecated in NumPy 1.20; for more details and guidance: https://numpy.org/devdocs/release/1.20.0-notes.html#deprecations\n",
      "  method='lar', copy_X=True, eps=np.finfo(np.float).eps,\n",
      "/afs/csail.mit.edu/u/s/samsl/.local/lib/python3.7/site-packages/sklearn/linear_model/least_angle.py:167: DeprecationWarning: `np.float` is a deprecated alias for the builtin `float`. To silence this warning, use `float` by itself. Doing this will not modify any behavior and is safe. If you specifically wanted the numpy scalar type, use `np.float64` here.\n",
      "Deprecated in NumPy 1.20; for more details and guidance: https://numpy.org/devdocs/release/1.20.0-notes.html#deprecations\n",
      "  method='lar', copy_X=True, eps=np.finfo(np.float).eps,\n",
      "/afs/csail.mit.edu/u/s/samsl/.local/lib/python3.7/site-packages/sklearn/linear_model/least_angle.py:284: DeprecationWarning: `np.float` is a deprecated alias for the builtin `float`. To silence this warning, use `float` by itself. Doing this will not modify any behavior and is safe. If you specifically wanted the numpy scalar type, use `np.float64` here.\n",
      "Deprecated in NumPy 1.20; for more details and guidance: https://numpy.org/devdocs/release/1.20.0-notes.html#deprecations\n",
      "  eps=np.finfo(np.float).eps, copy_Gram=True, verbose=0,\n",
      "/afs/csail.mit.edu/u/s/samsl/.local/lib/python3.7/site-packages/sklearn/linear_model/least_angle.py:862: DeprecationWarning: `np.float` is a deprecated alias for the builtin `float`. To silence this warning, use `float` by itself. Doing this will not modify any behavior and is safe. If you specifically wanted the numpy scalar type, use `np.float64` here.\n",
      "Deprecated in NumPy 1.20; for more details and guidance: https://numpy.org/devdocs/release/1.20.0-notes.html#deprecations\n",
      "  eps=np.finfo(np.float).eps, copy_X=True, fit_path=True,\n",
      "/afs/csail.mit.edu/u/s/samsl/.local/lib/python3.7/site-packages/sklearn/linear_model/least_angle.py:1101: DeprecationWarning: `np.float` is a deprecated alias for the builtin `float`. To silence this warning, use `float` by itself. Doing this will not modify any behavior and is safe. If you specifically wanted the numpy scalar type, use `np.float64` here.\n",
      "Deprecated in NumPy 1.20; for more details and guidance: https://numpy.org/devdocs/release/1.20.0-notes.html#deprecations\n",
      "  eps=np.finfo(np.float).eps, copy_X=True, fit_path=True,\n",
      "/afs/csail.mit.edu/u/s/samsl/.local/lib/python3.7/site-packages/sklearn/linear_model/least_angle.py:1127: DeprecationWarning: `np.float` is a deprecated alias for the builtin `float`. To silence this warning, use `float` by itself. Doing this will not modify any behavior and is safe. If you specifically wanted the numpy scalar type, use `np.float64` here.\n",
      "Deprecated in NumPy 1.20; for more details and guidance: https://numpy.org/devdocs/release/1.20.0-notes.html#deprecations\n",
      "  eps=np.finfo(np.float).eps, positive=False):\n",
      "/afs/csail.mit.edu/u/s/samsl/.local/lib/python3.7/site-packages/sklearn/linear_model/least_angle.py:1362: DeprecationWarning: `np.float` is a deprecated alias for the builtin `float`. To silence this warning, use `float` by itself. Doing this will not modify any behavior and is safe. If you specifically wanted the numpy scalar type, use `np.float64` here.\n",
      "Deprecated in NumPy 1.20; for more details and guidance: https://numpy.org/devdocs/release/1.20.0-notes.html#deprecations\n",
      "  max_n_alphas=1000, n_jobs=None, eps=np.finfo(np.float).eps,\n",
      "/afs/csail.mit.edu/u/s/samsl/.local/lib/python3.7/site-packages/sklearn/linear_model/least_angle.py:1602: DeprecationWarning: `np.float` is a deprecated alias for the builtin `float`. To silence this warning, use `float` by itself. Doing this will not modify any behavior and is safe. If you specifically wanted the numpy scalar type, use `np.float64` here.\n",
      "Deprecated in NumPy 1.20; for more details and guidance: https://numpy.org/devdocs/release/1.20.0-notes.html#deprecations\n",
      "  max_n_alphas=1000, n_jobs=None, eps=np.finfo(np.float).eps,\n",
      "/afs/csail.mit.edu/u/s/samsl/.local/lib/python3.7/site-packages/sklearn/linear_model/least_angle.py:1738: DeprecationWarning: `np.float` is a deprecated alias for the builtin `float`. To silence this warning, use `float` by itself. Doing this will not modify any behavior and is safe. If you specifically wanted the numpy scalar type, use `np.float64` here.\n",
      "Deprecated in NumPy 1.20; for more details and guidance: https://numpy.org/devdocs/release/1.20.0-notes.html#deprecations\n",
      "  eps=np.finfo(np.float).eps, copy_X=True, positive=False):\n"
     ]
    }
   ],
   "source": [
    "# Load model\n",
    "from architectures import SimplePLMModel, SimpleCosine\n",
    "from mol_feats import Morgan_f\n",
    "from prot_feats import ProtBert_f\n",
    "mol_f = Morgan_f()\n",
    "prot_f = ProtBert_f()\n",
    "# model = torch.load(\"../best_models/dti_dg_morganM_protbertP_bm_best_model.sav\").cuda()\n",
    "model = torch.load(\"../best_models/bindingdb_morgan_protbert_best_model.sav\").cuda()"
   ]
  },
  {
   "cell_type": "code",
   "execution_count": 15,
   "id": "61a9da3d-568c-4726-8639-0e9f18ddac17",
   "metadata": {},
   "outputs": [],
   "source": [
    "links = pd.read_csv(f'{BASE_DIR}/nbdata/dti_dg_group/bindingdb_patent/train_val.csv')"
   ]
  },
  {
   "cell_type": "code",
   "execution_count": 16,
   "id": "035097ed-81d4-41ec-a2f2-b706ad466e2b",
   "metadata": {
    "scrolled": true,
    "tags": []
   },
   "outputs": [
    {
     "data": {
      "application/vnd.jupyter.widget-view+json": {
       "model_id": "728be42fa4764b9eaf5c71f4e5d2882f",
       "version_major": 2,
       "version_minor": 0
      },
      "text/plain": [
       "  0%|          | 0/55 [00:00<?, ?it/s]"
      ]
     },
     "metadata": {},
     "output_type": "display_data"
    },
    {
     "name": "stderr",
     "output_type": "stream",
     "text": [
      "[09:09:43] Explicit valence for atom # 20 N, 4, is greater than permitted\n"
     ]
    },
    {
     "name": "stdout",
     "output_type": "stream",
     "text": [
      "rdkit not found this smiles for morgan: None convert to all 0 features\n",
      "rdkit not found this smiles for morgan: None convert to all 0 features\n",
      "rdkit not found this smiles for morgan: None convert to all 0 features\n",
      "rdkit not found this smiles for morgan: None convert to all 0 features\n",
      "rdkit not found this smiles for morgan: None convert to all 0 features\n",
      "rdkit not found this smiles for morgan: None convert to all 0 features\n",
      "rdkit not found this smiles for morgan: None convert to all 0 features\n",
      "rdkit not found this smiles for morgan: None convert to all 0 features\n"
     ]
    },
    {
     "name": "stderr",
     "output_type": "stream",
     "text": [
      "[09:09:43] Explicit valence for atom # 20 N, 4, is greater than permitted\n",
      "[09:09:43] Explicit valence for atom # 4 N, 4, is greater than permitted\n",
      "[09:09:43] Explicit valence for atom # 10 N, 4, is greater than permitted\n",
      "[09:09:43] Explicit valence for atom # 10 N, 4, is greater than permitted\n",
      "[09:09:43] Explicit valence for atom # 17 N, 4, is greater than permitted\n",
      "[09:09:43] Explicit valence for atom # 20 N, 4, is greater than permitted\n",
      "[09:09:43] Explicit valence for atom # 4 N, 4, is greater than permitted\n"
     ]
    },
    {
     "data": {
      "application/vnd.jupyter.widget-view+json": {
       "model_id": "ae52285fcc6444749d07c9b6f596cdcd",
       "version_major": 2,
       "version_minor": 0
      },
      "text/plain": [
       "  0%|          | 0/50 [00:00<?, ?it/s]"
      ]
     },
     "metadata": {},
     "output_type": "display_data"
    },
    {
     "data": {
      "application/vnd.jupyter.widget-view+json": {
       "model_id": "006017d863ad4179a7644e1d0ffc0721",
       "version_major": 2,
       "version_minor": 0
      },
      "text/plain": [
       "  0%|          | 0/469 [00:00<?, ?it/s]"
      ]
     },
     "metadata": {},
     "output_type": "display_data"
    },
    {
     "data": {
      "application/vnd.jupyter.widget-view+json": {
       "model_id": "e6d8bfe1726343e2b5ea1ff6b3fc96d1",
       "version_major": 2,
       "version_minor": 0
      },
      "text/plain": [
       "  0%|          | 0/50 [00:00<?, ?it/s]"
      ]
     },
     "metadata": {},
     "output_type": "display_data"
    },
    {
     "data": {
      "application/vnd.jupyter.widget-view+json": {
       "model_id": "fa995e7eb541413e8cb11101cd99b8b1",
       "version_major": 2,
       "version_minor": 0
      },
      "text/plain": [
       "  0%|          | 0/48 [00:00<?, ?it/s]"
      ]
     },
     "metadata": {},
     "output_type": "display_data"
    },
    {
     "data": {
      "application/vnd.jupyter.widget-view+json": {
       "model_id": "8664d3f41713458b81beb080f8510648",
       "version_major": 2,
       "version_minor": 0
      },
      "text/plain": [
       "  0%|          | 0/50 [00:00<?, ?it/s]"
      ]
     },
     "metadata": {},
     "output_type": "display_data"
    },
    {
     "data": {
      "application/vnd.jupyter.widget-view+json": {
       "model_id": "9d57b7485a0e42afa926eadca0eebf30",
       "version_major": 2,
       "version_minor": 0
      },
      "text/plain": [
       "  0%|          | 0/25 [00:00<?, ?it/s]"
      ]
     },
     "metadata": {},
     "output_type": "display_data"
    },
    {
     "data": {
      "application/vnd.jupyter.widget-view+json": {
       "model_id": "6a38425818d844ae8e483711bfad8ae4",
       "version_major": 2,
       "version_minor": 0
      },
      "text/plain": [
       "  0%|          | 0/50 [00:00<?, ?it/s]"
      ]
     },
     "metadata": {},
     "output_type": "display_data"
    },
    {
     "data": {
      "application/vnd.jupyter.widget-view+json": {
       "model_id": "367b3632196b40ed899503c9bdc78ad2",
       "version_major": 2,
       "version_minor": 0
      },
      "text/plain": [
       "  0%|          | 0/55 [00:00<?, ?it/s]"
      ]
     },
     "metadata": {},
     "output_type": "display_data"
    },
    {
     "data": {
      "application/vnd.jupyter.widget-view+json": {
       "model_id": "7c761c2e9a5c43a08e48c773fb508e9a",
       "version_major": 2,
       "version_minor": 0
      },
      "text/plain": [
       "  0%|          | 0/50 [00:00<?, ?it/s]"
      ]
     },
     "metadata": {},
     "output_type": "display_data"
    },
    {
     "data": {
      "application/vnd.jupyter.widget-view+json": {
       "model_id": "a82ea74e4ac34099aafaa4b1d5b8875c",
       "version_major": 2,
       "version_minor": 0
      },
      "text/plain": [
       "  0%|          | 0/29 [00:00<?, ?it/s]"
      ]
     },
     "metadata": {},
     "output_type": "display_data"
    },
    {
     "data": {
      "application/vnd.jupyter.widget-view+json": {
       "model_id": "a03f5dd2fa7c4f83b08d29f76c9218d3",
       "version_major": 2,
       "version_minor": 0
      },
      "text/plain": [
       "  0%|          | 0/50 [00:00<?, ?it/s]"
      ]
     },
     "metadata": {},
     "output_type": "display_data"
    },
    {
     "data": {
      "application/vnd.jupyter.widget-view+json": {
       "model_id": "d85ca7465baf42a2afa20b1c6b4d9562",
       "version_major": 2,
       "version_minor": 0
      },
      "text/plain": [
       "  0%|          | 0/32 [00:00<?, ?it/s]"
      ]
     },
     "metadata": {},
     "output_type": "display_data"
    },
    {
     "data": {
      "application/vnd.jupyter.widget-view+json": {
       "model_id": "bf4626e570b64524811c5b7671edefe9",
       "version_major": 2,
       "version_minor": 0
      },
      "text/plain": [
       "  0%|          | 0/50 [00:00<?, ?it/s]"
      ]
     },
     "metadata": {},
     "output_type": "display_data"
    },
    {
     "data": {
      "application/vnd.jupyter.widget-view+json": {
       "model_id": "9b936708c148490e90d08d8e6ce40b06",
       "version_major": 2,
       "version_minor": 0
      },
      "text/plain": [
       "  0%|          | 0/7 [00:00<?, ?it/s]"
      ]
     },
     "metadata": {},
     "output_type": "display_data"
    },
    {
     "data": {
      "application/vnd.jupyter.widget-view+json": {
       "model_id": "acdb8fea404145009875c009ebed9c1c",
       "version_major": 2,
       "version_minor": 0
      },
      "text/plain": [
       "  0%|          | 0/50 [00:00<?, ?it/s]"
      ]
     },
     "metadata": {},
     "output_type": "display_data"
    },
    {
     "data": {
      "application/vnd.jupyter.widget-view+json": {
       "model_id": "6bf04ec38c41491dace6575429f37d30",
       "version_major": 2,
       "version_minor": 0
      },
      "text/plain": [
       "  0%|          | 0/358 [00:00<?, ?it/s]"
      ]
     },
     "metadata": {},
     "output_type": "display_data"
    },
    {
     "name": "stderr",
     "output_type": "stream",
     "text": [
      "[09:13:59] Explicit valence for atom # 4 N, 4, is greater than permitted\n",
      "[09:13:59] Explicit valence for atom # 19 N, 4, is greater than permitted\n",
      "[09:13:59] Explicit valence for atom # 19 N, 4, is greater than permitted\n"
     ]
    },
    {
     "name": "stdout",
     "output_type": "stream",
     "text": [
      "rdkit not found this smiles for morgan: None convert to all 0 features\n",
      "rdkit not found this smiles for morgan: None convert to all 0 features\n",
      "rdkit not found this smiles for morgan: None convert to all 0 features\n"
     ]
    },
    {
     "data": {
      "application/vnd.jupyter.widget-view+json": {
       "model_id": "4d10594b258143fbae507ebcd672224f",
       "version_major": 2,
       "version_minor": 0
      },
      "text/plain": [
       "  0%|          | 0/50 [00:00<?, ?it/s]"
      ]
     },
     "metadata": {},
     "output_type": "display_data"
    },
    {
     "data": {
      "application/vnd.jupyter.widget-view+json": {
       "model_id": "68773735dac9448ca4275767d8838e8c",
       "version_major": 2,
       "version_minor": 0
      },
      "text/plain": [
       "0it [00:00, ?it/s]"
      ]
     },
     "metadata": {},
     "output_type": "display_data"
    },
    {
     "data": {
      "application/vnd.jupyter.widget-view+json": {
       "model_id": "96df2b411e6847cf9008b978f67ba866",
       "version_major": 2,
       "version_minor": 0
      },
      "text/plain": [
       "  0%|          | 0/50 [00:00<?, ?it/s]"
      ]
     },
     "metadata": {},
     "output_type": "display_data"
    },
    {
     "data": {
      "application/vnd.jupyter.widget-view+json": {
       "model_id": "8dd87dd590304904a0c16e6b4dcbbe79",
       "version_major": 2,
       "version_minor": 0
      },
      "text/plain": [
       "  0%|          | 0/4 [00:00<?, ?it/s]"
      ]
     },
     "metadata": {},
     "output_type": "display_data"
    },
    {
     "data": {
      "application/vnd.jupyter.widget-view+json": {
       "model_id": "eb63c6e6255543e3a38b6a5f69525fcd",
       "version_major": 2,
       "version_minor": 0
      },
      "text/plain": [
       "  0%|          | 0/50 [00:00<?, ?it/s]"
      ]
     },
     "metadata": {},
     "output_type": "display_data"
    },
    {
     "data": {
      "application/vnd.jupyter.widget-view+json": {
       "model_id": "6d167a7018834af08de3a0574cda8c6f",
       "version_major": 2,
       "version_minor": 0
      },
      "text/plain": [
       "  0%|          | 0/464 [00:00<?, ?it/s]"
      ]
     },
     "metadata": {},
     "output_type": "display_data"
    },
    {
     "data": {
      "application/vnd.jupyter.widget-view+json": {
       "model_id": "2e30b00cad764ae9924dcce66f4e4c7e",
       "version_major": 2,
       "version_minor": 0
      },
      "text/plain": [
       "  0%|          | 0/50 [00:00<?, ?it/s]"
      ]
     },
     "metadata": {},
     "output_type": "display_data"
    },
    {
     "data": {
      "application/vnd.jupyter.widget-view+json": {
       "model_id": "a9fe0d2f2cd64775b970bc3af01d5574",
       "version_major": 2,
       "version_minor": 0
      },
      "text/plain": [
       "  0%|          | 0/13 [00:00<?, ?it/s]"
      ]
     },
     "metadata": {},
     "output_type": "display_data"
    },
    {
     "data": {
      "application/vnd.jupyter.widget-view+json": {
       "model_id": "980e688af3d4405ebbb98ea0b0777a3b",
       "version_major": 2,
       "version_minor": 0
      },
      "text/plain": [
       "  0%|          | 0/50 [00:00<?, ?it/s]"
      ]
     },
     "metadata": {},
     "output_type": "display_data"
    },
    {
     "data": {
      "application/vnd.jupyter.widget-view+json": {
       "model_id": "b4f00404568d4b3bb82d735694e3de0f",
       "version_major": 2,
       "version_minor": 0
      },
      "text/plain": [
       "  0%|          | 0/5 [00:00<?, ?it/s]"
      ]
     },
     "metadata": {},
     "output_type": "display_data"
    },
    {
     "data": {
      "application/vnd.jupyter.widget-view+json": {
       "model_id": "e732262c17c84cc89cd8fa2c798b1ecc",
       "version_major": 2,
       "version_minor": 0
      },
      "text/plain": [
       "  0%|          | 0/50 [00:00<?, ?it/s]"
      ]
     },
     "metadata": {},
     "output_type": "display_data"
    },
    {
     "data": {
      "application/vnd.jupyter.widget-view+json": {
       "model_id": "f85b3f70384f445184b561f6ef35dcb4",
       "version_major": 2,
       "version_minor": 0
      },
      "text/plain": [
       "  0%|          | 0/24 [00:00<?, ?it/s]"
      ]
     },
     "metadata": {},
     "output_type": "display_data"
    },
    {
     "data": {
      "application/vnd.jupyter.widget-view+json": {
       "model_id": "36f327c87fe9477c995f97604683b52b",
       "version_major": 2,
       "version_minor": 0
      },
      "text/plain": [
       "  0%|          | 0/50 [00:00<?, ?it/s]"
      ]
     },
     "metadata": {},
     "output_type": "display_data"
    },
    {
     "data": {
      "application/vnd.jupyter.widget-view+json": {
       "model_id": "18e4ded3a9bc4feebf477c181c5cd980",
       "version_major": 2,
       "version_minor": 0
      },
      "text/plain": [
       "  0%|          | 0/204 [00:00<?, ?it/s]"
      ]
     },
     "metadata": {},
     "output_type": "display_data"
    },
    {
     "name": "stdout",
     "output_type": "stream",
     "text": [
      "rdkit not found this smiles for morgan: None convert to all 0 features\n"
     ]
    },
    {
     "name": "stderr",
     "output_type": "stream",
     "text": [
      "[09:17:20] Can't kekulize mol.  Unkekulized atoms: 3 4 5 7 8 10 12\n"
     ]
    },
    {
     "data": {
      "application/vnd.jupyter.widget-view+json": {
       "model_id": "1144f9641f0c4547a858cd51f99b9556",
       "version_major": 2,
       "version_minor": 0
      },
      "text/plain": [
       "  0%|          | 0/50 [00:00<?, ?it/s]"
      ]
     },
     "metadata": {},
     "output_type": "display_data"
    },
    {
     "data": {
      "application/vnd.jupyter.widget-view+json": {
       "model_id": "f6aec4e70bb64fafb651c45faf0b2a48",
       "version_major": 2,
       "version_minor": 0
      },
      "text/plain": [
       "  0%|          | 0/7 [00:00<?, ?it/s]"
      ]
     },
     "metadata": {},
     "output_type": "display_data"
    },
    {
     "data": {
      "application/vnd.jupyter.widget-view+json": {
       "model_id": "44857aa69714463485eeb66f792bcfb5",
       "version_major": 2,
       "version_minor": 0
      },
      "text/plain": [
       "  0%|          | 0/50 [00:00<?, ?it/s]"
      ]
     },
     "metadata": {},
     "output_type": "display_data"
    },
    {
     "data": {
      "application/vnd.jupyter.widget-view+json": {
       "model_id": "b969b17ae0d043fe932b164df671b936",
       "version_major": 2,
       "version_minor": 0
      },
      "text/plain": [
       "  0%|          | 0/78 [00:00<?, ?it/s]"
      ]
     },
     "metadata": {},
     "output_type": "display_data"
    },
    {
     "data": {
      "application/vnd.jupyter.widget-view+json": {
       "model_id": "427d15c2935b4b70a7d4b7dd6bb8e841",
       "version_major": 2,
       "version_minor": 0
      },
      "text/plain": [
       "  0%|          | 0/50 [00:00<?, ?it/s]"
      ]
     },
     "metadata": {},
     "output_type": "display_data"
    },
    {
     "data": {
      "application/vnd.jupyter.widget-view+json": {
       "model_id": "b8f7a62383c34641a028c957d01bac76",
       "version_major": 2,
       "version_minor": 0
      },
      "text/plain": [
       "  0%|          | 0/3 [00:00<?, ?it/s]"
      ]
     },
     "metadata": {},
     "output_type": "display_data"
    },
    {
     "data": {
      "application/vnd.jupyter.widget-view+json": {
       "model_id": "12f78f2236ad43b3a5ce7fe1d9de777a",
       "version_major": 2,
       "version_minor": 0
      },
      "text/plain": [
       "  0%|          | 0/50 [00:00<?, ?it/s]"
      ]
     },
     "metadata": {},
     "output_type": "display_data"
    },
    {
     "data": {
      "application/vnd.jupyter.widget-view+json": {
       "model_id": "3f922132c0184c34bc07dba70ba18051",
       "version_major": 2,
       "version_minor": 0
      },
      "text/plain": [
       "  0%|          | 0/26 [00:00<?, ?it/s]"
      ]
     },
     "metadata": {},
     "output_type": "display_data"
    },
    {
     "data": {
      "application/vnd.jupyter.widget-view+json": {
       "model_id": "7e9b866d5f2e43ea9905377fcaf779ee",
       "version_major": 2,
       "version_minor": 0
      },
      "text/plain": [
       "  0%|          | 0/50 [00:00<?, ?it/s]"
      ]
     },
     "metadata": {},
     "output_type": "display_data"
    }
   ],
   "source": [
    "bait_projections = {}\n",
    "mutated_projections = {}\n",
    "true_projections = {}\n",
    "\n",
    "for pid in binding_site_masks.keys():\n",
    "    pid_links = links[links.Target_ID == pid]\n",
    "    bait_pl = []\n",
    "    mutated_pl = []\n",
    "    \n",
    "    with torch.set_grad_enabled(False):\n",
    "        for m in tqdm(pid_links.Drug):\n",
    "            m_emb = mol_f(m).cuda()\n",
    "            m_proj = model.mol_projector(m_emb).detach().cpu().numpy()\n",
    "            bait_pl.append(m_proj)\n",
    "        for _ in tqdm(range(50)):\n",
    "            mut_seq = mutate_aa_seq(seqDict[pid], binding_site_masks[pid])\n",
    "            p_proj = model.prot_projector(prot_f(mut_seq).cuda()).cpu().numpy()\n",
    "            mutated_pl.append(p_proj)\n",
    "        true_proj = model.prot_projector(prot_f(str(seqDict[pid].seq)).cuda()).cpu().numpy()\n",
    "        \n",
    "    bait_projections[pid] = bait_pl\n",
    "    mutated_projections[pid] = mutated_pl\n",
    "    true_projections[pid] = true_proj"
   ]
  },
  {
   "cell_type": "code",
   "execution_count": 27,
   "id": "d8ea28f3-8f6e-423e-b015-36775dd6d365",
   "metadata": {},
   "outputs": [],
   "source": [
    "pid_list = list(binding_site_masks.keys())"
   ]
  },
  {
   "cell_type": "code",
   "execution_count": 58,
   "id": "50e039fd-72f9-43cf-9276-1be48943b269",
   "metadata": {},
   "outputs": [],
   "source": [
    "pid = pid_list[19]"
   ]
  },
  {
   "cell_type": "code",
   "execution_count": 59,
   "id": "31881ebf-81aa-4c6b-86c5-373e2400a57b",
   "metadata": {
    "scrolled": true,
    "tags": []
   },
   "outputs": [
    {
     "name": "stderr",
     "output_type": "stream",
     "text": [
      "/afs/csail.mit.edu/u/s/samsl/.local/lib/python3.7/site-packages/sklearn/manifold/t_sne.py:344: DeprecationWarning: `np.float` is a deprecated alias for the builtin `float`. To silence this warning, use `float` by itself. Doing this will not modify any behavior and is safe. If you specifically wanted the numpy scalar type, use `np.float64` here.\n",
      "Deprecated in NumPy 1.20; for more details and guidance: https://numpy.org/devdocs/release/1.20.0-notes.html#deprecations\n",
      "  error = np.finfo(np.float).max\n",
      "/afs/csail.mit.edu/u/s/samsl/.local/lib/python3.7/site-packages/sklearn/manifold/t_sne.py:345: DeprecationWarning: `np.float` is a deprecated alias for the builtin `float`. To silence this warning, use `float` by itself. Doing this will not modify any behavior and is safe. If you specifically wanted the numpy scalar type, use `np.float64` here.\n",
      "Deprecated in NumPy 1.20; for more details and guidance: https://numpy.org/devdocs/release/1.20.0-notes.html#deprecations\n",
      "  best_error = np.finfo(np.float).max\n",
      "/afs/csail.mit.edu/u/s/samsl/.local/lib/python3.7/site-packages/sklearn/manifold/t_sne.py:344: DeprecationWarning: `np.float` is a deprecated alias for the builtin `float`. To silence this warning, use `float` by itself. Doing this will not modify any behavior and is safe. If you specifically wanted the numpy scalar type, use `np.float64` here.\n",
      "Deprecated in NumPy 1.20; for more details and guidance: https://numpy.org/devdocs/release/1.20.0-notes.html#deprecations\n",
      "  error = np.finfo(np.float).max\n",
      "/afs/csail.mit.edu/u/s/samsl/.local/lib/python3.7/site-packages/sklearn/manifold/t_sne.py:345: DeprecationWarning: `np.float` is a deprecated alias for the builtin `float`. To silence this warning, use `float` by itself. Doing this will not modify any behavior and is safe. If you specifically wanted the numpy scalar type, use `np.float64` here.\n",
      "Deprecated in NumPy 1.20; for more details and guidance: https://numpy.org/devdocs/release/1.20.0-notes.html#deprecations\n",
      "  best_error = np.finfo(np.float).max\n"
     ]
    }
   ],
   "source": [
    "from sklearn.manifold import TSNE\n",
    "\n",
    "bp_pid = bait_projections[pid]\n",
    "mp_pid = mutated_projections[pid]\n",
    "tp_pid = true_projections[pid]\n",
    "\n",
    "all_projections = np.concatenate([bp_pid,mp_pid,[tp_pid]],axis=0)\n",
    "project_tsne = TSNE(metric=\"cosine\").fit_transform(all_projections)"
   ]
  },
  {
   "cell_type": "code",
   "execution_count": 60,
   "id": "77e0aef1-850f-4a11-92f9-5ea16748cad2",
   "metadata": {
    "tags": []
   },
   "outputs": [
    {
     "data": {
      "image/png": "[encoded data removed]",
      "text/plain": [
       "<Figure size 400x400 with 1 Axes>"
      ]
     },
     "metadata": {
      "needs_background": "light"
     },
     "output_type": "display_data"
    }
   ],
   "source": [
    "hue = ['Bait']*len(bp_pid)+['Mutations']*len(mp_pid)+['True']\n",
    "size = [25]*len(bp_pid)+[5]*len(mp_pid)+[25]\n",
    "plt.figure(figsize=(5, 5), dpi=80)\n",
    "sns.scatterplot(x=project_tsne[:,0],\n",
    "                y=project_tsne[:,1],\n",
    "                hue=hue,\n",
    "                s=size\n",
    "               )\n",
    "plt.xlabel('TSNE1')\n",
    "plt.ylabel('TSNE2')\n",
    "plt.title(pid)\n",
    "sns.despine()\n",
    "plt.show()"
   ]
  },
  {
   "cell_type": "code",
   "execution_count": 61,
   "id": "6122d9f0-61e1-4efe-b258-a55e878f8288",
   "metadata": {},
   "outputs": [
    {
     "data": {
      "application/vnd.jupyter.widget-view+json": {
       "model_id": "d55292aa14e24503af9e4e7ec7993806",
       "version_major": 2,
       "version_minor": 0
      },
      "text/plain": [
       "  0%|          | 0/26 [00:00<?, ?it/s]"
      ]
     },
     "metadata": {},
     "output_type": "display_data"
    },
    {
     "data": {
      "application/vnd.jupyter.widget-view+json": {
       "model_id": "81b3c55952d244e888dceb9aceff04a4",
       "version_major": 2,
       "version_minor": 0
      },
      "text/plain": [
       "  0%|          | 0/50 [00:00<?, ?it/s]"
      ]
     },
     "metadata": {},
     "output_type": "display_data"
    },
    {
     "data": {
      "application/vnd.jupyter.widget-view+json": {
       "model_id": "8958f99db22549af890b751ad9abb22e",
       "version_major": 2,
       "version_minor": 0
      },
      "text/plain": [
       "  0%|          | 0/50 [00:00<?, ?it/s]"
      ]
     },
     "metadata": {},
     "output_type": "display_data"
    },
    {
     "data": {
      "application/vnd.jupyter.widget-view+json": {
       "model_id": "c4650978e12040218d675489a98a02b9",
       "version_major": 2,
       "version_minor": 0
      },
      "text/plain": [
       "  0%|          | 0/50 [00:00<?, ?it/s]"
      ]
     },
     "metadata": {},
     "output_type": "display_data"
    },
    {
     "data": {
      "application/vnd.jupyter.widget-view+json": {
       "model_id": "c052f346f76243ed915e9b25f0ff4c1e",
       "version_major": 2,
       "version_minor": 0
      },
      "text/plain": [
       "  0%|          | 0/50 [00:00<?, ?it/s]"
      ]
     },
     "metadata": {},
     "output_type": "display_data"
    },
    {
     "data": {
      "application/vnd.jupyter.widget-view+json": {
       "model_id": "64970db004a844f19694c96d45ac92d1",
       "version_major": 2,
       "version_minor": 0
      },
      "text/plain": [
       "  0%|          | 0/50 [00:00<?, ?it/s]"
      ]
     },
     "metadata": {},
     "output_type": "display_data"
    },
    {
     "data": {
      "application/vnd.jupyter.widget-view+json": {
       "model_id": "6d01c9321e4d4e88bf29c9924b3b098b",
       "version_major": 2,
       "version_minor": 0
      },
      "text/plain": [
       "  0%|          | 0/50 [00:00<?, ?it/s]"
      ]
     },
     "metadata": {},
     "output_type": "display_data"
    },
    {
     "data": {
      "application/vnd.jupyter.widget-view+json": {
       "model_id": "bd2ca42f5607482fbd9febafafa3c95b",
       "version_major": 2,
       "version_minor": 0
      },
      "text/plain": [
       "  0%|          | 0/50 [00:00<?, ?it/s]"
      ]
     },
     "metadata": {},
     "output_type": "display_data"
    },
    {
     "data": {
      "application/vnd.jupyter.widget-view+json": {
       "model_id": "43f3d02e732447c18ea33ead162edf1e",
       "version_major": 2,
       "version_minor": 0
      },
      "text/plain": [
       "  0%|          | 0/50 [00:00<?, ?it/s]"
      ]
     },
     "metadata": {},
     "output_type": "display_data"
    },
    {
     "data": {
      "application/vnd.jupyter.widget-view+json": {
       "model_id": "ac8869fbe15c416fba6212904464a976",
       "version_major": 2,
       "version_minor": 0
      },
      "text/plain": [
       "  0%|          | 0/50 [00:00<?, ?it/s]"
      ]
     },
     "metadata": {},
     "output_type": "display_data"
    },
    {
     "data": {
      "application/vnd.jupyter.widget-view+json": {
       "model_id": "e0ff426dc63e4d0696c6b7dc66b28b60",
       "version_major": 2,
       "version_minor": 0
      },
      "text/plain": [
       "  0%|          | 0/50 [00:00<?, ?it/s]"
      ]
     },
     "metadata": {},
     "output_type": "display_data"
    },
    {
     "data": {
      "application/vnd.jupyter.widget-view+json": {
       "model_id": "ee45e4b33bdf446992881d070ed9cf4e",
       "version_major": 2,
       "version_minor": 0
      },
      "text/plain": [
       "  0%|          | 0/50 [00:00<?, ?it/s]"
      ]
     },
     "metadata": {},
     "output_type": "display_data"
    },
    {
     "data": {
      "application/vnd.jupyter.widget-view+json": {
       "model_id": "ab8a3f4ec26c4ababf8ef64b3952e89f",
       "version_major": 2,
       "version_minor": 0
      },
      "text/plain": [
       "  0%|          | 0/50 [00:00<?, ?it/s]"
      ]
     },
     "metadata": {},
     "output_type": "display_data"
    },
    {
     "data": {
      "application/vnd.jupyter.widget-view+json": {
       "model_id": "10309fa38ba14ae1aba265602555a1d3",
       "version_major": 2,
       "version_minor": 0
      },
      "text/plain": [
       "  0%|          | 0/50 [00:00<?, ?it/s]"
      ]
     },
     "metadata": {},
     "output_type": "display_data"
    },
    {
     "data": {
      "application/vnd.jupyter.widget-view+json": {
       "model_id": "a3eefbff5c23483facfa809e041f762b",
       "version_major": 2,
       "version_minor": 0
      },
      "text/plain": [
       "  0%|          | 0/50 [00:00<?, ?it/s]"
      ]
     },
     "metadata": {},
     "output_type": "display_data"
    },
    {
     "data": {
      "application/vnd.jupyter.widget-view+json": {
       "model_id": "0700c8e53bac431bb34c2736a6f5ad35",
       "version_major": 2,
       "version_minor": 0
      },
      "text/plain": [
       "  0%|          | 0/50 [00:00<?, ?it/s]"
      ]
     },
     "metadata": {},
     "output_type": "display_data"
    },
    {
     "data": {
      "application/vnd.jupyter.widget-view+json": {
       "model_id": "81b864ea71f04c2a936e46efa050abbd",
       "version_major": 2,
       "version_minor": 0
      },
      "text/plain": [
       "  0%|          | 0/50 [00:00<?, ?it/s]"
      ]
     },
     "metadata": {},
     "output_type": "display_data"
    },
    {
     "data": {
      "application/vnd.jupyter.widget-view+json": {
       "model_id": "7599f1a2f9cc4357bcba6453b56a9414",
       "version_major": 2,
       "version_minor": 0
      },
      "text/plain": [
       "  0%|          | 0/50 [00:00<?, ?it/s]"
      ]
     },
     "metadata": {},
     "output_type": "display_data"
    },
    {
     "data": {
      "application/vnd.jupyter.widget-view+json": {
       "model_id": "467dfafdd835428e837477ffb7e4fd54",
       "version_major": 2,
       "version_minor": 0
      },
      "text/plain": [
       "  0%|          | 0/50 [00:00<?, ?it/s]"
      ]
     },
     "metadata": {},
     "output_type": "display_data"
    },
    {
     "data": {
      "application/vnd.jupyter.widget-view+json": {
       "model_id": "4b466ba0ee35488786541c198b2bea24",
       "version_major": 2,
       "version_minor": 0
      },
      "text/plain": [
       "  0%|          | 0/50 [00:00<?, ?it/s]"
      ]
     },
     "metadata": {},
     "output_type": "display_data"
    },
    {
     "data": {
      "application/vnd.jupyter.widget-view+json": {
       "model_id": "2c7a5f98f2474e2d8771c9aa90113432",
       "version_major": 2,
       "version_minor": 0
      },
      "text/plain": [
       "  0%|          | 0/50 [00:00<?, ?it/s]"
      ]
     },
     "metadata": {},
     "output_type": "display_data"
    },
    {
     "data": {
      "application/vnd.jupyter.widget-view+json": {
       "model_id": "ad882921b6b940ba98927bed2fd05c9f",
       "version_major": 2,
       "version_minor": 0
      },
      "text/plain": [
       "  0%|          | 0/50 [00:00<?, ?it/s]"
      ]
     },
     "metadata": {},
     "output_type": "display_data"
    },
    {
     "data": {
      "application/vnd.jupyter.widget-view+json": {
       "model_id": "57b819467f094fe4bf6a243e62f0fd93",
       "version_major": 2,
       "version_minor": 0
      },
      "text/plain": [
       "  0%|          | 0/50 [00:00<?, ?it/s]"
      ]
     },
     "metadata": {},
     "output_type": "display_data"
    },
    {
     "data": {
      "application/vnd.jupyter.widget-view+json": {
       "model_id": "4ebda6cec59b4e17a2cf03a14fc3462a",
       "version_major": 2,
       "version_minor": 0
      },
      "text/plain": [
       "  0%|          | 0/50 [00:00<?, ?it/s]"
      ]
     },
     "metadata": {},
     "output_type": "display_data"
    },
    {
     "data": {
      "application/vnd.jupyter.widget-view+json": {
       "model_id": "78ba920492e14c37a98c5ce26ff604e4",
       "version_major": 2,
       "version_minor": 0
      },
      "text/plain": [
       "  0%|          | 0/50 [00:00<?, ?it/s]"
      ]
     },
     "metadata": {},
     "output_type": "display_data"
    },
    {
     "data": {
      "application/vnd.jupyter.widget-view+json": {
       "model_id": "215226b4bcc540c7a49cc988ef60d55a",
       "version_major": 2,
       "version_minor": 0
      },
      "text/plain": [
       "  0%|          | 0/50 [00:00<?, ?it/s]"
      ]
     },
     "metadata": {},
     "output_type": "display_data"
    },
    {
     "data": {
      "application/vnd.jupyter.widget-view+json": {
       "model_id": "c312631719b249a9ad427bda0e1d2fe3",
       "version_major": 2,
       "version_minor": 0
      },
      "text/plain": [
       "  0%|          | 0/50 [00:00<?, ?it/s]"
      ]
     },
     "metadata": {},
     "output_type": "display_data"
    }
   ],
   "source": [
    "from torch.nn import CosineSimilarity\n",
    "from scipy.spatial.distance import cosine\n",
    "cosine_sim = CosineSimilarity(dim=0)\n",
    "\n",
    "mutated_scores = []\n",
    "true_scores = []\n",
    "\n",
    "with torch.set_grad_enabled(False):\n",
    "    for mProj in tqdm(bp_pid):\n",
    "        for pProj in tqdm(mp_pid):\n",
    "            affin = cosine_sim(torch.from_numpy(pProj).cuda(),torch.from_numpy(mProj).cuda()).cpu().numpy()\n",
    "            mutated_scores.append(float(affin))\n",
    "        affin = cosine_sim(torch.from_numpy(tp_pid).cuda(),torch.from_numpy(mProj).cuda()).cpu().numpy()\n",
    "        true_scores.append(float(affin))\n",
    "        \n",
    "df = pd.DataFrame({\"scores\":mutated_scores + true_scores,\"label\":(['mutated']*len(mutated_scores))+(['true']*len(true_scores))})"
   ]
  },
  {
   "cell_type": "code",
   "execution_count": 62,
   "id": "3d1841c5-d915-412f-9d5c-c1760faba3f0",
   "metadata": {},
   "outputs": [
    {
     "name": "stdout",
     "output_type": "stream",
     "text": [
      "-0.5192547728281648 0.6981650632173924\n"
     ]
    },
    {
     "data": {
      "image/png": "[encoded data removed]",
      "text/plain": [
       "<Figure size 432x288 with 1 Axes>"
      ]
     },
     "metadata": {
      "needs_background": "light"
     },
     "output_type": "display_data"
    }
   ],
   "source": [
    "import scipy\n",
    "stat, pvalue = scipy.stats.ttest_ind(df[df['label'] == 'true']['scores'], df[df['label'] == 'mutated']['scores'],alternative='greater')\n",
    "print(stat, pvalue)\n",
    "sns.violinplot(data=df, x='label', y='scores')\n",
    "plt.show()"
   ]
  },
  {
   "cell_type": "code",
   "execution_count": null,
   "id": "bfba0bf0-5c46-4505-9b97-e3790c5f536a",
   "metadata": {},
   "outputs": [],
   "source": []
  }
 ],
 "metadata": {
  "kernelspec": {
   "display_name": "Python [conda env:dsplat] *",
   "language": "python",
   "name": "conda-env-dsplat-py"
  },
  "language_info": {
   "codemirror_mode": {
    "name": "ipython",
    "version": 3
   },
   "file_extension": ".py",
   "mimetype": "text/x-python",
   "name": "python",
   "nbconvert_exporter": "python",
   "pygments_lexer": "ipython3",
   "version": "3.7.12"
  }
 },
 "nbformat": 4,
 "nbformat_minor": 5
}
