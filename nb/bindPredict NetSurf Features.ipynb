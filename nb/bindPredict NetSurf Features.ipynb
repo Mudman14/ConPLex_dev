{
 "cells": [
  {
   "cell_type": "markdown",
   "id": "7b0e3cdd-3b39-4352-a644-8e96aae06c77",
   "metadata": {},
   "source": [
    "# bindPredict21"
   ]
  },
  {
   "cell_type": "code",
   "execution_count": 64,
   "id": "6dfc5b27-ffec-4e34-852d-1caf91659e30",
   "metadata": {},
   "outputs": [],
   "source": [
    "import sys\n",
    "BASE_DIR = '..'\n",
    "BINDPREDICT_DIR = '/afs/csail.mit.edu/u/s/samsl/Work/Applications/bindPredict'\n",
    "\n",
    "sys.path.append(BINDPREDICT_DIR)\n",
    "sys.path.append(BASE_DIR)"
   ]
  },
  {
   "cell_type": "code",
   "execution_count": 2,
   "id": "b96cff17-a7c2-45ec-a1a8-ec32c413c6c6",
   "metadata": {},
   "outputs": [],
   "source": [
    "from config import FileSetter, FileManager\n",
    "from bindEmbed21DL import BindEmbed21DL\n",
    "from pathlib import Path"
   ]
  },
  {
   "cell_type": "code",
   "execution_count": 11,
   "id": "99af12e9-0965-4fd6-a9f5-39a7956ed29e",
   "metadata": {},
   "outputs": [],
   "source": [
    "import pandas as pd\n",
    "df = pd.read_csv(f'{BASE_DIR}/dataset/BindingDB/train.csv')"
   ]
  },
  {
   "cell_type": "code",
   "execution_count": 20,
   "id": "3d131cea-9e29-49df-b203-1d9c75b7f8ff",
   "metadata": {},
   "outputs": [],
   "source": [
    "seqDict = {i:s for i,s in enumerate(sorted(df['Target Sequence'].unique()))}"
   ]
  },
  {
   "cell_type": "code",
   "execution_count": 25,
   "id": "c5af8ce5-129c-47ff-acfb-b86c20f51a43",
   "metadata": {},
   "outputs": [],
   "source": [
    "with open('tmp.fasta','w+') as f:\n",
    "    for k,v in seqDict.items():\n",
    "        f.write(f\">seq{k}\\n{v}\\n\")"
   ]
  },
  {
   "cell_type": "code",
   "execution_count": 26,
   "id": "c123b918-1c7e-48e3-8571-83a12034da09",
   "metadata": {},
   "outputs": [],
   "source": [
    "prediction_folder = f'{BASE_DIR}/saved_embeddings'\n",
    "model_prefix = f'{BINDPREDICT_DIR}/trained_models/checkpoint'"
   ]
  },
  {
   "cell_type": "code",
   "execution_count": 28,
   "id": "afc6ae5f-0cb8-41f8-8c91-28c45780df8f",
   "metadata": {},
   "outputs": [],
   "source": [
    "query_fasta = 'tmp.fasta'\n",
    "query_sequences = FileManager.read_fasta(query_fasta)\n",
    "query_ids = list(query_sequences.keys())\n",
    "ri = False  # Whether to write RI or Probabilities"
   ]
  },
  {
   "cell_type": "code",
   "execution_count": 42,
   "id": "735b31cd-e090-4f78-97d6-2192e4993781",
   "metadata": {},
   "outputs": [],
   "source": [
    "import torch\n",
    "from architectures import CNN2Layers\n",
    "from src.prot_feats import ProtBert_f"
   ]
  },
  {
   "cell_type": "code",
   "execution_count": 72,
   "id": "e8481680-d2ce-4440-ba6b-5f2be089e8ac",
   "metadata": {},
   "outputs": [],
   "source": [
    "pbf = ProtBert_f(pool=False)"
   ]
  },
  {
   "cell_type": "code",
   "execution_count": 129,
   "id": "1f297e9f-3d41-4f14-af77-9b3ebdcb9e49",
   "metadata": {},
   "outputs": [],
   "source": [
    "md = CNN2Layers(1024,128,5,1,2,0)\n",
    "md.load_state_dict(torch.load(f\"{model_prefix}5.pt\", map_location='cuda:1')['state_dict'])\n",
    "md = md.eval()\n",
    "cnn_first = md.conv1[:2]"
   ]
  },
  {
   "cell_type": "code",
   "execution_count": 130,
   "id": "d8018328-0da7-46c3-a6aa-aaf172797fc1",
   "metadata": {},
   "outputs": [],
   "source": [
    "def seq_2_bindPredict_embedding(seq):\n",
    "    with torch.set_grad_enabled(False):\n",
    "        protbert_e = pbf(seq)\n",
    "        bindpredict_e = cnn_first(protbert_e.view(1,1024,-1))\n",
    "        return bindpredict_e.mean(axis=2).squeeze()"
   ]
  },
  {
   "cell_type": "code",
   "execution_count": 131,
   "id": "7de698be-3b2e-4daf-b624-24c5b666a7d8",
   "metadata": {},
   "outputs": [
    {
     "data": {
      "text/plain": [
       "tensor([-0.0128,  0.0051, -0.0617,  0.1206,  0.1205,  0.0114, -0.0163,  0.0984,\n",
       "        -0.0282, -0.1139,  0.0068,  0.1120, -0.0165, -0.0552,  0.1050, -0.0455,\n",
       "        -0.0951, -0.0745,  0.0772,  0.1247, -0.0314,  0.1897, -0.0330,  0.1080,\n",
       "        -0.0796, -0.0348,  0.0873,  0.1461, -0.0031, -0.1554,  0.1273, -0.0142,\n",
       "         0.0501,  0.0058, -0.0128, -0.0100,  0.0440,  0.0944, -0.1034,  0.1109,\n",
       "        -0.0360,  0.0584, -0.0574, -0.0132, -0.0346,  0.0643, -0.0318,  0.0139,\n",
       "        -0.1004, -0.0223, -0.0225, -0.1330, -0.0497,  0.0685,  0.0078, -0.0094,\n",
       "        -0.0889,  0.0402, -0.0894, -0.0671,  0.0781,  0.0050, -0.0349, -0.0260,\n",
       "        -0.0267,  0.0245,  0.0925,  0.0424,  0.0908, -0.0189, -0.0460,  0.0248,\n",
       "         0.0904,  0.0391,  0.0387,  0.0797, -0.0264,  0.0162,  0.0255,  0.0664,\n",
       "        -0.0605, -0.0143,  0.0273,  0.0529, -0.0665,  0.0919,  0.0033,  0.0175,\n",
       "        -0.0323,  0.0633, -0.0384, -0.1396, -0.0045,  0.1506,  0.0398,  0.1056,\n",
       "        -0.0298,  0.2399,  0.1226,  0.1015,  0.0990,  0.0494, -0.0895,  0.1165,\n",
       "        -0.0463,  0.0453,  0.1515,  0.0257,  0.0856,  0.0710,  0.0195, -0.0246,\n",
       "        -0.0462, -0.0346, -0.0811, -0.0694,  0.0664, -0.0515,  0.1863,  0.0298,\n",
       "        -0.1353,  0.1059,  0.0138, -0.0113,  0.0120, -0.0326, -0.0511,  0.0327])"
      ]
     },
     "execution_count": 131,
     "metadata": {},
     "output_type": "execute_result"
    }
   ],
   "source": [
    "seq_2_bindPredict_embedding('MVMAMTVAGCCCGGGGGGGAMMV')"
   ]
  },
  {
   "cell_type": "markdown",
   "id": "8ee52960-7538-4411-b3ba-9a431fd7934c",
   "metadata": {},
   "source": [
    "# NetSurf-P3.0"
   ]
  },
  {
   "cell_type": "code",
   "execution_count": 128,
   "id": "91e28130-b9c8-4bbc-b85f-9673972af716",
   "metadata": {},
   "outputs": [],
   "source": [
    "import sys\n",
    "BASE_DIR = '..'\n",
    "NETSURF_DIR = '/afs/csail.mit.edu/u/s/samsl/Work/Applications/bindPredict'\n",
    "\n",
    "sys.path.append(NETSURF_DIR)\n",
    "sys.path.append(BASE_DIR)"
   ]
  },
  {
   "cell_type": "code",
   "execution_count": null,
   "id": "ab769c71-44b0-43d3-b3df-7f95a30b6db3",
   "metadata": {},
   "outputs": [],
   "source": []
  }
 ],
 "metadata": {
  "kernelspec": {
   "display_name": "Python [conda env:dsplat] *",
   "language": "python",
   "name": "conda-env-dsplat-py"
  },
  "language_info": {
   "codemirror_mode": {
    "name": "ipython",
    "version": 3
   },
   "file_extension": ".py",
   "mimetype": "text/x-python",
   "name": "python",
   "nbconvert_exporter": "python",
   "pygments_lexer": "ipython3",
   "version": "3.7.12"
  }
 },
 "nbformat": 4,
 "nbformat_minor": 5
}
