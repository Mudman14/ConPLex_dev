{
 "cells": [
  {
   "cell_type": "code",
   "execution_count": 1,
   "id": "3f575783-207d-4f87-a0a0-855b4789a751",
   "metadata": {},
   "outputs": [],
   "source": [
    "import os\n",
    "import sys\n",
    "\n",
    "from rdkit import Chem\n",
    "from rdkit.Chem import AllChem\n",
    "\n",
    "import numpy as np\n",
    "import pandas as pd\n",
    "import pickle as pk\n",
    "import torch\n",
    "\n",
    "from tqdm.notebook import tqdm\n",
    "\n",
    "import matplotlib.pyplot as plt\n",
    "import seaborn as sns"
   ]
  },
  {
   "cell_type": "code",
   "execution_count": 2,
   "id": "00a7000c-3536-4da4-8836-9685239a757f",
   "metadata": {},
   "outputs": [],
   "source": [
    "BASE_DIR = \"..\"\n",
    "MODEL_BASE_DIR = f\"{BASE_DIR}/best_models\"\n",
    "DATA_DIR = f\"{BASE_DIR}/nbdata\"\n",
    "os.makedirs(MODEL_BASE_DIR,exist_ok=True)\n",
    "os.makedirs(DATA_DIR,exist_ok=True)\n",
    "sys.path.append(BASE_DIR)"
   ]
  },
  {
   "cell_type": "markdown",
   "id": "cdaf3324-cb7d-42d1-ae7e-ffe351c5af68",
   "metadata": {},
   "source": [
    "---"
   ]
  },
  {
   "cell_type": "markdown",
   "id": "5b014e5e-cfea-4be4-9661-09dae42a0d9f",
   "metadata": {},
   "source": [
    "## Load DrugBank"
   ]
  },
  {
   "cell_type": "code",
   "execution_count": 3,
   "id": "d4283fcd-2ddd-4610-a47f-6576a6b65cf6",
   "metadata": {},
   "outputs": [],
   "source": [
    "def morgan_fingerprint(mol,radius=2,nbits=2048):\n",
    "    return torch.from_numpy(np.array(AllChem.GetMorganFingerprintAsBitVect(mol,radius,nbits)))"
   ]
  },
  {
   "cell_type": "code",
   "execution_count": 4,
   "id": "d63423e9-a735-466e-b413-5c3323bc2287",
   "metadata": {
    "scrolled": true,
    "tags": []
   },
   "outputs": [
    {
     "name": "stderr",
     "output_type": "stream",
     "text": [
      "[12:46:30] Explicit valence for atom # 13 Cl, 5, is greater than permitted\n",
      "[12:46:30] ERROR: Could not sanitize molecule ending on line 289199\n",
      "[12:46:30] ERROR: Explicit valence for atom # 13 Cl, 5, is greater than permitted\n",
      "[12:46:30] Explicit valence for atom # 19 O, 3, is greater than permitted\n",
      "[12:46:30] ERROR: Could not sanitize molecule ending on line 399275\n",
      "[12:46:30] ERROR: Explicit valence for atom # 19 O, 3, is greater than permitted\n",
      "[12:46:31] Explicit valence for atom # 1 N, 4, is greater than permitted\n",
      "[12:46:31] ERROR: Could not sanitize molecule ending on line 522730\n",
      "[12:46:31] ERROR: Explicit valence for atom # 1 N, 4, is greater than permitted\n",
      "[12:46:31] Explicit valence for atom # 1 N, 4, is greater than permitted\n",
      "[12:46:31] ERROR: Could not sanitize molecule ending on line 578040\n",
      "[12:46:31] ERROR: Explicit valence for atom # 1 N, 4, is greater than permitted\n",
      "[12:46:31] Explicit valence for atom # 12 N, 4, is greater than permitted\n",
      "[12:46:31] ERROR: Could not sanitize molecule ending on line 613594\n",
      "[12:46:31] ERROR: Explicit valence for atom # 12 N, 4, is greater than permitted\n",
      "[12:46:31] Explicit valence for atom # 20 N, 4, is greater than permitted\n",
      "[12:46:31] ERROR: Could not sanitize molecule ending on line 634194\n",
      "[12:46:31] ERROR: Explicit valence for atom # 20 N, 4, is greater than permitted\n",
      "[12:46:31] Explicit valence for atom # 0 Be, 3, is greater than permitted\n",
      "[12:46:31] ERROR: Could not sanitize molecule ending on line 1095727\n",
      "[12:46:31] ERROR: Explicit valence for atom # 0 Be, 3, is greater than permitted\n",
      "[12:46:31] Explicit valence for atom # 28 N, 4, is greater than permitted\n",
      "[12:46:31] ERROR: Could not sanitize molecule ending on line 1252842\n",
      "[12:46:31] ERROR: Explicit valence for atom # 28 N, 4, is greater than permitted\n",
      "[12:46:32] Explicit valence for atom # 1 Cl, 4, is greater than permitted\n",
      "[12:46:32] ERROR: Could not sanitize molecule ending on line 1444034\n",
      "[12:46:32] ERROR: Explicit valence for atom # 1 Cl, 4, is greater than permitted\n",
      "[12:46:32] Explicit valence for atom # 7 K, 2, is greater than permitted\n",
      "[12:46:32] ERROR: Could not sanitize molecule ending on line 1691156\n",
      "[12:46:32] ERROR: Explicit valence for atom # 7 K, 2, is greater than permitted\n",
      "[12:46:32] WARNING: not removing hydrogen atom without neighbors\n",
      "[12:46:32] WARNING: not removing hydrogen atom without neighbors\n"
     ]
    }
   ],
   "source": [
    "molecules = Chem.SDMolSupplier('/afs/csail.mit.edu/u/s/samsl/Work/databases/DrugBank/all_structures.sdf')\n",
    "moleculeDict = {m.GetProp('DRUGBANK_ID'): m for m in molecules if m is not None}"
   ]
  },
  {
   "cell_type": "code",
   "execution_count": 5,
   "id": "372914b0-83b5-46eb-9c90-cfc5f2180487",
   "metadata": {},
   "outputs": [],
   "source": [
    "import xml.etree.ElementTree as ET\n",
    "full_drugbank = ET.parse('/afs/csail.mit.edu/u/s/samsl/Work/databases/DrugBank/full_database.xml')\n",
    "drugbank_root = full_drugbank.getroot()\n",
    "namespaces = {'drugbank': 'http://www.drugbank.ca'}"
   ]
  },
  {
   "cell_type": "code",
   "execution_count": 6,
   "id": "8d9a969e-8768-4d1c-8b5b-51958eca230a",
   "metadata": {},
   "outputs": [],
   "source": [
    "class ATC_Code:\n",
    "    def __init__(self, xmlcode):\n",
    "        self.code = c.attrib[\"code\"]\n",
    "        self.lvls = xmlcode.findall(\"drugbank:level\",namespaces)\n",
    "        self.lvl4 = (self.lvls[0].attrib[\"code\"], self.lvls[0].text)\n",
    "        self.lvl3 = (self.lvls[1].attrib[\"code\"], self.lvls[1].text)\n",
    "        self.lvl2 = (self.lvls[2].attrib[\"code\"], self.lvls[2].text)\n",
    "        self.lvl1 = (self.lvls[3].attrib[\"code\"], self.lvls[3].text)\n",
    "        \n",
    "    def __repr__(self):\n",
    "        return f\"{self.code} ({self.lvl1[1]}, {self.lvl2[1]}, {self.lvl3[1]}, {self.lvl4[1]})\"\n",
    "    \n",
    "    def __eq__(self, other):\n",
    "        return self.code == other.code\n",
    "    \n",
    "class Drug:\n",
    "    def __init__(self, dbid, smiles, codes):\n",
    "        self.name = dbid\n",
    "        self.smiles = smiles\n",
    "        self.codes = codes\n",
    "        \n",
    "        self.embeddings = {}\n",
    "\n",
    "    def __repr__(self):\n",
    "        return f\"{self.name}: {[i for i in self.codes]}\"\n",
    "        \n",
    "    def __eq__(self, other):\n",
    "        return self.name == other.name\n",
    "\n",
    "    def setRDKitMol(self,m):\n",
    "        self.rdkitmol = m\n",
    "        \n",
    "    def getRDKitMol(self):\n",
    "        return self.rdkitmol\n",
    "        \n",
    "    def setEmbedding(self,embName,embedding):\n",
    "        self.embeddings[embName] = embedding\n",
    "        \n",
    "    def getEmbedding(self,embName):\n",
    "        return self.embeddings[embName]"
   ]
  },
  {
   "cell_type": "code",
   "execution_count": 7,
   "id": "51b7e08c-1f88-48ba-bc97-631ab0dd8f44",
   "metadata": {},
   "outputs": [
    {
     "data": {
      "application/vnd.jupyter.widget-view+json": {
       "model_id": "4a05a24310784bc29f9200bbc3bd543a",
       "version_major": 2,
       "version_minor": 0
      },
      "text/plain": [
       "  0%|          | 0/14594 [00:00<?, ?it/s]"
      ]
     },
     "metadata": {},
     "output_type": "display_data"
    }
   ],
   "source": [
    "drugDict = {}\n",
    "\n",
    "for drxml in tqdm(drugbank_root, total=len(drugbank_root)):\n",
    "    dbid = drxml.find('drugbank:drugbank-id[@primary=\"true\"]',namespaces).text\n",
    "    if dbid in moleculeDict.keys():\n",
    "        codesxml = drxml.findall('drugbank:atc-codes/drugbank:atc-code', namespaces)\n",
    "        codesclass = []\n",
    "        for c in codesxml:\n",
    "            codesclass.append(ATC_Code(c))\n",
    "        drclass = Drug(dbid, moleculeDict[dbid].GetProp('SMILES'), codesclass)\n",
    "        drugDict[dbid] = drclass\n",
    "    else:\n",
    "        continue"
   ]
  },
  {
   "cell_type": "code",
   "execution_count": 8,
   "id": "ee58d31f-48aa-4e14-91ed-7708cad93612",
   "metadata": {},
   "outputs": [
    {
     "name": "stdout",
     "output_type": "stream",
     "text": [
      "11290 drugs from DrugBank\n"
     ]
    }
   ],
   "source": [
    "print(len(drugDict),'drugs from DrugBank')"
   ]
  },
  {
   "cell_type": "code",
   "execution_count": 9,
   "id": "87d2e853-4f93-4058-9082-442975618984",
   "metadata": {},
   "outputs": [
    {
     "data": {
      "text/plain": [
       "DB00006: [B01AE06 (BLOOD AND BLOOD FORMING ORGANS, ANTITHROMBOTIC AGENTS, ANTITHROMBOTIC AGENTS, Direct thrombin inhibitors)]"
      ]
     },
     "execution_count": 9,
     "metadata": {},
     "output_type": "execute_result"
    }
   ],
   "source": [
    "drugDict['DB00006']"
   ]
  },
  {
   "cell_type": "code",
   "execution_count": 10,
   "id": "bb0769b9-0bab-483c-b9ec-013ddbc32b70",
   "metadata": {},
   "outputs": [],
   "source": [
    "topLvlClasses = {}\n",
    "\n",
    "for k,v in drugDict.items():\n",
    "    if len(v.codes):\n",
    "        topLvlClasses[k] = v.codes[0].lvl1[0]\n",
    "    else:\n",
    "        topLvlClasses[k] = '-'"
   ]
  },
  {
   "cell_type": "code",
   "execution_count": 11,
   "id": "5d298371-34bd-4db4-9789-9b53fc09bcd6",
   "metadata": {},
   "outputs": [
    {
     "data": {
      "text/plain": [
       "Counter({'B': 94,\n",
       "         'L': 231,\n",
       "         'R': 201,\n",
       "         'H': 42,\n",
       "         '-': 8447,\n",
       "         'J': 305,\n",
       "         'A': 329,\n",
       "         'V': 152,\n",
       "         'G': 163,\n",
       "         'D': 174,\n",
       "         'N': 478,\n",
       "         'S': 98,\n",
       "         'M': 138,\n",
       "         'C': 345,\n",
       "         'P': 93})"
      ]
     },
     "execution_count": 11,
     "metadata": {},
     "output_type": "execute_result"
    }
   ],
   "source": [
    "from collections import Counter\n",
    "cntr = Counter(topLvlClasses.values())\n",
    "cntr"
   ]
  },
  {
   "cell_type": "markdown",
   "id": "f57466ec-7871-4973-a8b1-a1cbae49043f",
   "metadata": {},
   "source": [
    "---"
   ]
  },
  {
   "cell_type": "markdown",
   "id": "375dbb4c-53fa-4363-a43f-e8aaff93b960",
   "metadata": {},
   "source": [
    "## Load Surfaceome"
   ]
  },
  {
   "cell_type": "code",
   "execution_count": 12,
   "id": "34053059-5b5e-4520-919f-ea3128770640",
   "metadata": {},
   "outputs": [
    {
     "name": "stderr",
     "output_type": "stream",
     "text": [
      "/afs/csail.mit.edu/u/s/samsl/Work/anaconda3/envs/dsplat/lib/python3.7/site-packages/openpyxl/worksheet/_reader.py:312: UserWarning: Unknown extension is not supported and will be removed\n",
      "  warn(msg)\n"
     ]
    }
   ],
   "source": [
    "tdb = pd.read_excel('/afs/csail.mit.edu/u/s/samsl/Work/databases/surfaceome/table_S3_surfaceome.xlsx')\n",
    "tdb.columns = tdb.iloc[0]"
   ]
  },
  {
   "cell_type": "code",
   "execution_count": 13,
   "id": "c8d0906b-d568-4edd-8667-44444755d203",
   "metadata": {},
   "outputs": [],
   "source": [
    "surface_db = tdb[tdb['Surfaceome Label'] == 'surface']"
   ]
  },
  {
   "cell_type": "code",
   "execution_count": 14,
   "id": "bf773f62-487a-4a75-b4fb-102c8f4771b7",
   "metadata": {},
   "outputs": [
    {
     "data": {
      "text/plain": [
       "Index(['UniProt name', 'UniProt accession', 'UniProt description',\n",
       "       'UniProt gene', 'Surfaceome Label', 'Surfaceome Label Source',\n",
       "       'Comment', 'length', 'TM domains', 'signalpeptide', 'topology',\n",
       "       'topology source', 'MachineLearning trainingset',\n",
       "       'MachineLearning score',\n",
       "       'MachineLearning FPR class (1=1%, 2=5%, 3=15%)', 'Ensembl gene',\n",
       "       'Ensembl protein', 'CD number', 'Membranome Almen main-class',\n",
       "       'Membranome Almen sub-class', 'nxst motifs', 'noncyt. nxst count',\n",
       "       'peps with accessible noncyt. nxst', 'noncyt. Trp count',\n",
       "       'peps with accessible noncyt. Trp', 'noncyt. Tyr count',\n",
       "       'peps with accessible noncyt. Tyr', 'glycomineN sites',\n",
       "       'glycomineO sites', 'glycomineC sites', 'CSPA category',\n",
       "       'CSPA peptide count', 'CSPA peptides', 'CSPA N115 sites', 'CSPA id',\n",
       "       'UniProt subcellular', 'UniProt keywords', 'UniProt uniref',\n",
       "       'COMPARTMENTS link', 'COMPARTMENTS benchmark pos',\n",
       "       'COMPARTMENTS benchmark neg', 'HPA antibody',\n",
       "       'DrugBank approved drug IDs', 'GeneID'],\n",
       "      dtype='object', name=0)"
      ]
     },
     "execution_count": 14,
     "metadata": {},
     "output_type": "execute_result"
    }
   ],
   "source": [
    "surface_db.columns"
   ]
  },
  {
   "cell_type": "code",
   "execution_count": 15,
   "id": "6040db21-b240-485c-89f4-e03125b5bf81",
   "metadata": {},
   "outputs": [
    {
     "data": {
      "text/html": [
       "<div>\n",
       "<style scoped>\n",
       "    .dataframe tbody tr th:only-of-type {\n",
       "        vertical-align: middle;\n",
       "    }\n",
       "\n",
       "    .dataframe tbody tr th {\n",
       "        vertical-align: top;\n",
       "    }\n",
       "\n",
       "    .dataframe thead th {\n",
       "        text-align: right;\n",
       "    }\n",
       "</style>\n",
       "<table border=\"1\" class=\"dataframe\">\n",
       "  <thead>\n",
       "    <tr style=\"text-align: right;\">\n",
       "      <th></th>\n",
       "      <th>UniProt accession</th>\n",
       "      <th>Ensembl gene</th>\n",
       "      <th>length</th>\n",
       "      <th>TM domains</th>\n",
       "      <th>Membranome Almen main-class</th>\n",
       "      <th>UniProt subcellular</th>\n",
       "    </tr>\n",
       "  </thead>\n",
       "  <tbody>\n",
       "    <tr>\n",
       "      <th>2217</th>\n",
       "      <td>A0AV02</td>\n",
       "      <td>ENSG00000221955</td>\n",
       "      <td>714</td>\n",
       "      <td>13</td>\n",
       "      <td>Transporters</td>\n",
       "      <td>Membrane (Multi-pass membrane protein)</td>\n",
       "    </tr>\n",
       "    <tr>\n",
       "      <th>2218</th>\n",
       "      <td>A0FGR9</td>\n",
       "      <td>ENSG00000158220</td>\n",
       "      <td>886</td>\n",
       "      <td>2</td>\n",
       "      <td>Unclassified</td>\n",
       "      <td>Cell membrane (Peripheral membrane protein);En...</td>\n",
       "    </tr>\n",
       "    <tr>\n",
       "      <th>2219</th>\n",
       "      <td>A0PJK1</td>\n",
       "      <td>ENSG00000154025</td>\n",
       "      <td>596</td>\n",
       "      <td>14</td>\n",
       "      <td>Transporters</td>\n",
       "      <td>Cell membrane (Multi-pass membrane protein)</td>\n",
       "    </tr>\n",
       "    <tr>\n",
       "      <th>2220</th>\n",
       "      <td>A0PK11</td>\n",
       "      <td>ENSG00000249581</td>\n",
       "      <td>232</td>\n",
       "      <td>4</td>\n",
       "      <td>Unclassified</td>\n",
       "      <td>Membrane (Multi-pass membrane protein)</td>\n",
       "    </tr>\n",
       "    <tr>\n",
       "      <th>2221</th>\n",
       "      <td>A0ZSE6</td>\n",
       "      <td>ENSG00000235156</td>\n",
       "      <td>113</td>\n",
       "      <td>1</td>\n",
       "      <td>Miscellaneous</td>\n",
       "      <td>Membrane (Single-pass membrane protein)</td>\n",
       "    </tr>\n",
       "    <tr>\n",
       "      <th>...</th>\n",
       "      <td>...</td>\n",
       "      <td>...</td>\n",
       "      <td>...</td>\n",
       "      <td>...</td>\n",
       "      <td>...</td>\n",
       "      <td>...</td>\n",
       "    </tr>\n",
       "    <tr>\n",
       "      <th>5098</th>\n",
       "      <td>Q9Y6N8</td>\n",
       "      <td>ENSG00000040731</td>\n",
       "      <td>788</td>\n",
       "      <td>1</td>\n",
       "      <td>Miscellaneous</td>\n",
       "      <td>Cell membrane (Single-pass type I membrane pro...</td>\n",
       "    </tr>\n",
       "    <tr>\n",
       "      <th>5099</th>\n",
       "      <td>Q9Y6Q6</td>\n",
       "      <td>ENSG00000141655</td>\n",
       "      <td>616</td>\n",
       "      <td>1</td>\n",
       "      <td>Receptors</td>\n",
       "      <td>Cell membrane (Single-pass type I membrane pro...</td>\n",
       "    </tr>\n",
       "    <tr>\n",
       "      <th>5100</th>\n",
       "      <td>Q9Y6R1</td>\n",
       "      <td>ENSG00000080493</td>\n",
       "      <td>1079</td>\n",
       "      <td>10</td>\n",
       "      <td>Transporters</td>\n",
       "      <td>Basolateral cell membrane (Multi- pass membran...</td>\n",
       "    </tr>\n",
       "    <tr>\n",
       "      <th>5101</th>\n",
       "      <td>Q9Y6W8</td>\n",
       "      <td>ENSG00000163600</td>\n",
       "      <td>199</td>\n",
       "      <td>1</td>\n",
       "      <td>Unclassified</td>\n",
       "      <td>Cell membrane (Single-pass type I membrane pro...</td>\n",
       "    </tr>\n",
       "    <tr>\n",
       "      <th>5102</th>\n",
       "      <td>Q9Y6X5</td>\n",
       "      <td>ENSG00000001561</td>\n",
       "      <td>453</td>\n",
       "      <td>1</td>\n",
       "      <td>Enzymes</td>\n",
       "      <td>Cell membrane (Single-pass type I membrane pro...</td>\n",
       "    </tr>\n",
       "  </tbody>\n",
       "</table>\n",
       "<p>2886 rows × 6 columns</p>\n",
       "</div>"
      ],
      "text/plain": [
       "0    UniProt accession     Ensembl gene length TM domains  \\\n",
       "2217            A0AV02  ENSG00000221955    714         13   \n",
       "2218            A0FGR9  ENSG00000158220    886          2   \n",
       "2219            A0PJK1  ENSG00000154025    596         14   \n",
       "2220            A0PK11  ENSG00000249581    232          4   \n",
       "2221            A0ZSE6  ENSG00000235156    113          1   \n",
       "...                ...              ...    ...        ...   \n",
       "5098            Q9Y6N8  ENSG00000040731    788          1   \n",
       "5099            Q9Y6Q6  ENSG00000141655    616          1   \n",
       "5100            Q9Y6R1  ENSG00000080493   1079         10   \n",
       "5101            Q9Y6W8  ENSG00000163600    199          1   \n",
       "5102            Q9Y6X5  ENSG00000001561    453          1   \n",
       "\n",
       "0    Membranome Almen main-class  \\\n",
       "2217                Transporters   \n",
       "2218                Unclassified   \n",
       "2219                Transporters   \n",
       "2220                Unclassified   \n",
       "2221               Miscellaneous   \n",
       "...                          ...   \n",
       "5098               Miscellaneous   \n",
       "5099                   Receptors   \n",
       "5100                Transporters   \n",
       "5101                Unclassified   \n",
       "5102                     Enzymes   \n",
       "\n",
       "0                                   UniProt subcellular  \n",
       "2217             Membrane (Multi-pass membrane protein)  \n",
       "2218  Cell membrane (Peripheral membrane protein);En...  \n",
       "2219        Cell membrane (Multi-pass membrane protein)  \n",
       "2220             Membrane (Multi-pass membrane protein)  \n",
       "2221            Membrane (Single-pass membrane protein)  \n",
       "...                                                 ...  \n",
       "5098  Cell membrane (Single-pass type I membrane pro...  \n",
       "5099  Cell membrane (Single-pass type I membrane pro...  \n",
       "5100  Basolateral cell membrane (Multi- pass membran...  \n",
       "5101  Cell membrane (Single-pass type I membrane pro...  \n",
       "5102  Cell membrane (Single-pass type I membrane pro...  \n",
       "\n",
       "[2886 rows x 6 columns]"
      ]
     },
     "execution_count": 15,
     "metadata": {},
     "output_type": "execute_result"
    }
   ],
   "source": [
    "surface_db[['UniProt accession', 'Ensembl gene','length','TM domains','Membranome Almen main-class','UniProt subcellular']]"
   ]
  },
  {
   "cell_type": "code",
   "execution_count": 16,
   "id": "c7f41808-a1bd-4f5e-b921-40810f695780",
   "metadata": {},
   "outputs": [],
   "source": [
    "### Write list of sequences\n",
    "\n",
    "with open('/afs/csail.mit.edu/u/s/samsl/Work/databases/surfaceome/surface_uniprot_list.txt','w+') as f:\n",
    "    for p in surface_db['UniProt accession'].to_list():\n",
    "        f.write(f\"{p}\\n\")\n",
    "        \n",
    "### Download these sequences from UniProt"
   ]
  },
  {
   "cell_type": "code",
   "execution_count": 17,
   "id": "c5eb8a98-8b08-4130-ae70-86148797a1b7",
   "metadata": {},
   "outputs": [],
   "source": [
    "updb = pd.read_csv('/afs/csail.mit.edu/u/s/samsl/Work/databases/surfaceome/surfaceome_uniprot_download.tsv',sep='\\t')\n",
    "updb = updb[~updb['Sequence'].isna()]"
   ]
  },
  {
   "cell_type": "code",
   "execution_count": 18,
   "id": "ed08856f-01d7-4b1a-9e40-3c4186bab6d9",
   "metadata": {},
   "outputs": [
    {
     "data": {
      "text/html": [
       "<div>\n",
       "<style scoped>\n",
       "    .dataframe tbody tr th:only-of-type {\n",
       "        vertical-align: middle;\n",
       "    }\n",
       "\n",
       "    .dataframe tbody tr th {\n",
       "        vertical-align: top;\n",
       "    }\n",
       "\n",
       "    .dataframe thead th {\n",
       "        text-align: right;\n",
       "    }\n",
       "</style>\n",
       "<table border=\"1\" class=\"dataframe\">\n",
       "  <thead>\n",
       "    <tr style=\"text-align: right;\">\n",
       "      <th></th>\n",
       "      <th>Entry</th>\n",
       "      <th>Protein names</th>\n",
       "      <th>Gene names</th>\n",
       "      <th>Organism</th>\n",
       "      <th>Length</th>\n",
       "      <th>Sequence</th>\n",
       "      <th>EC number</th>\n",
       "      <th>Cross-reference (Pfam)</th>\n",
       "      <th>Cross-reference (BindingDB)</th>\n",
       "      <th>Cross-reference (DrugBank)</th>\n",
       "    </tr>\n",
       "  </thead>\n",
       "  <tbody>\n",
       "    <tr>\n",
       "      <th>0</th>\n",
       "      <td>A0AV02</td>\n",
       "      <td>Solute carrier family 12 member 8 (Cation-chlo...</td>\n",
       "      <td>SLC12A8 CCC9</td>\n",
       "      <td>Homo sapiens (Human)</td>\n",
       "      <td>714.0</td>\n",
       "      <td>MTQMSQVQELFHEAAQQDALAQPQPWWKTQLFMWEPVLFGTWDGVF...</td>\n",
       "      <td>NaN</td>\n",
       "      <td>PF00324;</td>\n",
       "      <td>NaN</td>\n",
       "      <td>NaN</td>\n",
       "    </tr>\n",
       "    <tr>\n",
       "      <th>1</th>\n",
       "      <td>A0FGR9</td>\n",
       "      <td>Extended synaptotagmin-3 (E-Syt3) (Chr3Syt)</td>\n",
       "      <td>ESYT3 FAM62C</td>\n",
       "      <td>Homo sapiens (Human)</td>\n",
       "      <td>886.0</td>\n",
       "      <td>MRAEEPCAPGAPSALGAQRTPGPELRLSSQLLPELCTFVVRVLFYL...</td>\n",
       "      <td>NaN</td>\n",
       "      <td>PF00168;PF17047;</td>\n",
       "      <td>NaN</td>\n",
       "      <td>NaN</td>\n",
       "    </tr>\n",
       "    <tr>\n",
       "      <th>2</th>\n",
       "      <td>A0PJK1</td>\n",
       "      <td>Sodium/glucose cotransporter 5 (Na(+)/glucose ...</td>\n",
       "      <td>SLC5A10 SGLT5</td>\n",
       "      <td>Homo sapiens (Human)</td>\n",
       "      <td>596.0</td>\n",
       "      <td>MAANSTSDLHTPGTQLSVADIIVITVYFALNVAVGIWSSCRASRNT...</td>\n",
       "      <td>NaN</td>\n",
       "      <td>PF00474;</td>\n",
       "      <td>NaN</td>\n",
       "      <td>NaN</td>\n",
       "    </tr>\n",
       "    <tr>\n",
       "      <th>3</th>\n",
       "      <td>A0PK11</td>\n",
       "      <td>Clarin-2</td>\n",
       "      <td>CLRN2</td>\n",
       "      <td>Homo sapiens (Human)</td>\n",
       "      <td>232.0</td>\n",
       "      <td>MPGWFKKAWYGLASLLSFSSFILIIVALVVPHWLSGKILCQTGVDL...</td>\n",
       "      <td>NaN</td>\n",
       "      <td>NaN</td>\n",
       "      <td>NaN</td>\n",
       "      <td>NaN</td>\n",
       "    </tr>\n",
       "    <tr>\n",
       "      <th>4</th>\n",
       "      <td>A0ZSE6</td>\n",
       "      <td>Cell cycle control protein 50C (Transmembrane ...</td>\n",
       "      <td>TMEM30CP CDC50C TMEM30C</td>\n",
       "      <td>Homo sapiens (Human)</td>\n",
       "      <td>113.0</td>\n",
       "      <td>MEERAQHCLSRLLDNSALKQQELPIHRLYFTARRVLFVFFATGIFC...</td>\n",
       "      <td>NaN</td>\n",
       "      <td>NaN</td>\n",
       "      <td>NaN</td>\n",
       "      <td>NaN</td>\n",
       "    </tr>\n",
       "  </tbody>\n",
       "</table>\n",
       "</div>"
      ],
      "text/plain": [
       "    Entry                                      Protein names  \\\n",
       "0  A0AV02  Solute carrier family 12 member 8 (Cation-chlo...   \n",
       "1  A0FGR9        Extended synaptotagmin-3 (E-Syt3) (Chr3Syt)   \n",
       "2  A0PJK1  Sodium/glucose cotransporter 5 (Na(+)/glucose ...   \n",
       "3  A0PK11                                           Clarin-2   \n",
       "4  A0ZSE6  Cell cycle control protein 50C (Transmembrane ...   \n",
       "\n",
       "                Gene names              Organism  Length  \\\n",
       "0             SLC12A8 CCC9  Homo sapiens (Human)   714.0   \n",
       "1             ESYT3 FAM62C  Homo sapiens (Human)   886.0   \n",
       "2            SLC5A10 SGLT5  Homo sapiens (Human)   596.0   \n",
       "3                    CLRN2  Homo sapiens (Human)   232.0   \n",
       "4  TMEM30CP CDC50C TMEM30C  Homo sapiens (Human)   113.0   \n",
       "\n",
       "                                            Sequence EC number  \\\n",
       "0  MTQMSQVQELFHEAAQQDALAQPQPWWKTQLFMWEPVLFGTWDGVF...       NaN   \n",
       "1  MRAEEPCAPGAPSALGAQRTPGPELRLSSQLLPELCTFVVRVLFYL...       NaN   \n",
       "2  MAANSTSDLHTPGTQLSVADIIVITVYFALNVAVGIWSSCRASRNT...       NaN   \n",
       "3  MPGWFKKAWYGLASLLSFSSFILIIVALVVPHWLSGKILCQTGVDL...       NaN   \n",
       "4  MEERAQHCLSRLLDNSALKQQELPIHRLYFTARRVLFVFFATGIFC...       NaN   \n",
       "\n",
       "  Cross-reference (Pfam) Cross-reference (BindingDB)  \\\n",
       "0               PF00324;                         NaN   \n",
       "1       PF00168;PF17047;                         NaN   \n",
       "2               PF00474;                         NaN   \n",
       "3                    NaN                         NaN   \n",
       "4                    NaN                         NaN   \n",
       "\n",
       "  Cross-reference (DrugBank)  \n",
       "0                        NaN  \n",
       "1                        NaN  \n",
       "2                        NaN  \n",
       "3                        NaN  \n",
       "4                        NaN  "
      ]
     },
     "execution_count": 18,
     "metadata": {},
     "output_type": "execute_result"
    }
   ],
   "source": [
    "updb.head()"
   ]
  },
  {
   "cell_type": "code",
   "execution_count": 19,
   "id": "f20c631b-2181-4a5f-9517-ce8d87dbf4de",
   "metadata": {},
   "outputs": [],
   "source": [
    "mrgdb = pd.merge(surface_db, updb, left_on='UniProt accession', right_on='Entry',how='inner')"
   ]
  },
  {
   "cell_type": "code",
   "execution_count": 20,
   "id": "ccc14e8b-fcc9-49dd-a4a5-be994e06e77a",
   "metadata": {},
   "outputs": [],
   "source": [
    "with open('/afs/csail.mit.edu/u/s/samsl/Work/databases/surfaceome/surfaceome_uniprot_seqs.fasta','w+') as f:\n",
    "    for i,r in mrgdb.iterrows():\n",
    "        f.write(f\">{r.Entry}\\n{r.Sequence}\\n\")"
   ]
  },
  {
   "cell_type": "markdown",
   "id": "335c640c-5ee0-4b98-935c-7caa00cf71b6",
   "metadata": {},
   "source": [
    "### Domain Annotation"
   ]
  },
  {
   "cell_type": "code",
   "execution_count": 21,
   "id": "03a01d99-332b-44a4-ac3d-dabebea19e2b",
   "metadata": {},
   "outputs": [],
   "source": [
    "#!/scratch1/rsingh/tools/bin/hmmscan -o /afs/csail.mit.edu/u/s/samsl/Work/databases/surfaceome/surfaceome_pfam_scan.out --tblout /afs/csail.mit.edu/u/s/samsl/Work/databases/surfaceome/surfaceome_pfam_scan.tblout --domtblout /afs/csail.mit.edu/u/s/samsl/Work/databases/surfaceome/surfaceome_pfam_scan.domtblout --acc --noali --notextw --cut_ga /afs/csail.mit.edu/u/r/rsingh/work/corals/data/raw/pfam/Pfam-A.hmm /afs/csail.mit.edu/u/s/samsl/Work/databases/surfaceome/surfaceome_uniprot_seqs.fasta "
   ]
  },
  {
   "cell_type": "code",
   "execution_count": 22,
   "id": "ddfdbe6e-a027-4558-944d-416e1ed191c7",
   "metadata": {},
   "outputs": [],
   "source": [
    "from Bio.SearchIO.HmmerIO.hmmer3_tab import Hmmer3TabParser"
   ]
  },
  {
   "cell_type": "code",
   "execution_count": 23,
   "id": "f46573d4-e61f-4e55-804f-f75d12c29403",
   "metadata": {
    "scrolled": true,
    "tags": []
   },
   "outputs": [],
   "source": [
    "with open('/afs/csail.mit.edu/u/s/samsl/Work/databases/surfaceome/surfaceome_pfam_scan.tblout','r') as f:\n",
    "    hmmerhits = list(Hmmer3TabParser(f))"
   ]
  },
  {
   "cell_type": "code",
   "execution_count": 24,
   "id": "78b97081-bdfa-4ca2-8323-5edf1de8a93d",
   "metadata": {},
   "outputs": [],
   "source": [
    "domtbl = []\n",
    "\n",
    "for rec in hmmerhits:\n",
    "    for hit in rec.hits:\n",
    "        domtbl.append((rec.id, hit.id, hit.accession, hit.evalue, hit.bitscore))\n",
    "        \n",
    "domtbl = pd.DataFrame(domtbl,columns=['Query','DomName','DomAccession','eval','bitscore'])"
   ]
  },
  {
   "cell_type": "code",
   "execution_count": 25,
   "id": "4ae8c494-4ece-48f7-abd3-a8b456c74a11",
   "metadata": {},
   "outputs": [
    {
     "name": "stderr",
     "output_type": "stream",
     "text": [
      "/afs/csail.mit.edu/u/s/samsl/Work/anaconda3/envs/dsplat/lib/python3.7/site-packages/ipykernel_launcher.py:1: FutureWarning: Indexing with multiple keys (implicitly converted to a tuple of keys) will be deprecated, use a list instead.\n",
      "  \"\"\"Entry point for launching an IPython kernel.\n"
     ]
    }
   ],
   "source": [
    "grpdomtbl = domtbl.groupby('Query')['DomName','DomAccession'].transform(lambda x: ','.join(x))\n",
    "grpdomtbl.index = domtbl.Query\n",
    "grpdomtbl = grpdomtbl.reset_index().drop_duplicates()"
   ]
  },
  {
   "cell_type": "code",
   "execution_count": 26,
   "id": "2e1cab33-042b-40e8-a5d5-d25ab5268083",
   "metadata": {},
   "outputs": [
    {
     "data": {
      "text/html": [
       "<div>\n",
       "<style scoped>\n",
       "    .dataframe tbody tr th:only-of-type {\n",
       "        vertical-align: middle;\n",
       "    }\n",
       "\n",
       "    .dataframe tbody tr th {\n",
       "        vertical-align: top;\n",
       "    }\n",
       "\n",
       "    .dataframe thead th {\n",
       "        text-align: right;\n",
       "    }\n",
       "</style>\n",
       "<table border=\"1\" class=\"dataframe\">\n",
       "  <thead>\n",
       "    <tr style=\"text-align: right;\">\n",
       "      <th></th>\n",
       "      <th>UniProt name</th>\n",
       "      <th>UniProt description</th>\n",
       "      <th>UniProt gene</th>\n",
       "      <th>Surfaceome Label</th>\n",
       "      <th>Surfaceome Label Source</th>\n",
       "      <th>Comment</th>\n",
       "      <th>length</th>\n",
       "      <th>TM domains</th>\n",
       "      <th>signalpeptide</th>\n",
       "      <th>topology</th>\n",
       "      <th>...</th>\n",
       "      <th>Organism</th>\n",
       "      <th>Length</th>\n",
       "      <th>Sequence</th>\n",
       "      <th>EC number</th>\n",
       "      <th>Cross-reference (Pfam)</th>\n",
       "      <th>Cross-reference (BindingDB)</th>\n",
       "      <th>Cross-reference (DrugBank)</th>\n",
       "      <th>Query</th>\n",
       "      <th>DomName</th>\n",
       "      <th>DomAccession</th>\n",
       "    </tr>\n",
       "    <tr>\n",
       "      <th>UniProt accession</th>\n",
       "      <th></th>\n",
       "      <th></th>\n",
       "      <th></th>\n",
       "      <th></th>\n",
       "      <th></th>\n",
       "      <th></th>\n",
       "      <th></th>\n",
       "      <th></th>\n",
       "      <th></th>\n",
       "      <th></th>\n",
       "      <th></th>\n",
       "      <th></th>\n",
       "      <th></th>\n",
       "      <th></th>\n",
       "      <th></th>\n",
       "      <th></th>\n",
       "      <th></th>\n",
       "      <th></th>\n",
       "      <th></th>\n",
       "      <th></th>\n",
       "      <th></th>\n",
       "    </tr>\n",
       "  </thead>\n",
       "  <tbody>\n",
       "    <tr>\n",
       "      <th>A0AV02</th>\n",
       "      <td>S12A8_HUMAN</td>\n",
       "      <td>Solute carrier family 12 member 8</td>\n",
       "      <td>SLC12A8</td>\n",
       "      <td>surface</td>\n",
       "      <td>machine learning</td>\n",
       "      <td>NaN</td>\n",
       "      <td>714</td>\n",
       "      <td>13</td>\n",
       "      <td>0</td>\n",
       "      <td>NC:1-37;TM:38-60;CY:61-71;TM:72-93;NC:94-98;TM...</td>\n",
       "      <td>...</td>\n",
       "      <td>Homo sapiens (Human)</td>\n",
       "      <td>714.0</td>\n",
       "      <td>MTQMSQVQELFHEAAQQDALAQPQPWWKTQLFMWEPVLFGTWDGVF...</td>\n",
       "      <td>NaN</td>\n",
       "      <td>PF00324;</td>\n",
       "      <td>NaN</td>\n",
       "      <td>NaN</td>\n",
       "      <td>A0AV02</td>\n",
       "      <td>AA_permease</td>\n",
       "      <td>PF00324.22</td>\n",
       "    </tr>\n",
       "    <tr>\n",
       "      <th>A0FGR9</th>\n",
       "      <td>ESYT3_HUMAN</td>\n",
       "      <td>Extended synaptotagmin-3</td>\n",
       "      <td>ESYT3</td>\n",
       "      <td>surface</td>\n",
       "      <td>pos. trainingset</td>\n",
       "      <td>NaN</td>\n",
       "      <td>886</td>\n",
       "      <td>2</td>\n",
       "      <td>0</td>\n",
       "      <td>CY:1-27;TM:28-46;NC:47-51;TM:52-72;CY:73-886</td>\n",
       "      <td>...</td>\n",
       "      <td>Homo sapiens (Human)</td>\n",
       "      <td>886.0</td>\n",
       "      <td>MRAEEPCAPGAPSALGAQRTPGPELRLSSQLLPELCTFVVRVLFYL...</td>\n",
       "      <td>NaN</td>\n",
       "      <td>PF00168;PF17047;</td>\n",
       "      <td>NaN</td>\n",
       "      <td>NaN</td>\n",
       "      <td>A0FGR9</td>\n",
       "      <td>SMP_LBD,C2</td>\n",
       "      <td>PF17047.6,PF00168.31</td>\n",
       "    </tr>\n",
       "    <tr>\n",
       "      <th>A0PJK1</th>\n",
       "      <td>SC5AA_HUMAN</td>\n",
       "      <td>Sodium/glucose cotransporter 5</td>\n",
       "      <td>SLC5A10</td>\n",
       "      <td>surface</td>\n",
       "      <td>machine learning</td>\n",
       "      <td>NaN</td>\n",
       "      <td>596</td>\n",
       "      <td>14</td>\n",
       "      <td>0</td>\n",
       "      <td>NC:1-15;TM:16-37;CY:38-73;TM:74-93;NC:94-98;TM...</td>\n",
       "      <td>...</td>\n",
       "      <td>Homo sapiens (Human)</td>\n",
       "      <td>596.0</td>\n",
       "      <td>MAANSTSDLHTPGTQLSVADIIVITVYFALNVAVGIWSSCRASRNT...</td>\n",
       "      <td>NaN</td>\n",
       "      <td>PF00474;</td>\n",
       "      <td>NaN</td>\n",
       "      <td>NaN</td>\n",
       "      <td>A0PJK1</td>\n",
       "      <td>SSF</td>\n",
       "      <td>PF00474.18</td>\n",
       "    </tr>\n",
       "    <tr>\n",
       "      <th>A1A5B4</th>\n",
       "      <td>ANO9_HUMAN</td>\n",
       "      <td>Anoctamin-9</td>\n",
       "      <td>ANO9</td>\n",
       "      <td>surface</td>\n",
       "      <td>pos. trainingset</td>\n",
       "      <td>NaN</td>\n",
       "      <td>782</td>\n",
       "      <td>8</td>\n",
       "      <td>0</td>\n",
       "      <td>CY:1-195;TM:196-217;NC:218-266;TM:267-285;CY:2...</td>\n",
       "      <td>...</td>\n",
       "      <td>Homo sapiens (Human)</td>\n",
       "      <td>782.0</td>\n",
       "      <td>MQGEESLRILVEPEGDSFPLMEISTCETEASEQWDYVLVAQRHTQR...</td>\n",
       "      <td>NaN</td>\n",
       "      <td>PF04547;</td>\n",
       "      <td>NaN</td>\n",
       "      <td>NaN</td>\n",
       "      <td>A1A5B4</td>\n",
       "      <td>Anoctamin,Anoct_dimer</td>\n",
       "      <td>PF04547.13,PF16178.6</td>\n",
       "    </tr>\n",
       "    <tr>\n",
       "      <th>A1A5C7</th>\n",
       "      <td>S22AN_HUMAN</td>\n",
       "      <td>Solute carrier family 22 member 23</td>\n",
       "      <td>SLC22A23</td>\n",
       "      <td>surface</td>\n",
       "      <td>machine learning</td>\n",
       "      <td>NaN</td>\n",
       "      <td>686</td>\n",
       "      <td>10</td>\n",
       "      <td>0</td>\n",
       "      <td>NC:1-230;TM:231-253;CY:254-258;TM:259-280;NC:2...</td>\n",
       "      <td>...</td>\n",
       "      <td>Homo sapiens (Human)</td>\n",
       "      <td>686.0</td>\n",
       "      <td>MAIDRRREAAGGGPGRQPAPAEENGSLPPGDAAASAPLGGRAGPGG...</td>\n",
       "      <td>NaN</td>\n",
       "      <td>PF00083;</td>\n",
       "      <td>NaN</td>\n",
       "      <td>NaN</td>\n",
       "      <td>A1A5C7</td>\n",
       "      <td>Sugar_tr,MFS_1</td>\n",
       "      <td>PF00083.25,PF07690.17</td>\n",
       "    </tr>\n",
       "  </tbody>\n",
       "</table>\n",
       "<p>5 rows × 56 columns</p>\n",
       "</div>"
      ],
      "text/plain": [
       "                  UniProt name                 UniProt description  \\\n",
       "UniProt accession                                                    \n",
       "A0AV02             S12A8_HUMAN   Solute carrier family 12 member 8   \n",
       "A0FGR9             ESYT3_HUMAN            Extended synaptotagmin-3   \n",
       "A0PJK1             SC5AA_HUMAN      Sodium/glucose cotransporter 5   \n",
       "A1A5B4              ANO9_HUMAN                         Anoctamin-9   \n",
       "A1A5C7             S22AN_HUMAN  Solute carrier family 22 member 23   \n",
       "\n",
       "                  UniProt gene Surfaceome Label Surfaceome Label Source  \\\n",
       "UniProt accession                                                         \n",
       "A0AV02                 SLC12A8          surface        machine learning   \n",
       "A0FGR9                   ESYT3          surface        pos. trainingset   \n",
       "A0PJK1                 SLC5A10          surface        machine learning   \n",
       "A1A5B4                    ANO9          surface        pos. trainingset   \n",
       "A1A5C7                SLC22A23          surface        machine learning   \n",
       "\n",
       "                  Comment length TM domains signalpeptide  \\\n",
       "UniProt accession                                           \n",
       "A0AV02                NaN    714         13             0   \n",
       "A0FGR9                NaN    886          2             0   \n",
       "A0PJK1                NaN    596         14             0   \n",
       "A1A5B4                NaN    782          8             0   \n",
       "A1A5C7                NaN    686         10             0   \n",
       "\n",
       "                                                            topology  ...  \\\n",
       "UniProt accession                                                     ...   \n",
       "A0AV02             NC:1-37;TM:38-60;CY:61-71;TM:72-93;NC:94-98;TM...  ...   \n",
       "A0FGR9                  CY:1-27;TM:28-46;NC:47-51;TM:52-72;CY:73-886  ...   \n",
       "A0PJK1             NC:1-15;TM:16-37;CY:38-73;TM:74-93;NC:94-98;TM...  ...   \n",
       "A1A5B4             CY:1-195;TM:196-217;NC:218-266;TM:267-285;CY:2...  ...   \n",
       "A1A5C7             NC:1-230;TM:231-253;CY:254-258;TM:259-280;NC:2...  ...   \n",
       "\n",
       "                               Organism Length  \\\n",
       "UniProt accession                                \n",
       "A0AV02             Homo sapiens (Human)  714.0   \n",
       "A0FGR9             Homo sapiens (Human)  886.0   \n",
       "A0PJK1             Homo sapiens (Human)  596.0   \n",
       "A1A5B4             Homo sapiens (Human)  782.0   \n",
       "A1A5C7             Homo sapiens (Human)  686.0   \n",
       "\n",
       "                                                            Sequence  \\\n",
       "UniProt accession                                                      \n",
       "A0AV02             MTQMSQVQELFHEAAQQDALAQPQPWWKTQLFMWEPVLFGTWDGVF...   \n",
       "A0FGR9             MRAEEPCAPGAPSALGAQRTPGPELRLSSQLLPELCTFVVRVLFYL...   \n",
       "A0PJK1             MAANSTSDLHTPGTQLSVADIIVITVYFALNVAVGIWSSCRASRNT...   \n",
       "A1A5B4             MQGEESLRILVEPEGDSFPLMEISTCETEASEQWDYVLVAQRHTQR...   \n",
       "A1A5C7             MAIDRRREAAGGGPGRQPAPAEENGSLPPGDAAASAPLGGRAGPGG...   \n",
       "\n",
       "                  EC number Cross-reference (Pfam)  \\\n",
       "UniProt accession                                    \n",
       "A0AV02                  NaN               PF00324;   \n",
       "A0FGR9                  NaN       PF00168;PF17047;   \n",
       "A0PJK1                  NaN               PF00474;   \n",
       "A1A5B4                  NaN               PF04547;   \n",
       "A1A5C7                  NaN               PF00083;   \n",
       "\n",
       "                  Cross-reference (BindingDB) Cross-reference (DrugBank)  \\\n",
       "UniProt accession                                                          \n",
       "A0AV02                                    NaN                        NaN   \n",
       "A0FGR9                                    NaN                        NaN   \n",
       "A0PJK1                                    NaN                        NaN   \n",
       "A1A5B4                                    NaN                        NaN   \n",
       "A1A5C7                                    NaN                        NaN   \n",
       "\n",
       "                    Query                DomName           DomAccession  \n",
       "UniProt accession                                                        \n",
       "A0AV02             A0AV02            AA_permease             PF00324.22  \n",
       "A0FGR9             A0FGR9             SMP_LBD,C2   PF17047.6,PF00168.31  \n",
       "A0PJK1             A0PJK1                    SSF             PF00474.18  \n",
       "A1A5B4             A1A5B4  Anoctamin,Anoct_dimer   PF04547.13,PF16178.6  \n",
       "A1A5C7             A1A5C7         Sugar_tr,MFS_1  PF00083.25,PF07690.17  \n",
       "\n",
       "[5 rows x 56 columns]"
      ]
     },
     "execution_count": 26,
     "metadata": {},
     "output_type": "execute_result"
    }
   ],
   "source": [
    "full_dom_db = pd.merge(mrgdb,grpdomtbl,left_on='Entry', right_on='Query', how='inner')\n",
    "full_dom_db = full_dom_db.set_index('UniProt accession')\n",
    "full_dom_db.head()"
   ]
  },
  {
   "cell_type": "markdown",
   "id": "a5cadaef-13c9-47cb-a90f-5ed804535e6a",
   "metadata": {},
   "source": [
    "---"
   ]
  },
  {
   "cell_type": "markdown",
   "id": "7493d654-3b93-415d-b43c-6f78054850c2",
   "metadata": {},
   "source": [
    "# Project into common space"
   ]
  },
  {
   "cell_type": "code",
   "execution_count": 27,
   "id": "2ea33f3d-2605-4cea-9cb0-fff5f0e8fb29",
   "metadata": {},
   "outputs": [],
   "source": [
    "from src.architectures import SimplePLMModel, SimpleCosine"
   ]
  },
  {
   "cell_type": "code",
   "execution_count": 28,
   "id": "32b68282-fdca-485e-ae03-359c7f0aee14",
   "metadata": {
    "scrolled": true,
    "tags": []
   },
   "outputs": [],
   "source": [
    "# Load model\n",
    "from src.mol_feats import Morgan_f\n",
    "from src.prot_feats import ProtBert_f\n",
    "mol_f = Morgan_f()\n",
    "prot_f = ProtBert_f()\n",
    "model = torch.load(\"../best_models/BindingDB_ProtBert_Morgan_progressiveMargin_DUDeWithin_best_model.sav\").cuda()"
   ]
  },
  {
   "cell_type": "code",
   "execution_count": 29,
   "id": "d7965538-9d24-4dbc-982d-345ed459c4a6",
   "metadata": {},
   "outputs": [
    {
     "data": {
      "text/plain": [
       "SimpleCosine(\n",
       "  (mol_projector): Sequential(\n",
       "    (0): Linear(in_features=2048, out_features=1024, bias=True)\n",
       "    (1): ReLU()\n",
       "  )\n",
       "  (prot_projector): Sequential(\n",
       "    (0): Linear(in_features=1024, out_features=1024, bias=True)\n",
       "    (1): ReLU()\n",
       "  )\n",
       "  (activator): Cosine()\n",
       ")"
      ]
     },
     "execution_count": 29,
     "metadata": {},
     "output_type": "execute_result"
    }
   ],
   "source": [
    "model"
   ]
  },
  {
   "cell_type": "code",
   "execution_count": 33,
   "id": "f5377a6c-6d79-4349-b3ee-f3092356e6bf",
   "metadata": {
    "tags": []
   },
   "outputs": [
    {
     "data": {
      "application/vnd.jupyter.widget-view+json": {
       "model_id": "9a21a0df00d340bea4f09a2053772a2c",
       "version_major": 2,
       "version_minor": 0
      },
      "text/plain": [
       "  0%|          | 0/2716 [00:00<?, ?it/s]"
      ]
     },
     "metadata": {},
     "output_type": "display_data"
    },
    {
     "data": {
      "application/vnd.jupyter.widget-view+json": {
       "model_id": "afcb9d51e2d64a5daefa84f052558ddc",
       "version_major": 2,
       "version_minor": 0
      },
      "text/plain": [
       "  0%|          | 0/11290 [00:00<?, ?it/s]"
      ]
     },
     "metadata": {},
     "output_type": "display_data"
    },
    {
     "name": "stderr",
     "output_type": "stream",
     "text": [
      "[13:41:37] WARNING: not removing hydrogen atom without neighbors\n",
      "[13:41:37] WARNING: not removing hydrogen atom without neighbors\n",
      "[13:41:37] WARNING: not removing hydrogen atom without neighbors\n",
      "[13:41:37] WARNING: not removing hydrogen atom without neighbors\n"
     ]
    }
   ],
   "source": [
    "prot_names = []\n",
    "prot_domains = []\n",
    "prot_projections = []\n",
    "mol_names = []\n",
    "mol_projections = []\n",
    "\n",
    "with torch.set_grad_enabled(False):\n",
    "    for _, r in tqdm(full_dom_db.iterrows(),total=len(full_dom_db)):\n",
    "        seq = r.Sequence\n",
    "        seqName = r.Query\n",
    "        prot_emb = prot_f(seq).unsqueeze(0).cuda()\n",
    "        prot_proj = model.prot_projector(prot_emb).detach().cpu().numpy()\n",
    "        prot_names.append(seqName)\n",
    "        prot_domains.append(r.DomAccession)\n",
    "        prot_projections.append(prot_proj)\n",
    "\n",
    "    for molName, mol in tqdm(moleculeDict.items(),total=len(moleculeDict)):\n",
    "        mol_emb = mol_f(Chem.MolToSmiles(mol)).unsqueeze(0).cuda()\n",
    "        mol_proj = model.mol_projector(mol_emb).detach().cpu().numpy()\n",
    "        mol_names.append(molName)\n",
    "        mol_projections.append(mol_proj)"
   ]
  },
  {
   "cell_type": "code",
   "execution_count": 44,
   "id": "d3d52cc1-3ba2-440c-b31d-558f2a809190",
   "metadata": {},
   "outputs": [],
   "source": [
    "all_embeddings = np.concatenate([mol_projections,prot_projections],axis=0)\n",
    "pk.dump(all_embeddings,open(f'{DATA_DIR}/protbert_morgan_drugbank_x_surfaceome_embeddings.pk','wb'))"
   ]
  },
  {
   "cell_type": "code",
   "execution_count": 27,
   "id": "ae77781f-7c02-439a-a458-3577a180001a",
   "metadata": {},
   "outputs": [],
   "source": [
    "# all_embeddings = pk.load(open(f'{DATA_DIR}/protbert_morgan_drugbank_x_surfaceome_embeddings.pk','rb'))\n",
    "# mol_projections = all_embeddings[:len(moleculeDict)]\n",
    "# prot_projections = all_embeddings[-len(full_dom_db):]"
   ]
  },
  {
   "cell_type": "code",
   "execution_count": 28,
   "id": "8fbd511d-58c5-41a7-84b6-f6b1deddcbb6",
   "metadata": {},
   "outputs": [],
   "source": [
    "mol_projections = np.stack(mol_projections).squeeze()\n",
    "prot_projections = np.stack(prot_projections).squeeze()"
   ]
  },
  {
   "cell_type": "code",
   "execution_count": 29,
   "id": "6fca5910-6928-4f96-888e-eced70d11a0c",
   "metadata": {},
   "outputs": [
    {
     "data": {
      "image/png": "[encoded data removed]",
      "text/plain": [
       "<Figure size 432x288 with 1 Axes>"
      ]
     },
     "metadata": {
      "needs_background": "light"
     },
     "output_type": "display_data"
    },
    {
     "data": {
      "image/png": "[encoded data removed]",
      "text/plain": [
       "<Figure size 432x288 with 1 Axes>"
      ]
     },
     "metadata": {
      "needs_background": "light"
     },
     "output_type": "display_data"
    }
   ],
   "source": [
    "plt.scatter(np.arange(1024), mol_projections.squeeze().std(axis=0),s=2)\n",
    "plt.title('Molecule Projections')\n",
    "plt.xlabel('Dimension')\n",
    "plt.ylabel('StdDev')\n",
    "plt.show()\n",
    "\n",
    "plt.scatter(np.arange(1024), prot_projections.squeeze().std(axis=0),s=2)\n",
    "plt.title('Protein Projections')\n",
    "plt.xlabel('Dimension')\n",
    "plt.ylabel('StdDev')\n",
    "plt.show()"
   ]
  },
  {
   "cell_type": "code",
   "execution_count": 30,
   "id": "38f4295c-67d5-4247-b7c2-3434cd782b27",
   "metadata": {},
   "outputs": [],
   "source": [
    "from sklearn.manifold import TSNE"
   ]
  },
  {
   "cell_type": "code",
   "execution_count": 31,
   "id": "d5045891-dca0-43df-ab5e-5d90eff2fb52",
   "metadata": {},
   "outputs": [],
   "source": [
    "all_embeddings = np.concatenate([prot_projections,mol_projections],axis=0)"
   ]
  },
  {
   "cell_type": "code",
   "execution_count": 32,
   "id": "89919eef-5245-44c4-b00d-8bede52c260b",
   "metadata": {
    "scrolled": true,
    "tags": []
   },
   "outputs": [
    {
     "name": "stderr",
     "output_type": "stream",
     "text": [
      "/afs/csail.mit.edu/u/s/samsl/Work/anaconda3/envs/dsplat/lib/python3.7/site-packages/sklearn/manifold/_t_sne.py:783: FutureWarning: The default initialization in TSNE will change from 'random' to 'pca' in 1.2.\n",
      "  FutureWarning,\n",
      "/afs/csail.mit.edu/u/s/samsl/Work/anaconda3/envs/dsplat/lib/python3.7/site-packages/sklearn/manifold/_t_sne.py:793: FutureWarning: The default learning rate in TSNE will change from 200.0 to 'auto' in 1.2.\n",
      "  FutureWarning,\n",
      "/afs/csail.mit.edu/u/s/samsl/Work/anaconda3/envs/dsplat/lib/python3.7/site-packages/sklearn/manifold/_t_sne.py:827: FutureWarning: 'square_distances' has been introduced in 0.24 to help phase out legacy squaring behavior. The 'legacy' setting will be removed in 1.1 (renaming of 0.26), and the default setting will be changed to True. In 1.3, 'square_distances' will be removed altogether, and distances will be squared by default. Set 'square_distances'=True to silence this warning.\n",
      "  FutureWarning,\n"
     ]
    }
   ],
   "source": [
    "embed_tsne = TSNE(metric=\"cosine\").fit_transform(all_embeddings)"
   ]
  },
  {
   "cell_type": "markdown",
   "id": "4123be63-b91e-4d2b-999e-b59a69392733",
   "metadata": {},
   "source": [
    "---"
   ]
  },
  {
   "cell_type": "markdown",
   "id": "3e3b5273-473b-4416-9261-9fe9f75ad67b",
   "metadata": {},
   "source": [
    "# Visualize space by categories"
   ]
  },
  {
   "cell_type": "code",
   "execution_count": 33,
   "id": "2e720778-98dc-4606-89ee-c15a42196d4b",
   "metadata": {},
   "outputs": [
    {
     "data": {
      "text/plain": [
       "DomAccession\n",
       "PF00001.22    699\n",
       "PF13853.7     445\n",
       "PF00047.26    265\n",
       "PF13927.7     247\n",
       "PF10320.10    239\n",
       "PF07686.18    230\n",
       "PF07679.17    218\n",
       "PF13895.7     217\n",
       "PF00028.18    114\n",
       "PF00041.22    103\n",
       "PF08205.13     99\n",
       "PF07690.17     94\n",
       "PF13855.7      90\n",
       "PF08266.13     89\n",
       "PF10328.10     84\n",
       "PF12799.8      82\n",
       "PF07714.18     68\n",
       "PF00069.26     68\n",
       "PF16184.6      67\n",
       "PF07654.16     61\n",
       "Name: Query, dtype: int64"
      ]
     },
     "execution_count": 33,
     "metadata": {},
     "output_type": "execute_result"
    }
   ],
   "source": [
    "domtbl.groupby('DomAccession').Query.count().sort_values(ascending=False).head(20)"
   ]
  },
  {
   "cell_type": "code",
   "execution_count": 34,
   "id": "73b118b6-1f66-41cc-bc72-e75f36077808",
   "metadata": {},
   "outputs": [
    {
     "data": {
      "text/plain": [
       "Counter({'B': 94,\n",
       "         'L': 231,\n",
       "         'R': 201,\n",
       "         'H': 42,\n",
       "         '-': 8447,\n",
       "         'J': 305,\n",
       "         'A': 329,\n",
       "         'V': 152,\n",
       "         'G': 163,\n",
       "         'D': 174,\n",
       "         'N': 478,\n",
       "         'S': 98,\n",
       "         'M': 138,\n",
       "         'C': 345,\n",
       "         'P': 93})"
      ]
     },
     "execution_count": 34,
     "metadata": {},
     "output_type": "execute_result"
    }
   ],
   "source": [
    "cntr"
   ]
  },
  {
   "cell_type": "code",
   "execution_count": 35,
   "id": "ccbcaafc-f768-4e0c-b94d-c1b29375bdd0",
   "metadata": {},
   "outputs": [],
   "source": [
    "def get_pfd_code(code):\n",
    "    is_pfd = ['yes' if code in full_dom_db.loc[i,'DomAccession'] else 'no' for i in prot_names]\n",
    "    # is_pfd = is_pfd + ['mol']*mol_projections.shape[0]\n",
    "    print(sum([1 if i=='yes' else 0 for i in is_pfd]))\n",
    "    return is_pfd\n",
    "\n",
    "def get_atc_code(code):\n",
    "    is_atc = ['yes' if topLvlClasses[i] == code else 'no' for i in mol_names]\n",
    "    print(sum([1 if i=='yes' else 0 for i in is_atc]))\n",
    "    return is_atc"
   ]
  },
  {
   "cell_type": "code",
   "execution_count": 36,
   "id": "05b15ce0-9c04-42b0-8aea-1a09e3f0571e",
   "metadata": {},
   "outputs": [
    {
     "ename": "NameError",
     "evalue": "name 'prot_names' is not defined",
     "output_type": "error",
     "traceback": [
      "\u001b[0;31m---------------------------------------------------------------------------\u001b[0m",
      "\u001b[0;31mNameError\u001b[0m                                 Traceback (most recent call last)",
      "\u001b[0;32m/tmp/ipykernel_1812881/1077424075.py\u001b[0m in \u001b[0;36m<module>\u001b[0;34m\u001b[0m\n\u001b[0;32m----> 1\u001b[0;31m \u001b[0malmen_class\u001b[0m \u001b[0;34m=\u001b[0m \u001b[0;34m[\u001b[0m\u001b[0mmrgdb\u001b[0m\u001b[0;34m.\u001b[0m\u001b[0mset_index\u001b[0m\u001b[0;34m(\u001b[0m\u001b[0;34m'UniProt accession'\u001b[0m\u001b[0;34m)\u001b[0m\u001b[0;34m.\u001b[0m\u001b[0mloc\u001b[0m\u001b[0;34m[\u001b[0m\u001b[0mi\u001b[0m\u001b[0;34m,\u001b[0m \u001b[0;34m'Membranome Almen main-class'\u001b[0m\u001b[0;34m]\u001b[0m \u001b[0;32mfor\u001b[0m \u001b[0mi\u001b[0m \u001b[0;32min\u001b[0m \u001b[0mprot_names\u001b[0m\u001b[0;34m]\u001b[0m\u001b[0;34m\u001b[0m\u001b[0;34m\u001b[0m\u001b[0m\n\u001b[0m",
      "\u001b[0;31mNameError\u001b[0m: name 'prot_names' is not defined"
     ]
    }
   ],
   "source": [
    "almen_class = [mrgdb.set_index('UniProt accession').loc[i, 'Membranome Almen main-class'] for i in prot_names]"
   ]
  },
  {
   "cell_type": "code",
   "execution_count": null,
   "id": "e84298da-bd97-49e8-824c-d45fe3c54ab3",
   "metadata": {},
   "outputs": [],
   "source": [
    "atc_code = [topLvlClasses[i] for i in mol_names]"
   ]
  },
  {
   "cell_type": "code",
   "execution_count": null,
   "id": "40317a58-5f17-43aa-be07-d117b4d16703",
   "metadata": {},
   "outputs": [],
   "source": [
    "pal = sns.color_palette(\"tab10\", 5) + sns.color_palette(\"magma\", 15)\n",
    "# pal[9] = (0.8917231578965971, 0.9660085701840486, 0.942858319801462)\n",
    "# pal[9] = (0.99,0.99,0.99)"
   ]
  },
  {
   "cell_type": "code",
   "execution_count": null,
   "id": "fde6f7ec-e6c1-458f-846e-f89eb4390551",
   "metadata": {},
   "outputs": [],
   "source": [
    "sns.set(style='whitegrid')\n",
    "style = ['Protein'] * prot_projections.shape[0] + ['Molecule'] * mol_projections.shape[0]\n",
    "# style = ['Molecule'] * mol_projections.shape[0]\n",
    "plt.figure(figsize=(15, 15), dpi=80)\n",
    "sns.scatterplot(\n",
    "                # x=embed_tsne[:prot_projections.shape[0],0],\n",
    "                # y=embed_tsne[:prot_projections.shape[0],1],\n",
    "                # x=embed_tsne[prot_projections.shape[0]:,0],\n",
    "                # y=embed_tsne[prot_projections.shape[0]:,1],\n",
    "                x=embed_tsne[:,0],\n",
    "                y=embed_tsne[:,1],\n",
    "                # hue=get_pfd_code('PF07654.16'),\n",
    "                # hue=get_pfd_code('PF13853.7'),\n",
    "                # hue=almen_class,\n",
    "                # hue = atc_code,\n",
    "                # hue=get_atc_code('D'),\n",
    "                hue=almen_class + atc_code,\n",
    "                # hue = style,\n",
    "                s=20,\n",
    "                alpha=1,\n",
    "                palette = pal,\n",
    "                # palette='tab10',\n",
    "               )\n",
    "plt.xlabel('TSNE1')\n",
    "plt.ylabel('TSNE2')\n",
    "sns.despine()\n",
    "plt.show()"
   ]
  },
  {
   "cell_type": "markdown",
   "id": "61727eea-8fdb-47ae-a7de-812491681ed5",
   "metadata": {},
   "source": [
    "---\n",
    "# Pairwise scores"
   ]
  },
  {
   "cell_type": "code",
   "execution_count": 74,
   "id": "4f91c7bc-723b-4fe6-9e8a-8002d530e407",
   "metadata": {},
   "outputs": [
    {
     "data": {
      "application/vnd.jupyter.widget-view+json": {
       "model_id": "55344bf4c2e14d0188326e37c661d2d7",
       "version_major": 2,
       "version_minor": 0
      },
      "text/plain": [
       "  0%|          | 0/2716 [00:00<?, ?it/s]"
      ]
     },
     "metadata": {},
     "output_type": "display_data"
    }
   ],
   "source": [
    "from torch.nn import CosineSimilarity\n",
    "from scipy.spatial.distance import cosine\n",
    "cosine_sim = CosineSimilarity(dim=0)\n",
    "\n",
    "predictions = []\n",
    "for pName, pProj in tqdm(zip(prot_names,prot_projections),total=len(prot_names)):\n",
    "        for mName, mProj in zip(mol_names,mol_projections):\n",
    "            with torch.set_grad_enabled(False):\n",
    "                affin = cosine_sim(torch.from_numpy(pProj),torch.from_numpy(mProj)).numpy()\n",
    "                predictions.append((seqName, molName, affin))"
   ]
  },
  {
   "cell_type": "code",
   "execution_count": 75,
   "id": "6054ba06-64e7-4643-831b-60daf9ad87d4",
   "metadata": {},
   "outputs": [
    {
     "data": {
      "text/html": [
       "<div>\n",
       "<style scoped>\n",
       "    .dataframe tbody tr th:only-of-type {\n",
       "        vertical-align: middle;\n",
       "    }\n",
       "\n",
       "    .dataframe tbody tr th {\n",
       "        vertical-align: top;\n",
       "    }\n",
       "\n",
       "    .dataframe thead th {\n",
       "        text-align: right;\n",
       "    }\n",
       "</style>\n",
       "<table border=\"1\" class=\"dataframe\">\n",
       "  <thead>\n",
       "    <tr style=\"text-align: right;\">\n",
       "      <th></th>\n",
       "      <th>Target</th>\n",
       "      <th>Molecule</th>\n",
       "      <th>CosineSim</th>\n",
       "    </tr>\n",
       "  </thead>\n",
       "  <tbody>\n",
       "    <tr>\n",
       "      <th>0</th>\n",
       "      <td>Q9Y6X5</td>\n",
       "      <td>DB16745</td>\n",
       "      <td>0.49487805</td>\n",
       "    </tr>\n",
       "    <tr>\n",
       "      <th>1</th>\n",
       "      <td>Q9Y6X5</td>\n",
       "      <td>DB16745</td>\n",
       "      <td>0.44011208</td>\n",
       "    </tr>\n",
       "    <tr>\n",
       "      <th>2</th>\n",
       "      <td>Q9Y6X5</td>\n",
       "      <td>DB16745</td>\n",
       "      <td>0.3775507</td>\n",
       "    </tr>\n",
       "    <tr>\n",
       "      <th>3</th>\n",
       "      <td>Q9Y6X5</td>\n",
       "      <td>DB16745</td>\n",
       "      <td>0.054843593</td>\n",
       "    </tr>\n",
       "    <tr>\n",
       "      <th>4</th>\n",
       "      <td>Q9Y6X5</td>\n",
       "      <td>DB16745</td>\n",
       "      <td>0.43588543</td>\n",
       "    </tr>\n",
       "  </tbody>\n",
       "</table>\n",
       "</div>"
      ],
      "text/plain": [
       "   Target Molecule    CosineSim\n",
       "0  Q9Y6X5  DB16745   0.49487805\n",
       "1  Q9Y6X5  DB16745   0.44011208\n",
       "2  Q9Y6X5  DB16745    0.3775507\n",
       "3  Q9Y6X5  DB16745  0.054843593\n",
       "4  Q9Y6X5  DB16745   0.43588543"
      ]
     },
     "execution_count": 75,
     "metadata": {},
     "output_type": "execute_result"
    }
   ],
   "source": [
    "pred_df = pd.DataFrame(predictions,columns=['Target','Molecule','CosineSim'])\n",
    "pred_df.head()"
   ]
  },
  {
   "cell_type": "code",
   "execution_count": null,
   "id": "1c94492a-0b73-48ed-83bb-d3287d7f7965",
   "metadata": {},
   "outputs": [],
   "source": [
    "pred_df.to_csv('../nbdata/drugbank_x_surfaceome_classification_2022-06-22.csv',sep=',',header=True,index=False)"
   ]
  }
 ],
 "metadata": {
  "kernelspec": {
   "display_name": "Python [conda env:dsplat] *",
   "language": "python",
   "name": "conda-env-dsplat-py"
  },
  "language_info": {
   "codemirror_mode": {
    "name": "ipython",
    "version": 3
   },
   "file_extension": ".py",
   "mimetype": "text/x-python",
   "name": "python",
   "nbconvert_exporter": "python",
   "pygments_lexer": "ipython3",
   "version": "3.7.12"
  }
 },
 "nbformat": 4,
 "nbformat_minor": 5
}
