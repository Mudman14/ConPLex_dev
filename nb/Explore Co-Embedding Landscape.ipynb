{
 "cells": [
  {
   "cell_type": "code",
   "execution_count": 1,
   "id": "fab0d161-3631-44f6-ba67-f289e4ca2700",
   "metadata": {},
   "outputs": [],
   "source": [
    "import sys\n",
    "import torch\n",
    "import pandas as pd\n",
    "from tqdm.notebook import tqdm"
   ]
  },
  {
   "cell_type": "code",
   "execution_count": 2,
   "id": "e7caa723-ff1e-459d-8bad-17ae97e2772e",
   "metadata": {},
   "outputs": [],
   "source": [
    "import pickle as pk\n",
    "import numpy as np"
   ]
  },
  {
   "cell_type": "code",
   "execution_count": 3,
   "id": "9f870145-79c7-4e6e-a2b2-4fdbaa0f045d",
   "metadata": {},
   "outputs": [],
   "source": [
    "device = torch.cuda.set_device(0)"
   ]
  },
  {
   "cell_type": "code",
   "execution_count": 5,
   "id": "7477badc-bc1a-42aa-96ef-d98974d70e01",
   "metadata": {},
   "outputs": [],
   "source": [
    "BASE_DIR = \"..\"\n",
    "MODEL_BASE_DIR = f\"{BASE_DIR}/best_models\""
   ]
  },
  {
   "cell_type": "code",
   "execution_count": 6,
   "id": "ed1c19a4-195f-426e-8599-ee4f45e5031f",
   "metadata": {},
   "outputs": [],
   "source": [
    "sys.path.append(BASE_DIR)"
   ]
  },
  {
   "cell_type": "code",
   "execution_count": 7,
   "id": "a3dc7269-a624-4303-a0f3-217201ac04e0",
   "metadata": {},
   "outputs": [],
   "source": [
    "#embedding_analysis_best_model = \"Bindingdb_SimpleCosine_Morgan_ESM_DSCRIPT_cat_rep0_best_model.sav\"\n",
    "prose_no_batch = torch.load(f\"{MODEL_BASE_DIR}/davis_basic_cosine_morgan_prose_best_model.sav\").eval().cuda()\n",
    "prose_batch_norm = torch.load(f\"{MODEL_BASE_DIR}/davis_basicbatchnorm_cosine_morgan_prose_best_model.sav\").eval().cuda()"
   ]
  },
  {
   "cell_type": "code",
   "execution_count": 8,
   "id": "e3afeecc-512c-474e-b653-aeaddfd9df2f",
   "metadata": {},
   "outputs": [
    {
     "data": {
      "text/plain": [
       "SimpleCosine(\n",
       "  (mol_projector): Sequential(\n",
       "    (0): Linear(in_features=2048, out_features=1024, bias=True)\n",
       "    (1): ReLU()\n",
       "  )\n",
       "  (prot_projector): Sequential(\n",
       "    (0): Linear(in_features=6165, out_features=1024, bias=True)\n",
       "    (1): ReLU()\n",
       "  )\n",
       "  (activator): Cosine()\n",
       ")"
      ]
     },
     "execution_count": 8,
     "metadata": {},
     "output_type": "execute_result"
    }
   ],
   "source": [
    "prose_no_batch"
   ]
  },
  {
   "cell_type": "code",
   "execution_count": 9,
   "id": "ac005621-b99f-46fd-8eb8-be1602b796da",
   "metadata": {},
   "outputs": [
    {
     "data": {
      "text/plain": [
       "CosineBatchNorm(\n",
       "  (mol_projector): Sequential(\n",
       "    (0): Linear(in_features=2048, out_features=1024, bias=True)\n",
       "    (1): ReLU()\n",
       "  )\n",
       "  (prot_projector): Sequential(\n",
       "    (0): Linear(in_features=6165, out_features=1024, bias=True)\n",
       "    (1): ReLU()\n",
       "  )\n",
       "  (mol_norm): BatchNorm1d(1024, eps=1e-05, momentum=0.1, affine=True, track_running_stats=True)\n",
       "  (prot_norm): BatchNorm1d(1024, eps=1e-05, momentum=0.1, affine=True, track_running_stats=True)\n",
       "  (activator): Cosine()\n",
       ")"
      ]
     },
     "execution_count": 9,
     "metadata": {},
     "output_type": "execute_result"
    }
   ],
   "source": [
    "prose_batch_norm"
   ]
  },
  {
   "cell_type": "code",
   "execution_count": 10,
   "id": "f89fbd54-e431-498d-90c2-2e71db8dc6bd",
   "metadata": {},
   "outputs": [],
   "source": [
    "df = pd.read_csv(f\"{BASE_DIR}/dataset/DAVIS/test.csv\",index_col=0,header=0)"
   ]
  },
  {
   "cell_type": "code",
   "execution_count": 11,
   "id": "3e2a6aaa-e5c2-4b87-b963-aa2793655aed",
   "metadata": {},
   "outputs": [],
   "source": [
    "from prot_feats import Prose_f\n",
    "from mol_feats import Morgan_f"
   ]
  },
  {
   "cell_type": "code",
   "execution_count": 12,
   "id": "ca829987-3a6f-46f1-9e49-1d9ad15f5b22",
   "metadata": {},
   "outputs": [],
   "source": [
    "prot_f = Prose_f()\n",
    "mol_f = Morgan_f()"
   ]
  },
  {
   "cell_type": "code",
   "execution_count": 13,
   "id": "a9267af7-c6e0-461f-a05b-961041e55bcb",
   "metadata": {},
   "outputs": [
    {
     "name": "stderr",
     "output_type": "stream",
     "text": [
      "  0%|                                                                                                | 0/6011 [00:00<?, ?it/s]"
     ]
    },
    {
     "name": "stdout",
     "output_type": "stream",
     "text": [
      "--- precomputing Prose protein featurizer ---\n"
     ]
    },
    {
     "name": "stderr",
     "output_type": "stream",
     "text": [
      "100%|████████████████████████████████████████████████████████████████████████████████████| 6011/6011 [00:49<00:00, 121.54it/s]\n",
      "  0%|                                                                                                | 0/6011 [00:00<?, ?it/s]"
     ]
    },
    {
     "name": "stdout",
     "output_type": "stream",
     "text": [
      "--- saving protein embeddings to davis_Prose_f_PROTEINS.pk ---\n",
      "--- precomputing morgan molecule featurizer ---\n"
     ]
    },
    {
     "name": "stderr",
     "output_type": "stream",
     "text": [
      "100%|███████████████████████████████████████████████████████████████████████████████████| 6011/6011 [00:03<00:00, 1676.47it/s]\n"
     ]
    },
    {
     "name": "stdout",
     "output_type": "stream",
     "text": [
      "--- saving morgans to davis_Morgan_MOLECULES.pk ---\n"
     ]
    }
   ],
   "source": [
    "prot_f.precompute(df['Target Sequence'],to_disk_path='davis',from_disk=True)\n",
    "mol_f.precompute(df['SMILES'],to_disk_path='davis',from_disk=True)"
   ]
  },
  {
   "cell_type": "code",
   "execution_count": 14,
   "id": "d089f76f-d04a-455f-b43a-f2d96cba3719",
   "metadata": {},
   "outputs": [
    {
     "data": {
      "application/vnd.jupyter.widget-view+json": {
       "model_id": "a462d46eb6d2428a9c264d69d911284d",
       "version_major": 2,
       "version_minor": 0
      },
      "text/plain": [
       "  0%|          | 0/6011 [00:00<?, ?it/s]"
      ]
     },
     "metadata": {},
     "output_type": "display_data"
    }
   ],
   "source": [
    "p_basic = []\n",
    "p_batchnorm = []\n",
    "for _, (sm, seq, lab, _, _) in tqdm(df.iterrows(),total=len(df)):\n",
    "    p_basic.append(prose_no_batch(mol_f(sm).unsqueeze(0), prot_f(seq).unsqueeze(0)).detach().cpu().numpy())\n",
    "    p_batchnorm.append(prose_batch_norm(mol_f(sm).unsqueeze(0), prot_f(seq).unsqueeze(0)).detach().cpu().numpy())"
   ]
  },
  {
   "cell_type": "code",
   "execution_count": 15,
   "id": "23c1cd5a-70b4-4335-ba5c-5a2269b16ec6",
   "metadata": {},
   "outputs": [],
   "source": [
    "from sklearn.metrics import precision_recall_curve, average_precision_score\n",
    "import matplotlib.pyplot as plt\n",
    "import seaborn as sns"
   ]
  },
  {
   "cell_type": "code",
   "execution_count": 16,
   "id": "b709d038-7347-445d-8eba-ece48d0fda52",
   "metadata": {},
   "outputs": [
    {
     "name": "stdout",
     "output_type": "stream",
     "text": [
      "Prose, Basic: 0.44979648901620334\n",
      "Prose, Batch Norm: 0.41565332357448764\n"
     ]
    }
   ],
   "source": [
    "print(f\"Prose, Basic: {average_precision_score(df['Label'], p_basic)}\")\n",
    "print(f\"Prose, Batch Norm: {average_precision_score(df['Label'], p_batchnorm)}\")"
   ]
  },
  {
   "cell_type": "code",
   "execution_count": 17,
   "id": "f6317c2f-e481-4110-bf9d-374538de2279",
   "metadata": {},
   "outputs": [
    {
     "data": {
      "image/png": "[encoded data removed]",
      "text/plain": [
       "<Figure size 432x288 with 1 Axes>"
      ]
     },
     "metadata": {
      "needs_background": "light"
     },
     "output_type": "display_data"
    }
   ],
   "source": [
    "pr, rec, thr = precision_recall_curve(df['Label'], p_basic)\n",
    "plt.plot(rec, pr)\n",
    "plt.xlabel('Recall')\n",
    "plt.ylabel('Precision')\n",
    "plt.title('Prose, Basic')\n",
    "sns.despine()\n",
    "plt.show()"
   ]
  },
  {
   "cell_type": "code",
   "execution_count": 18,
   "id": "11348d3d-e8d0-41b5-a9dd-93d4632d4acb",
   "metadata": {},
   "outputs": [
    {
     "data": {
      "image/png": "[encoded data removed]",
      "text/plain": [
       "<Figure size 432x288 with 1 Axes>"
      ]
     },
     "metadata": {
      "needs_background": "light"
     },
     "output_type": "display_data"
    }
   ],
   "source": [
    "pr, rec, thr = precision_recall_curve(df['Label'], p_batchnorm)\n",
    "plt.plot(rec, pr)\n",
    "plt.xlabel('Recall')\n",
    "plt.ylabel('Precision')\n",
    "plt.title('Prose, Batch Norm')\n",
    "sns.despine()\n",
    "plt.show()"
   ]
  },
  {
   "cell_type": "code",
   "execution_count": 19,
   "id": "5270475c-a1e6-4037-b9b3-2ae8f4a30061",
   "metadata": {},
   "outputs": [],
   "source": [
    "molecules = df['SMILES'].unique()\n",
    "sequences = df['Target Sequence'].unique()"
   ]
  },
  {
   "cell_type": "code",
   "execution_count": 20,
   "id": "5a53d75d-7fcc-4517-b6f8-8f7cfb90fcef",
   "metadata": {},
   "outputs": [],
   "source": [
    "# model = prose_batch_norm\n",
    "model = prose_no_batch"
   ]
  },
  {
   "cell_type": "code",
   "execution_count": 21,
   "id": "2ffe77b9-5a3f-472c-b573-36dc7fcd2060",
   "metadata": {},
   "outputs": [
    {
     "data": {
      "application/vnd.jupyter.widget-view+json": {
       "model_id": "ea2e6cf69ce44a1aa2e3ec51248ed03f",
       "version_major": 2,
       "version_minor": 0
      },
      "text/plain": [
       "  0%|          | 0/68 [00:00<?, ?it/s]"
      ]
     },
     "metadata": {},
     "output_type": "display_data"
    },
    {
     "data": {
      "application/vnd.jupyter.widget-view+json": {
       "model_id": "10f33fce1c504faa8afbb77af46866ce",
       "version_major": 2,
       "version_minor": 0
      },
      "text/plain": [
       "  0%|          | 0/379 [00:00<?, ?it/s]"
      ]
     },
     "metadata": {},
     "output_type": "display_data"
    },
    {
     "ename": "FileNotFoundError",
     "evalue": "[Errno 2] No such file or directory: 'embedding_analysis/prose_batchnorm_davis_embeddings.pk'",
     "output_type": "error",
     "traceback": [
      "\u001b[0;31m---------------------------------------------------------------------------\u001b[0m",
      "\u001b[0;31mFileNotFoundError\u001b[0m                         Traceback (most recent call last)",
      "\u001b[0;32m/tmp/ipykernel_1251158/637985512.py\u001b[0m in \u001b[0;36m<module>\u001b[0;34m\u001b[0m\n\u001b[1;32m      9\u001b[0m \u001b[0;34m\u001b[0m\u001b[0m\n\u001b[1;32m     10\u001b[0m \u001b[0mall_embeddings\u001b[0m \u001b[0;34m=\u001b[0m \u001b[0mtorch\u001b[0m\u001b[0;34m.\u001b[0m\u001b[0mcat\u001b[0m\u001b[0;34m(\u001b[0m\u001b[0;34m[\u001b[0m\u001b[0mtorch\u001b[0m\u001b[0;34m.\u001b[0m\u001b[0mstack\u001b[0m\u001b[0;34m(\u001b[0m\u001b[0mmol_embeddings\u001b[0m\u001b[0;34m,\u001b[0m\u001b[0;36m0\u001b[0m\u001b[0;34m)\u001b[0m\u001b[0;34m,\u001b[0m\u001b[0mtorch\u001b[0m\u001b[0;34m.\u001b[0m\u001b[0mstack\u001b[0m\u001b[0;34m(\u001b[0m\u001b[0mprot_embeddings\u001b[0m\u001b[0;34m,\u001b[0m\u001b[0;36m0\u001b[0m\u001b[0;34m)\u001b[0m\u001b[0;34m]\u001b[0m\u001b[0;34m,\u001b[0m\u001b[0;36m0\u001b[0m\u001b[0;34m)\u001b[0m\u001b[0;34m.\u001b[0m\u001b[0mdetach\u001b[0m\u001b[0;34m(\u001b[0m\u001b[0;34m)\u001b[0m\u001b[0;34m.\u001b[0m\u001b[0mcpu\u001b[0m\u001b[0;34m(\u001b[0m\u001b[0;34m)\u001b[0m\u001b[0;34m.\u001b[0m\u001b[0mnumpy\u001b[0m\u001b[0;34m(\u001b[0m\u001b[0;34m)\u001b[0m\u001b[0;34m\u001b[0m\u001b[0;34m\u001b[0m\u001b[0m\n\u001b[0;32m---> 11\u001b[0;31m \u001b[0mpk\u001b[0m\u001b[0;34m.\u001b[0m\u001b[0mdump\u001b[0m\u001b[0;34m(\u001b[0m\u001b[0mall_embeddings\u001b[0m\u001b[0;34m,\u001b[0m\u001b[0mopen\u001b[0m\u001b[0;34m(\u001b[0m\u001b[0;34m'embedding_analysis/prose_batchnorm_davis_embeddings.pk'\u001b[0m\u001b[0;34m,\u001b[0m\u001b[0;34m'wb'\u001b[0m\u001b[0;34m)\u001b[0m\u001b[0;34m)\u001b[0m\u001b[0;34m\u001b[0m\u001b[0;34m\u001b[0m\u001b[0m\n\u001b[0m",
      "\u001b[0;31mFileNotFoundError\u001b[0m: [Errno 2] No such file or directory: 'embedding_analysis/prose_batchnorm_davis_embeddings.pk'"
     ]
    }
   ],
   "source": [
    "mol_embeddings = []\n",
    "prot_embeddings = []\n",
    "\n",
    "with torch.no_grad():\n",
    "    for m in tqdm(molecules):\n",
    "        mol_embeddings.append(model.mol_projector(mol_f(m)))\n",
    "    for p in tqdm(sequences):\n",
    "        prot_embeddings.append(model.prot_projector(prot_f(p)))\n",
    "        \n",
    "all_embeddings = torch.cat([torch.stack(mol_embeddings,0),torch.stack(prot_embeddings,0)],0).detach().cpu().numpy()\n",
    "pk.dump(all_embeddings,open('embedding_analysis/prose_batchnorm_davis_embeddings.pk','wb'))"
   ]
  },
  {
   "cell_type": "code",
   "execution_count": null,
   "id": "a608e4ba-eabe-451a-b9e6-340817f20f8b",
   "metadata": {},
   "outputs": [],
   "source": [
    "all_embeddings = pk.load(open('embedding_analysis/prose_batchnorm_davis_embeddings.pk','rb'))"
   ]
  },
  {
   "cell_type": "code",
   "execution_count": null,
   "id": "873c5348-6652-4cc1-9a28-42eb7ce392e7",
   "metadata": {},
   "outputs": [],
   "source": [
    "import umap\n",
    "from umap import UMAP\n",
    "from sklearn.manifold import TSNE\n",
    "from sklearn.decomposition import PCA\n",
    "from sklearn.metrics import pairwise_distances\n",
    "\n",
    "from matplotlib import pyplot as plt\n",
    "import seaborn as sns"
   ]
  },
  {
   "cell_type": "code",
   "execution_count": null,
   "id": "af05ea0b-c59a-4cf7-b269-dc4464795db6",
   "metadata": {},
   "outputs": [],
   "source": [
    "distance_matrix = pairwise_distances(all_embeddings, all_embeddings, metric='cosine', n_jobs=-1)"
   ]
  },
  {
   "cell_type": "code",
   "execution_count": null,
   "id": "a7260474-5432-4d61-8ab2-6c803484b0b0",
   "metadata": {},
   "outputs": [],
   "source": [
    "# emb_points = UMAP(random_state=42,metric='cosine').fit_transform(all_embeddings)\n",
    "# emb_points = PCA(n_components=2).fit_transform(all_embeddings)\n",
    "emb_points = TSNE(metric=\"precomputed\").fit_transform(distance_matrix)"
   ]
  },
  {
   "cell_type": "code",
   "execution_count": null,
   "id": "305f9f2d-e0f2-44cb-adbf-e91754837a65",
   "metadata": {},
   "outputs": [],
   "source": [
    "pos_df = df[df['Label'] == 1]"
   ]
  },
  {
   "cell_type": "code",
   "execution_count": null,
   "id": "b17340d6-61f3-497d-ba3e-a8cb598ac3bc",
   "metadata": {},
   "outputs": [],
   "source": [
    "pos_df.head()"
   ]
  },
  {
   "cell_type": "code",
   "execution_count": null,
   "id": "c74b8021-9797-45ae-b61a-4e45fe253ff3",
   "metadata": {},
   "outputs": [],
   "source": [
    "edge_list = []\n",
    "for i, m in tqdm(enumerate(molecules),total=len(molecules)):\n",
    "    for p in pos_df[pos_df['SMILES'] == m]['Target Sequence'].unique():\n",
    "        edge_list.append(tuple([i, list(sequences).index(p)+len(molecules)]))\n",
    "# for i, p in tqdm(enumerate(sequences),total=len(sequences)):\n",
    "#     for m in test_df[test_df['Target Sequence'] == p]['SMILES'].unique():\n",
    "#         edge_list.append(tuple([list(molecules).index(m),i+len(molecules)]))"
   ]
  },
  {
   "cell_type": "code",
   "execution_count": null,
   "id": "36071c83-b92b-4df1-9c5f-7c25e1152680",
   "metadata": {},
   "outputs": [],
   "source": [
    "arrow_locs = np.array([(*emb_points[midx], *(emb_points[pidx] - emb_points[midx])) for (midx, pidx) in edge_list])\n",
    "plt.figure(figsize=(15, 15), dpi=80)\n",
    "plt.scatter(list(emb_points[:,0]),list(emb_points[:,1]),c=['r' if i < len(molecules) else 'b' for i in range(all_embeddings.shape[0]) ],s=[2 if i < len(molecules) else 6 for i in range(all_embeddings.shape[0]) ])\n",
    "plt.quiver(arrow_locs[:,0],arrow_locs[:,1],arrow_locs[:,2],arrow_locs[:,3],angles='xy', scale_units='xy', scale=1,width=0.00025)\n",
    "sns.despine()\n",
    "plt.xlabel('TSNE1')\n",
    "plt.ylabel('TSNE2')\n",
    "plt.title('Red: molecules, blue: proteins')\n",
    "# plt.savefig('embedding_analysis/esm_dscript_cat_bindingdb_tsne.png',bbox_inches='tight')\n",
    "plt.show()"
   ]
  },
  {
   "cell_type": "markdown",
   "id": "3c1add37-7507-482c-8f9b-13eed459e644",
   "metadata": {},
   "source": [
    "---"
   ]
  },
  {
   "cell_type": "code",
   "execution_count": null,
   "id": "c436f50d-7b80-4d29-8dec-5d2509157556",
   "metadata": {},
   "outputs": [],
   "source": [
    "tsne_3d = TSNE(n_components=3, random_state=0, metric=\"precomputed\")\n",
    "projections = tsne_3d.fit_transform(distance_matrix)"
   ]
  },
  {
   "cell_type": "code",
   "execution_count": null,
   "id": "5db96ed9-cc23-4019-aa81-b9635b4b49de",
   "metadata": {},
   "outputs": [],
   "source": [
    "%matplotlib inline\n",
    "arrow_locs = np.array([(*projections[midx], *(projections[pidx] - projections[midx])) for (midx, pidx) in edge_list])\n",
    "sns.set(style = \"whitegrid\")\n",
    "fig = plt.figure(figsize=(15, 15), dpi=80)\n",
    "ax = fig.add_subplot(111, projection = '3d')\n",
    "\n",
    "x = projections[:,0]\n",
    "y = projections[:,1]\n",
    "z = projections[:,2]\n",
    "\n",
    "ax.set_xlabel(\"TSNE1\")\n",
    "ax.set_ylabel(\"TSNE2\")\n",
    "ax.set_zlabel(\"TSNE3\")\n",
    "\n",
    "ax.scatter(x, y, z, c=['r' if i < len(molecules) else 'b' for i in range(all_embeddings.shape[0]) ])\n",
    "# ax.quiver(arrow_locs[:,0],arrow_locs[:,1],arrow_locs[:,2],arrow_locs[:,3],arrow_locs[:,4],arrow_locs[:,5],angles='xyz', scale_units='xyz', scale=1,width=0.00025)\n",
    "\n",
    "plt.show()"
   ]
  },
  {
   "cell_type": "markdown",
   "id": "f75960c4-2001-4e30-aea5-1db92a8fd609",
   "metadata": {},
   "source": [
    "---"
   ]
  },
  {
   "cell_type": "code",
   "execution_count": null,
   "id": "5077825a-cc79-4072-a74a-b3e06a9428b1",
   "metadata": {},
   "outputs": [],
   "source": [
    "umap_points = UMAP(metric='precomputed').fit_transform(distance_matrix)"
   ]
  },
  {
   "cell_type": "code",
   "execution_count": null,
   "id": "44f6d661-4474-43c4-b146-5b9530595a7e",
   "metadata": {},
   "outputs": [],
   "source": [
    "arrow_locs = np.array([(*umap_points[midx], *(umap_points[pidx] - umap_points[midx])) for (midx, pidx) in edge_list])\n",
    "plt.figure(figsize=(15, 15), dpi=80)\n",
    "plt.scatter(list(umap_points[:,0]),list(umap_points[:,1]),c=['r' if i < len(molecules) else 'b' for i in range(all_embeddings.shape[0]) ],s=[2 if i < len(molecules) else 6 for i in range(all_embeddings.shape[0]) ])\n",
    "plt.quiver(arrow_locs[:,0],arrow_locs[:,1],arrow_locs[:,2],arrow_locs[:,3],angles='xy', scale_units='xy', scale=1,width=0.00025)\n",
    "sns.despine()\n",
    "plt.xlabel('UMAP1')\n",
    "plt.ylabel('UMAP2')\n",
    "plt.title('Red: molecules, blue: proteins')\n",
    "# plt.savefig('embedding_analysis/esm_dscript_cat_bindingdb_umap.png',bbox_inches='tight')\n",
    "plt.show()"
   ]
  },
  {
   "cell_type": "code",
   "execution_count": null,
   "id": "51e39a4a-17d5-4395-8942-623a7c092800",
   "metadata": {},
   "outputs": [],
   "source": []
  }
 ],
 "metadata": {
  "kernelspec": {
   "display_name": "Python [conda env:dsplat] *",
   "language": "python",
   "name": "conda-env-dsplat-py"
  },
  "language_info": {
   "codemirror_mode": {
    "name": "ipython",
    "version": 3
   },
   "file_extension": ".py",
   "mimetype": "text/x-python",
   "name": "python",
   "nbconvert_exporter": "python",
   "pygments_lexer": "ipython3",
   "version": "3.7.10"
  }
 },
 "nbformat": 4,
 "nbformat_minor": 5
}
