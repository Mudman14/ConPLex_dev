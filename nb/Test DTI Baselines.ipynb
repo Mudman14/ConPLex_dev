{
 "cells": [
  {
   "cell_type": "markdown",
   "id": "1595bc4e-60e9-401f-84c6-af49c5029ea8",
   "metadata": {},
   "source": [
    "# Test DTI Baselines"
   ]
  },
  {
   "cell_type": "code",
   "execution_count": 1,
   "id": "beee60f8-1b61-42e2-8c61-9a4323781ca7",
   "metadata": {},
   "outputs": [],
   "source": [
    "import sys\n",
    "sys.path.append(\"..\")"
   ]
  },
  {
   "cell_type": "code",
   "execution_count": 3,
   "id": "4f08d661-5179-473e-b6be-5c88d300ae58",
   "metadata": {},
   "outputs": [],
   "source": [
    "from src.data import DTIDataModule\n",
    "from src.featurizers import ProtBertFeaturizer, MorganFeaturizer, RandomFeaturizer, NullFeaturizer"
   ]
  },
  {
   "cell_type": "code",
   "execution_count": 6,
   "id": "5cbc11c2-05b2-4011-844e-ee11d9117158",
   "metadata": {},
   "outputs": [],
   "source": [
    "data_directory = \"../dataset/BindingDB\""
   ]
  },
  {
   "cell_type": "code",
   "execution_count": 19,
   "id": "2384cb6d-54e6-4349-9298-de7e13d5a456",
   "metadata": {},
   "outputs": [],
   "source": [
    "drug_f = MorganFeaturizer(save_dir=data_directory)\n",
    "target_f = ProtBertFeaturizer(save_dir=data_directory)\n",
    "random_f = RandomFeaturizer(save_dir=data_directory)\n",
    "null_f = NullFeaturizer(save_dir=data_directory)"
   ]
  },
  {
   "cell_type": "code",
   "execution_count": 27,
   "id": "73aa0da7-9fa2-424a-98bd-e93e10229353",
   "metadata": {},
   "outputs": [],
   "source": [
    "datamod = DTIDataModule(\n",
    "    data_directory,\n",
    "    drug_f,\n",
    "    target_f,\n",
    "    shuffle = False\n",
    ")\n",
    "\n",
    "nullmod = DTIDataModule(\n",
    "    data_directory,\n",
    "    drug_f,\n",
    "    target_f,\n",
    "    shuffle = False\n",
    ")"
   ]
  },
  {
   "cell_type": "code",
   "execution_count": 23,
   "id": "7d978ec9-eaa8-499c-b6bf-2d7a66d8b21a",
   "metadata": {},
   "outputs": [
    {
     "name": "stderr",
     "output_type": "stream",
     "text": [
      "Drug and target featurizers already exist\n",
      "100%|███████████████████████████████████████████████████████████████████████████████| 7165/7165 [00:02<00:00, 3303.71it/s]\n",
      "100%|███████████████████████████████████████████████████████████████████████████████| 1254/1254 [00:00<00:00, 3685.14it/s]\n"
     ]
    }
   ],
   "source": [
    "datamod.prepare_data()\n",
    "datamod.setup()"
   ]
  },
  {
   "cell_type": "code",
   "execution_count": 24,
   "id": "03e3d126-fcb5-4b71-82a4-b788a7ea427f",
   "metadata": {},
   "outputs": [],
   "source": [
    "test_dataloader = datamod.test_dataloader()"
   ]
  },
  {
   "cell_type": "code",
   "execution_count": 25,
   "id": "29e3e460-35a9-4226-92df-f60d69bd6f9a",
   "metadata": {},
   "outputs": [],
   "source": [
    "for b in test_dataloader:\n",
    "    break"
   ]
  },
  {
   "cell_type": "code",
   "execution_count": 26,
   "id": "02e9df74-fe60-4f95-a63f-00d18f303143",
   "metadata": {},
   "outputs": [
    {
     "data": {
      "text/plain": [
       "(tensor([[0., 0., 0.,  ..., 0., 0., 0.],\n",
       "         [0., 0., 0.,  ..., 0., 0., 0.],\n",
       "         [0., 1., 0.,  ..., 0., 0., 0.],\n",
       "         ...,\n",
       "         [0., 0., 0.,  ..., 0., 0., 0.],\n",
       "         [0., 0., 0.,  ..., 0., 0., 0.],\n",
       "         [0., 0., 0.,  ..., 0., 0., 0.]]),\n",
       " tensor([[ 0.1769,  0.1135, -0.0284,  ..., -0.0949, -0.0877, -0.0337],\n",
       "         [ 0.1436,  0.0191, -0.0074,  ..., -0.0075, -0.0420, -0.0094],\n",
       "         [ 0.1453,  0.0675,  0.0406,  ..., -0.1305, -0.0473, -0.0327],\n",
       "         ...,\n",
       "         [ 0.1001,  0.0616,  0.0151,  ..., -0.0256, -0.0449, -0.0440],\n",
       "         [ 0.0679,  0.0397,  0.0037,  ...,  0.0047, -0.0004, -0.0357],\n",
       "         [ 0.0717,  0.0479, -0.0075,  ..., -0.0336,  0.0071, -0.0126]]),\n",
       " tensor([0, 0, 0, 0, 1, 0, 1, 0, 0, 0, 0, 0, 1, 0, 1, 0, 0, 0, 0, 0, 0, 0, 0, 0,\n",
       "         0, 0, 0, 0, 1, 0, 0, 0]))"
      ]
     },
     "execution_count": 26,
     "metadata": {},
     "output_type": "execute_result"
    }
   ],
   "source": [
    "b"
   ]
  }
 ],
 "metadata": {
  "kernelspec": {
   "display_name": "Python [conda env:dsplat] *",
   "language": "python",
   "name": "conda-env-dsplat-py"
  },
  "language_info": {
   "codemirror_mode": {
    "name": "ipython",
    "version": 3
   },
   "file_extension": ".py",
   "mimetype": "text/x-python",
   "name": "python",
   "nbconvert_exporter": "python",
   "pygments_lexer": "ipython3",
   "version": "3.7.12"
  }
 },
 "nbformat": 4,
 "nbformat_minor": 5
}
